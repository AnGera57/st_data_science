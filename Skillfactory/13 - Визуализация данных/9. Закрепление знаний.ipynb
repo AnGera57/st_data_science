{
 "cells": [
  {
   "cell_type": "code",
   "execution_count": 4,
   "id": "698eafd8",
   "metadata": {},
   "outputs": [],
   "source": [
    "import matplotlib.pyplot as plt\n",
    "import seaborn as sns\n",
    "import plotly.express as px\n",
    "import pandas as pd"
   ]
  },
  {
   "cell_type": "code",
   "execution_count": 5,
   "id": "dbf8601e",
   "metadata": {},
   "outputs": [
    {
     "data": {
      "text/html": [
       "<div>\n",
       "<style scoped>\n",
       "    .dataframe tbody tr th:only-of-type {\n",
       "        vertical-align: middle;\n",
       "    }\n",
       "\n",
       "    .dataframe tbody tr th {\n",
       "        vertical-align: top;\n",
       "    }\n",
       "\n",
       "    .dataframe thead th {\n",
       "        text-align: right;\n",
       "    }\n",
       "</style>\n",
       "<table border=\"1\" class=\"dataframe\">\n",
       "  <thead>\n",
       "    <tr style=\"text-align: right;\">\n",
       "      <th></th>\n",
       "      <th>RowNumber</th>\n",
       "      <th>CustomerId</th>\n",
       "      <th>Surname</th>\n",
       "      <th>CreditScore</th>\n",
       "      <th>Geography</th>\n",
       "      <th>Gender</th>\n",
       "      <th>Age</th>\n",
       "      <th>Tenure</th>\n",
       "      <th>Balance</th>\n",
       "      <th>NumOfProducts</th>\n",
       "      <th>HasCrCard</th>\n",
       "      <th>IsActiveMember</th>\n",
       "      <th>EstimatedSalary</th>\n",
       "      <th>Exited</th>\n",
       "    </tr>\n",
       "  </thead>\n",
       "  <tbody>\n",
       "    <tr>\n",
       "      <th>0</th>\n",
       "      <td>1</td>\n",
       "      <td>15634602</td>\n",
       "      <td>Hargrave</td>\n",
       "      <td>619</td>\n",
       "      <td>France</td>\n",
       "      <td>Female</td>\n",
       "      <td>42</td>\n",
       "      <td>2</td>\n",
       "      <td>0.00</td>\n",
       "      <td>1</td>\n",
       "      <td>1</td>\n",
       "      <td>1</td>\n",
       "      <td>101348.88</td>\n",
       "      <td>1</td>\n",
       "    </tr>\n",
       "    <tr>\n",
       "      <th>1</th>\n",
       "      <td>2</td>\n",
       "      <td>15647311</td>\n",
       "      <td>Hill</td>\n",
       "      <td>608</td>\n",
       "      <td>Spain</td>\n",
       "      <td>Female</td>\n",
       "      <td>41</td>\n",
       "      <td>1</td>\n",
       "      <td>83807.86</td>\n",
       "      <td>1</td>\n",
       "      <td>0</td>\n",
       "      <td>1</td>\n",
       "      <td>112542.58</td>\n",
       "      <td>0</td>\n",
       "    </tr>\n",
       "    <tr>\n",
       "      <th>2</th>\n",
       "      <td>3</td>\n",
       "      <td>15619304</td>\n",
       "      <td>Onio</td>\n",
       "      <td>502</td>\n",
       "      <td>France</td>\n",
       "      <td>Female</td>\n",
       "      <td>42</td>\n",
       "      <td>8</td>\n",
       "      <td>159660.80</td>\n",
       "      <td>3</td>\n",
       "      <td>1</td>\n",
       "      <td>0</td>\n",
       "      <td>113931.57</td>\n",
       "      <td>1</td>\n",
       "    </tr>\n",
       "    <tr>\n",
       "      <th>3</th>\n",
       "      <td>4</td>\n",
       "      <td>15701354</td>\n",
       "      <td>Boni</td>\n",
       "      <td>699</td>\n",
       "      <td>France</td>\n",
       "      <td>Female</td>\n",
       "      <td>39</td>\n",
       "      <td>1</td>\n",
       "      <td>0.00</td>\n",
       "      <td>2</td>\n",
       "      <td>0</td>\n",
       "      <td>0</td>\n",
       "      <td>93826.63</td>\n",
       "      <td>0</td>\n",
       "    </tr>\n",
       "    <tr>\n",
       "      <th>4</th>\n",
       "      <td>5</td>\n",
       "      <td>15737888</td>\n",
       "      <td>Mitchell</td>\n",
       "      <td>850</td>\n",
       "      <td>Spain</td>\n",
       "      <td>Female</td>\n",
       "      <td>43</td>\n",
       "      <td>2</td>\n",
       "      <td>125510.82</td>\n",
       "      <td>1</td>\n",
       "      <td>1</td>\n",
       "      <td>1</td>\n",
       "      <td>79084.10</td>\n",
       "      <td>0</td>\n",
       "    </tr>\n",
       "  </tbody>\n",
       "</table>\n",
       "</div>"
      ],
      "text/plain": [
       "   RowNumber  CustomerId   Surname  CreditScore Geography  Gender  Age  \\\n",
       "0          1    15634602  Hargrave          619    France  Female   42   \n",
       "1          2    15647311      Hill          608     Spain  Female   41   \n",
       "2          3    15619304      Onio          502    France  Female   42   \n",
       "3          4    15701354      Boni          699    France  Female   39   \n",
       "4          5    15737888  Mitchell          850     Spain  Female   43   \n",
       "\n",
       "   Tenure    Balance  NumOfProducts  HasCrCard  IsActiveMember  \\\n",
       "0       2       0.00              1          1               1   \n",
       "1       1   83807.86              1          0               1   \n",
       "2       8  159660.80              3          1               0   \n",
       "3       1       0.00              2          0               0   \n",
       "4       2  125510.82              1          1               1   \n",
       "\n",
       "   EstimatedSalary  Exited  \n",
       "0        101348.88       1  \n",
       "1        112542.58       0  \n",
       "2        113931.57       1  \n",
       "3         93826.63       0  \n",
       "4         79084.10       0  "
      ]
     },
     "execution_count": 5,
     "metadata": {},
     "output_type": "execute_result"
    }
   ],
   "source": [
    "churn_data = pd.read_csv('data/churn.csv')\n",
    "churn_data.head()"
   ]
  },
  {
   "cell_type": "markdown",
   "id": "08c90e80",
   "metadata": {},
   "source": [
    "**Задание 9.1.**\n",
    " Каково соотношение ушедших и лояльных клиентов? Покажите это на графике и дайте комментарий по соотношению."
   ]
  },
  {
   "cell_type": "code",
   "execution_count": 19,
   "id": "a413e4eb",
   "metadata": {},
   "outputs": [
    {
     "name": "stderr",
     "output_type": "stream",
     "text": [
      "C:\\Users\\geras\\AppData\\Local\\Temp\\ipykernel_7640\\303330324.py:18: UserWarning: FigureCanvasAgg is non-interactive, and thus cannot be shown\n",
      "  fig.show()\n"
     ]
    },
    {
     "data": {
      "image/png": "[encoded data removed]",
      "text/plain": [
       "<Figure size 300x300 with 1 Axes>"
      ]
     },
     "metadata": {},
     "output_type": "display_data"
    }
   ],
   "source": [
    "df = churn_data[['Exited']].copy()\n",
    "\n",
    "# Вычисляем процентное соотношение ушедших\n",
    "# Округлим результат до целых\n",
    "df_churn = (df.mean() * 100).round(0).astype(int)\n",
    "\n",
    "# Строим график\n",
    "fig = plt.figure(figsize=(3, 3))\n",
    "axes = fig.add_axes([0, 0, 1, 1])\n",
    "axes.pie(\n",
    "    [100 - df_churn.values[0], df_churn.values[0]], \n",
    "    labels= ['Лояльные', 'Ушедшие']\n",
    ")\n",
    "\n",
    "# Добавляем название графика\n",
    "axes.set_title('Соотношение ушедших и лояльных клиентов')\n",
    "\n",
    "fig.show()"
   ]
  },
  {
   "cell_type": "markdown",
   "id": "fa61ae7f",
   "metadata": {},
   "source": [
    "Исходя из диаграммы видно, что количество ушедших клиентов не превышает 1/4 доли от общего количества клиентов банка. Следовательно можно сделать вывод о том, что у банка присутствуют некоторые проблемы с лояльностью клиентов, однако в большей степени политику банка можно назвать успешной"
   ]
  },
  {
   "cell_type": "markdown",
   "id": "f86cce45",
   "metadata": {},
   "source": [
    "**Задание 9.2.** Постройте график, показывающий распределение баланса пользователей, у которых на счету больше 2 500 долларов. Опишите распределение и сделайте выводы."
   ]
  },
  {
   "cell_type": "code",
   "execution_count": 21,
   "id": "907cc230",
   "metadata": {},
   "outputs": [
    {
     "name": "stderr",
     "output_type": "stream",
     "text": [
      "C:\\Users\\geras\\AppData\\Local\\Temp\\ipykernel_7640\\1251720764.py:18: UserWarning: FigureCanvasAgg is non-interactive, and thus cannot be shown\n",
      "  fig.show()\n"
     ]
    },
    {
     "data": {
      "image/png": "[encoded data removed]",
      "text/plain": [
       "<Figure size 1000x800 with 1 Axes>"
      ]
     },
     "metadata": {},
     "output_type": "display_data"
    }
   ],
   "source": [
    "# Фильтруем клиентов с балансом более 2500 долларов\n",
    "new_balance = churn_data[churn_data['Balance'] > 2500]\n",
    "\n",
    "# Строим координатную плоскость\n",
    "fig, axes = plt.subplots(nrows=1, ncols=1, figsize=(10, 8))\n",
    "\n",
    "# Строим график\n",
    "sns.histplot(\n",
    "    data=new_balance,\n",
    "    x='Balance',\n",
    "    bins=30,\n",
    ")\n",
    "\n",
    "axes.set_title('Распределение баланса пользователей, у которых на счету больше 2500 долларов')\n",
    "axes.set_xlabel('Баланс клиента')\n",
    "axes.set_ylabel('Количество клиентов')\n",
    "\n",
    "fig.show()"
   ]
  },
  {
   "cell_type": "markdown",
   "id": "5dda03d9",
   "metadata": {},
   "source": [
    "По графику видно, что у большинства клиентов с балансом более 2500 долларов он находится в диапазоне между 100000 и 150000 долларов. Далее с увеличением суммы, лежащей на счету, количество клиентов заметно снижается"
   ]
  },
  {
   "cell_type": "markdown",
   "id": "451461b8",
   "metadata": {},
   "source": [
    "**Задание 9.3.** Посмотрите на распределение баланса клиента в разрезе признака оттока. Как различаются суммы на накопительном счёте ушедших и лояльных клиентов? Подумайте и напишите, с чем это может быть связано, что может не устраивать ушедших клиентов в банке."
   ]
  },
  {
   "cell_type": "code",
   "execution_count": 32,
   "id": "d0195f3b",
   "metadata": {},
   "outputs": [
    {
     "data": {
      "application/vnd.plotly.v1+json": {
       "config": {
        "plotlyServerURL": "https://plot.ly"
       },
       "data": [
        {
         "bingroup": "x",
         "histfunc": "sum",
         "hovertemplate": "Статус клиента: =Лояльные<br>Balance=%{x}<br>sum of value=%{y}<extra></extra>",
         "legendgroup": "Лояльные",
         "marker": {
          "color": "#636efa",
          "pattern": {
           "shape": ""
          }
         },
         "name": "Лояльные",
         "nbinsx": 30,
         "orientation": "v",
         "showlegend": true,
         "texttemplate": "%{value}",
         "type": "histogram",
         "x": {
          "bdata": "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",
          "dtype": "f8"
         },
         "xaxis": "x",
         "y": {
          "bdata": "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",
          "dtype": "f8"
         },
         "yaxis": "y"
        },
        {
         "bingroup": "x",
         "histfunc": "sum",
         "hovertemplate": "Статус клиента: =Ушедшие<br>Balance=%{x}<br>sum of value=%{y}<extra></extra>",
         "legendgroup": "Ушедшие",
         "marker": {
          "color": "#EF553B",
          "pattern": {
           "shape": ""
          }
         },
         "name": "Ушедшие",
         "nbinsx": 30,
         "orientation": "v",
         "showlegend": true,
         "texttemplate": "%{value}",
         "type": "histogram",
         "x": {
          "bdata": "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",
          "dtype": "f8"
         },
         "xaxis": "x",
         "y": {
          "bdata": "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",
          "dtype": "f8"
         },
         "yaxis": "y"
        }
       ],
       "layout": {
        "barmode": "relative",
        "height": 500,
        "legend": {
         "title": {
          "text": "Статус клиента: "
         },
         "tracegroupgap": 0
        },
        "template": {
         "data": {
          "bar": [
           {
            "error_x": {
             "color": "#2a3f5f"
            },
            "error_y": {
             "color": "#2a3f5f"
            },
            "marker": {
             "line": {
              "color": "#E5ECF6",
              "width": 0.5
             },
             "pattern": {
              "fillmode": "overlay",
              "size": 10,
              "solidity": 0.2
             }
            },
            "type": "bar"
           }
          ],
          "barpolar": [
           {
            "marker": {
             "line": {
              "color": "#E5ECF6",
              "width": 0.5
             },
             "pattern": {
              "fillmode": "overlay",
              "size": 10,
              "solidity": 0.2
             }
            },
            "type": "barpolar"
           }
          ],
          "carpet": [
           {
            "aaxis": {
             "endlinecolor": "#2a3f5f",
             "gridcolor": "white",
             "linecolor": "white",
             "minorgridcolor": "white",
             "startlinecolor": "#2a3f5f"
            },
            "baxis": {
             "endlinecolor": "#2a3f5f",
             "gridcolor": "white",
             "linecolor": "white",
             "minorgridcolor": "white",
             "startlinecolor": "#2a3f5f"
            },
            "type": "carpet"
           }
          ],
          "choropleth": [
           {
            "colorbar": {
             "outlinewidth": 0,
             "ticks": ""
            },
            "type": "choropleth"
           }
          ],
          "contour": [
           {
            "colorbar": {
             "outlinewidth": 0,
             "ticks": ""
            },
            "colorscale": [
             [
              0,
              "#0d0887"
             ],
             [
              0.1111111111111111,
              "#46039f"
             ],
             [
              0.2222222222222222,
              "#7201a8"
             ],
             [
              0.3333333333333333,
              "#9c179e"
             ],
             [
              0.4444444444444444,
              "#bd3786"
             ],
             [
              0.5555555555555556,
              "#d8576b"
             ],
             [
              0.6666666666666666,
              "#ed7953"
             ],
             [
              0.7777777777777778,
              "#fb9f3a"
             ],
             [
              0.8888888888888888,
              "#fdca26"
             ],
             [
              1,
              "#f0f921"
             ]
            ],
            "type": "contour"
           }
          ],
          "contourcarpet": [
           {
            "colorbar": {
             "outlinewidth": 0,
             "ticks": ""
            },
            "type": "contourcarpet"
           }
          ],
          "heatmap": [
           {
            "colorbar": {
             "outlinewidth": 0,
             "ticks": ""
            },
            "colorscale": [
             [
              0,
              "#0d0887"
             ],
             [
              0.1111111111111111,
              "#46039f"
             ],
             [
              0.2222222222222222,
              "#7201a8"
             ],
             [
              0.3333333333333333,
              "#9c179e"
             ],
             [
              0.4444444444444444,
              "#bd3786"
             ],
             [
              0.5555555555555556,
              "#d8576b"
             ],
             [
              0.6666666666666666,
              "#ed7953"
             ],
             [
              0.7777777777777778,
              "#fb9f3a"
             ],
             [
              0.8888888888888888,
              "#fdca26"
             ],
             [
              1,
              "#f0f921"
             ]
            ],
            "type": "heatmap"
           }
          ],
          "histogram": [
           {
            "marker": {
             "pattern": {
              "fillmode": "overlay",
              "size": 10,
              "solidity": 0.2
             }
            },
            "type": "histogram"
           }
          ],
          "histogram2d": [
           {
            "colorbar": {
             "outlinewidth": 0,
             "ticks": ""
            },
            "colorscale": [
             [
              0,
              "#0d0887"
             ],
             [
              0.1111111111111111,
              "#46039f"
             ],
             [
              0.2222222222222222,
              "#7201a8"
             ],
             [
              0.3333333333333333,
              "#9c179e"
             ],
             [
              0.4444444444444444,
              "#bd3786"
             ],
             [
              0.5555555555555556,
              "#d8576b"
             ],
             [
              0.6666666666666666,
              "#ed7953"
             ],
             [
              0.7777777777777778,
              "#fb9f3a"
             ],
             [
              0.8888888888888888,
              "#fdca26"
             ],
             [
              1,
              "#f0f921"
             ]
            ],
            "type": "histogram2d"
           }
          ],
          "histogram2dcontour": [
           {
            "colorbar": {
             "outlinewidth": 0,
             "ticks": ""
            },
            "colorscale": [
             [
              0,
              "#0d0887"
             ],
             [
              0.1111111111111111,
              "#46039f"
             ],
             [
              0.2222222222222222,
              "#7201a8"
             ],
             [
              0.3333333333333333,
              "#9c179e"
             ],
             [
              0.4444444444444444,
              "#bd3786"
             ],
             [
              0.5555555555555556,
              "#d8576b"
             ],
             [
              0.6666666666666666,
              "#ed7953"
             ],
             [
              0.7777777777777778,
              "#fb9f3a"
             ],
             [
              0.8888888888888888,
              "#fdca26"
             ],
             [
              1,
              "#f0f921"
             ]
            ],
            "type": "histogram2dcontour"
           }
          ],
          "mesh3d": [
           {
            "colorbar": {
             "outlinewidth": 0,
             "ticks": ""
            },
            "type": "mesh3d"
           }
          ],
          "parcoords": [
           {
            "line": {
             "colorbar": {
              "outlinewidth": 0,
              "ticks": ""
             }
            },
            "type": "parcoords"
           }
          ],
          "pie": [
           {
            "automargin": true,
            "type": "pie"
           }
          ],
          "scatter": [
           {
            "fillpattern": {
             "fillmode": "overlay",
             "size": 10,
             "solidity": 0.2
            },
            "type": "scatter"
           }
          ],
          "scatter3d": [
           {
            "line": {
             "colorbar": {
              "outlinewidth": 0,
              "ticks": ""
             }
            },
            "marker": {
             "colorbar": {
              "outlinewidth": 0,
              "ticks": ""
             }
            },
            "type": "scatter3d"
           }
          ],
          "scattercarpet": [
           {
            "marker": {
             "colorbar": {
              "outlinewidth": 0,
              "ticks": ""
             }
            },
            "type": "scattercarpet"
           }
          ],
          "scattergeo": [
           {
            "marker": {
             "colorbar": {
              "outlinewidth": 0,
              "ticks": ""
             }
            },
            "type": "scattergeo"
           }
          ],
          "scattergl": [
           {
            "marker": {
             "colorbar": {
              "outlinewidth": 0,
              "ticks": ""
             }
            },
            "type": "scattergl"
           }
          ],
          "scattermap": [
           {
            "marker": {
             "colorbar": {
              "outlinewidth": 0,
              "ticks": ""
             }
            },
            "type": "scattermap"
           }
          ],
          "scattermapbox": [
           {
            "marker": {
             "colorbar": {
              "outlinewidth": 0,
              "ticks": ""
             }
            },
            "type": "scattermapbox"
           }
          ],
          "scatterpolar": [
           {
            "marker": {
             "colorbar": {
              "outlinewidth": 0,
              "ticks": ""
             }
            },
            "type": "scatterpolar"
           }
          ],
          "scatterpolargl": [
           {
            "marker": {
             "colorbar": {
              "outlinewidth": 0,
              "ticks": ""
             }
            },
            "type": "scatterpolargl"
           }
          ],
          "scatterternary": [
           {
            "marker": {
             "colorbar": {
              "outlinewidth": 0,
              "ticks": ""
             }
            },
            "type": "scatterternary"
           }
          ],
          "surface": [
           {
            "colorbar": {
             "outlinewidth": 0,
             "ticks": ""
            },
            "colorscale": [
             [
              0,
              "#0d0887"
             ],
             [
              0.1111111111111111,
              "#46039f"
             ],
             [
              0.2222222222222222,
              "#7201a8"
             ],
             [
              0.3333333333333333,
              "#9c179e"
             ],
             [
              0.4444444444444444,
              "#bd3786"
             ],
             [
              0.5555555555555556,
              "#d8576b"
             ],
             [
              0.6666666666666666,
              "#ed7953"
             ],
             [
              0.7777777777777778,
              "#fb9f3a"
             ],
             [
              0.8888888888888888,
              "#fdca26"
             ],
             [
              1,
              "#f0f921"
             ]
            ],
            "type": "surface"
           }
          ],
          "table": [
           {
            "cells": {
             "fill": {
              "color": "#EBF0F8"
             },
             "line": {
              "color": "white"
             }
            },
            "header": {
             "fill": {
              "color": "#C8D4E3"
             },
             "line": {
              "color": "white"
             }
            },
            "type": "table"
           }
          ]
         },
         "layout": {
          "annotationdefaults": {
           "arrowcolor": "#2a3f5f",
           "arrowhead": 0,
           "arrowwidth": 1
          },
          "autotypenumbers": "strict",
          "coloraxis": {
           "colorbar": {
            "outlinewidth": 0,
            "ticks": ""
           }
          },
          "colorscale": {
           "diverging": [
            [
             0,
             "#8e0152"
            ],
            [
             0.1,
             "#c51b7d"
            ],
            [
             0.2,
             "#de77ae"
            ],
            [
             0.3,
             "#f1b6da"
            ],
            [
             0.4,
             "#fde0ef"
            ],
            [
             0.5,
             "#f7f7f7"
            ],
            [
             0.6,
             "#e6f5d0"
            ],
            [
             0.7,
             "#b8e186"
            ],
            [
             0.8,
             "#7fbc41"
            ],
            [
             0.9,
             "#4d9221"
            ],
            [
             1,
             "#276419"
            ]
           ],
           "sequential": [
            [
             0,
             "#0d0887"
            ],
            [
             0.1111111111111111,
             "#46039f"
            ],
            [
             0.2222222222222222,
             "#7201a8"
            ],
            [
             0.3333333333333333,
             "#9c179e"
            ],
            [
             0.4444444444444444,
             "#bd3786"
            ],
            [
             0.5555555555555556,
             "#d8576b"
            ],
            [
             0.6666666666666666,
             "#ed7953"
            ],
            [
             0.7777777777777778,
             "#fb9f3a"
            ],
            [
             0.8888888888888888,
             "#fdca26"
            ],
            [
             1,
             "#f0f921"
            ]
           ],
           "sequentialminus": [
            [
             0,
             "#0d0887"
            ],
            [
             0.1111111111111111,
             "#46039f"
            ],
            [
             0.2222222222222222,
             "#7201a8"
            ],
            [
             0.3333333333333333,
             "#9c179e"
            ],
            [
             0.4444444444444444,
             "#bd3786"
            ],
            [
             0.5555555555555556,
             "#d8576b"
            ],
            [
             0.6666666666666666,
             "#ed7953"
            ],
            [
             0.7777777777777778,
             "#fb9f3a"
            ],
            [
             0.8888888888888888,
             "#fdca26"
            ],
            [
             1,
             "#f0f921"
            ]
           ]
          },
          "colorway": [
           "#636efa",
           "#EF553B",
           "#00cc96",
           "#ab63fa",
           "#FFA15A",
           "#19d3f3",
           "#FF6692",
           "#B6E880",
           "#FF97FF",
           "#FECB52"
          ],
          "font": {
           "color": "#2a3f5f"
          },
          "geo": {
           "bgcolor": "white",
           "lakecolor": "white",
           "landcolor": "#E5ECF6",
           "showlakes": true,
           "showland": true,
           "subunitcolor": "white"
          },
          "hoverlabel": {
           "align": "left"
          },
          "hovermode": "closest",
          "mapbox": {
           "style": "light"
          },
          "paper_bgcolor": "white",
          "plot_bgcolor": "#E5ECF6",
          "polar": {
           "angularaxis": {
            "gridcolor": "white",
            "linecolor": "white",
            "ticks": ""
           },
           "bgcolor": "#E5ECF6",
           "radialaxis": {
            "gridcolor": "white",
            "linecolor": "white",
            "ticks": ""
           }
          },
          "scene": {
           "xaxis": {
            "backgroundcolor": "#E5ECF6",
            "gridcolor": "white",
            "gridwidth": 2,
            "linecolor": "white",
            "showbackground": true,
            "ticks": "",
            "zerolinecolor": "white"
           },
           "yaxis": {
            "backgroundcolor": "#E5ECF6",
            "gridcolor": "white",
            "gridwidth": 2,
            "linecolor": "white",
            "showbackground": true,
            "ticks": "",
            "zerolinecolor": "white"
           },
           "zaxis": {
            "backgroundcolor": "#E5ECF6",
            "gridcolor": "white",
            "gridwidth": 2,
            "linecolor": "white",
            "showbackground": true,
            "ticks": "",
            "zerolinecolor": "white"
           }
          },
          "shapedefaults": {
           "line": {
            "color": "#2a3f5f"
           }
          },
          "ternary": {
           "aaxis": {
            "gridcolor": "white",
            "linecolor": "white",
            "ticks": ""
           },
           "baxis": {
            "gridcolor": "white",
            "linecolor": "white",
            "ticks": ""
           },
           "bgcolor": "#E5ECF6",
           "caxis": {
            "gridcolor": "white",
            "linecolor": "white",
            "ticks": ""
           }
          },
          "title": {
           "x": 0.05
          },
          "xaxis": {
           "automargin": true,
           "gridcolor": "white",
           "linecolor": "white",
           "ticks": "",
           "title": {
            "standoff": 15
           },
           "zerolinecolor": "white",
           "zerolinewidth": 2
          },
          "yaxis": {
           "automargin": true,
           "gridcolor": "white",
           "linecolor": "white",
           "ticks": "",
           "title": {
            "standoff": 15
           },
           "zerolinecolor": "white",
           "zerolinewidth": 2
          }
         }
        },
        "title": {
         "text": "Зависимость баланса клиентов и их лояльности"
        },
        "width": 700,
        "xaxis": {
         "anchor": "y",
         "domain": [
          0,
          1
         ],
         "title": {
          "text": "Баланс клиента"
         }
        },
        "yaxis": {
         "anchor": "x",
         "domain": [
          0,
          1
         ],
         "title": {
          "text": "Количество клиентов"
         }
        }
       }
      }
     },
     "metadata": {},
     "output_type": "display_data"
    }
   ],
   "source": [
    "# Отбираем необходимые признаки\n",
    "df_churn = churn_data[['Balance', 'Exited', 'CustomerId']].copy()\n",
    "\n",
    "# Создадим сводную таблицу, сгруппируем и подпишем данные\n",
    "df = df_churn.pivot_table(\n",
    "    index='Balance', # Будущие строки\n",
    "    columns='Exited', # Будущие столбцы\n",
    "    values='CustomerId', # Столбец, по которому получим сводные данные для значений\n",
    "    aggfunc='count' # Функция, применяемая к value - подсчет\n",
    ")\n",
    "df = df.rename(columns={1: 'Ушедшие', 0: 'Лояльные'}) # Добавим названия \n",
    "\n",
    "# Строим график\n",
    "fig = px.histogram(\n",
    "    data_frame=df,\n",
    "    x=df.index, # Отображаем по оси х баланс клиентов\n",
    "    y=df.columns, # По оси у - количество клиентов\n",
    "    nbins=30, # Количество столбцов\n",
    "    text_auto=True, # Отобразим надписи на столбцах\n",
    "    title='Зависимость баланса клиентов и их лояльности', # Заголовок\n",
    "    width=700, # Ширина графика\n",
    "    height=500, # Высота графика\n",
    "    labels={'Exited': 'Статус клиента: '} # Легенда\n",
    ")\n",
    "\n",
    "# Добовляем метки осей\n",
    "fig.update_xaxes(title_text='Баланс клиента')\n",
    "fig.update_yaxes(title_text='Количество клиентов')\n",
    "\n",
    "fig.show()"
   ]
  },
  {
   "cell_type": "markdown",
   "id": "a634f7f1",
   "metadata": {},
   "source": [
    "Исходя из графика можем сделать следующие выводы:\n",
    "\n",
    "- Пик в начале графика говорит о том, что в банке большое количество клиентов, у которых на счету лежит небольшая сумма. Это может быть связано с тем, что банк предложил выгодные условия для новых клиентов, и большинство из них остались постоянными.\n",
    "\n",
    "- Для клиентов, вероятно пользующихся услугами банка регулярно, самое их большое количество приходится на диапазон 95 - 150 тыс долларов. Это относится как к лояльным, так и к ушедшим клиентам. Однако доля ушедших клиентов в этом диапазоне выше, чем за его пределами.\n",
    "\n",
    "- Малое количество ушедших клиентов по краям графика указывает вероятнее всего на то, что клиенты были заинтересованы в разовом пополнении счета, возможно для получения большего размера процента по вкладу, после чего покинули банк"
   ]
  },
  {
   "cell_type": "markdown",
   "id": "32402ddf",
   "metadata": {},
   "source": [
    "**Задание 9.4.** Посмотрите на распределение возраста в разрезе признака оттока. В какой группе больше потенциальных выбросов? На какую возрастную категорию клиентов стоит обратить внимание банку?"
   ]
  },
  {
   "cell_type": "code",
   "execution_count": 49,
   "id": "936ab85c",
   "metadata": {},
   "outputs": [
    {
     "data": {
      "application/vnd.plotly.v1+json": {
       "config": {
        "plotlyServerURL": "https://plot.ly"
       },
       "data": [
        {
         "alignmentgroup": "True",
         "boxpoints": "outliers",
         "hovertemplate": "Exited=%{x}<br>Age=%{y}<extra></extra>",
         "legendgroup": "",
         "marker": {
          "color": "#636efa"
         },
         "name": "",
         "notched": false,
         "offsetgroup": "",
         "orientation": "v",
         "showlegend": false,
         "type": "box",
         "x": {
          "bdata": "AQABAAABAAEAAAAAAAAAAAEAAAAAAAEAAAAAAAAAAQAAAAABAAAAAAABAAEAAAEBAAAAAAABAQAAAAEAAAAAAAAAAAAAAAEAAAAAAAAAAAAAAQAAAAABAAEAAQAAAAAAAAAAAAAAAAABAQAAAAEAAAAAAQAAAAEAAAAAAAABAQEAAAAAAAAAAAAAAQEAAAABAQAAAAAAAAEAAAABAAAAAAAAAAABAAEAAQAAAAEAAAAAAAABAAAAAAEAAAAAAAEAAAAAAAAAAAAAAAEBAAABAAEAAAAAAAABAAABAQAAAAEBAAABAQAAAAAAAAEAAQEAAAAAAQABAAAAAQAAAAAAAAAAAAAAAAAAAAAAAAEAAAEAAAAAAQAAAQAAAQAAAAAAAAAAAAABAAAAAQAAAAAAAAAAAQABAAAAAAAAAAEAAAAAAAEAAAAAAQAAAAAAAQABAAABAQEAAAAAAAAAAAAAAAAAAAAAAQAAAAEAAAAAAAAAAAAAAAAAAAEAAAEAAAAAAAAAAAAAAAABAQAAAAAAAQAAAAAAAAEAAAAAAAABAAABAAAAAQABAAAAAAAAAQEAAAEAAAAAAAAAAAAAAQAAAAEAAAAAAAAAAAABAAAAAAEAAAABAAAAAQAAAAEAAAAAAAAAAAEAAAEAAAAAAAEBAAAAAAEAAAEAAAAAAAAAAAAAAAEAAQABAAEAAAAAAAAAAQAAAAAAAAEAAAEBAAAAAQEAAAAAAAABAAAAAQABAAAAAAABAAABAAAAAAEAAQAAAAAAAAABAAABAQEAAAEBAAAAAAAAAAEAAQAAAQAAAAAAAAAAAAAAAQABAAAAAAAAAAAAAAAAAQEAAAEAAAAAAAEAAAEBAQAAAAAAAAABAAAAAAAAAAAAAAAAAAAAAAAAAAAAAAABAAAAAAAAAAEAAQEAAAAAAAAAAQEAAAAAAAAAAQAAAAAAAAAAAQAAAAAAAQEAAAAAAAAAAQAAAAEBAAAAAAAAAAABAAAAAAAAAAAAAAAAAAAAAAABAQABAAABAAEBAAAAAQABAQAAAAAAAAEAAAAAAAAAAAAAAAAAAAAAAAAAAAEAAAAAAAAAAQAAAAEAAAAAAAEAAAAAAAAAAAAAAAAAAAEAAQAAAQAAAAAAAAABAAAAAAEAAAEBAQAAAAAAAQEAAAEAAAAAAAAAAAEBAAEAAAAAAAAAAAABAQAAAAEAAQAAAAEBAAEAAAAAAAAAAAEAAAAAAQEAAAAAAAAAAAAAAQAAAQAAAAAAAQAAAAEBAAEAAAAAAQAAAAAAAAAAAQEAAAAAAAAAAAAAAAEAAAAAAAABAAAAAQABAAAAAAAAAAAAAAAAAAEAAQAAAQABAAAAAAEAAAEAAQAAAAAAAAAAAAAAAAAAAAAAAAAAAAEAAAABAQABAAAAAAAAAAEAAAAAAQAAAQEAAQEBAAAAAAAAAAAAAAABAAABAQAAAAAAAQAAAQEAAAAAAAAAAAAAAQAAAQEAAQEAAAEAAAAAAQEBAAAAAAEAAAAAAAAAAAAAAQAAAAEAAAAAAAAAAAEAAAAAAQABAQAAAAAAAAAAAAEAAAEAAAABAAAAAQAAAAABAAEAAAEBAAAAAAAAAAEAAAAAAAAAAAEAAQABAQAAAQEAAAAAAAAAAAAAAAABAAAAAAAAAAAAAAAAAQAAAAAAAQAAAQAAAAAAAQAAAAABAAAAAAAAAAEAAAEAAAAAAQAAAAAAAAABAAAAAAAAAAAAAAAAAAEAAQEAAAAAAAEAAQAAAQEAAAAAAQAAAAABAQAAAAAAAQAAAAABAQAAAQAAAAAAAAEBAAEAAAAAAAAAAAAAAQABAAEAAAABAAABAAAAAAEAAAEAAAABAQABAAAAAAEBAQAAAAAAAQEAAAAAAQAAAAAAAAAAAAAAAAABAAABAAAAAAAAAAAAAAEAAQAAAQAAAAEBAAEAAQABAAAAAAEAAAEAAAAAAAEBAAAAAAAAAAABAAAAAAAAAQABAQAAAQEAAAAAAAAAAQAAAQABAAAAAAAAAAAAAAAAAAEBAAAAAAAAAAAAAAAAAAEAAAAAAAAAAAAAAAAAAAEAAAAAAAEAAQAAAAABAAAAAAEAAQEAAQAAAAAAAAAAAAABAAAAAAAAAAAAAAAAAAABAAAAAQAAAAAAAAAAAQEAAAAAAAAAAAEAAAAAAQAAAQEBAAAAAAAAAAAAAAAAAAABAAAAAAEAAQAAAAEAAAAAAAEAAAEAAAABAAAAAQABAAAAAAAAAAABAAAAAQAAAAAAAAAAAAAAAQAAAAAAAAAAAAAAAAAAAAEAAAAAAAAAAAAAAAAAAAAAAAAAAAAAAAABAAAAAQABAQAAAAAAAQABAAABAQAAAAAAAAAAAQAAAAAAAAAAAAAAAQAAAAEBAAAAAAAAAAAAAQEAAAAAAAAAAAEAAAAAAAAAAAAAAAAAAAABAAEAAQABAAAAAQAAAAEBAAAAAAAAAQABAAAAAAAAAQEBAAAAAAABAAAAAAAAAAAAAAAAAAEBAAAAAAAAAAAAAAAAAAAAAAAAAAABAAAAAAAAAAAAAAAAAAEAAAABAQABAAEBAQAAAAABAAABAAAAAAAAAAABAAAAAAEAAAAAAQEAAAABAQEAAAAAAQABAQAAAAAAAAAAAAAAAQAAAAAAAAABAAEBAAAAAAEBAAEAAAAAAAAAAAEAAQABAAAAAAAAAAAAAAAAAAABAAABAAAAAAEAAAAAAQEAAAAAAAAAAAAAAQEAAAEAAAEAAAAAAAABAAAAAAEAAQAAAAEAAQABAAEAAAABAAABAAAAAAEAAAAAAAEAAAAAAAAAAQAAAAEAAAAAAQAAAQABAAAAAQAAAAAAAAABAAABAAAAAQABAAAAAAAAAAEAAQEBAQAAAAAAAAAAAAAAAAABAAAAAAAAAAAAAAAAAQAAAAABAAAAAQEAAAABAQAAAAAAAAAAAAAAAQAAAAABAAAAAAAAAAEAAAAAAAAAAAAAAAABAQEBAAEAAQABAAEAAAAAAAAAAAAAAAAAAAAAAQAAAAEAAQABAAEAAQABAAAAAAAAAAABAAAAAQAAAAEAAQEAAAAAAAAAAAAAAAABAAABAAAAAQAAAAAAAAAAAAAAAAAAAAAAAAEBAAAAAQAAAAEAAQEAAQEBAQAAAQAAAAAAAAEAAAAAAQABAAABAAAAAAAAAAABAAAAAAAAAQAAAAABAAEAAAAAAAAAAAEAAAEAAAAAAAABAAAAAQAAAAAAAAAAAQAAAQEBAAEAAAABAQAAAAAAAAAAAAEAAAAAAQEAAAABAQABAAAAAAAAAQAAAAEBAAABAAAAAAAAAAAAAAAAAAABAAABAAAAAQAAAAAAAAAAAAEAAAAAAAEAAAEAAQAAAAEAAAAAAAEAAAAAAQEAAAEBAQEAAAABAAEBAAAAAQAAAAAAAAEAAAABAAAAAQAAAAAAAQEAAAABAQAAAAAAAAAAAAAAAAABAAAAAAABAAAAAAAAAAAAAAAAAAEAAAEAAQAAAAAAAAAAAQEAAAAAAQAAAAABAAAAAAAAAAEAAAAAAAABAAAAAQEAAQEAAAEAAAEAAQAAAAAAAQAAAAAAAAAAAAAAAAEAAAAAAAEAAAEAAAAAAQAAAAAAAAAAAAAAAAAAAAEBAQAAAAAAAAAAAAABAAAAAAABAAAAAAEAAAAAAQABAAEAAAAAAQAAAAAAAAAAAAAAAQAAAAAAAQABAAAAAQAAAAEBAQABAAAAAAEAAAAAAAAAAQAAAQEAAAAAAAABAAAAAAAAAAAAAAAAAAAAAAAAAAAAAAAAAAAAAAEAAAEAAQAAAAEAAQAAAQAAAAAAAAAAAAAAAQAAAAEAAAAAAAABAQAAAAAAAAAAAAAAAAAAAAAAAQABAAAAAAAAAAAAAAABAAABAQEBAAAAAAAAAAAAAQAAAAEAAQAAAAABAAAAAAABAAAAAAABAAAAAAABAAAAAAEAAAABAQAAAQAAAQAAAAEAAAAAAAAAAAABAQEAAAAAAAAAAAAAAAAAAAAAAQEAAAEAAAAAAAAAAAAAAAAAAAAAAAAAAAABAAABAAAAAAAAAAAAAAEAAAABAAAAAAAAAAAAAAAAAAAAAAAAAQAAAAABAAAAAAAAAAEBAAEAAAAAAQAAAAAAAQAAAAAAAAAAAQABAAEBAAEAAQAAAAABAAAAAAEAAAEAAAEAAAAAAAABAQAAAQAAAAEBAAEAAAABAAAAAQAAAAAAAAEAAAEBAQABAQAAAAEAAAAAAQAAAAEBAAAAAAAAAAEAAAAAAAEAAAAAAQEBAAAAAAABAAAAAAAAAAAAAAABAAAAAAEAAAAAAQAAAAEAAQAAAAABAQAAAAEBAAABAAAAAAABAAEBAAAAAAEAAAABAQEAAAAAAAEAAAAAAQAAAAAAAAAAAQAAAAAAAQAAAQAAAAAAAAAAAAABAAEBAAAAAAAAAAABAAEAAAAAAAAAAAEAAQAAAAAAAAAAAAEAAAAAAAAAAAEAAAAAAAABAAEAAAEBAQAAAQEBAAAAAAAAAAEAAAABAAAAAAAAAAAAAQAAAAAAAAAAAAEAAAAAAAEAAAAAAAAAAAAAAAAAAQAAAAAAAAAAAAABAAABAAAAAQAAAAABAAAAAQEAAAAAAAEAAAAAAAAAAAABAAABAAAAAQAAAAABAAAAAAEAAAAAAAABAAAAAAEAAAAAAAAAAAAAAAAAAAAAAQEAAAAAAAAAAAABAQEBAAAAAAEAAAAAAQAAAAEAAQAAAAEAAQEAAAEBAAEAAQAAAAABAQAAAAAAAAABAAAAAAEAAAAAAAAAAAEAAAAAAAAAAQEAAQAAAAAAAAEAAAAAAQEBAQAAAAAAAAABAAAAAAAAAAAAAAEAAQAAAAAAAQEAAQAAAAAAAAABAAEBAAAAAQAAAAABAAAAAAAAAAAAAAAAAQABAAAAAAAAAAAAAQEAAAAAAAAAAAEAAAAAAAEAAQAAAAEAAAABAAAAAAEAAQEAAAABAQAAAAAAAAAAAQABAQABAAAAAAAAAAAAAAABAAAAAAEAAAAAAAAAAAAAAQAAAAAAAQABAQAAAQEAAAEAAAEAAAABAAAAAAABAAAAAAAAAAAAAAAAAAEAAQAAAAAAAAABAAAAAAAAAAABAAEBAQEAAQAAAAAAAAAAAAAAAAAAAAAAAQAAAAAAAAAAAAAAAAAAAAEAAQAAAAAAAQAAAAAAAAAAAAAAAAEAAAABAAAAAAAAAAEAAAEAAAABAAAAAQAAAAAAAAAAAQAAAAABAAABAAEBAAAAAAAAAAAAAQAAAAAAAQABAAAAAAEAAAAAAQAAAAAAAQAAAAEAAAEBAAAAAAEAAAEAAAAAAAABAAABAAAAAQAAAAAAAAABAQAAAQAAAAEAAAAAAQAAAAAAAAEAAAEBAQAAAAAAAAAAAAAAAAAAAAEAAAAAAAAAAQABAAAAAAAAAAAAAAABAAAAAQABAAAAAAAAAAAAAAEAAAAAAAAAAAAAAQAAAQAAAAAAAAEAAAAAAAAAAAABAAABAAEAAAAAAAABAAAAAAABAAAAAAAAAAABAAEAAAAAAAAAAAAAAAABAAAAAAAAAAABAAAAAAAAAQABAAAAAAAAAAAAAAEBAQEAAAAAAAAAAQAAAQABAAAAAQABAQABAAEBAQAAAAAAAAAAAAAAAAAAAAAAAQEAAAAAAAAAAAAAAAAAAAAAAQAAAAEAAQABAAAAAAABAAAAAAABAAAAAAAAAQAAAAABAAABAAEAAAAAAQEAAQAAAAEAAQEAAAABAAAAAAAAAQAAAAAAAAAAAQAAAQEAAAAAAAEBAAEBAQABAAAAAAAAAAAAAAABAAAAAAABAAAAAQABAAAAAQAAAQAAAAAAAAAAAAEAAAAAAAAAAAEBAAEBAAAAAAABAAEAAAAAAAAAAAAAAAAAAAAAAAEAAAAAAAEAAQAAAAAAAAAAAAEAAAAAAQABAAAAAAAAAAEBAAAAAAABAQEAAAAAAAAAAAAAAAEAAAAAAAAAAAAAAAAAAQAAAAABAAAAAAAAAAABAQAAAAEAAAABAAAAAAAAAAABAAAAAQABAAAAAAAAAAEAAAABAQEAAQAAAAEAAAABAAAAAQAAAAAAAAAAAAAAAAAAAAEAAAAAAAAAAAAAAAABAAABAAEAAAAAAAAAAAEBAQAAAAEAAAAAAAABAAAAAAEAAAAAAQAAAAABAAAAAAABAAABAAAAAAEAAAAAAQEAAAAAAAAAAAAAAAABAAEAAQAAAAAAAQAAAAAAAAAAAQAAAQAAAAAAAAABAAEAAAAAAAAAAAAAAAABAAAAAAAAAQAAAAAAAAAAAAEBAAEAAQAAAAEAAAEAAAEBAAABAAABAAABAAEAAAAAAAAAAAAAAAEAAAAAAAAAAAAAAQABAAABAAAAAAEAAAAAAAAAAAABAAAAAAAAAAAAAAAAAAAAAAAAAAAAAAEAAAAAAQAAAAAAAAEAAAAAAQABAQAAAAAAAAABAAAAAAAAAAAAAAEAAAEAAAAAAQEAAAAAAAAAAAEAAAAAAQAAAAABAAABAAAAAAAAAQABAAAAAAAAAQAAAQEBAAAAAAEAAAEBAAAAAAEAAAAAAAAAAAEAAAEAAQAAAAABAAAAAAAAAAAAAAAAAAAAAAABAAABAAAAAAAAAQAAAAAAAQEAAAAAAAABAAAAAQABAAABAAAAAAEAAQAAAQAAAQEAAQAAAAABAQEAAAABAQAAAQAAAQABAAAAAAAAAAAAAAAAAAAAAAAAAAAAAAABAAAAAAAAAAAAAQAAAAAAAAAAAAAAAAAAAQAAAQABAQAAAAEBAAAAAAABAAAAAQABAAAAAAAAAAABAQAAAAAAAAAAAAEAAQAAAAAAAAEAAAEAAQAAAAEAAAAAAAAAAAAAAAAAAAAAAAAAAAAAAAEAAAAAAAAAAAABAAAAAAEAAAEAAQAAAAAAAAAAAAAAAAAAAQAAAAAAAAAAAAEAAQEAAAAAAQAAAAAAAAAAAAABAQEBAQAAAAAAAAEBAAAAAAABAAAAAAABAQAAAAAAAAABAAAAAAEAAQEAAAAAAAEAAQAAAAABAAAAAAEAAAAAAAEBAAAAAAAAAAABAQAAAQAAAAEAAAAAAAAAAAAAAQEAAAAAAQAAAAABAQEBAAAAAAAAAAEBAAEAAAEAAAEAAAEAAAABAAAAAAEBAQEAAAAAAAAAAAAAAAAAAQEAAQABAAEAAAAAAAEAAAAAAAAAAAAAAAAAAQAAAAAAAAEAAAAAAQAAAAAAAAAAAAAAAAAAAAEAAQAAAAAAAQAAAAEAAAEAAAAAAAAAAAAAAAAAAAABAAAAAAEAAAAAAQAAAQAAAAAAAAEAAAEAAAAAAAAAAAAAAAABAAABAAAAAQAAAAABAAAAAAAAAAAAAAAAAAAAAQAAAAABAAEAAAAAAQAAAAAAAAAAAAABAQABAAAAAAAAAAABAQAAAAABAAAAAAAAAAAAAAAAAQAAAAEAAAEAAAEAAAAAAAABAAAAAAAAAAAAAAEAAAAAAAAAAAAAAAAAAAEAAAAAAAAAAQAAAQABAQAAAAAAAAAAAQAAAQEAAAAAAQABAAEAAAAAAAAAAAAAAAEAAAEAAQEAAAAAAAAAAAAAAAAAAQEAAAEAAAAAAAAAAQAAAAAAAAAAAQAAAAAAAQAAAAEAAQAAAAAAAAAAAQAAAAAAAAABAAAAAAAAAAEAAAAAAAAAAAAAAAAAAAAAAAEAAAEAAAAAAAAAAAEBAAEAAAAAAAAAAQABAAABAAAAAQAAAAAAAAAAAAAAAAEAAQEBAAAAAAABAAEBAAAAAQAAAQAAAAAAAQAAAAAAAQABAAEBAAAAAAAAAAEAAAAAAQABAAAAAAAAAAABAAAAAAEBAAAAAAAAAAAAAAAAAAABAQAAAAEAAAAAAAABAAAAAAAAAQEAAAEBAAAAAQABAAABAAAAAQABAAAAAAAAAQEAAQAAAQAAAAABAAEAAAAAAAAAAAABAAAAAQAAAAAAAAAAAAEAAAEAAAAAAAAAAAAAAQEAAAAAAAAAAAABAAABAAAAAAAAAAEBAAAAAAEBAAAAAAAAAAAAAAAAAAAAAAAAAAAAAAAAAQAAAAEAAQEAAAABAAAAAAAAAAAAAAAAAAABAQABAAEAAQAAAAAAAAAAAAEAAQABAAABAAAAAAEAAAAAAQAAAAAAAAABAAAAAAAAAAABAAAAAAABAQAAAAAAAAAAAAAAAQAAAAAAAAAAAQAAAAAAAQAAAAAAAAEAAAAAAQAAAAAAAAEAAQABAAAAAAAAAAABAAAAAAAAAAEAAAABAAAAAAAAAAAAAAABAAAAAAEAAAAAAQEAAAAAAAAAAAAAAAAAAQAAAAAAAAEAAQEAAAAAAAEAAAAAAQAAAAEBAQEAAQAAAQAAAAABAAAAAAEAAAAAAAEAAAEAAAAAAQAAAAABAAAAAAABAQAAAQAAAAAAAQEAAAAAAAAAAAAAAAAAAAAAAAEAAAEAAAAAAAAAAQAAAAABAAAAAAABAAABAAAAAAAAAQEBAQABAAAAAAABAAEAAAAAAAAAAAAAAQAAAAEBAAABAAAAAAEAAAAAAAAAAAAAAAEAAAABAAAAAAAAAAAAAAEBAAAAAAAAAAABAAAAAAAAAAAAAAAAAAABAAEBAAAAAAEAAAEAAAABAAAAAAAAAAAAAAAAAAAAAQEBAAAAAAAAAAEBAAEAAQEAAAAAAAABAQAAAAABAAAAAAAAAAAAAAAAAAEBAAAAAAAAAAAAAAEAAAEAAAEAAAAAAQEAAQAAAQABAAEAAAABAAAAAAABAAAAAAAAAAAAAAAAAQABAAABAQEAAAAAAAAAAAAAAAAAAAAAAAAAAQAAAAAAAQAAAAAAAQAAAAAAAAAAAAAAAAAAAAAAAAAAAAAAAAEAAAAAAAAAAAAAAQAAAAAAAAAAAAAAAAAAAQAAAAAAAAAAAAAAAAAAAAAAAQEBAAABAAEAAAABAAAAAQAAAAAAAAEAAQEAAQAAAAABAQEAAAAAAAABAAAAAAAAAQEAAAAAAQAAAAAAAAAAAAEAAAAAAAAAAQEAAAABAAABAAAAAAAAAAAAAAEAAAAAAAEAAQABAAAAAAAAAAABAAAAAQEAAAABAAEAAAABAAAAAQAAAAAAAAAAAAAAAAAAAAAAAAAAAQAAAQABAAABAAAAAQAAAAABAAEAAAABAAABAAAAAAAAAAAAAAABAQEAAAEAAQABAAAAAAAAAAAAAAABAQEAAAAAAAAAAAAAAAAAAAEBAAAAAAAAAAAAAAAAAAAAAAAAAQAAAQAAAAAAAAAAAAAAAAEAAAAAAAAAAQAAAAAAAAAAAQAAAQAAAAAAAAEBAAAAAAABAQAAAAEAAAAAAQAAAAAAAAAAAQEAAAABAAABAAAAAQABAAABAAABAAAAAAAAAAAAAAABAAAAAQAAAAABAAAAAAAAAAAAAQAAAAAAAAAAAAAAAQAAAAEAAAABAAABAAEAAQEAAQAAAAABAAAAAAAAAAAAAAAAAQEAAAAAAAAAAAAAAAAAAAEAAAABAAEAAAABAAEAAAAAAAAAAQAAAQAAAQEAAAAAAAEAAAAAAAAAAAAAAAAAAAABAAAAAAAAAAAAAAAAAAAAAAAAAAEAAAAAAAAAAQAAAQEAAAEAAAEAAAABAAAAAQEAAAAAAAAAAAABAQAAAQAAAAABAQAAAAABAAEAAQEAAAAAAAAAAQAAAQAAAAAAAAAAAAAAAQEAAAAAAAAAAAEAAAAAAAAAAAAAAAAAAAAAAQABAAAAAQABAQAAAAABAAEAAAEBAAAAAAAAAAABAQEAAQAAAAAAAAAAAAAAAQAAAAABAAABAAAAAQAAAAAAAAAAAQAAAAAAAAEAAQAAAAAAAAAAAAAAAQEBAQABAAABAAAAAAAAAAAAAAAAAAAAAAAAAAABAQEAAAAAAAABAAEBAAAAAAAAAAABAAABAAAAAAEAAQABAAAAAAAAAQAAAAAAAAAAAAEAAAEAAAAAAAEAAAABAAAAAAEAAAAAAAABAAABAAEAAQEAAAAAAAABAAABAAAAAAEAAAAAAAAAAAAAAQAAAQAAAAAAAAAAAAAAAAEAAAAAAQABAAEAAAAAAAEBAQEAAAEBAAAAAAAAAAABAAAAAAEAAAAAAQAAAAAAAAABAQAAAAEBAAAAAAAAAAAAAAAAAAAAAAAAAAAAAAAAAQAAAAEAAAEAAAAAAAAAAAAAAAAAAAAAAQAAAAABAAABAQAAAAAAAAAAAQAAAAAAAAEAAAEAAAAAAAEBAAAAAAAAAQEAAQAAAQAAAAEAAAAAAAEAAAABAAABAAAAAAABAAAAAAEAAQABAAEAAQAAAQAAAAAAAAABAQAAAAABAAAAAAEBAAAAAQAAAQAAAAABAQAAAAAAAAAAAAEAAAAAAAAAAAAAAAAAAAAAAQEAAAAAAAABAQAAAAEAAAAAAAAAAAEAAAEBAAAAAAABAAEAAAEAAAABAAEAAAAAAAAAAQABAAAAAAAAAAAAAAAAAAAAAQAAAAAAAAEBAQAAAAEAAQAAAAAAAAAAAAEAAAAAAAEAAAAAAAAAAAEAAAAAAAEAAAAAAAAAAAAAAQEAAAAAAAAAAAABAAAAAAEBAQAAAAABAAAAAAAAAAAAAAAAAQAAAQAAAAEAAAAAAQAAAAAAAAAAAAAAAAAAAAAAAAABAAAAAQAAAAABAAAAAQAAAQAAAAAAAAABAAAAAQAAAAABAAABAAAAAAAAAAAAAAEBAAEAAAAAAQABAAABAAEAAAABAAEAAAEAAAAAAAEBAAABAQAAAAAAAAAAAAAAAQAAAAAAAAEAAQEAAAEAAQABAAAAAAAAAAAAAAEBAAEAAAEAAQABAQAAAAAAAAAAAAEAAAAAAAAAAAABAAAAAAABAQAAAAAAAAAAAQAAAAAAAAEBAAAAAAAAAAAAAAAAAQABAAAAAAAAAAAAAAABAAEAAAAAAAAAAAAAAAEAAAEAAAAAAQEAAAABAAAAAAABAAABAAAAAAABAAEAAAAAAAAAAAAAAQAAAAAAAAAAAAAAAQAAAAEAAAAAAAAAAAAAAAAAAAAAAAAAAAAAAAAAAAAAAQEAAQAAAAEBAAAAAAEAAAAAAAAAAAAAAAAAAAAAAAAAAAAAAQABAAAAAAAAAQEAAAEBAQAAAQEAAAAAAQEAAAABAQAAAAEBAAEAAAEAAQABAQAAAAAAAAAAAQABAAEBAAABAQEAAAEBAAAAAAAAAAAAAQAAAAAAAAAAAAEBAQAAAQAAAAABAAEBAAABAAAAAAAAAAAAAQAAAAEBAAAAAAAAAQAAAQABAAAAAAABAAAAAQABAAAAAAAAAQABAAEAAQAAAQABAAAAAAAAAAABAAAAAAABAAAAAAAAAAEAAAAAAQAAAAAAAAABAQAAAQAAAAAAAAABAAAAAAAAAQAAAAEAAAAAAAAAAQEAAQEAAAAAAAAAAAAAAQAAAAAAAAABAAAAAAEAAAAAAQABAAABAAABAAAAAAAAAAAAAAAAAAAAAAAAAAAAAQEAAAAAAAAAAAEBAAAAAAEAAAAAAAABAAAAAAAAAAABAAAAAAEAAAAAAAAAAAEAAQEAAAAAAQEAAAEAAAAAAQAAAAABAAAAAAAAAAAAAAAAAQEAAAAAAAAAAAAAAQAAAAABAAABAAAAAAAAAQEAAAAAAAAAAAABAAAAAQAAAAAAAAEBAAAAAAEBAQAAAAABAAAAAAAAAAAAAAABAAABAQAAAAAAAAAAAAEBAAAAAAABAAAAAAABAQAAAAAAAAEAAAAAAAAAAAABAAAAAAEAAAAAAAABAQAAAAAAAAAAAAAAAQAAAQAAAAAAAAAAAQEAAAAAAAABAAAAAAABAAEAAQAAAAEAAAEAAAEAAAAAAAABAAAAAAAAAQAAAAAAAQAAAAABAAABAAAAAAEAAAAAAAAAAQEAAAEBAAAAAAAAAAAAAAABAAAAAQEBAQAAAAABAAABAAAAAAAAAAAAAAAAAAAAAAAAAAAAAAAAAAAAAQAAAAAAAAAAAAAAAAAAAAABAAEAAAAAAAAAAAAAAAAAAQAAAAAAAQAAAAEAAAEBAAAAAAABAQAAAAAAAAEAAAEBAAAAAQABAAAAAAAAAQAAAAEAAQAAAQAAAAAAAQAAAAEAAAABAAAAAAAAAAAAAAABAAEAAAAAAAAAAAAAAAABAAAAAAABAQEBAQAAAAAAAQAAAQAAAAAAAAAAAAAAAAAAAQAAAQAAAAAAAQAAAAEAAAAAAAABAAAAAAAAAAAAAAAAAAAAAAAAAAAAAQAAAAEAAAABAAABAQAAAQAAAAEBAAABAAEBAAAAAAAAAAAAAAEAAQAAAQAAAAAAAAAAAAAAAAAAAAAAAQAAAAAAAAAAAAEAAAAAAAAAAAAAAQAAAAAAAAAAAAEAAAAAAAAAAAAAAAABAAAAAAAAAAAAAAABAAABAAEBAAAAAQABAAABAAAAAAABAAAAAAEAAAAAAAAAAAAAAAAAAAAAAAABAQABAAAAAAAAAAEAAAEAAAAAAQEAAAAAAAAAAQAAAAAAAAAAAQAAAAAAAAABAAAAAQAAAAAAAQAAAQAAAAAAAAAAAAAAAQAAAAAAAAAAAAAAAQABAAABAAEAAQAAAAEAAAAAAAAAAAAAAAAAAAEAAAAAAAABAAAAAQEAAAABAAAAAAAAAQAAAQABAAAAAAAAAAAAAAAAAAAAAAAAAQAAAAAAAAAAAAAAAQABAAAAAAABAAABAAABAQAAAAAAAAAAAAAAAAABAQEAAQABAAAAAAEBAAAAAAEBAAAAAAEAAAAAAAABAAAAAAAAAAAAAAAAAAAAAQABAAAAAAAAAAAAAAEAAQAAAAAAAAAAAQEAAAAAAAAAAAABAQABAAAAAAAAAAEAAAAAAAEAAAAAAAAAAAAAAAAAAAAAAAAAAAAAAAABAAAAAAAAAAAAAAAAAQAAAQAAAAEAAAAAAAAAAAAAAAAAAAAAAAABAAEBAAAAAAABAAEBAAAAAAAAAQAAAQAAAAAAAQAAAQEAAQAAAAAAAQAAAAAAAAAAAAAAAQABAAAAAAAAAAAAAAEAAAEAAAAAAAABAAAAAAAAAAEBAAAAAAAAAAABAAAAAAAAAAAAAQAAAAAAAQAAAAAAAQEAAQAAAAEAAAAAAAAAAAAAAAAAAQAAAAEAAQEAAAABAAAAAAAAAAAAAAAAAAEAAQAAAQABAAAAAAAAAAAAAAEAAAEAAAAAAAABAAAAAAEAAAAAAAABAAABAAAAAQAAAAAAAAAAAAEAAAAAAAAAAAAAAAABAAAAAAAAAAABAAAAAQABAAAAAAAAAAAAAAAAAQAAAAAAAQEAAAAAAAAAAAEAAAAAAAEBAA==",
          "dtype": "i1"
         },
         "x0": " ",
         "xaxis": "x",
         "y": {
          "bdata": "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",
          "dtype": "i1"
         },
         "y0": " ",
         "yaxis": "y"
        }
       ],
       "layout": {
        "boxmode": "group",
        "height": 500,
        "legend": {
         "tracegroupgap": 0
        },
        "template": {
         "data": {
          "bar": [
           {
            "error_x": {
             "color": "#2a3f5f"
            },
            "error_y": {
             "color": "#2a3f5f"
            },
            "marker": {
             "line": {
              "color": "#E5ECF6",
              "width": 0.5
             },
             "pattern": {
              "fillmode": "overlay",
              "size": 10,
              "solidity": 0.2
             }
            },
            "type": "bar"
           }
          ],
          "barpolar": [
           {
            "marker": {
             "line": {
              "color": "#E5ECF6",
              "width": 0.5
             },
             "pattern": {
              "fillmode": "overlay",
              "size": 10,
              "solidity": 0.2
             }
            },
            "type": "barpolar"
           }
          ],
          "carpet": [
           {
            "aaxis": {
             "endlinecolor": "#2a3f5f",
             "gridcolor": "white",
             "linecolor": "white",
             "minorgridcolor": "white",
             "startlinecolor": "#2a3f5f"
            },
            "baxis": {
             "endlinecolor": "#2a3f5f",
             "gridcolor": "white",
             "linecolor": "white",
             "minorgridcolor": "white",
             "startlinecolor": "#2a3f5f"
            },
            "type": "carpet"
           }
          ],
          "choropleth": [
           {
            "colorbar": {
             "outlinewidth": 0,
             "ticks": ""
            },
            "type": "choropleth"
           }
          ],
          "contour": [
           {
            "colorbar": {
             "outlinewidth": 0,
             "ticks": ""
            },
            "colorscale": [
             [
              0,
              "#0d0887"
             ],
             [
              0.1111111111111111,
              "#46039f"
             ],
             [
              0.2222222222222222,
              "#7201a8"
             ],
             [
              0.3333333333333333,
              "#9c179e"
             ],
             [
              0.4444444444444444,
              "#bd3786"
             ],
             [
              0.5555555555555556,
              "#d8576b"
             ],
             [
              0.6666666666666666,
              "#ed7953"
             ],
             [
              0.7777777777777778,
              "#fb9f3a"
             ],
             [
              0.8888888888888888,
              "#fdca26"
             ],
             [
              1,
              "#f0f921"
             ]
            ],
            "type": "contour"
           }
          ],
          "contourcarpet": [
           {
            "colorbar": {
             "outlinewidth": 0,
             "ticks": ""
            },
            "type": "contourcarpet"
           }
          ],
          "heatmap": [
           {
            "colorbar": {
             "outlinewidth": 0,
             "ticks": ""
            },
            "colorscale": [
             [
              0,
              "#0d0887"
             ],
             [
              0.1111111111111111,
              "#46039f"
             ],
             [
              0.2222222222222222,
              "#7201a8"
             ],
             [
              0.3333333333333333,
              "#9c179e"
             ],
             [
              0.4444444444444444,
              "#bd3786"
             ],
             [
              0.5555555555555556,
              "#d8576b"
             ],
             [
              0.6666666666666666,
              "#ed7953"
             ],
             [
              0.7777777777777778,
              "#fb9f3a"
             ],
             [
              0.8888888888888888,
              "#fdca26"
             ],
             [
              1,
              "#f0f921"
             ]
            ],
            "type": "heatmap"
           }
          ],
          "histogram": [
           {
            "marker": {
             "pattern": {
              "fillmode": "overlay",
              "size": 10,
              "solidity": 0.2
             }
            },
            "type": "histogram"
           }
          ],
          "histogram2d": [
           {
            "colorbar": {
             "outlinewidth": 0,
             "ticks": ""
            },
            "colorscale": [
             [
              0,
              "#0d0887"
             ],
             [
              0.1111111111111111,
              "#46039f"
             ],
             [
              0.2222222222222222,
              "#7201a8"
             ],
             [
              0.3333333333333333,
              "#9c179e"
             ],
             [
              0.4444444444444444,
              "#bd3786"
             ],
             [
              0.5555555555555556,
              "#d8576b"
             ],
             [
              0.6666666666666666,
              "#ed7953"
             ],
             [
              0.7777777777777778,
              "#fb9f3a"
             ],
             [
              0.8888888888888888,
              "#fdca26"
             ],
             [
              1,
              "#f0f921"
             ]
            ],
            "type": "histogram2d"
           }
          ],
          "histogram2dcontour": [
           {
            "colorbar": {
             "outlinewidth": 0,
             "ticks": ""
            },
            "colorscale": [
             [
              0,
              "#0d0887"
             ],
             [
              0.1111111111111111,
              "#46039f"
             ],
             [
              0.2222222222222222,
              "#7201a8"
             ],
             [
              0.3333333333333333,
              "#9c179e"
             ],
             [
              0.4444444444444444,
              "#bd3786"
             ],
             [
              0.5555555555555556,
              "#d8576b"
             ],
             [
              0.6666666666666666,
              "#ed7953"
             ],
             [
              0.7777777777777778,
              "#fb9f3a"
             ],
             [
              0.8888888888888888,
              "#fdca26"
             ],
             [
              1,
              "#f0f921"
             ]
            ],
            "type": "histogram2dcontour"
           }
          ],
          "mesh3d": [
           {
            "colorbar": {
             "outlinewidth": 0,
             "ticks": ""
            },
            "type": "mesh3d"
           }
          ],
          "parcoords": [
           {
            "line": {
             "colorbar": {
              "outlinewidth": 0,
              "ticks": ""
             }
            },
            "type": "parcoords"
           }
          ],
          "pie": [
           {
            "automargin": true,
            "type": "pie"
           }
          ],
          "scatter": [
           {
            "fillpattern": {
             "fillmode": "overlay",
             "size": 10,
             "solidity": 0.2
            },
            "type": "scatter"
           }
          ],
          "scatter3d": [
           {
            "line": {
             "colorbar": {
              "outlinewidth": 0,
              "ticks": ""
             }
            },
            "marker": {
             "colorbar": {
              "outlinewidth": 0,
              "ticks": ""
             }
            },
            "type": "scatter3d"
           }
          ],
          "scattercarpet": [
           {
            "marker": {
             "colorbar": {
              "outlinewidth": 0,
              "ticks": ""
             }
            },
            "type": "scattercarpet"
           }
          ],
          "scattergeo": [
           {
            "marker": {
             "colorbar": {
              "outlinewidth": 0,
              "ticks": ""
             }
            },
            "type": "scattergeo"
           }
          ],
          "scattergl": [
           {
            "marker": {
             "colorbar": {
              "outlinewidth": 0,
              "ticks": ""
             }
            },
            "type": "scattergl"
           }
          ],
          "scattermap": [
           {
            "marker": {
             "colorbar": {
              "outlinewidth": 0,
              "ticks": ""
             }
            },
            "type": "scattermap"
           }
          ],
          "scattermapbox": [
           {
            "marker": {
             "colorbar": {
              "outlinewidth": 0,
              "ticks": ""
             }
            },
            "type": "scattermapbox"
           }
          ],
          "scatterpolar": [
           {
            "marker": {
             "colorbar": {
              "outlinewidth": 0,
              "ticks": ""
             }
            },
            "type": "scatterpolar"
           }
          ],
          "scatterpolargl": [
           {
            "marker": {
             "colorbar": {
              "outlinewidth": 0,
              "ticks": ""
             }
            },
            "type": "scatterpolargl"
           }
          ],
          "scatterternary": [
           {
            "marker": {
             "colorbar": {
              "outlinewidth": 0,
              "ticks": ""
             }
            },
            "type": "scatterternary"
           }
          ],
          "surface": [
           {
            "colorbar": {
             "outlinewidth": 0,
             "ticks": ""
            },
            "colorscale": [
             [
              0,
              "#0d0887"
             ],
             [
              0.1111111111111111,
              "#46039f"
             ],
             [
              0.2222222222222222,
              "#7201a8"
             ],
             [
              0.3333333333333333,
              "#9c179e"
             ],
             [
              0.4444444444444444,
              "#bd3786"
             ],
             [
              0.5555555555555556,
              "#d8576b"
             ],
             [
              0.6666666666666666,
              "#ed7953"
             ],
             [
              0.7777777777777778,
              "#fb9f3a"
             ],
             [
              0.8888888888888888,
              "#fdca26"
             ],
             [
              1,
              "#f0f921"
             ]
            ],
            "type": "surface"
           }
          ],
          "table": [
           {
            "cells": {
             "fill": {
              "color": "#EBF0F8"
             },
             "line": {
              "color": "white"
             }
            },
            "header": {
             "fill": {
              "color": "#C8D4E3"
             },
             "line": {
              "color": "white"
             }
            },
            "type": "table"
           }
          ]
         },
         "layout": {
          "annotationdefaults": {
           "arrowcolor": "#2a3f5f",
           "arrowhead": 0,
           "arrowwidth": 1
          },
          "autotypenumbers": "strict",
          "coloraxis": {
           "colorbar": {
            "outlinewidth": 0,
            "ticks": ""
           }
          },
          "colorscale": {
           "diverging": [
            [
             0,
             "#8e0152"
            ],
            [
             0.1,
             "#c51b7d"
            ],
            [
             0.2,
             "#de77ae"
            ],
            [
             0.3,
             "#f1b6da"
            ],
            [
             0.4,
             "#fde0ef"
            ],
            [
             0.5,
             "#f7f7f7"
            ],
            [
             0.6,
             "#e6f5d0"
            ],
            [
             0.7,
             "#b8e186"
            ],
            [
             0.8,
             "#7fbc41"
            ],
            [
             0.9,
             "#4d9221"
            ],
            [
             1,
             "#276419"
            ]
           ],
           "sequential": [
            [
             0,
             "#0d0887"
            ],
            [
             0.1111111111111111,
             "#46039f"
            ],
            [
             0.2222222222222222,
             "#7201a8"
            ],
            [
             0.3333333333333333,
             "#9c179e"
            ],
            [
             0.4444444444444444,
             "#bd3786"
            ],
            [
             0.5555555555555556,
             "#d8576b"
            ],
            [
             0.6666666666666666,
             "#ed7953"
            ],
            [
             0.7777777777777778,
             "#fb9f3a"
            ],
            [
             0.8888888888888888,
             "#fdca26"
            ],
            [
             1,
             "#f0f921"
            ]
           ],
           "sequentialminus": [
            [
             0,
             "#0d0887"
            ],
            [
             0.1111111111111111,
             "#46039f"
            ],
            [
             0.2222222222222222,
             "#7201a8"
            ],
            [
             0.3333333333333333,
             "#9c179e"
            ],
            [
             0.4444444444444444,
             "#bd3786"
            ],
            [
             0.5555555555555556,
             "#d8576b"
            ],
            [
             0.6666666666666666,
             "#ed7953"
            ],
            [
             0.7777777777777778,
             "#fb9f3a"
            ],
            [
             0.8888888888888888,
             "#fdca26"
            ],
            [
             1,
             "#f0f921"
            ]
           ]
          },
          "colorway": [
           "#636efa",
           "#EF553B",
           "#00cc96",
           "#ab63fa",
           "#FFA15A",
           "#19d3f3",
           "#FF6692",
           "#B6E880",
           "#FF97FF",
           "#FECB52"
          ],
          "font": {
           "color": "#2a3f5f"
          },
          "geo": {
           "bgcolor": "white",
           "lakecolor": "white",
           "landcolor": "#E5ECF6",
           "showlakes": true,
           "showland": true,
           "subunitcolor": "white"
          },
          "hoverlabel": {
           "align": "left"
          },
          "hovermode": "closest",
          "mapbox": {
           "style": "light"
          },
          "paper_bgcolor": "white",
          "plot_bgcolor": "#E5ECF6",
          "polar": {
           "angularaxis": {
            "gridcolor": "white",
            "linecolor": "white",
            "ticks": ""
           },
           "bgcolor": "#E5ECF6",
           "radialaxis": {
            "gridcolor": "white",
            "linecolor": "white",
            "ticks": ""
           }
          },
          "scene": {
           "xaxis": {
            "backgroundcolor": "#E5ECF6",
            "gridcolor": "white",
            "gridwidth": 2,
            "linecolor": "white",
            "showbackground": true,
            "ticks": "",
            "zerolinecolor": "white"
           },
           "yaxis": {
            "backgroundcolor": "#E5ECF6",
            "gridcolor": "white",
            "gridwidth": 2,
            "linecolor": "white",
            "showbackground": true,
            "ticks": "",
            "zerolinecolor": "white"
           },
           "zaxis": {
            "backgroundcolor": "#E5ECF6",
            "gridcolor": "white",
            "gridwidth": 2,
            "linecolor": "white",
            "showbackground": true,
            "ticks": "",
            "zerolinecolor": "white"
           }
          },
          "shapedefaults": {
           "line": {
            "color": "#2a3f5f"
           }
          },
          "ternary": {
           "aaxis": {
            "gridcolor": "white",
            "linecolor": "white",
            "ticks": ""
           },
           "baxis": {
            "gridcolor": "white",
            "linecolor": "white",
            "ticks": ""
           },
           "bgcolor": "#E5ECF6",
           "caxis": {
            "gridcolor": "white",
            "linecolor": "white",
            "ticks": ""
           }
          },
          "title": {
           "x": 0.05
          },
          "xaxis": {
           "automargin": true,
           "gridcolor": "white",
           "linecolor": "white",
           "ticks": "",
           "title": {
            "standoff": 15
           },
           "zerolinecolor": "white",
           "zerolinewidth": 2
          },
          "yaxis": {
           "automargin": true,
           "gridcolor": "white",
           "linecolor": "white",
           "ticks": "",
           "title": {
            "standoff": 15
           },
           "zerolinecolor": "white",
           "zerolinewidth": 2
          }
         }
        },
        "title": {
         "text": "Распределение оттока клиентов в зависимости от возраста"
        },
        "width": 700,
        "xaxis": {
         "anchor": "y",
         "domain": [
          0,
          1
         ],
         "title": {
          "text": "Статус клиента"
         }
        },
        "yaxis": {
         "anchor": "x",
         "domain": [
          0,
          1
         ],
         "title": {
          "text": "Возраст клиента"
         }
        }
       }
      }
     },
     "metadata": {},
     "output_type": "display_data"
    }
   ],
   "source": [
    "# Собираем необходимые данные\n",
    "df_churn = churn_data[['Age', 'Exited', 'CustomerId']].copy()\n",
    "\n",
    "# Группируем данные, добавляем подписи\n",
    "df = df_churn.groupby('Age', as_index=False)['Exited'].mean() #.round(2)\n",
    "\n",
    "# Строим график\n",
    "fig = px.box(\n",
    "    data_frame=churn_data,\n",
    "    x='Exited', # По оси х - количество ушедших и лояльных клиентов\n",
    "    y='Age', # По оси y - возраст клиента\n",
    "    width=700, # Щирина\n",
    "    height=500, # Высота\n",
    "    points='outliers', # Отображение выбросов\n",
    "    title='Распределение оттока клиентов в зависимости от возраста'\n",
    ")\n",
    "\n",
    "# Подписываем оси\n",
    "fig.update_layout(\n",
    "    xaxis_title='Статус клиента',\n",
    "    yaxis_title='Возраст клиента'\n",
    "    )\n",
    "\n",
    "fig.show()"
   ]
  },
  {
   "cell_type": "markdown",
   "id": "e8a351d2",
   "metadata": {},
   "source": [
    "Из графика видно, что наибольшее количество ушедших клиентов приходится на возраст 39-51 годов. Следовательно, банку необходимо обратить внимание на эту возрастную группу.\n",
    "\n",
    "Потенциальные выбросы есть как среди лояльных, так и среди ушедших клиентов, однако, наиболее бросающийся в глаза выброс - 84 года среди ушедших клиентов"
   ]
  },
  {
   "cell_type": "code",
   "execution_count": null,
   "id": "fd4f618a",
   "metadata": {},
   "outputs": [
    {
     "data": {
      "application/vnd.plotly.v1+json": {
       "config": {
        "plotlyServerURL": "https://plot.ly"
       },
       "data": [
        {
         "hovertemplate": "Age=%{x}<br>Churn=%{marker.color}<extra></extra>",
         "legendgroup": "",
         "marker": {
          "color": {
           "bdata": "CQAAAAMAAAAFAAAABQAAAA4AAAAGAAAACgAAAAMAAAAHAAAABgAAAAgAAAAIAAAABwAAAAgAAAAHAAAACQAAAAcAAAAMAAAACwAAAAwAAAANAAAAEQAAABQAAAASAAAAFwAAAB0AAAAcAAAAJQAAACgAAAAsAAAALwAAADMAAAA0AAAANwAAAD4AAAA2AAAAPAAAADoAAABHAAAAMgAAACsAAAAwAAAAMwAAACcAAAAoAAAALQAAACAAAAAsAAAAFAAAAA0AAAAfAAAACQAAABYAAAAZAAAABAAAAAcAAAAFAAAAAAAAAAAAAAAAAAAAAAAAAAAAAAAAAAAAAAAAAAAAAAAAAAAAMgAAAAAAAAAAAAAAAAAAAA==",
           "dtype": "i4"
          },
          "coloraxis": "coloraxis",
          "pattern": {
           "shape": ""
          }
         },
         "name": "",
         "orientation": "v",
         "showlegend": false,
         "text": {
          "bdata": "AAAAAAAAIkAAAAAAAAAIQAAAAAAAABRAAAAAAAAAFEAAAAAAAAAsQAAAAAAAABhAAAAAAAAAJEAAAAAAAAAIQAAAAAAAABxAAAAAAAAAGEAAAAAAAAAgQAAAAAAAACBAAAAAAAAAHEAAAAAAAAAgQAAAAAAAABxAAAAAAAAAIkAAAAAAAAAcQAAAAAAAAChAAAAAAAAAJkAAAAAAAAAoQAAAAAAAACpAAAAAAAAAMUAAAAAAAAA0QAAAAAAAADJAAAAAAAAAN0AAAAAAAAA9QAAAAAAAADxAAAAAAACAQkAAAAAAAABEQAAAAAAAAEZAAAAAAACAR0AAAAAAAIBJQAAAAAAAAEpAAAAAAACAS0AAAAAAAABPQAAAAAAAAEtAAAAAAAAATkAAAAAAAABNQAAAAAAAwFFAAAAAAAAASUAAAAAAAIBFQAAAAAAAAEhAAAAAAACASUAAAAAAAIBDQAAAAAAAAERAAAAAAACARkAAAAAAAABAQAAAAAAAAEZAAAAAAAAANEAAAAAAAAAqQAAAAAAAAD9AAAAAAAAAIkAAAAAAAAA2QAAAAAAAADlAAAAAAAAAEEAAAAAAAAAcQAAAAAAAABRAAAAAAAAAAAAAAAAAAAAAAAAAAAAAAAAAAAAAAAAAAAAAAAAAAAAAAAAAAAAAAAAAAAAAAAAAAAAAAAAAAAAAAAAAAAAAAAAAAAAAAAAASUAAAAAAAAAAAAAAAAAAAAAAAAAAAAAAAAA=",
          "dtype": "f8"
         },
         "textposition": "auto",
         "type": "bar",
         "x": {
          "bdata": "EhMUFRYXGBkaGxwdHh8gISIjJCUmJygpKissLS4vMDEyMzQ1Njc4OTo7PD0+P0BBQkNERUZHSElKS0xNTk9QUVJTVFVYXA==",
          "dtype": "i1"
         },
         "xaxis": "x",
         "y": {
          "bdata": "CQAAAAMAAAAFAAAABQAAAA4AAAAGAAAACgAAAAMAAAAHAAAABgAAAAgAAAAIAAAABwAAAAgAAAAHAAAACQAAAAcAAAAMAAAACwAAAAwAAAANAAAAEQAAABQAAAASAAAAFwAAAB0AAAAcAAAAJQAAACgAAAAsAAAALwAAADMAAAA0AAAANwAAAD4AAAA2AAAAPAAAADoAAABHAAAAMgAAACsAAAAwAAAAMwAAACcAAAAoAAAALQAAACAAAAAsAAAAFAAAAA0AAAAfAAAACQAAABYAAAAZAAAABAAAAAcAAAAFAAAAAAAAAAAAAAAAAAAAAAAAAAAAAAAAAAAAAAAAAAAAAAAAAAAAMgAAAAAAAAAAAAAAAAAAAA==",
          "dtype": "i4"
         },
         "yaxis": "y"
        }
       ],
       "layout": {
        "bargap": 0.1,
        "barmode": "relative",
        "coloraxis": {
         "colorbar": {
          "title": {
           "text": "Churn"
          }
         },
         "colorscale": [
          [
           0,
           "#0d0887"
          ],
          [
           0.1111111111111111,
           "#46039f"
          ],
          [
           0.2222222222222222,
           "#7201a8"
          ],
          [
           0.3333333333333333,
           "#9c179e"
          ],
          [
           0.4444444444444444,
           "#bd3786"
          ],
          [
           0.5555555555555556,
           "#d8576b"
          ],
          [
           0.6666666666666666,
           "#ed7953"
          ],
          [
           0.7777777777777778,
           "#fb9f3a"
          ],
          [
           0.8888888888888888,
           "#fdca26"
          ],
          [
           1,
           "#f0f921"
          ]
         ]
        },
        "height": 500,
        "legend": {
         "tracegroupgap": 0
        },
        "template": {
         "data": {
          "bar": [
           {
            "error_x": {
             "color": "#2a3f5f"
            },
            "error_y": {
             "color": "#2a3f5f"
            },
            "marker": {
             "line": {
              "color": "#E5ECF6",
              "width": 0.5
             },
             "pattern": {
              "fillmode": "overlay",
              "size": 10,
              "solidity": 0.2
             }
            },
            "type": "bar"
           }
          ],
          "barpolar": [
           {
            "marker": {
             "line": {
              "color": "#E5ECF6",
              "width": 0.5
             },
             "pattern": {
              "fillmode": "overlay",
              "size": 10,
              "solidity": 0.2
             }
            },
            "type": "barpolar"
           }
          ],
          "carpet": [
           {
            "aaxis": {
             "endlinecolor": "#2a3f5f",
             "gridcolor": "white",
             "linecolor": "white",
             "minorgridcolor": "white",
             "startlinecolor": "#2a3f5f"
            },
            "baxis": {
             "endlinecolor": "#2a3f5f",
             "gridcolor": "white",
             "linecolor": "white",
             "minorgridcolor": "white",
             "startlinecolor": "#2a3f5f"
            },
            "type": "carpet"
           }
          ],
          "choropleth": [
           {
            "colorbar": {
             "outlinewidth": 0,
             "ticks": ""
            },
            "type": "choropleth"
           }
          ],
          "contour": [
           {
            "colorbar": {
             "outlinewidth": 0,
             "ticks": ""
            },
            "colorscale": [
             [
              0,
              "#0d0887"
             ],
             [
              0.1111111111111111,
              "#46039f"
             ],
             [
              0.2222222222222222,
              "#7201a8"
             ],
             [
              0.3333333333333333,
              "#9c179e"
             ],
             [
              0.4444444444444444,
              "#bd3786"
             ],
             [
              0.5555555555555556,
              "#d8576b"
             ],
             [
              0.6666666666666666,
              "#ed7953"
             ],
             [
              0.7777777777777778,
              "#fb9f3a"
             ],
             [
              0.8888888888888888,
              "#fdca26"
             ],
             [
              1,
              "#f0f921"
             ]
            ],
            "type": "contour"
           }
          ],
          "contourcarpet": [
           {
            "colorbar": {
             "outlinewidth": 0,
             "ticks": ""
            },
            "type": "contourcarpet"
           }
          ],
          "heatmap": [
           {
            "colorbar": {
             "outlinewidth": 0,
             "ticks": ""
            },
            "colorscale": [
             [
              0,
              "#0d0887"
             ],
             [
              0.1111111111111111,
              "#46039f"
             ],
             [
              0.2222222222222222,
              "#7201a8"
             ],
             [
              0.3333333333333333,
              "#9c179e"
             ],
             [
              0.4444444444444444,
              "#bd3786"
             ],
             [
              0.5555555555555556,
              "#d8576b"
             ],
             [
              0.6666666666666666,
              "#ed7953"
             ],
             [
              0.7777777777777778,
              "#fb9f3a"
             ],
             [
              0.8888888888888888,
              "#fdca26"
             ],
             [
              1,
              "#f0f921"
             ]
            ],
            "type": "heatmap"
           }
          ],
          "histogram": [
           {
            "marker": {
             "pattern": {
              "fillmode": "overlay",
              "size": 10,
              "solidity": 0.2
             }
            },
            "type": "histogram"
           }
          ],
          "histogram2d": [
           {
            "colorbar": {
             "outlinewidth": 0,
             "ticks": ""
            },
            "colorscale": [
             [
              0,
              "#0d0887"
             ],
             [
              0.1111111111111111,
              "#46039f"
             ],
             [
              0.2222222222222222,
              "#7201a8"
             ],
             [
              0.3333333333333333,
              "#9c179e"
             ],
             [
              0.4444444444444444,
              "#bd3786"
             ],
             [
              0.5555555555555556,
              "#d8576b"
             ],
             [
              0.6666666666666666,
              "#ed7953"
             ],
             [
              0.7777777777777778,
              "#fb9f3a"
             ],
             [
              0.8888888888888888,
              "#fdca26"
             ],
             [
              1,
              "#f0f921"
             ]
            ],
            "type": "histogram2d"
           }
          ],
          "histogram2dcontour": [
           {
            "colorbar": {
             "outlinewidth": 0,
             "ticks": ""
            },
            "colorscale": [
             [
              0,
              "#0d0887"
             ],
             [
              0.1111111111111111,
              "#46039f"
             ],
             [
              0.2222222222222222,
              "#7201a8"
             ],
             [
              0.3333333333333333,
              "#9c179e"
             ],
             [
              0.4444444444444444,
              "#bd3786"
             ],
             [
              0.5555555555555556,
              "#d8576b"
             ],
             [
              0.6666666666666666,
              "#ed7953"
             ],
             [
              0.7777777777777778,
              "#fb9f3a"
             ],
             [
              0.8888888888888888,
              "#fdca26"
             ],
             [
              1,
              "#f0f921"
             ]
            ],
            "type": "histogram2dcontour"
           }
          ],
          "mesh3d": [
           {
            "colorbar": {
             "outlinewidth": 0,
             "ticks": ""
            },
            "type": "mesh3d"
           }
          ],
          "parcoords": [
           {
            "line": {
             "colorbar": {
              "outlinewidth": 0,
              "ticks": ""
             }
            },
            "type": "parcoords"
           }
          ],
          "pie": [
           {
            "automargin": true,
            "type": "pie"
           }
          ],
          "scatter": [
           {
            "fillpattern": {
             "fillmode": "overlay",
             "size": 10,
             "solidity": 0.2
            },
            "type": "scatter"
           }
          ],
          "scatter3d": [
           {
            "line": {
             "colorbar": {
              "outlinewidth": 0,
              "ticks": ""
             }
            },
            "marker": {
             "colorbar": {
              "outlinewidth": 0,
              "ticks": ""
             }
            },
            "type": "scatter3d"
           }
          ],
          "scattercarpet": [
           {
            "marker": {
             "colorbar": {
              "outlinewidth": 0,
              "ticks": ""
             }
            },
            "type": "scattercarpet"
           }
          ],
          "scattergeo": [
           {
            "marker": {
             "colorbar": {
              "outlinewidth": 0,
              "ticks": ""
             }
            },
            "type": "scattergeo"
           }
          ],
          "scattergl": [
           {
            "marker": {
             "colorbar": {
              "outlinewidth": 0,
              "ticks": ""
             }
            },
            "type": "scattergl"
           }
          ],
          "scattermap": [
           {
            "marker": {
             "colorbar": {
              "outlinewidth": 0,
              "ticks": ""
             }
            },
            "type": "scattermap"
           }
          ],
          "scattermapbox": [
           {
            "marker": {
             "colorbar": {
              "outlinewidth": 0,
              "ticks": ""
             }
            },
            "type": "scattermapbox"
           }
          ],
          "scatterpolar": [
           {
            "marker": {
             "colorbar": {
              "outlinewidth": 0,
              "ticks": ""
             }
            },
            "type": "scatterpolar"
           }
          ],
          "scatterpolargl": [
           {
            "marker": {
             "colorbar": {
              "outlinewidth": 0,
              "ticks": ""
             }
            },
            "type": "scatterpolargl"
           }
          ],
          "scatterternary": [
           {
            "marker": {
             "colorbar": {
              "outlinewidth": 0,
              "ticks": ""
             }
            },
            "type": "scatterternary"
           }
          ],
          "surface": [
           {
            "colorbar": {
             "outlinewidth": 0,
             "ticks": ""
            },
            "colorscale": [
             [
              0,
              "#0d0887"
             ],
             [
              0.1111111111111111,
              "#46039f"
             ],
             [
              0.2222222222222222,
              "#7201a8"
             ],
             [
              0.3333333333333333,
              "#9c179e"
             ],
             [
              0.4444444444444444,
              "#bd3786"
             ],
             [
              0.5555555555555556,
              "#d8576b"
             ],
             [
              0.6666666666666666,
              "#ed7953"
             ],
             [
              0.7777777777777778,
              "#fb9f3a"
             ],
             [
              0.8888888888888888,
              "#fdca26"
             ],
             [
              1,
              "#f0f921"
             ]
            ],
            "type": "surface"
           }
          ],
          "table": [
           {
            "cells": {
             "fill": {
              "color": "#EBF0F8"
             },
             "line": {
              "color": "white"
             }
            },
            "header": {
             "fill": {
              "color": "#C8D4E3"
             },
             "line": {
              "color": "white"
             }
            },
            "type": "table"
           }
          ]
         },
         "layout": {
          "annotationdefaults": {
           "arrowcolor": "#2a3f5f",
           "arrowhead": 0,
           "arrowwidth": 1
          },
          "autotypenumbers": "strict",
          "coloraxis": {
           "colorbar": {
            "outlinewidth": 0,
            "ticks": ""
           }
          },
          "colorscale": {
           "diverging": [
            [
             0,
             "#8e0152"
            ],
            [
             0.1,
             "#c51b7d"
            ],
            [
             0.2,
             "#de77ae"
            ],
            [
             0.3,
             "#f1b6da"
            ],
            [
             0.4,
             "#fde0ef"
            ],
            [
             0.5,
             "#f7f7f7"
            ],
            [
             0.6,
             "#e6f5d0"
            ],
            [
             0.7,
             "#b8e186"
            ],
            [
             0.8,
             "#7fbc41"
            ],
            [
             0.9,
             "#4d9221"
            ],
            [
             1,
             "#276419"
            ]
           ],
           "sequential": [
            [
             0,
             "#0d0887"
            ],
            [
             0.1111111111111111,
             "#46039f"
            ],
            [
             0.2222222222222222,
             "#7201a8"
            ],
            [
             0.3333333333333333,
             "#9c179e"
            ],
            [
             0.4444444444444444,
             "#bd3786"
            ],
            [
             0.5555555555555556,
             "#d8576b"
            ],
            [
             0.6666666666666666,
             "#ed7953"
            ],
            [
             0.7777777777777778,
             "#fb9f3a"
            ],
            [
             0.8888888888888888,
             "#fdca26"
            ],
            [
             1,
             "#f0f921"
            ]
           ],
           "sequentialminus": [
            [
             0,
             "#0d0887"
            ],
            [
             0.1111111111111111,
             "#46039f"
            ],
            [
             0.2222222222222222,
             "#7201a8"
            ],
            [
             0.3333333333333333,
             "#9c179e"
            ],
            [
             0.4444444444444444,
             "#bd3786"
            ],
            [
             0.5555555555555556,
             "#d8576b"
            ],
            [
             0.6666666666666666,
             "#ed7953"
            ],
            [
             0.7777777777777778,
             "#fb9f3a"
            ],
            [
             0.8888888888888888,
             "#fdca26"
            ],
            [
             1,
             "#f0f921"
            ]
           ]
          },
          "colorway": [
           "#636efa",
           "#EF553B",
           "#00cc96",
           "#ab63fa",
           "#FFA15A",
           "#19d3f3",
           "#FF6692",
           "#B6E880",
           "#FF97FF",
           "#FECB52"
          ],
          "font": {
           "color": "#2a3f5f"
          },
          "geo": {
           "bgcolor": "white",
           "lakecolor": "white",
           "landcolor": "#E5ECF6",
           "showlakes": true,
           "showland": true,
           "subunitcolor": "white"
          },
          "hoverlabel": {
           "align": "left"
          },
          "hovermode": "closest",
          "mapbox": {
           "style": "light"
          },
          "paper_bgcolor": "white",
          "plot_bgcolor": "#E5ECF6",
          "polar": {
           "angularaxis": {
            "gridcolor": "white",
            "linecolor": "white",
            "ticks": ""
           },
           "bgcolor": "#E5ECF6",
           "radialaxis": {
            "gridcolor": "white",
            "linecolor": "white",
            "ticks": ""
           }
          },
          "scene": {
           "xaxis": {
            "backgroundcolor": "#E5ECF6",
            "gridcolor": "white",
            "gridwidth": 2,
            "linecolor": "white",
            "showbackground": true,
            "ticks": "",
            "zerolinecolor": "white"
           },
           "yaxis": {
            "backgroundcolor": "#E5ECF6",
            "gridcolor": "white",
            "gridwidth": 2,
            "linecolor": "white",
            "showbackground": true,
            "ticks": "",
            "zerolinecolor": "white"
           },
           "zaxis": {
            "backgroundcolor": "#E5ECF6",
            "gridcolor": "white",
            "gridwidth": 2,
            "linecolor": "white",
            "showbackground": true,
            "ticks": "",
            "zerolinecolor": "white"
           }
          },
          "shapedefaults": {
           "line": {
            "color": "#2a3f5f"
           }
          },
          "ternary": {
           "aaxis": {
            "gridcolor": "white",
            "linecolor": "white",
            "ticks": ""
           },
           "baxis": {
            "gridcolor": "white",
            "linecolor": "white",
            "ticks": ""
           },
           "bgcolor": "#E5ECF6",
           "caxis": {
            "gridcolor": "white",
            "linecolor": "white",
            "ticks": ""
           }
          },
          "title": {
           "x": 0.05
          },
          "xaxis": {
           "automargin": true,
           "gridcolor": "white",
           "linecolor": "white",
           "ticks": "",
           "title": {
            "standoff": 15
           },
           "zerolinecolor": "white",
           "zerolinewidth": 2
          },
          "yaxis": {
           "automargin": true,
           "gridcolor": "white",
           "linecolor": "white",
           "ticks": "",
           "title": {
            "standoff": 15
           },
           "zerolinecolor": "white",
           "zerolinewidth": 2
          }
         }
        },
        "title": {
         "text": "Распределение оттока клиентов в зависимости от возраста"
        },
        "width": 700,
        "xaxis": {
         "anchor": "y",
         "domain": [
          0,
          1
         ],
         "title": {
          "text": "Возраст клиента"
         }
        },
        "yaxis": {
         "anchor": "x",
         "domain": [
          0,
          1
         ],
         "title": {
          "text": "Величина оттока"
         }
        }
       }
      }
     },
     "metadata": {},
     "output_type": "display_data"
    }
   ],
   "source": [
    "# Добавляем столбец\n",
    "df['Churn'] = (df['Exited'] * 100).astype(int) # Процентное соотношение оттока\n",
    "\n",
    "# Построим столбчатую диаграмму\n",
    "fig = px.bar(\n",
    "    data_frame=df,\n",
    "    x='Age', # Ось х - возраст\n",
    "    y='Churn', # Ось у - количество лояльных и ушедших клиентов\n",
    "    width=700, # Ширина\n",
    "    height=500, # Высота\n",
    "    title='Распределение оттока клиентов в зависимости от возраста',\n",
    "    text='Churn', \n",
    "    color='Churn', # Окрашивание графика по величине оттока\n",
    ")\n",
    "\n",
    "fig.update_layout(\n",
    "    bargap = 0.1, # Ширина вертикальной разделительной полосы\n",
    "    xaxis_title = 'Возраст клиента',\n",
    "    yaxis_title = 'Величина оттока'\n",
    ")\n",
    "\n",
    "fig.show()"
   ]
  },
  {
   "cell_type": "markdown",
   "id": "39445112",
   "metadata": {},
   "source": [
    "**Задание 9.5.** Постройте график, который показывает взаимосвязь кредитного рейтинга клиента и его предполагаемой зарплаты. Добавьте расцветку по признаку оттока клиентов. Какова взаимосвязь между признаками? Если не видите явной взаимосвязи, укажите это."
   ]
  },
  {
   "cell_type": "code",
   "execution_count": 12,
   "id": "611d01b9",
   "metadata": {},
   "outputs": [
    {
     "data": {
      "application/vnd.plotly.v1+json": {
       "config": {
        "plotlyServerURL": "https://plot.ly"
       },
       "data": [
        {
         "hovertemplate": "EstimatedSalary=%{x}<br>CreditScore=%{y}<br>Exited=%{marker.color}<extra></extra>",
         "legendgroup": "",
         "marker": {
          "color": {
           "bdata": "AQABAAABAAEAAAAAAAAAAAEAAAAAAAEAAAAAAAAAAQAAAAABAAAAAAABAAEAAAEBAAAAAAABAQAAAAEAAAAAAAAAAAAAAAEAAAAAAAAAAAAAAQAAAAABAAEAAQAAAAAAAAAAAAAAAAABAQAAAAEAAAAAAQAAAAEAAAAAAAABAQEAAAAAAAAAAAAAAQEAAAABAQAAAAAAAAEAAAABAAAAAAAAAAABAAEAAQAAAAEAAAAAAAABAAAAAAEAAAAAAAEAAAAAAAAAAAAAAAEBAAABAAEAAAAAAAABAAABAQAAAAEBAAABAQAAAAAAAAEAAQEAAAAAAQABAAAAAQAAAAAAAAAAAAAAAAAAAAAAAAEAAAEAAAAAAQAAAQAAAQAAAAAAAAAAAAABAAAAAQAAAAAAAAAAAQABAAAAAAAAAAEAAAAAAAEAAAAAAQAAAAAAAQABAAABAQEAAAAAAAAAAAAAAAAAAAAAAQAAAAEAAAAAAAAAAAAAAAAAAAEAAAEAAAAAAAAAAAAAAAABAQAAAAAAAQAAAAAAAAEAAAAAAAABAAABAAAAAQABAAAAAAAAAQEAAAEAAAAAAAAAAAAAAQAAAAEAAAAAAAAAAAABAAAAAAEAAAABAAAAAQAAAAEAAAAAAAAAAAEAAAEAAAAAAAEBAAAAAAEAAAEAAAAAAAAAAAAAAAEAAQABAAEAAAAAAAAAAQAAAAAAAAEAAAEBAAAAAQEAAAAAAAABAAAAAQABAAAAAAABAAABAAAAAAEAAQAAAAAAAAABAAABAQEAAAEBAAAAAAAAAAEAAQAAAQAAAAAAAAAAAAAAAQABAAAAAAAAAAAAAAAAAQEAAAEAAAAAAAEAAAEBAQAAAAAAAAABAAAAAAAAAAAAAAAAAAAAAAAAAAAAAAABAAAAAAAAAAEAAQEAAAAAAAAAAQEAAAAAAAAAAQAAAAAAAAAAAQAAAAAAAQEAAAAAAAAAAQAAAAEBAAAAAAAAAAABAAAAAAAAAAAAAAAAAAAAAAABAQABAAABAAEBAAAAAQABAQAAAAAAAAEAAAAAAAAAAAAAAAAAAAAAAAAAAAEAAAAAAAAAAQAAAAEAAAAAAAEAAAAAAAAAAAAAAAAAAAEAAQAAAQAAAAAAAAABAAAAAAEAAAEBAQAAAAAAAQEAAAEAAAAAAAAAAAEBAAEAAAAAAAAAAAABAQAAAAEAAQAAAAEBAAEAAAAAAAAAAAEAAAAAAQEAAAAAAAAAAAAAAQAAAQAAAAAAAQAAAAEBAAEAAAAAAQAAAAAAAAAAAQEAAAAAAAAAAAAAAAEAAAAAAAABAAAAAQABAAAAAAAAAAAAAAAAAAEAAQAAAQABAAAAAAEAAAEAAQAAAAAAAAAAAAAAAAAAAAAAAAAAAAEAAAABAQABAAAAAAAAAAEAAAAAAQAAAQEAAQEBAAAAAAAAAAAAAAABAAABAQAAAAAAAQAAAQEAAAAAAAAAAAAAAQAAAQEAAQEAAAEAAAAAAQEBAAAAAAEAAAAAAAAAAAAAAQAAAAEAAAAAAAAAAAEAAAAAAQABAQAAAAAAAAAAAAEAAAEAAAABAAAAAQAAAAABAAEAAAEBAAAAAAAAAAEAAAAAAAAAAAEAAQABAQAAAQEAAAAAAAAAAAAAAAABAAAAAAAAAAAAAAAAAQAAAAAAAQAAAQAAAAAAAQAAAAABAAAAAAAAAAEAAAEAAAAAAQAAAAAAAAABAAAAAAAAAAAAAAAAAAEAAQEAAAAAAAEAAQAAAQEAAAAAAQAAAAABAQAAAAAAAQAAAAABAQAAAQAAAAAAAAEBAAEAAAAAAAAAAAAAAQABAAEAAAABAAABAAAAAAEAAAEAAAABAQABAAAAAAEBAQAAAAAAAQEAAAAAAQAAAAAAAAAAAAAAAAABAAABAAAAAAAAAAAAAAEAAQAAAQAAAAEBAAEAAQABAAAAAAEAAAEAAAAAAAEBAAAAAAAAAAABAAAAAAAAAQABAQAAAQEAAAAAAAAAAQAAAQABAAAAAAAAAAAAAAAAAAEBAAAAAAAAAAAAAAAAAAEAAAAAAAAAAAAAAAAAAAEAAAAAAAEAAQAAAAABAAAAAAEAAQEAAQAAAAAAAAAAAAABAAAAAAAAAAAAAAAAAAABAAAAAQAAAAAAAAAAAQEAAAAAAAAAAAEAAAAAAQAAAQEBAAAAAAAAAAAAAAAAAAABAAAAAAEAAQAAAAEAAAAAAAEAAAEAAAABAAAAAQABAAAAAAAAAAABAAAAAQAAAAAAAAAAAAAAAQAAAAAAAAAAAAAAAAAAAAEAAAAAAAAAAAAAAAAAAAAAAAAAAAAAAAABAAAAAQABAQAAAAAAAQABAAABAQAAAAAAAAAAAQAAAAAAAAAAAAAAAQAAAAEBAAAAAAAAAAAAAQEAAAAAAAAAAAEAAAAAAAAAAAAAAAAAAAABAAEAAQABAAAAAQAAAAEBAAAAAAAAAQABAAAAAAAAAQEBAAAAAAABAAAAAAAAAAAAAAAAAAEBAAAAAAAAAAAAAAAAAAAAAAAAAAABAAAAAAAAAAAAAAAAAAEAAAABAQABAAEBAQAAAAABAAABAAAAAAAAAAABAAAAAAEAAAAAAQEAAAABAQEAAAAAAQABAQAAAAAAAAAAAAAAAQAAAAAAAAABAAEBAAAAAAEBAAEAAAAAAAAAAAEAAQABAAAAAAAAAAAAAAAAAAABAAABAAAAAAEAAAAAAQEAAAAAAAAAAAAAAQEAAAEAAAEAAAAAAAABAAAAAAEAAQAAAAEAAQABAAEAAAABAAABAAAAAAEAAAAAAAEAAAAAAAAAAQAAAAEAAAAAAQAAAQABAAAAAQAAAAAAAAABAAABAAAAAQABAAAAAAAAAAEAAQEBAQAAAAAAAAAAAAAAAAABAAAAAAAAAAAAAAAAAQAAAAABAAAAAQEAAAABAQAAAAAAAAAAAAAAAQAAAAABAAAAAAAAAAEAAAAAAAAAAAAAAAABAQEBAAEAAQABAAEAAAAAAAAAAAAAAAAAAAAAAQAAAAEAAQABAAEAAQABAAAAAAAAAAABAAAAAQAAAAEAAQEAAAAAAAAAAAAAAAABAAABAAAAAQAAAAAAAAAAAAAAAAAAAAAAAAEBAAAAAQAAAAEAAQEAAQEBAQAAAQAAAAAAAAEAAAAAAQABAAABAAAAAAAAAAABAAAAAAAAAQAAAAABAAEAAAAAAAAAAAEAAAEAAAAAAAABAAAAAQAAAAAAAAAAAQAAAQEBAAEAAAABAQAAAAAAAAAAAAEAAAAAAQEAAAABAQABAAAAAAAAAQAAAAEBAAABAAAAAAAAAAAAAAAAAAABAAABAAAAAQAAAAAAAAAAAAEAAAAAAAEAAAEAAQAAAAEAAAAAAAEAAAAAAQEAAAEBAQEAAAABAAEBAAAAAQAAAAAAAAEAAAABAAAAAQAAAAAAAQEAAAABAQAAAAAAAAAAAAAAAAABAAAAAAABAAAAAAAAAAAAAAAAAAEAAAEAAQAAAAAAAAAAAQEAAAAAAQAAAAABAAAAAAAAAAEAAAAAAAABAAAAAQEAAQEAAAEAAAEAAQAAAAAAAQAAAAAAAAAAAAAAAAEAAAAAAAEAAAEAAAAAAQAAAAAAAAAAAAAAAAAAAAEBAQAAAAAAAAAAAAABAAAAAAABAAAAAAEAAAAAAQABAAEAAAAAAQAAAAAAAAAAAAAAAQAAAAAAAQABAAAAAQAAAAEBAQABAAAAAAEAAAAAAAAAAQAAAQEAAAAAAAABAAAAAAAAAAAAAAAAAAAAAAAAAAAAAAAAAAAAAAEAAAEAAQAAAAEAAQAAAQAAAAAAAAAAAAAAAQAAAAEAAAAAAAABAQAAAAAAAAAAAAAAAAAAAAAAAQABAAAAAAAAAAAAAAABAAABAQEBAAAAAAAAAAAAAQAAAAEAAQAAAAABAAAAAAABAAAAAAABAAAAAAABAAAAAAEAAAABAQAAAQAAAQAAAAEAAAAAAAAAAAABAQEAAAAAAAAAAAAAAAAAAAAAAQEAAAEAAAAAAAAAAAAAAAAAAAAAAAAAAAABAAABAAAAAAAAAAAAAAEAAAABAAAAAAAAAAAAAAAAAAAAAAAAAQAAAAABAAAAAAAAAAEBAAEAAAAAAQAAAAAAAQAAAAAAAAAAAQABAAEBAAEAAQAAAAABAAAAAAEAAAEAAAEAAAAAAAABAQAAAQAAAAEBAAEAAAABAAAAAQAAAAAAAAEAAAEBAQABAQAAAAEAAAAAAQAAAAEBAAAAAAAAAAEAAAAAAAEAAAAAAQEBAAAAAAABAAAAAAAAAAAAAAABAAAAAAEAAAAAAQAAAAEAAQAAAAABAQAAAAEBAAABAAAAAAABAAEBAAAAAAEAAAABAQEAAAAAAAEAAAAAAQAAAAAAAAAAAQAAAAAAAQAAAQAAAAAAAAAAAAABAAEBAAAAAAAAAAABAAEAAAAAAAAAAAEAAQAAAAAAAAAAAAEAAAAAAAAAAAEAAAAAAAABAAEAAAEBAQAAAQEBAAAAAAAAAAEAAAABAAAAAAAAAAAAAQAAAAAAAAAAAAEAAAAAAAEAAAAAAAAAAAAAAAAAAQAAAAAAAAAAAAABAAABAAAAAQAAAAABAAAAAQEAAAAAAAEAAAAAAAAAAAABAAABAAAAAQAAAAABAAAAAAEAAAAAAAABAAAAAAEAAAAAAAAAAAAAAAAAAAAAAQEAAAAAAAAAAAABAQEBAAAAAAEAAAAAAQAAAAEAAQAAAAEAAQEAAAEBAAEAAQAAAAABAQAAAAAAAAABAAAAAAEAAAAAAAAAAAEAAAAAAAAAAQEAAQAAAAAAAAEAAAAAAQEBAQAAAAAAAAABAAAAAAAAAAAAAAEAAQAAAAAAAQEAAQAAAAAAAAABAAEBAAAAAQAAAAABAAAAAAAAAAAAAAAAAQABAAAAAAAAAAAAAQEAAAAAAAAAAAEAAAAAAAEAAQAAAAEAAAABAAAAAAEAAQEAAAABAQAAAAAAAAAAAQABAQABAAAAAAAAAAAAAAABAAAAAAEAAAAAAAAAAAAAAQAAAAAAAQABAQAAAQEAAAEAAAEAAAABAAAAAAABAAAAAAAAAAAAAAAAAAEAAQAAAAAAAAABAAAAAAAAAAABAAEBAQEAAQAAAAAAAAAAAAAAAAAAAAAAAQAAAAAAAAAAAAAAAAAAAAEAAQAAAAAAAQAAAAAAAAAAAAAAAAEAAAABAAAAAAAAAAEAAAEAAAABAAAAAQAAAAAAAAAAAQAAAAABAAABAAEBAAAAAAAAAAAAAQAAAAAAAQABAAAAAAEAAAAAAQAAAAAAAQAAAAEAAAEBAAAAAAEAAAEAAAAAAAABAAABAAAAAQAAAAAAAAABAQAAAQAAAAEAAAAAAQAAAAAAAAEAAAEBAQAAAAAAAAAAAAAAAAAAAAEAAAAAAAAAAQABAAAAAAAAAAAAAAABAAAAAQABAAAAAAAAAAAAAAEAAAAAAAAAAAAAAQAAAQAAAAAAAAEAAAAAAAAAAAABAAABAAEAAAAAAAABAAAAAAABAAAAAAAAAAABAAEAAAAAAAAAAAAAAAABAAAAAAAAAAABAAAAAAAAAQABAAAAAAAAAAAAAAEBAQEAAAAAAAAAAQAAAQABAAAAAQABAQABAAEBAQAAAAAAAAAAAAAAAAAAAAAAAQEAAAAAAAAAAAAAAAAAAAAAAQAAAAEAAQABAAAAAAABAAAAAAABAAAAAAAAAQAAAAABAAABAAEAAAAAAQEAAQAAAAEAAQEAAAABAAAAAAAAAQAAAAAAAAAAAQAAAQEAAAAAAAEBAAEBAQABAAAAAAAAAAAAAAABAAAAAAABAAAAAQABAAAAAQAAAQAAAAAAAAAAAAEAAAAAAAAAAAEBAAEBAAAAAAABAAEAAAAAAAAAAAAAAAAAAAAAAAEAAAAAAAEAAQAAAAAAAAAAAAEAAAAAAQABAAAAAAAAAAEBAAAAAAABAQEAAAAAAAAAAAAAAAEAAAAAAAAAAAAAAAAAAQAAAAABAAAAAAAAAAABAQAAAAEAAAABAAAAAAAAAAABAAAAAQABAAAAAAAAAAEAAAABAQEAAQAAAAEAAAABAAAAAQAAAAAAAAAAAAAAAAAAAAEAAAAAAAAAAAAAAAABAAABAAEAAAAAAAAAAAEBAQAAAAEAAAAAAAABAAAAAAEAAAAAAQAAAAABAAAAAAABAAABAAAAAAEAAAAAAQEAAAAAAAAAAAAAAAABAAEAAQAAAAAAAQAAAAAAAAAAAQAAAQAAAAAAAAABAAEAAAAAAAAAAAAAAAABAAAAAAAAAQAAAAAAAAAAAAEBAAEAAQAAAAEAAAEAAAEBAAABAAABAAABAAEAAAAAAAAAAAAAAAEAAAAAAAAAAAAAAQABAAABAAAAAAEAAAAAAAAAAAABAAAAAAAAAAAAAAAAAAAAAAAAAAAAAAEAAAAAAQAAAAAAAAEAAAAAAQABAQAAAAAAAAABAAAAAAAAAAAAAAEAAAEAAAAAAQEAAAAAAAAAAAEAAAAAAQAAAAABAAABAAAAAAAAAQABAAAAAAAAAQAAAQEBAAAAAAEAAAEBAAAAAAEAAAAAAAAAAAEAAAEAAQAAAAABAAAAAAAAAAAAAAAAAAAAAAABAAABAAAAAAAAAQAAAAAAAQEAAAAAAAABAAAAAQABAAABAAAAAAEAAQAAAQAAAQEAAQAAAAABAQEAAAABAQAAAQAAAQABAAAAAAAAAAAAAAAAAAAAAAAAAAAAAAABAAAAAAAAAAAAAQAAAAAAAAAAAAAAAAAAAQAAAQABAQAAAAEBAAAAAAABAAAAAQABAAAAAAAAAAABAQAAAAAAAAAAAAEAAQAAAAAAAAEAAAEAAQAAAAEAAAAAAAAAAAAAAAAAAAAAAAAAAAAAAAEAAAAAAAAAAAABAAAAAAEAAAEAAQAAAAAAAAAAAAAAAAAAAQAAAAAAAAAAAAEAAQEAAAAAAQAAAAAAAAAAAAABAQEBAQAAAAAAAAEBAAAAAAABAAAAAAABAQAAAAAAAAABAAAAAAEAAQEAAAAAAAEAAQAAAAABAAAAAAEAAAAAAAEBAAAAAAAAAAABAQAAAQAAAAEAAAAAAAAAAAAAAQEAAAAAAQAAAAABAQEBAAAAAAAAAAEBAAEAAAEAAAEAAAEAAAABAAAAAAEBAQEAAAAAAAAAAAAAAAAAAQEAAQABAAEAAAAAAAEAAAAAAAAAAAAAAAAAAQAAAAAAAAEAAAAAAQAAAAAAAAAAAAAAAAAAAAEAAQAAAAAAAQAAAAEAAAEAAAAAAAAAAAAAAAAAAAABAAAAAAEAAAAAAQAAAQAAAAAAAAEAAAEAAAAAAAAAAAAAAAABAAABAAAAAQAAAAABAAAAAAAAAAAAAAAAAAAAAQAAAAABAAEAAAAAAQAAAAAAAAAAAAABAQABAAAAAAAAAAABAQAAAAABAAAAAAAAAAAAAAAAAQAAAAEAAAEAAAEAAAAAAAABAAAAAAAAAAAAAAEAAAAAAAAAAAAAAAAAAAEAAAAAAAAAAQAAAQABAQAAAAAAAAAAAQAAAQEAAAAAAQABAAEAAAAAAAAAAAAAAAEAAAEAAQEAAAAAAAAAAAAAAAAAAQEAAAEAAAAAAAAAAQAAAAAAAAAAAQAAAAAAAQAAAAEAAQAAAAAAAAAAAQAAAAAAAAABAAAAAAAAAAEAAAAAAAAAAAAAAAAAAAAAAAEAAAEAAAAAAAAAAAEBAAEAAAAAAAAAAQABAAABAAAAAQAAAAAAAAAAAAAAAAEAAQEBAAAAAAABAAEBAAAAAQAAAQAAAAAAAQAAAAAAAQABAAEBAAAAAAAAAAEAAAAAAQABAAAAAAAAAAABAAAAAAEBAAAAAAAAAAAAAAAAAAABAQAAAAEAAAAAAAABAAAAAAAAAQEAAAEBAAAAAQABAAABAAAAAQABAAAAAAAAAQEAAQAAAQAAAAABAAEAAAAAAAAAAAABAAAAAQAAAAAAAAAAAAEAAAEAAAAAAAAAAAAAAQEAAAAAAAAAAAABAAABAAAAAAAAAAEBAAAAAAEBAAAAAAAAAAAAAAAAAAAAAAAAAAAAAAAAAQAAAAEAAQEAAAABAAAAAAAAAAAAAAAAAAABAQABAAEAAQAAAAAAAAAAAAEAAQABAAABAAAAAAEAAAAAAQAAAAAAAAABAAAAAAAAAAABAAAAAAABAQAAAAAAAAAAAAAAAQAAAAAAAAAAAQAAAAAAAQAAAAAAAAEAAAAAAQAAAAAAAAEAAQABAAAAAAAAAAABAAAAAAAAAAEAAAABAAAAAAAAAAAAAAABAAAAAAEAAAAAAQEAAAAAAAAAAAAAAAAAAQAAAAAAAAEAAQEAAAAAAAEAAAAAAQAAAAEBAQEAAQAAAQAAAAABAAAAAAEAAAAAAAEAAAEAAAAAAQAAAAABAAAAAAABAQAAAQAAAAAAAQEAAAAAAAAAAAAAAAAAAAAAAAEAAAEAAAAAAAAAAQAAAAABAAAAAAABAAABAAAAAAAAAQEBAQABAAAAAAABAAEAAAAAAAAAAAAAAQAAAAEBAAABAAAAAAEAAAAAAAAAAAAAAAEAAAABAAAAAAAAAAAAAAEBAAAAAAAAAAABAAAAAAAAAAAAAAAAAAABAAEBAAAAAAEAAAEAAAABAAAAAAAAAAAAAAAAAAAAAQEBAAAAAAAAAAEBAAEAAQEAAAAAAAABAQAAAAABAAAAAAAAAAAAAAAAAAEBAAAAAAAAAAAAAAEAAAEAAAEAAAAAAQEAAQAAAQABAAEAAAABAAAAAAABAAAAAAAAAAAAAAAAAQABAAABAQEAAAAAAAAAAAAAAAAAAAAAAAAAAQAAAAAAAQAAAAAAAQAAAAAAAAAAAAAAAAAAAAAAAAAAAAAAAAEAAAAAAAAAAAAAAQAAAAAAAAAAAAAAAAAAAQAAAAAAAAAAAAAAAAAAAAAAAQEBAAABAAEAAAABAAAAAQAAAAAAAAEAAQEAAQAAAAABAQEAAAAAAAABAAAAAAAAAQEAAAAAAQAAAAAAAAAAAAEAAAAAAAAAAQEAAAABAAABAAAAAAAAAAAAAAEAAAAAAAEAAQABAAAAAAAAAAABAAAAAQEAAAABAAEAAAABAAAAAQAAAAAAAAAAAAAAAAAAAAAAAAAAAQAAAQABAAABAAAAAQAAAAABAAEAAAABAAABAAAAAAAAAAAAAAABAQEAAAEAAQABAAAAAAAAAAAAAAABAQEAAAAAAAAAAAAAAAAAAAEBAAAAAAAAAAAAAAAAAAAAAAAAAQAAAQAAAAAAAAAAAAAAAAEAAAAAAAAAAQAAAAAAAAAAAQAAAQAAAAAAAAEBAAAAAAABAQAAAAEAAAAAAQAAAAAAAAAAAQEAAAABAAABAAAAAQABAAABAAABAAAAAAAAAAAAAAABAAAAAQAAAAABAAAAAAAAAAAAAQAAAAAAAAAAAAAAAQAAAAEAAAABAAABAAEAAQEAAQAAAAABAAAAAAAAAAAAAAAAAQEAAAAAAAAAAAAAAAAAAAEAAAABAAEAAAABAAEAAAAAAAAAAQAAAQAAAQEAAAAAAAEAAAAAAAAAAAAAAAAAAAABAAAAAAAAAAAAAAAAAAAAAAAAAAEAAAAAAAAAAQAAAQEAAAEAAAEAAAABAAAAAQEAAAAAAAAAAAABAQAAAQAAAAABAQAAAAABAAEAAQEAAAAAAAAAAQAAAQAAAAAAAAAAAAAAAQEAAAAAAAAAAAEAAAAAAAAAAAAAAAAAAAAAAQABAAAAAQABAQAAAAABAAEAAAEBAAAAAAAAAAABAQEAAQAAAAAAAAAAAAAAAQAAAAABAAABAAAAAQAAAAAAAAAAAQAAAAAAAAEAAQAAAAAAAAAAAAAAAQEBAQABAAABAAAAAAAAAAAAAAAAAAAAAAAAAAABAQEAAAAAAAABAAEBAAAAAAAAAAABAAABAAAAAAEAAQABAAAAAAAAAQAAAAAAAAAAAAEAAAEAAAAAAAEAAAABAAAAAAEAAAAAAAABAAABAAEAAQEAAAAAAAABAAABAAAAAAEAAAAAAAAAAAAAAQAAAQAAAAAAAAAAAAAAAAEAAAAAAQABAAEAAAAAAAEBAQEAAAEBAAAAAAAAAAABAAAAAAEAAAAAAQAAAAAAAAABAQAAAAEBAAAAAAAAAAAAAAAAAAAAAAAAAAAAAAAAAQAAAAEAAAEAAAAAAAAAAAAAAAAAAAAAAQAAAAABAAABAQAAAAAAAAAAAQAAAAAAAAEAAAEAAAAAAAEBAAAAAAAAAQEAAQAAAQAAAAEAAAAAAAEAAAABAAABAAAAAAABAAAAAAEAAQABAAEAAQAAAQAAAAAAAAABAQAAAAABAAAAAAEBAAAAAQAAAQAAAAABAQAAAAAAAAAAAAEAAAAAAAAAAAAAAAAAAAAAAQEAAAAAAAABAQAAAAEAAAAAAAAAAAEAAAEBAAAAAAABAAEAAAEAAAABAAEAAAAAAAAAAQABAAAAAAAAAAAAAAAAAAAAAQAAAAAAAAEBAQAAAAEAAQAAAAAAAAAAAAEAAAAAAAEAAAAAAAAAAAEAAAAAAAEAAAAAAAAAAAAAAQEAAAAAAAAAAAABAAAAAAEBAQAAAAABAAAAAAAAAAAAAAAAAQAAAQAAAAEAAAAAAQAAAAAAAAAAAAAAAAAAAAAAAAABAAAAAQAAAAABAAAAAQAAAQAAAAAAAAABAAAAAQAAAAABAAABAAAAAAAAAAAAAAEBAAEAAAAAAQABAAABAAEAAAABAAEAAAEAAAAAAAEBAAABAQAAAAAAAAAAAAAAAQAAAAAAAAEAAQEAAAEAAQABAAAAAAAAAAAAAAEBAAEAAAEAAQABAQAAAAAAAAAAAAEAAAAAAAAAAAABAAAAAAABAQAAAAAAAAAAAQAAAAAAAAEBAAAAAAAAAAAAAAAAAQABAAAAAAAAAAAAAAABAAEAAAAAAAAAAAAAAAEAAAEAAAAAAQEAAAABAAAAAAABAAABAAAAAAABAAEAAAAAAAAAAAAAAQAAAAAAAAAAAAAAAQAAAAEAAAAAAAAAAAAAAAAAAAAAAAAAAAAAAAAAAAAAAQEAAQAAAAEBAAAAAAEAAAAAAAAAAAAAAAAAAAAAAAAAAAAAAQABAAAAAAAAAQEAAAEBAQAAAQEAAAAAAQEAAAABAQAAAAEBAAEAAAEAAQABAQAAAAAAAAAAAQABAAEBAAABAQEAAAEBAAAAAAAAAAAAAQAAAAAAAAAAAAEBAQAAAQAAAAABAAEBAAABAAAAAAAAAAAAAQAAAAEBAAAAAAAAAQAAAQABAAAAAAABAAAAAQABAAAAAAAAAQABAAEAAQAAAQABAAAAAAAAAAABAAAAAAABAAAAAAAAAAEAAAAAAQAAAAAAAAABAQAAAQAAAAAAAAABAAAAAAAAAQAAAAEAAAAAAAAAAQEAAQEAAAAAAAAAAAAAAQAAAAAAAAABAAAAAAEAAAAAAQABAAABAAABAAAAAAAAAAAAAAAAAAAAAAAAAAAAAQEAAAAAAAAAAAEBAAAAAAEAAAAAAAABAAAAAAAAAAABAAAAAAEAAAAAAAAAAAEAAQEAAAAAAQEAAAEAAAAAAQAAAAABAAAAAAAAAAAAAAAAAQEAAAAAAAAAAAAAAQAAAAABAAABAAAAAAAAAQEAAAAAAAAAAAABAAAAAQAAAAAAAAEBAAAAAAEBAQAAAAABAAAAAAAAAAAAAAABAAABAQAAAAAAAAAAAAEBAAAAAAABAAAAAAABAQAAAAAAAAEAAAAAAAAAAAABAAAAAAEAAAAAAAABAQAAAAAAAAAAAAAAAQAAAQAAAAAAAAAAAQEAAAAAAAABAAAAAAABAAEAAQAAAAEAAAEAAAEAAAAAAAABAAAAAAAAAQAAAAAAAQAAAAABAAABAAAAAAEAAAAAAAAAAQEAAAEBAAAAAAAAAAAAAAABAAAAAQEBAQAAAAABAAABAAAAAAAAAAAAAAAAAAAAAAAAAAAAAAAAAAAAAQAAAAAAAAAAAAAAAAAAAAABAAEAAAAAAAAAAAAAAAAAAQAAAAAAAQAAAAEAAAEBAAAAAAABAQAAAAAAAAEAAAEBAAAAAQABAAAAAAAAAQAAAAEAAQAAAQAAAAAAAQAAAAEAAAABAAAAAAAAAAAAAAABAAEAAAAAAAAAAAAAAAABAAAAAAABAQEBAQAAAAAAAQAAAQAAAAAAAAAAAAAAAAAAAQAAAQAAAAAAAQAAAAEAAAAAAAABAAAAAAAAAAAAAAAAAAAAAAAAAAAAAQAAAAEAAAABAAABAQAAAQAAAAEBAAABAAEBAAAAAAAAAAAAAAEAAQAAAQAAAAAAAAAAAAAAAAAAAAAAAQAAAAAAAAAAAAEAAAAAAAAAAAAAAQAAAAAAAAAAAAEAAAAAAAAAAAAAAAABAAAAAAAAAAAAAAABAAABAAEBAAAAAQABAAABAAAAAAABAAAAAAEAAAAAAAAAAAAAAAAAAAAAAAABAQABAAAAAAAAAAEAAAEAAAAAAQEAAAAAAAAAAQAAAAAAAAAAAQAAAAAAAAABAAAAAQAAAAAAAQAAAQAAAAAAAAAAAAAAAQAAAAAAAAAAAAAAAQABAAABAAEAAQAAAAEAAAAAAAAAAAAAAAAAAAEAAAAAAAABAAAAAQEAAAABAAAAAAAAAQAAAQABAAAAAAAAAAAAAAAAAAAAAAAAAQAAAAAAAAAAAAAAAQABAAAAAAABAAABAAABAQAAAAAAAAAAAAAAAAABAQEAAQABAAAAAAEBAAAAAAEBAAAAAAEAAAAAAAABAAAAAAAAAAAAAAAAAAAAAQABAAAAAAAAAAAAAAEAAQAAAAAAAAAAAQEAAAAAAAAAAAABAQABAAAAAAAAAAEAAAAAAAEAAAAAAAAAAAAAAAAAAAAAAAAAAAAAAAABAAAAAAAAAAAAAAAAAQAAAQAAAAEAAAAAAAAAAAAAAAAAAAAAAAABAAEBAAAAAAABAAEBAAAAAAAAAQAAAQAAAAAAAQAAAQEAAQAAAAAAAQAAAAAAAAAAAAAAAQABAAAAAAAAAAAAAAEAAAEAAAAAAAABAAAAAAAAAAEBAAAAAAAAAAABAAAAAAAAAAAAAQAAAAAAAQAAAAAAAQEAAQAAAAEAAAAAAAAAAAAAAAAAAQAAAAEAAQEAAAABAAAAAAAAAAAAAAAAAAEAAQAAAQABAAAAAAAAAAAAAAEAAAEAAAAAAAABAAAAAAEAAAAAAAABAAABAAAAAQAAAAAAAAAAAAEAAAAAAAAAAAAAAAABAAAAAAAAAAABAAAAAQABAAAAAAAAAAAAAAAAAQAAAAAAAQEAAAAAAAAAAAEAAAAAAAEBAA==",
           "dtype": "i1"
          },
          "coloraxis": "coloraxis",
          "symbol": "circle"
         },
         "mode": "markers",
         "name": "",
         "showlegend": false,
         "type": "scattergl",
         "x": {
          "bdata": "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",
          "dtype": "f8"
         },
         "xaxis": "x",
         "y": {
          "bdata": "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",
          "dtype": "i2"
         },
         "yaxis": "y"
        }
       ],
       "layout": {
        "coloraxis": {
         "colorbar": {
          "title": {
           "text": "Exited"
          }
         },
         "colorscale": [
          [
           0,
           "#0d0887"
          ],
          [
           0.1111111111111111,
           "#46039f"
          ],
          [
           0.2222222222222222,
           "#7201a8"
          ],
          [
           0.3333333333333333,
           "#9c179e"
          ],
          [
           0.4444444444444444,
           "#bd3786"
          ],
          [
           0.5555555555555556,
           "#d8576b"
          ],
          [
           0.6666666666666666,
           "#ed7953"
          ],
          [
           0.7777777777777778,
           "#fb9f3a"
          ],
          [
           0.8888888888888888,
           "#fdca26"
          ],
          [
           1,
           "#f0f921"
          ]
         ]
        },
        "legend": {
         "tracegroupgap": 0
        },
        "margin": {
         "t": 60
        },
        "template": {
         "data": {
          "bar": [
           {
            "error_x": {
             "color": "#2a3f5f"
            },
            "error_y": {
             "color": "#2a3f5f"
            },
            "marker": {
             "line": {
              "color": "#E5ECF6",
              "width": 0.5
             },
             "pattern": {
              "fillmode": "overlay",
              "size": 10,
              "solidity": 0.2
             }
            },
            "type": "bar"
           }
          ],
          "barpolar": [
           {
            "marker": {
             "line": {
              "color": "#E5ECF6",
              "width": 0.5
             },
             "pattern": {
              "fillmode": "overlay",
              "size": 10,
              "solidity": 0.2
             }
            },
            "type": "barpolar"
           }
          ],
          "carpet": [
           {
            "aaxis": {
             "endlinecolor": "#2a3f5f",
             "gridcolor": "white",
             "linecolor": "white",
             "minorgridcolor": "white",
             "startlinecolor": "#2a3f5f"
            },
            "baxis": {
             "endlinecolor": "#2a3f5f",
             "gridcolor": "white",
             "linecolor": "white",
             "minorgridcolor": "white",
             "startlinecolor": "#2a3f5f"
            },
            "type": "carpet"
           }
          ],
          "choropleth": [
           {
            "colorbar": {
             "outlinewidth": 0,
             "ticks": ""
            },
            "type": "choropleth"
           }
          ],
          "contour": [
           {
            "colorbar": {
             "outlinewidth": 0,
             "ticks": ""
            },
            "colorscale": [
             [
              0,
              "#0d0887"
             ],
             [
              0.1111111111111111,
              "#46039f"
             ],
             [
              0.2222222222222222,
              "#7201a8"
             ],
             [
              0.3333333333333333,
              "#9c179e"
             ],
             [
              0.4444444444444444,
              "#bd3786"
             ],
             [
              0.5555555555555556,
              "#d8576b"
             ],
             [
              0.6666666666666666,
              "#ed7953"
             ],
             [
              0.7777777777777778,
              "#fb9f3a"
             ],
             [
              0.8888888888888888,
              "#fdca26"
             ],
             [
              1,
              "#f0f921"
             ]
            ],
            "type": "contour"
           }
          ],
          "contourcarpet": [
           {
            "colorbar": {
             "outlinewidth": 0,
             "ticks": ""
            },
            "type": "contourcarpet"
           }
          ],
          "heatmap": [
           {
            "colorbar": {
             "outlinewidth": 0,
             "ticks": ""
            },
            "colorscale": [
             [
              0,
              "#0d0887"
             ],
             [
              0.1111111111111111,
              "#46039f"
             ],
             [
              0.2222222222222222,
              "#7201a8"
             ],
             [
              0.3333333333333333,
              "#9c179e"
             ],
             [
              0.4444444444444444,
              "#bd3786"
             ],
             [
              0.5555555555555556,
              "#d8576b"
             ],
             [
              0.6666666666666666,
              "#ed7953"
             ],
             [
              0.7777777777777778,
              "#fb9f3a"
             ],
             [
              0.8888888888888888,
              "#fdca26"
             ],
             [
              1,
              "#f0f921"
             ]
            ],
            "type": "heatmap"
           }
          ],
          "histogram": [
           {
            "marker": {
             "pattern": {
              "fillmode": "overlay",
              "size": 10,
              "solidity": 0.2
             }
            },
            "type": "histogram"
           }
          ],
          "histogram2d": [
           {
            "colorbar": {
             "outlinewidth": 0,
             "ticks": ""
            },
            "colorscale": [
             [
              0,
              "#0d0887"
             ],
             [
              0.1111111111111111,
              "#46039f"
             ],
             [
              0.2222222222222222,
              "#7201a8"
             ],
             [
              0.3333333333333333,
              "#9c179e"
             ],
             [
              0.4444444444444444,
              "#bd3786"
             ],
             [
              0.5555555555555556,
              "#d8576b"
             ],
             [
              0.6666666666666666,
              "#ed7953"
             ],
             [
              0.7777777777777778,
              "#fb9f3a"
             ],
             [
              0.8888888888888888,
              "#fdca26"
             ],
             [
              1,
              "#f0f921"
             ]
            ],
            "type": "histogram2d"
           }
          ],
          "histogram2dcontour": [
           {
            "colorbar": {
             "outlinewidth": 0,
             "ticks": ""
            },
            "colorscale": [
             [
              0,
              "#0d0887"
             ],
             [
              0.1111111111111111,
              "#46039f"
             ],
             [
              0.2222222222222222,
              "#7201a8"
             ],
             [
              0.3333333333333333,
              "#9c179e"
             ],
             [
              0.4444444444444444,
              "#bd3786"
             ],
             [
              0.5555555555555556,
              "#d8576b"
             ],
             [
              0.6666666666666666,
              "#ed7953"
             ],
             [
              0.7777777777777778,
              "#fb9f3a"
             ],
             [
              0.8888888888888888,
              "#fdca26"
             ],
             [
              1,
              "#f0f921"
             ]
            ],
            "type": "histogram2dcontour"
           }
          ],
          "mesh3d": [
           {
            "colorbar": {
             "outlinewidth": 0,
             "ticks": ""
            },
            "type": "mesh3d"
           }
          ],
          "parcoords": [
           {
            "line": {
             "colorbar": {
              "outlinewidth": 0,
              "ticks": ""
             }
            },
            "type": "parcoords"
           }
          ],
          "pie": [
           {
            "automargin": true,
            "type": "pie"
           }
          ],
          "scatter": [
           {
            "fillpattern": {
             "fillmode": "overlay",
             "size": 10,
             "solidity": 0.2
            },
            "type": "scatter"
           }
          ],
          "scatter3d": [
           {
            "line": {
             "colorbar": {
              "outlinewidth": 0,
              "ticks": ""
             }
            },
            "marker": {
             "colorbar": {
              "outlinewidth": 0,
              "ticks": ""
             }
            },
            "type": "scatter3d"
           }
          ],
          "scattercarpet": [
           {
            "marker": {
             "colorbar": {
              "outlinewidth": 0,
              "ticks": ""
             }
            },
            "type": "scattercarpet"
           }
          ],
          "scattergeo": [
           {
            "marker": {
             "colorbar": {
              "outlinewidth": 0,
              "ticks": ""
             }
            },
            "type": "scattergeo"
           }
          ],
          "scattergl": [
           {
            "marker": {
             "colorbar": {
              "outlinewidth": 0,
              "ticks": ""
             }
            },
            "type": "scattergl"
           }
          ],
          "scattermap": [
           {
            "marker": {
             "colorbar": {
              "outlinewidth": 0,
              "ticks": ""
             }
            },
            "type": "scattermap"
           }
          ],
          "scattermapbox": [
           {
            "marker": {
             "colorbar": {
              "outlinewidth": 0,
              "ticks": ""
             }
            },
            "type": "scattermapbox"
           }
          ],
          "scatterpolar": [
           {
            "marker": {
             "colorbar": {
              "outlinewidth": 0,
              "ticks": ""
             }
            },
            "type": "scatterpolar"
           }
          ],
          "scatterpolargl": [
           {
            "marker": {
             "colorbar": {
              "outlinewidth": 0,
              "ticks": ""
             }
            },
            "type": "scatterpolargl"
           }
          ],
          "scatterternary": [
           {
            "marker": {
             "colorbar": {
              "outlinewidth": 0,
              "ticks": ""
             }
            },
            "type": "scatterternary"
           }
          ],
          "surface": [
           {
            "colorbar": {
             "outlinewidth": 0,
             "ticks": ""
            },
            "colorscale": [
             [
              0,
              "#0d0887"
             ],
             [
              0.1111111111111111,
              "#46039f"
             ],
             [
              0.2222222222222222,
              "#7201a8"
             ],
             [
              0.3333333333333333,
              "#9c179e"
             ],
             [
              0.4444444444444444,
              "#bd3786"
             ],
             [
              0.5555555555555556,
              "#d8576b"
             ],
             [
              0.6666666666666666,
              "#ed7953"
             ],
             [
              0.7777777777777778,
              "#fb9f3a"
             ],
             [
              0.8888888888888888,
              "#fdca26"
             ],
             [
              1,
              "#f0f921"
             ]
            ],
            "type": "surface"
           }
          ],
          "table": [
           {
            "cells": {
             "fill": {
              "color": "#EBF0F8"
             },
             "line": {
              "color": "white"
             }
            },
            "header": {
             "fill": {
              "color": "#C8D4E3"
             },
             "line": {
              "color": "white"
             }
            },
            "type": "table"
           }
          ]
         },
         "layout": {
          "annotationdefaults": {
           "arrowcolor": "#2a3f5f",
           "arrowhead": 0,
           "arrowwidth": 1
          },
          "autotypenumbers": "strict",
          "coloraxis": {
           "colorbar": {
            "outlinewidth": 0,
            "ticks": ""
           }
          },
          "colorscale": {
           "diverging": [
            [
             0,
             "#8e0152"
            ],
            [
             0.1,
             "#c51b7d"
            ],
            [
             0.2,
             "#de77ae"
            ],
            [
             0.3,
             "#f1b6da"
            ],
            [
             0.4,
             "#fde0ef"
            ],
            [
             0.5,
             "#f7f7f7"
            ],
            [
             0.6,
             "#e6f5d0"
            ],
            [
             0.7,
             "#b8e186"
            ],
            [
             0.8,
             "#7fbc41"
            ],
            [
             0.9,
             "#4d9221"
            ],
            [
             1,
             "#276419"
            ]
           ],
           "sequential": [
            [
             0,
             "#0d0887"
            ],
            [
             0.1111111111111111,
             "#46039f"
            ],
            [
             0.2222222222222222,
             "#7201a8"
            ],
            [
             0.3333333333333333,
             "#9c179e"
            ],
            [
             0.4444444444444444,
             "#bd3786"
            ],
            [
             0.5555555555555556,
             "#d8576b"
            ],
            [
             0.6666666666666666,
             "#ed7953"
            ],
            [
             0.7777777777777778,
             "#fb9f3a"
            ],
            [
             0.8888888888888888,
             "#fdca26"
            ],
            [
             1,
             "#f0f921"
            ]
           ],
           "sequentialminus": [
            [
             0,
             "#0d0887"
            ],
            [
             0.1111111111111111,
             "#46039f"
            ],
            [
             0.2222222222222222,
             "#7201a8"
            ],
            [
             0.3333333333333333,
             "#9c179e"
            ],
            [
             0.4444444444444444,
             "#bd3786"
            ],
            [
             0.5555555555555556,
             "#d8576b"
            ],
            [
             0.6666666666666666,
             "#ed7953"
            ],
            [
             0.7777777777777778,
             "#fb9f3a"
            ],
            [
             0.8888888888888888,
             "#fdca26"
            ],
            [
             1,
             "#f0f921"
            ]
           ]
          },
          "colorway": [
           "#636efa",
           "#EF553B",
           "#00cc96",
           "#ab63fa",
           "#FFA15A",
           "#19d3f3",
           "#FF6692",
           "#B6E880",
           "#FF97FF",
           "#FECB52"
          ],
          "font": {
           "color": "#2a3f5f"
          },
          "geo": {
           "bgcolor": "white",
           "lakecolor": "white",
           "landcolor": "#E5ECF6",
           "showlakes": true,
           "showland": true,
           "subunitcolor": "white"
          },
          "hoverlabel": {
           "align": "left"
          },
          "hovermode": "closest",
          "mapbox": {
           "style": "light"
          },
          "paper_bgcolor": "white",
          "plot_bgcolor": "#E5ECF6",
          "polar": {
           "angularaxis": {
            "gridcolor": "white",
            "linecolor": "white",
            "ticks": ""
           },
           "bgcolor": "#E5ECF6",
           "radialaxis": {
            "gridcolor": "white",
            "linecolor": "white",
            "ticks": ""
           }
          },
          "scene": {
           "xaxis": {
            "backgroundcolor": "#E5ECF6",
            "gridcolor": "white",
            "gridwidth": 2,
            "linecolor": "white",
            "showbackground": true,
            "ticks": "",
            "zerolinecolor": "white"
           },
           "yaxis": {
            "backgroundcolor": "#E5ECF6",
            "gridcolor": "white",
            "gridwidth": 2,
            "linecolor": "white",
            "showbackground": true,
            "ticks": "",
            "zerolinecolor": "white"
           },
           "zaxis": {
            "backgroundcolor": "#E5ECF6",
            "gridcolor": "white",
            "gridwidth": 2,
            "linecolor": "white",
            "showbackground": true,
            "ticks": "",
            "zerolinecolor": "white"
           }
          },
          "shapedefaults": {
           "line": {
            "color": "#2a3f5f"
           }
          },
          "ternary": {
           "aaxis": {
            "gridcolor": "white",
            "linecolor": "white",
            "ticks": ""
           },
           "baxis": {
            "gridcolor": "white",
            "linecolor": "white",
            "ticks": ""
           },
           "bgcolor": "#E5ECF6",
           "caxis": {
            "gridcolor": "white",
            "linecolor": "white",
            "ticks": ""
           }
          },
          "title": {
           "x": 0.05
          },
          "xaxis": {
           "automargin": true,
           "gridcolor": "white",
           "linecolor": "white",
           "ticks": "",
           "title": {
            "standoff": 15
           },
           "zerolinecolor": "white",
           "zerolinewidth": 2
          },
          "yaxis": {
           "automargin": true,
           "gridcolor": "white",
           "linecolor": "white",
           "ticks": "",
           "title": {
            "standoff": 15
           },
           "zerolinecolor": "white",
           "zerolinewidth": 2
          }
         }
        },
        "title": {
         "text": "Взаимосвязь кредитного рейтинга клиентов и их заработной платы"
        },
        "xaxis": {
         "anchor": "y",
         "domain": [
          0,
          1
         ],
         "title": {
          "text": "Кредитный рейтинг"
         }
        },
        "yaxis": {
         "anchor": "x",
         "domain": [
          0,
          1
         ],
         "title": {
          "text": "Зарплата клиента"
         }
        }
       }
      }
     },
     "metadata": {},
     "output_type": "display_data"
    }
   ],
   "source": [
    "# Отбираем необходимые признаки\n",
    "df_churn = churn_data[['CreditScore', 'EstimatedSalary', 'Exited']].copy()\n",
    "\n",
    "# Для выявления взаимосвязи строим диаграмму рассеяния\n",
    "fig = px.scatter(\n",
    "    data_frame=df_churn,\n",
    "    x='EstimatedSalary', \n",
    "    y='CreditScore',\n",
    "    color='Exited'\n",
    ")\n",
    "\n",
    "fig.update_layout(\n",
    "    title='Взаимосвязь кредитного рейтинга клиентов и их заработной платы',\n",
    "    xaxis_title='Кредитный рейтинг',\n",
    "    yaxis_title='Зарплата клиента'\n",
    ")\n",
    "\n",
    "fig.show()"
   ]
  },
  {
   "cell_type": "markdown",
   "id": "8c2d1de8",
   "metadata": {},
   "source": [
    "Исходя из графика можно сделать вывод, что зависимость кредитного рейтинга от зарплаты клиента отсутствует"
   ]
  },
  {
   "cell_type": "markdown",
   "id": "c9a642a8",
   "metadata": {},
   "source": [
    "**Задание 9.6.** Кто чаще уходит, мужчины или женщины? Постройте график, который иллюстрирует это.\n",
    "\n",
    "*Подсказка*\n",
    "Процент ушедших клиентов в каждой группе можно рассчитать как среднее по столбцу Exited (так как 1 — это ушедшие клиенты, а 0 — лояльные, среднее арифметическое по столбцу обозначает долю ушедших клиентов)."
   ]
  },
  {
   "cell_type": "code",
   "execution_count": 15,
   "id": "59679648",
   "metadata": {},
   "outputs": [
    {
     "data": {
      "application/vnd.plotly.v1+json": {
       "config": {
        "plotlyServerURL": "https://plot.ly"
       },
       "data": [
        {
         "hovertemplate": "Статус клиента: =Доля ушедших<br>Gender=%{x}<br>value=%{y}<extra></extra>",
         "legendgroup": "Доля ушедших",
         "marker": {
          "color": "red",
          "pattern": {
           "shape": ""
          }
         },
         "name": "Доля ушедших",
         "orientation": "v",
         "showlegend": true,
         "textposition": "auto",
         "texttemplate": "%{y}",
         "type": "bar",
         "x": [
          "Female",
          "Male"
         ],
         "xaxis": "x",
         "y": {
          "bdata": "GQAAABAAAAA=",
          "dtype": "i4"
         },
         "yaxis": "y"
        },
        {
         "hovertemplate": "Статус клиента: =Доля лояльных<br>Gender=%{x}<br>value=%{y}<extra></extra>",
         "legendgroup": "Доля лояльных",
         "marker": {
          "color": "purple",
          "pattern": {
           "shape": ""
          }
         },
         "name": "Доля лояльных",
         "orientation": "v",
         "showlegend": true,
         "textposition": "auto",
         "texttemplate": "%{y}",
         "type": "bar",
         "x": [
          "Female",
          "Male"
         ],
         "xaxis": "x",
         "y": {
          "bdata": "SwAAAFQAAAA=",
          "dtype": "i4"
         },
         "yaxis": "y"
        }
       ],
       "layout": {
        "barmode": "stack",
        "height": 500,
        "legend": {
         "title": {
          "text": "Статус клиента: "
         },
         "tracegroupgap": 0
        },
        "template": {
         "data": {
          "bar": [
           {
            "error_x": {
             "color": "#2a3f5f"
            },
            "error_y": {
             "color": "#2a3f5f"
            },
            "marker": {
             "line": {
              "color": "#E5ECF6",
              "width": 0.5
             },
             "pattern": {
              "fillmode": "overlay",
              "size": 10,
              "solidity": 0.2
             }
            },
            "type": "bar"
           }
          ],
          "barpolar": [
           {
            "marker": {
             "line": {
              "color": "#E5ECF6",
              "width": 0.5
             },
             "pattern": {
              "fillmode": "overlay",
              "size": 10,
              "solidity": 0.2
             }
            },
            "type": "barpolar"
           }
          ],
          "carpet": [
           {
            "aaxis": {
             "endlinecolor": "#2a3f5f",
             "gridcolor": "white",
             "linecolor": "white",
             "minorgridcolor": "white",
             "startlinecolor": "#2a3f5f"
            },
            "baxis": {
             "endlinecolor": "#2a3f5f",
             "gridcolor": "white",
             "linecolor": "white",
             "minorgridcolor": "white",
             "startlinecolor": "#2a3f5f"
            },
            "type": "carpet"
           }
          ],
          "choropleth": [
           {
            "colorbar": {
             "outlinewidth": 0,
             "ticks": ""
            },
            "type": "choropleth"
           }
          ],
          "contour": [
           {
            "colorbar": {
             "outlinewidth": 0,
             "ticks": ""
            },
            "colorscale": [
             [
              0,
              "#0d0887"
             ],
             [
              0.1111111111111111,
              "#46039f"
             ],
             [
              0.2222222222222222,
              "#7201a8"
             ],
             [
              0.3333333333333333,
              "#9c179e"
             ],
             [
              0.4444444444444444,
              "#bd3786"
             ],
             [
              0.5555555555555556,
              "#d8576b"
             ],
             [
              0.6666666666666666,
              "#ed7953"
             ],
             [
              0.7777777777777778,
              "#fb9f3a"
             ],
             [
              0.8888888888888888,
              "#fdca26"
             ],
             [
              1,
              "#f0f921"
             ]
            ],
            "type": "contour"
           }
          ],
          "contourcarpet": [
           {
            "colorbar": {
             "outlinewidth": 0,
             "ticks": ""
            },
            "type": "contourcarpet"
           }
          ],
          "heatmap": [
           {
            "colorbar": {
             "outlinewidth": 0,
             "ticks": ""
            },
            "colorscale": [
             [
              0,
              "#0d0887"
             ],
             [
              0.1111111111111111,
              "#46039f"
             ],
             [
              0.2222222222222222,
              "#7201a8"
             ],
             [
              0.3333333333333333,
              "#9c179e"
             ],
             [
              0.4444444444444444,
              "#bd3786"
             ],
             [
              0.5555555555555556,
              "#d8576b"
             ],
             [
              0.6666666666666666,
              "#ed7953"
             ],
             [
              0.7777777777777778,
              "#fb9f3a"
             ],
             [
              0.8888888888888888,
              "#fdca26"
             ],
             [
              1,
              "#f0f921"
             ]
            ],
            "type": "heatmap"
           }
          ],
          "histogram": [
           {
            "marker": {
             "pattern": {
              "fillmode": "overlay",
              "size": 10,
              "solidity": 0.2
             }
            },
            "type": "histogram"
           }
          ],
          "histogram2d": [
           {
            "colorbar": {
             "outlinewidth": 0,
             "ticks": ""
            },
            "colorscale": [
             [
              0,
              "#0d0887"
             ],
             [
              0.1111111111111111,
              "#46039f"
             ],
             [
              0.2222222222222222,
              "#7201a8"
             ],
             [
              0.3333333333333333,
              "#9c179e"
             ],
             [
              0.4444444444444444,
              "#bd3786"
             ],
             [
              0.5555555555555556,
              "#d8576b"
             ],
             [
              0.6666666666666666,
              "#ed7953"
             ],
             [
              0.7777777777777778,
              "#fb9f3a"
             ],
             [
              0.8888888888888888,
              "#fdca26"
             ],
             [
              1,
              "#f0f921"
             ]
            ],
            "type": "histogram2d"
           }
          ],
          "histogram2dcontour": [
           {
            "colorbar": {
             "outlinewidth": 0,
             "ticks": ""
            },
            "colorscale": [
             [
              0,
              "#0d0887"
             ],
             [
              0.1111111111111111,
              "#46039f"
             ],
             [
              0.2222222222222222,
              "#7201a8"
             ],
             [
              0.3333333333333333,
              "#9c179e"
             ],
             [
              0.4444444444444444,
              "#bd3786"
             ],
             [
              0.5555555555555556,
              "#d8576b"
             ],
             [
              0.6666666666666666,
              "#ed7953"
             ],
             [
              0.7777777777777778,
              "#fb9f3a"
             ],
             [
              0.8888888888888888,
              "#fdca26"
             ],
             [
              1,
              "#f0f921"
             ]
            ],
            "type": "histogram2dcontour"
           }
          ],
          "mesh3d": [
           {
            "colorbar": {
             "outlinewidth": 0,
             "ticks": ""
            },
            "type": "mesh3d"
           }
          ],
          "parcoords": [
           {
            "line": {
             "colorbar": {
              "outlinewidth": 0,
              "ticks": ""
             }
            },
            "type": "parcoords"
           }
          ],
          "pie": [
           {
            "automargin": true,
            "type": "pie"
           }
          ],
          "scatter": [
           {
            "fillpattern": {
             "fillmode": "overlay",
             "size": 10,
             "solidity": 0.2
            },
            "type": "scatter"
           }
          ],
          "scatter3d": [
           {
            "line": {
             "colorbar": {
              "outlinewidth": 0,
              "ticks": ""
             }
            },
            "marker": {
             "colorbar": {
              "outlinewidth": 0,
              "ticks": ""
             }
            },
            "type": "scatter3d"
           }
          ],
          "scattercarpet": [
           {
            "marker": {
             "colorbar": {
              "outlinewidth": 0,
              "ticks": ""
             }
            },
            "type": "scattercarpet"
           }
          ],
          "scattergeo": [
           {
            "marker": {
             "colorbar": {
              "outlinewidth": 0,
              "ticks": ""
             }
            },
            "type": "scattergeo"
           }
          ],
          "scattergl": [
           {
            "marker": {
             "colorbar": {
              "outlinewidth": 0,
              "ticks": ""
             }
            },
            "type": "scattergl"
           }
          ],
          "scattermap": [
           {
            "marker": {
             "colorbar": {
              "outlinewidth": 0,
              "ticks": ""
             }
            },
            "type": "scattermap"
           }
          ],
          "scattermapbox": [
           {
            "marker": {
             "colorbar": {
              "outlinewidth": 0,
              "ticks": ""
             }
            },
            "type": "scattermapbox"
           }
          ],
          "scatterpolar": [
           {
            "marker": {
             "colorbar": {
              "outlinewidth": 0,
              "ticks": ""
             }
            },
            "type": "scatterpolar"
           }
          ],
          "scatterpolargl": [
           {
            "marker": {
             "colorbar": {
              "outlinewidth": 0,
              "ticks": ""
             }
            },
            "type": "scatterpolargl"
           }
          ],
          "scatterternary": [
           {
            "marker": {
             "colorbar": {
              "outlinewidth": 0,
              "ticks": ""
             }
            },
            "type": "scatterternary"
           }
          ],
          "surface": [
           {
            "colorbar": {
             "outlinewidth": 0,
             "ticks": ""
            },
            "colorscale": [
             [
              0,
              "#0d0887"
             ],
             [
              0.1111111111111111,
              "#46039f"
             ],
             [
              0.2222222222222222,
              "#7201a8"
             ],
             [
              0.3333333333333333,
              "#9c179e"
             ],
             [
              0.4444444444444444,
              "#bd3786"
             ],
             [
              0.5555555555555556,
              "#d8576b"
             ],
             [
              0.6666666666666666,
              "#ed7953"
             ],
             [
              0.7777777777777778,
              "#fb9f3a"
             ],
             [
              0.8888888888888888,
              "#fdca26"
             ],
             [
              1,
              "#f0f921"
             ]
            ],
            "type": "surface"
           }
          ],
          "table": [
           {
            "cells": {
             "fill": {
              "color": "#EBF0F8"
             },
             "line": {
              "color": "white"
             }
            },
            "header": {
             "fill": {
              "color": "#C8D4E3"
             },
             "line": {
              "color": "white"
             }
            },
            "type": "table"
           }
          ]
         },
         "layout": {
          "annotationdefaults": {
           "arrowcolor": "#2a3f5f",
           "arrowhead": 0,
           "arrowwidth": 1
          },
          "autotypenumbers": "strict",
          "coloraxis": {
           "colorbar": {
            "outlinewidth": 0,
            "ticks": ""
           }
          },
          "colorscale": {
           "diverging": [
            [
             0,
             "#8e0152"
            ],
            [
             0.1,
             "#c51b7d"
            ],
            [
             0.2,
             "#de77ae"
            ],
            [
             0.3,
             "#f1b6da"
            ],
            [
             0.4,
             "#fde0ef"
            ],
            [
             0.5,
             "#f7f7f7"
            ],
            [
             0.6,
             "#e6f5d0"
            ],
            [
             0.7,
             "#b8e186"
            ],
            [
             0.8,
             "#7fbc41"
            ],
            [
             0.9,
             "#4d9221"
            ],
            [
             1,
             "#276419"
            ]
           ],
           "sequential": [
            [
             0,
             "#0d0887"
            ],
            [
             0.1111111111111111,
             "#46039f"
            ],
            [
             0.2222222222222222,
             "#7201a8"
            ],
            [
             0.3333333333333333,
             "#9c179e"
            ],
            [
             0.4444444444444444,
             "#bd3786"
            ],
            [
             0.5555555555555556,
             "#d8576b"
            ],
            [
             0.6666666666666666,
             "#ed7953"
            ],
            [
             0.7777777777777778,
             "#fb9f3a"
            ],
            [
             0.8888888888888888,
             "#fdca26"
            ],
            [
             1,
             "#f0f921"
            ]
           ],
           "sequentialminus": [
            [
             0,
             "#0d0887"
            ],
            [
             0.1111111111111111,
             "#46039f"
            ],
            [
             0.2222222222222222,
             "#7201a8"
            ],
            [
             0.3333333333333333,
             "#9c179e"
            ],
            [
             0.4444444444444444,
             "#bd3786"
            ],
            [
             0.5555555555555556,
             "#d8576b"
            ],
            [
             0.6666666666666666,
             "#ed7953"
            ],
            [
             0.7777777777777778,
             "#fb9f3a"
            ],
            [
             0.8888888888888888,
             "#fdca26"
            ],
            [
             1,
             "#f0f921"
            ]
           ]
          },
          "colorway": [
           "#636efa",
           "#EF553B",
           "#00cc96",
           "#ab63fa",
           "#FFA15A",
           "#19d3f3",
           "#FF6692",
           "#B6E880",
           "#FF97FF",
           "#FECB52"
          ],
          "font": {
           "color": "#2a3f5f"
          },
          "geo": {
           "bgcolor": "white",
           "lakecolor": "white",
           "landcolor": "#E5ECF6",
           "showlakes": true,
           "showland": true,
           "subunitcolor": "white"
          },
          "hoverlabel": {
           "align": "left"
          },
          "hovermode": "closest",
          "mapbox": {
           "style": "light"
          },
          "paper_bgcolor": "white",
          "plot_bgcolor": "#E5ECF6",
          "polar": {
           "angularaxis": {
            "gridcolor": "white",
            "linecolor": "white",
            "ticks": ""
           },
           "bgcolor": "#E5ECF6",
           "radialaxis": {
            "gridcolor": "white",
            "linecolor": "white",
            "ticks": ""
           }
          },
          "scene": {
           "xaxis": {
            "backgroundcolor": "#E5ECF6",
            "gridcolor": "white",
            "gridwidth": 2,
            "linecolor": "white",
            "showbackground": true,
            "ticks": "",
            "zerolinecolor": "white"
           },
           "yaxis": {
            "backgroundcolor": "#E5ECF6",
            "gridcolor": "white",
            "gridwidth": 2,
            "linecolor": "white",
            "showbackground": true,
            "ticks": "",
            "zerolinecolor": "white"
           },
           "zaxis": {
            "backgroundcolor": "#E5ECF6",
            "gridcolor": "white",
            "gridwidth": 2,
            "linecolor": "white",
            "showbackground": true,
            "ticks": "",
            "zerolinecolor": "white"
           }
          },
          "shapedefaults": {
           "line": {
            "color": "#2a3f5f"
           }
          },
          "ternary": {
           "aaxis": {
            "gridcolor": "white",
            "linecolor": "white",
            "ticks": ""
           },
           "baxis": {
            "gridcolor": "white",
            "linecolor": "white",
            "ticks": ""
           },
           "bgcolor": "#E5ECF6",
           "caxis": {
            "gridcolor": "white",
            "linecolor": "white",
            "ticks": ""
           }
          },
          "title": {
           "x": 0.05
          },
          "xaxis": {
           "automargin": true,
           "gridcolor": "white",
           "linecolor": "white",
           "ticks": "",
           "title": {
            "standoff": 15
           },
           "zerolinecolor": "white",
           "zerolinewidth": 2
          },
          "yaxis": {
           "automargin": true,
           "gridcolor": "white",
           "linecolor": "white",
           "ticks": "",
           "title": {
            "standoff": 15
           },
           "zerolinecolor": "white",
           "zerolinewidth": 2
          }
         }
        },
        "title": {
         "text": "Зависимость лояльности от пола клиента"
        },
        "width": 500,
        "xaxis": {
         "anchor": "y",
         "domain": [
          0,
          1
         ],
         "title": {
          "text": "Пол"
         }
        },
        "yaxis": {
         "anchor": "x",
         "domain": [
          0,
          1
         ],
         "title": {
          "text": "Доля от общего количества клиентов"
         }
        }
       }
      }
     },
     "metadata": {},
     "output_type": "display_data"
    }
   ],
   "source": [
    "# Отбираем данные\n",
    "df_churn = churn_data[['Gender', 'Exited']].copy()\n",
    "\n",
    "# Определим доли ушедших и лояльных клиентов\n",
    "df = (churn_data.pivot_table(\n",
    "    index='Gender',\n",
    "    values='Exited',\n",
    "    aggfunc='mean'\n",
    ") * 100).round().astype(int)\n",
    "# Добавляем новый столбец с лояльностью\n",
    "df['Loyal'] = 100 - df['Exited']\n",
    "# Переименовываем для подписей в легенде\n",
    "df = df.rename(columns={'Exited': 'Доля ушедших', 'Loyal': 'Доля лояльных'})\n",
    "\n",
    "# Для распределения по категориям строим столбчатую диаграмму\n",
    "fig = px.bar(\n",
    "    data_frame=df,\n",
    "    x=df.index, # Для оси х - пол клиента\n",
    "    y=df.columns, # Ось у - доля от общего числа ушедших\n",
    "    barmode='stack', # Отображаем сгруппированные столбцы вертикально\n",
    "    width=500, # Ширина\n",
    "    height=500, # Высота\n",
    "    text_auto=True, # Отображение подписей на столбцах\n",
    "    color_discrete_map={'Доля ушедших': 'red', 'Доля лояльных': 'purple'},\n",
    "    title='Зависимость лояльности от пола клиента', \n",
    "    labels={'variable': 'Статус клиента: '} # Заголовок легенды\n",
    ")\n",
    "\n",
    "fig.update_layout(\n",
    "    xaxis_title='Пол',\n",
    "    yaxis_title='Доля от общего количества клиентов',\n",
    ")\n",
    "\n",
    "fig.show()\n",
    "\n"
   ]
  },
  {
   "cell_type": "markdown",
   "id": "955ae2e4",
   "metadata": {},
   "source": [
    "По графику видно, что чаще уходят женщины"
   ]
  },
  {
   "cell_type": "markdown",
   "id": "2dcde34a",
   "metadata": {},
   "source": [
    "**Задание 9.7.** Как отток клиентов зависит от числа приобретённых у банка услуг? Для ответа на этот вопрос постройте многоуровневую столбчатую диаграмму."
   ]
  },
  {
   "cell_type": "code",
   "execution_count": null,
   "id": "e78e0d05",
   "metadata": {},
   "outputs": [
    {
     "data": {
      "application/vnd.plotly.v1+json": {
       "config": {
        "plotlyServerURL": "https://plot.ly"
       },
       "data": [
        {
         "alignmentgroup": "True",
         "hovertemplate": "Статус клиента: =Доля лояльных<br>NumOfProducts=%{x}<br>value=%{y}<extra></extra>",
         "legendgroup": "Доля лояльных",
         "marker": {
          "color": "#636efa",
          "pattern": {
           "shape": ""
          }
         },
         "name": "Доля лояльных",
         "offsetgroup": "Доля лояльных",
         "orientation": "v",
         "showlegend": true,
         "textposition": "auto",
         "texttemplate": "%{y}",
         "type": "bar",
         "x": {
          "bdata": "AQIDBA==",
          "dtype": "i1"
         },
         "xaxis": "x",
         "y": {
          "bdata": "0nQkTUcSUkBwxRpwxRpXQLBUxFIRSzFAAAAAAAAAAAA=",
          "dtype": "f8"
         },
         "yaxis": "y"
        },
        {
         "alignmentgroup": "True",
         "hovertemplate": "Статус клиента: =Доля ушедших<br>NumOfProducts=%{x}<br>value=%{y}<extra></extra>",
         "legendgroup": "Доля ушедших",
         "marker": {
          "color": "#EF553B",
          "pattern": {
           "shape": ""
          }
         },
         "name": "Доля ушедших",
         "offsetgroup": "Доля ушедших",
         "orientation": "v",
         "showlegend": true,
         "textposition": "auto",
         "texttemplate": "%{y}",
         "type": "bar",
         "x": {
          "bdata": "AQIDBA==",
          "dtype": "i1"
         },
         "xaxis": "x",
         "y": {
          "bdata": "tyxuy+K2O0D+qFP+qFMeQNTqTqs7rVRAAAAAAAAAWUA=",
          "dtype": "f8"
         },
         "yaxis": "y"
        }
       ],
       "layout": {
        "barmode": "group",
        "height": 500,
        "legend": {
         "title": {
          "text": "Статус клиента: "
         },
         "tracegroupgap": 0
        },
        "template": {
         "data": {
          "bar": [
           {
            "error_x": {
             "color": "#2a3f5f"
            },
            "error_y": {
             "color": "#2a3f5f"
            },
            "marker": {
             "line": {
              "color": "#E5ECF6",
              "width": 0.5
             },
             "pattern": {
              "fillmode": "overlay",
              "size": 10,
              "solidity": 0.2
             }
            },
            "type": "bar"
           }
          ],
          "barpolar": [
           {
            "marker": {
             "line": {
              "color": "#E5ECF6",
              "width": 0.5
             },
             "pattern": {
              "fillmode": "overlay",
              "size": 10,
              "solidity": 0.2
             }
            },
            "type": "barpolar"
           }
          ],
          "carpet": [
           {
            "aaxis": {
             "endlinecolor": "#2a3f5f",
             "gridcolor": "white",
             "linecolor": "white",
             "minorgridcolor": "white",
             "startlinecolor": "#2a3f5f"
            },
            "baxis": {
             "endlinecolor": "#2a3f5f",
             "gridcolor": "white",
             "linecolor": "white",
             "minorgridcolor": "white",
             "startlinecolor": "#2a3f5f"
            },
            "type": "carpet"
           }
          ],
          "choropleth": [
           {
            "colorbar": {
             "outlinewidth": 0,
             "ticks": ""
            },
            "type": "choropleth"
           }
          ],
          "contour": [
           {
            "colorbar": {
             "outlinewidth": 0,
             "ticks": ""
            },
            "colorscale": [
             [
              0,
              "#0d0887"
             ],
             [
              0.1111111111111111,
              "#46039f"
             ],
             [
              0.2222222222222222,
              "#7201a8"
             ],
             [
              0.3333333333333333,
              "#9c179e"
             ],
             [
              0.4444444444444444,
              "#bd3786"
             ],
             [
              0.5555555555555556,
              "#d8576b"
             ],
             [
              0.6666666666666666,
              "#ed7953"
             ],
             [
              0.7777777777777778,
              "#fb9f3a"
             ],
             [
              0.8888888888888888,
              "#fdca26"
             ],
             [
              1,
              "#f0f921"
             ]
            ],
            "type": "contour"
           }
          ],
          "contourcarpet": [
           {
            "colorbar": {
             "outlinewidth": 0,
             "ticks": ""
            },
            "type": "contourcarpet"
           }
          ],
          "heatmap": [
           {
            "colorbar": {
             "outlinewidth": 0,
             "ticks": ""
            },
            "colorscale": [
             [
              0,
              "#0d0887"
             ],
             [
              0.1111111111111111,
              "#46039f"
             ],
             [
              0.2222222222222222,
              "#7201a8"
             ],
             [
              0.3333333333333333,
              "#9c179e"
             ],
             [
              0.4444444444444444,
              "#bd3786"
             ],
             [
              0.5555555555555556,
              "#d8576b"
             ],
             [
              0.6666666666666666,
              "#ed7953"
             ],
             [
              0.7777777777777778,
              "#fb9f3a"
             ],
             [
              0.8888888888888888,
              "#fdca26"
             ],
             [
              1,
              "#f0f921"
             ]
            ],
            "type": "heatmap"
           }
          ],
          "histogram": [
           {
            "marker": {
             "pattern": {
              "fillmode": "overlay",
              "size": 10,
              "solidity": 0.2
             }
            },
            "type": "histogram"
           }
          ],
          "histogram2d": [
           {
            "colorbar": {
             "outlinewidth": 0,
             "ticks": ""
            },
            "colorscale": [
             [
              0,
              "#0d0887"
             ],
             [
              0.1111111111111111,
              "#46039f"
             ],
             [
              0.2222222222222222,
              "#7201a8"
             ],
             [
              0.3333333333333333,
              "#9c179e"
             ],
             [
              0.4444444444444444,
              "#bd3786"
             ],
             [
              0.5555555555555556,
              "#d8576b"
             ],
             [
              0.6666666666666666,
              "#ed7953"
             ],
             [
              0.7777777777777778,
              "#fb9f3a"
             ],
             [
              0.8888888888888888,
              "#fdca26"
             ],
             [
              1,
              "#f0f921"
             ]
            ],
            "type": "histogram2d"
           }
          ],
          "histogram2dcontour": [
           {
            "colorbar": {
             "outlinewidth": 0,
             "ticks": ""
            },
            "colorscale": [
             [
              0,
              "#0d0887"
             ],
             [
              0.1111111111111111,
              "#46039f"
             ],
             [
              0.2222222222222222,
              "#7201a8"
             ],
             [
              0.3333333333333333,
              "#9c179e"
             ],
             [
              0.4444444444444444,
              "#bd3786"
             ],
             [
              0.5555555555555556,
              "#d8576b"
             ],
             [
              0.6666666666666666,
              "#ed7953"
             ],
             [
              0.7777777777777778,
              "#fb9f3a"
             ],
             [
              0.8888888888888888,
              "#fdca26"
             ],
             [
              1,
              "#f0f921"
             ]
            ],
            "type": "histogram2dcontour"
           }
          ],
          "mesh3d": [
           {
            "colorbar": {
             "outlinewidth": 0,
             "ticks": ""
            },
            "type": "mesh3d"
           }
          ],
          "parcoords": [
           {
            "line": {
             "colorbar": {
              "outlinewidth": 0,
              "ticks": ""
             }
            },
            "type": "parcoords"
           }
          ],
          "pie": [
           {
            "automargin": true,
            "type": "pie"
           }
          ],
          "scatter": [
           {
            "fillpattern": {
             "fillmode": "overlay",
             "size": 10,
             "solidity": 0.2
            },
            "type": "scatter"
           }
          ],
          "scatter3d": [
           {
            "line": {
             "colorbar": {
              "outlinewidth": 0,
              "ticks": ""
             }
            },
            "marker": {
             "colorbar": {
              "outlinewidth": 0,
              "ticks": ""
             }
            },
            "type": "scatter3d"
           }
          ],
          "scattercarpet": [
           {
            "marker": {
             "colorbar": {
              "outlinewidth": 0,
              "ticks": ""
             }
            },
            "type": "scattercarpet"
           }
          ],
          "scattergeo": [
           {
            "marker": {
             "colorbar": {
              "outlinewidth": 0,
              "ticks": ""
             }
            },
            "type": "scattergeo"
           }
          ],
          "scattergl": [
           {
            "marker": {
             "colorbar": {
              "outlinewidth": 0,
              "ticks": ""
             }
            },
            "type": "scattergl"
           }
          ],
          "scattermap": [
           {
            "marker": {
             "colorbar": {
              "outlinewidth": 0,
              "ticks": ""
             }
            },
            "type": "scattermap"
           }
          ],
          "scattermapbox": [
           {
            "marker": {
             "colorbar": {
              "outlinewidth": 0,
              "ticks": ""
             }
            },
            "type": "scattermapbox"
           }
          ],
          "scatterpolar": [
           {
            "marker": {
             "colorbar": {
              "outlinewidth": 0,
              "ticks": ""
             }
            },
            "type": "scatterpolar"
           }
          ],
          "scatterpolargl": [
           {
            "marker": {
             "colorbar": {
              "outlinewidth": 0,
              "ticks": ""
             }
            },
            "type": "scatterpolargl"
           }
          ],
          "scatterternary": [
           {
            "marker": {
             "colorbar": {
              "outlinewidth": 0,
              "ticks": ""
             }
            },
            "type": "scatterternary"
           }
          ],
          "surface": [
           {
            "colorbar": {
             "outlinewidth": 0,
             "ticks": ""
            },
            "colorscale": [
             [
              0,
              "#0d0887"
             ],
             [
              0.1111111111111111,
              "#46039f"
             ],
             [
              0.2222222222222222,
              "#7201a8"
             ],
             [
              0.3333333333333333,
              "#9c179e"
             ],
             [
              0.4444444444444444,
              "#bd3786"
             ],
             [
              0.5555555555555556,
              "#d8576b"
             ],
             [
              0.6666666666666666,
              "#ed7953"
             ],
             [
              0.7777777777777778,
              "#fb9f3a"
             ],
             [
              0.8888888888888888,
              "#fdca26"
             ],
             [
              1,
              "#f0f921"
             ]
            ],
            "type": "surface"
           }
          ],
          "table": [
           {
            "cells": {
             "fill": {
              "color": "#EBF0F8"
             },
             "line": {
              "color": "white"
             }
            },
            "header": {
             "fill": {
              "color": "#C8D4E3"
             },
             "line": {
              "color": "white"
             }
            },
            "type": "table"
           }
          ]
         },
         "layout": {
          "annotationdefaults": {
           "arrowcolor": "#2a3f5f",
           "arrowhead": 0,
           "arrowwidth": 1
          },
          "autotypenumbers": "strict",
          "coloraxis": {
           "colorbar": {
            "outlinewidth": 0,
            "ticks": ""
           }
          },
          "colorscale": {
           "diverging": [
            [
             0,
             "#8e0152"
            ],
            [
             0.1,
             "#c51b7d"
            ],
            [
             0.2,
             "#de77ae"
            ],
            [
             0.3,
             "#f1b6da"
            ],
            [
             0.4,
             "#fde0ef"
            ],
            [
             0.5,
             "#f7f7f7"
            ],
            [
             0.6,
             "#e6f5d0"
            ],
            [
             0.7,
             "#b8e186"
            ],
            [
             0.8,
             "#7fbc41"
            ],
            [
             0.9,
             "#4d9221"
            ],
            [
             1,
             "#276419"
            ]
           ],
           "sequential": [
            [
             0,
             "#0d0887"
            ],
            [
             0.1111111111111111,
             "#46039f"
            ],
            [
             0.2222222222222222,
             "#7201a8"
            ],
            [
             0.3333333333333333,
             "#9c179e"
            ],
            [
             0.4444444444444444,
             "#bd3786"
            ],
            [
             0.5555555555555556,
             "#d8576b"
            ],
            [
             0.6666666666666666,
             "#ed7953"
            ],
            [
             0.7777777777777778,
             "#fb9f3a"
            ],
            [
             0.8888888888888888,
             "#fdca26"
            ],
            [
             1,
             "#f0f921"
            ]
           ],
           "sequentialminus": [
            [
             0,
             "#0d0887"
            ],
            [
             0.1111111111111111,
             "#46039f"
            ],
            [
             0.2222222222222222,
             "#7201a8"
            ],
            [
             0.3333333333333333,
             "#9c179e"
            ],
            [
             0.4444444444444444,
             "#bd3786"
            ],
            [
             0.5555555555555556,
             "#d8576b"
            ],
            [
             0.6666666666666666,
             "#ed7953"
            ],
            [
             0.7777777777777778,
             "#fb9f3a"
            ],
            [
             0.8888888888888888,
             "#fdca26"
            ],
            [
             1,
             "#f0f921"
            ]
           ]
          },
          "colorway": [
           "#636efa",
           "#EF553B",
           "#00cc96",
           "#ab63fa",
           "#FFA15A",
           "#19d3f3",
           "#FF6692",
           "#B6E880",
           "#FF97FF",
           "#FECB52"
          ],
          "font": {
           "color": "#2a3f5f"
          },
          "geo": {
           "bgcolor": "white",
           "lakecolor": "white",
           "landcolor": "#E5ECF6",
           "showlakes": true,
           "showland": true,
           "subunitcolor": "white"
          },
          "hoverlabel": {
           "align": "left"
          },
          "hovermode": "closest",
          "mapbox": {
           "style": "light"
          },
          "paper_bgcolor": "white",
          "plot_bgcolor": "#E5ECF6",
          "polar": {
           "angularaxis": {
            "gridcolor": "white",
            "linecolor": "white",
            "ticks": ""
           },
           "bgcolor": "#E5ECF6",
           "radialaxis": {
            "gridcolor": "white",
            "linecolor": "white",
            "ticks": ""
           }
          },
          "scene": {
           "xaxis": {
            "backgroundcolor": "#E5ECF6",
            "gridcolor": "white",
            "gridwidth": 2,
            "linecolor": "white",
            "showbackground": true,
            "ticks": "",
            "zerolinecolor": "white"
           },
           "yaxis": {
            "backgroundcolor": "#E5ECF6",
            "gridcolor": "white",
            "gridwidth": 2,
            "linecolor": "white",
            "showbackground": true,
            "ticks": "",
            "zerolinecolor": "white"
           },
           "zaxis": {
            "backgroundcolor": "#E5ECF6",
            "gridcolor": "white",
            "gridwidth": 2,
            "linecolor": "white",
            "showbackground": true,
            "ticks": "",
            "zerolinecolor": "white"
           }
          },
          "shapedefaults": {
           "line": {
            "color": "#2a3f5f"
           }
          },
          "ternary": {
           "aaxis": {
            "gridcolor": "white",
            "linecolor": "white",
            "ticks": ""
           },
           "baxis": {
            "gridcolor": "white",
            "linecolor": "white",
            "ticks": ""
           },
           "bgcolor": "#E5ECF6",
           "caxis": {
            "gridcolor": "white",
            "linecolor": "white",
            "ticks": ""
           }
          },
          "title": {
           "x": 0.05
          },
          "xaxis": {
           "automargin": true,
           "gridcolor": "white",
           "linecolor": "white",
           "ticks": "",
           "title": {
            "standoff": 15
           },
           "zerolinecolor": "white",
           "zerolinewidth": 2
          },
          "yaxis": {
           "automargin": true,
           "gridcolor": "white",
           "linecolor": "white",
           "ticks": "",
           "title": {
            "standoff": 15
           },
           "zerolinecolor": "white",
           "zerolinewidth": 2
          }
         }
        },
        "title": {
         "text": "Зависимость оттока клиентов от числа приобретенных услуг"
        },
        "width": 500,
        "xaxis": {
         "anchor": "y",
         "domain": [
          0,
          1
         ],
         "title": {
          "text": "Количество услуг"
         }
        },
        "yaxis": {
         "anchor": "x",
         "domain": [
          0,
          1
         ],
         "title": {
          "text": "Доля от общего количества клиентов, %"
         }
        }
       }
      }
     },
     "metadata": {},
     "output_type": "display_data"
    }
   ],
   "source": [
    "# Отбираем необходимые данные\n",
    "df_churn = churn_data[['Exited', 'NumOfProducts', 'CustomerId']].copy()\n",
    "\n",
    "# Строим сводную таблицу\n",
    "df = df_churn.pivot_table(\n",
    "    index='NumOfProducts', # Строки\n",
    "    columns='Exited', # Столбцы\n",
    "    values='CustomerId', # Значения\n",
    "    fill_value=0, # Заменяем пустые значения на 0\n",
    "    aggfunc='count' # Применяем функцию подсчета\n",
    ")\n",
    "\n",
    "# Вычисляем процентные доли ушедших и лояльных клиентов\n",
    "df = df.rename(columns={1: 'Ушедшие', 0: 'Лояльные'}) \n",
    "df['Доля ушедших'] = (df['Ушедшие'] * 100 / (df['Лояльные'] + df['Ушедшие'])) \n",
    "df['Доля лояльных'] =  100 - df['Доля ушедших'] \n",
    "\n",
    "# Строим столбчатую диаграмму\n",
    "fig = px.bar(\n",
    "    data_frame=df,\n",
    "    x=df.index, # Количество услуг\n",
    "    y=['Доля лояльных', 'Доля ушедших'], # Процентная доля \n",
    "    barmode='group', # Расположение по горизонтали\n",
    "    title='Зависимость оттока клиентов от числа приобретенных услуг',\n",
    "    labels={'variable': 'Статус клиента: '}, # Подпись на легенде\n",
    "    text_auto=True, # Отображение значений\n",
    "    width=500, # Ширина\n",
    "    height=500, # Высота\n",
    ")\n",
    "fig.update_layout(\n",
    "    xaxis_title='Количество услуг',\n",
    "    yaxis_title='Доля от общего количества клиентов, %'\n",
    ")\n",
    "\n",
    "fig.show()"
   ]
  },
  {
   "cell_type": "markdown",
   "id": "a7c12828",
   "metadata": {},
   "source": [
    "Из графика видно, что наименьший отток клиентов наблюдается при количестве услуг равном 2. Максимальный отток у клиентов, которые приобрели 4 услуги"
   ]
  },
  {
   "cell_type": "markdown",
   "id": "86dbbc81",
   "metadata": {},
   "source": [
    "**Задание 9.8.** Как влияет наличие статуса активного клиента на отток клиентов? Постройте диаграмму, иллюстрирующую это. Что бы вы предложили банку, чтобы уменьшить отток клиентов среди неактивных?"
   ]
  },
  {
   "cell_type": "code",
   "execution_count": 30,
   "id": "ae3c58dd",
   "metadata": {},
   "outputs": [
    {
     "data": {
      "application/vnd.plotly.v1+json": {
       "config": {
        "plotlyServerURL": "https://plot.ly"
       },
       "data": [
        {
         "alignmentgroup": "True",
         "hovertemplate": "Статус клиента: =Доля ушедших<br>IsActiveMember=%{x}<br>value=%{y}<extra></extra>",
         "legendgroup": "Доля ушедших",
         "marker": {
          "color": "#636efa",
          "pattern": {
           "shape": ""
          }
         },
         "name": "Доля ушедших",
         "offsetgroup": "Доля ушедших",
         "orientation": "v",
         "showlegend": true,
         "textposition": "auto",
         "texttemplate": "%{y}",
         "type": "bar",
         "x": {
          "bdata": "AAE=",
          "dtype": "i1"
         },
         "xaxis": "x",
         "y": {
          "bdata": "DDFPZNTZOkC6PRoQxIksQA==",
          "dtype": "f8"
         },
         "yaxis": "y"
        },
        {
         "alignmentgroup": "True",
         "hovertemplate": "Статус клиента: =Доля лояльных<br>IsActiveMember=%{x}<br>value=%{y}<extra></extra>",
         "legendgroup": "Доля лояльных",
         "marker": {
          "color": "#EF553B",
          "pattern": {
           "shape": ""
          }
         },
         "name": "Доля лояльных",
         "offsetgroup": "Доля лояльных",
         "orientation": "v",
         "showlegend": true,
         "textposition": "auto",
         "texttemplate": "%{y}",
         "type": "bar",
         "x": {
          "bdata": "AAE=",
          "dtype": "i1"
         },
         "xaxis": "x",
         "y": {
          "bdata": "vTPs5opJUkBJuPx9x25VQA==",
          "dtype": "f8"
         },
         "yaxis": "y"
        }
       ],
       "layout": {
        "barmode": "group",
        "height": 500,
        "legend": {
         "title": {
          "text": "Статус клиента: "
         },
         "tracegroupgap": 0
        },
        "template": {
         "data": {
          "bar": [
           {
            "error_x": {
             "color": "#2a3f5f"
            },
            "error_y": {
             "color": "#2a3f5f"
            },
            "marker": {
             "line": {
              "color": "#E5ECF6",
              "width": 0.5
             },
             "pattern": {
              "fillmode": "overlay",
              "size": 10,
              "solidity": 0.2
             }
            },
            "type": "bar"
           }
          ],
          "barpolar": [
           {
            "marker": {
             "line": {
              "color": "#E5ECF6",
              "width": 0.5
             },
             "pattern": {
              "fillmode": "overlay",
              "size": 10,
              "solidity": 0.2
             }
            },
            "type": "barpolar"
           }
          ],
          "carpet": [
           {
            "aaxis": {
             "endlinecolor": "#2a3f5f",
             "gridcolor": "white",
             "linecolor": "white",
             "minorgridcolor": "white",
             "startlinecolor": "#2a3f5f"
            },
            "baxis": {
             "endlinecolor": "#2a3f5f",
             "gridcolor": "white",
             "linecolor": "white",
             "minorgridcolor": "white",
             "startlinecolor": "#2a3f5f"
            },
            "type": "carpet"
           }
          ],
          "choropleth": [
           {
            "colorbar": {
             "outlinewidth": 0,
             "ticks": ""
            },
            "type": "choropleth"
           }
          ],
          "contour": [
           {
            "colorbar": {
             "outlinewidth": 0,
             "ticks": ""
            },
            "colorscale": [
             [
              0,
              "#0d0887"
             ],
             [
              0.1111111111111111,
              "#46039f"
             ],
             [
              0.2222222222222222,
              "#7201a8"
             ],
             [
              0.3333333333333333,
              "#9c179e"
             ],
             [
              0.4444444444444444,
              "#bd3786"
             ],
             [
              0.5555555555555556,
              "#d8576b"
             ],
             [
              0.6666666666666666,
              "#ed7953"
             ],
             [
              0.7777777777777778,
              "#fb9f3a"
             ],
             [
              0.8888888888888888,
              "#fdca26"
             ],
             [
              1,
              "#f0f921"
             ]
            ],
            "type": "contour"
           }
          ],
          "contourcarpet": [
           {
            "colorbar": {
             "outlinewidth": 0,
             "ticks": ""
            },
            "type": "contourcarpet"
           }
          ],
          "heatmap": [
           {
            "colorbar": {
             "outlinewidth": 0,
             "ticks": ""
            },
            "colorscale": [
             [
              0,
              "#0d0887"
             ],
             [
              0.1111111111111111,
              "#46039f"
             ],
             [
              0.2222222222222222,
              "#7201a8"
             ],
             [
              0.3333333333333333,
              "#9c179e"
             ],
             [
              0.4444444444444444,
              "#bd3786"
             ],
             [
              0.5555555555555556,
              "#d8576b"
             ],
             [
              0.6666666666666666,
              "#ed7953"
             ],
             [
              0.7777777777777778,
              "#fb9f3a"
             ],
             [
              0.8888888888888888,
              "#fdca26"
             ],
             [
              1,
              "#f0f921"
             ]
            ],
            "type": "heatmap"
           }
          ],
          "histogram": [
           {
            "marker": {
             "pattern": {
              "fillmode": "overlay",
              "size": 10,
              "solidity": 0.2
             }
            },
            "type": "histogram"
           }
          ],
          "histogram2d": [
           {
            "colorbar": {
             "outlinewidth": 0,
             "ticks": ""
            },
            "colorscale": [
             [
              0,
              "#0d0887"
             ],
             [
              0.1111111111111111,
              "#46039f"
             ],
             [
              0.2222222222222222,
              "#7201a8"
             ],
             [
              0.3333333333333333,
              "#9c179e"
             ],
             [
              0.4444444444444444,
              "#bd3786"
             ],
             [
              0.5555555555555556,
              "#d8576b"
             ],
             [
              0.6666666666666666,
              "#ed7953"
             ],
             [
              0.7777777777777778,
              "#fb9f3a"
             ],
             [
              0.8888888888888888,
              "#fdca26"
             ],
             [
              1,
              "#f0f921"
             ]
            ],
            "type": "histogram2d"
           }
          ],
          "histogram2dcontour": [
           {
            "colorbar": {
             "outlinewidth": 0,
             "ticks": ""
            },
            "colorscale": [
             [
              0,
              "#0d0887"
             ],
             [
              0.1111111111111111,
              "#46039f"
             ],
             [
              0.2222222222222222,
              "#7201a8"
             ],
             [
              0.3333333333333333,
              "#9c179e"
             ],
             [
              0.4444444444444444,
              "#bd3786"
             ],
             [
              0.5555555555555556,
              "#d8576b"
             ],
             [
              0.6666666666666666,
              "#ed7953"
             ],
             [
              0.7777777777777778,
              "#fb9f3a"
             ],
             [
              0.8888888888888888,
              "#fdca26"
             ],
             [
              1,
              "#f0f921"
             ]
            ],
            "type": "histogram2dcontour"
           }
          ],
          "mesh3d": [
           {
            "colorbar": {
             "outlinewidth": 0,
             "ticks": ""
            },
            "type": "mesh3d"
           }
          ],
          "parcoords": [
           {
            "line": {
             "colorbar": {
              "outlinewidth": 0,
              "ticks": ""
             }
            },
            "type": "parcoords"
           }
          ],
          "pie": [
           {
            "automargin": true,
            "type": "pie"
           }
          ],
          "scatter": [
           {
            "fillpattern": {
             "fillmode": "overlay",
             "size": 10,
             "solidity": 0.2
            },
            "type": "scatter"
           }
          ],
          "scatter3d": [
           {
            "line": {
             "colorbar": {
              "outlinewidth": 0,
              "ticks": ""
             }
            },
            "marker": {
             "colorbar": {
              "outlinewidth": 0,
              "ticks": ""
             }
            },
            "type": "scatter3d"
           }
          ],
          "scattercarpet": [
           {
            "marker": {
             "colorbar": {
              "outlinewidth": 0,
              "ticks": ""
             }
            },
            "type": "scattercarpet"
           }
          ],
          "scattergeo": [
           {
            "marker": {
             "colorbar": {
              "outlinewidth": 0,
              "ticks": ""
             }
            },
            "type": "scattergeo"
           }
          ],
          "scattergl": [
           {
            "marker": {
             "colorbar": {
              "outlinewidth": 0,
              "ticks": ""
             }
            },
            "type": "scattergl"
           }
          ],
          "scattermap": [
           {
            "marker": {
             "colorbar": {
              "outlinewidth": 0,
              "ticks": ""
             }
            },
            "type": "scattermap"
           }
          ],
          "scattermapbox": [
           {
            "marker": {
             "colorbar": {
              "outlinewidth": 0,
              "ticks": ""
             }
            },
            "type": "scattermapbox"
           }
          ],
          "scatterpolar": [
           {
            "marker": {
             "colorbar": {
              "outlinewidth": 0,
              "ticks": ""
             }
            },
            "type": "scatterpolar"
           }
          ],
          "scatterpolargl": [
           {
            "marker": {
             "colorbar": {
              "outlinewidth": 0,
              "ticks": ""
             }
            },
            "type": "scatterpolargl"
           }
          ],
          "scatterternary": [
           {
            "marker": {
             "colorbar": {
              "outlinewidth": 0,
              "ticks": ""
             }
            },
            "type": "scatterternary"
           }
          ],
          "surface": [
           {
            "colorbar": {
             "outlinewidth": 0,
             "ticks": ""
            },
            "colorscale": [
             [
              0,
              "#0d0887"
             ],
             [
              0.1111111111111111,
              "#46039f"
             ],
             [
              0.2222222222222222,
              "#7201a8"
             ],
             [
              0.3333333333333333,
              "#9c179e"
             ],
             [
              0.4444444444444444,
              "#bd3786"
             ],
             [
              0.5555555555555556,
              "#d8576b"
             ],
             [
              0.6666666666666666,
              "#ed7953"
             ],
             [
              0.7777777777777778,
              "#fb9f3a"
             ],
             [
              0.8888888888888888,
              "#fdca26"
             ],
             [
              1,
              "#f0f921"
             ]
            ],
            "type": "surface"
           }
          ],
          "table": [
           {
            "cells": {
             "fill": {
              "color": "#EBF0F8"
             },
             "line": {
              "color": "white"
             }
            },
            "header": {
             "fill": {
              "color": "#C8D4E3"
             },
             "line": {
              "color": "white"
             }
            },
            "type": "table"
           }
          ]
         },
         "layout": {
          "annotationdefaults": {
           "arrowcolor": "#2a3f5f",
           "arrowhead": 0,
           "arrowwidth": 1
          },
          "autotypenumbers": "strict",
          "coloraxis": {
           "colorbar": {
            "outlinewidth": 0,
            "ticks": ""
           }
          },
          "colorscale": {
           "diverging": [
            [
             0,
             "#8e0152"
            ],
            [
             0.1,
             "#c51b7d"
            ],
            [
             0.2,
             "#de77ae"
            ],
            [
             0.3,
             "#f1b6da"
            ],
            [
             0.4,
             "#fde0ef"
            ],
            [
             0.5,
             "#f7f7f7"
            ],
            [
             0.6,
             "#e6f5d0"
            ],
            [
             0.7,
             "#b8e186"
            ],
            [
             0.8,
             "#7fbc41"
            ],
            [
             0.9,
             "#4d9221"
            ],
            [
             1,
             "#276419"
            ]
           ],
           "sequential": [
            [
             0,
             "#0d0887"
            ],
            [
             0.1111111111111111,
             "#46039f"
            ],
            [
             0.2222222222222222,
             "#7201a8"
            ],
            [
             0.3333333333333333,
             "#9c179e"
            ],
            [
             0.4444444444444444,
             "#bd3786"
            ],
            [
             0.5555555555555556,
             "#d8576b"
            ],
            [
             0.6666666666666666,
             "#ed7953"
            ],
            [
             0.7777777777777778,
             "#fb9f3a"
            ],
            [
             0.8888888888888888,
             "#fdca26"
            ],
            [
             1,
             "#f0f921"
            ]
           ],
           "sequentialminus": [
            [
             0,
             "#0d0887"
            ],
            [
             0.1111111111111111,
             "#46039f"
            ],
            [
             0.2222222222222222,
             "#7201a8"
            ],
            [
             0.3333333333333333,
             "#9c179e"
            ],
            [
             0.4444444444444444,
             "#bd3786"
            ],
            [
             0.5555555555555556,
             "#d8576b"
            ],
            [
             0.6666666666666666,
             "#ed7953"
            ],
            [
             0.7777777777777778,
             "#fb9f3a"
            ],
            [
             0.8888888888888888,
             "#fdca26"
            ],
            [
             1,
             "#f0f921"
            ]
           ]
          },
          "colorway": [
           "#636efa",
           "#EF553B",
           "#00cc96",
           "#ab63fa",
           "#FFA15A",
           "#19d3f3",
           "#FF6692",
           "#B6E880",
           "#FF97FF",
           "#FECB52"
          ],
          "font": {
           "color": "#2a3f5f"
          },
          "geo": {
           "bgcolor": "white",
           "lakecolor": "white",
           "landcolor": "#E5ECF6",
           "showlakes": true,
           "showland": true,
           "subunitcolor": "white"
          },
          "hoverlabel": {
           "align": "left"
          },
          "hovermode": "closest",
          "mapbox": {
           "style": "light"
          },
          "paper_bgcolor": "white",
          "plot_bgcolor": "#E5ECF6",
          "polar": {
           "angularaxis": {
            "gridcolor": "white",
            "linecolor": "white",
            "ticks": ""
           },
           "bgcolor": "#E5ECF6",
           "radialaxis": {
            "gridcolor": "white",
            "linecolor": "white",
            "ticks": ""
           }
          },
          "scene": {
           "xaxis": {
            "backgroundcolor": "#E5ECF6",
            "gridcolor": "white",
            "gridwidth": 2,
            "linecolor": "white",
            "showbackground": true,
            "ticks": "",
            "zerolinecolor": "white"
           },
           "yaxis": {
            "backgroundcolor": "#E5ECF6",
            "gridcolor": "white",
            "gridwidth": 2,
            "linecolor": "white",
            "showbackground": true,
            "ticks": "",
            "zerolinecolor": "white"
           },
           "zaxis": {
            "backgroundcolor": "#E5ECF6",
            "gridcolor": "white",
            "gridwidth": 2,
            "linecolor": "white",
            "showbackground": true,
            "ticks": "",
            "zerolinecolor": "white"
           }
          },
          "shapedefaults": {
           "line": {
            "color": "#2a3f5f"
           }
          },
          "ternary": {
           "aaxis": {
            "gridcolor": "white",
            "linecolor": "white",
            "ticks": ""
           },
           "baxis": {
            "gridcolor": "white",
            "linecolor": "white",
            "ticks": ""
           },
           "bgcolor": "#E5ECF6",
           "caxis": {
            "gridcolor": "white",
            "linecolor": "white",
            "ticks": ""
           }
          },
          "title": {
           "x": 0.05
          },
          "xaxis": {
           "automargin": true,
           "gridcolor": "white",
           "linecolor": "white",
           "ticks": "",
           "title": {
            "standoff": 15
           },
           "zerolinecolor": "white",
           "zerolinewidth": 2
          },
          "yaxis": {
           "automargin": true,
           "gridcolor": "white",
           "linecolor": "white",
           "ticks": "",
           "title": {
            "standoff": 15
           },
           "zerolinecolor": "white",
           "zerolinewidth": 2
          }
         }
        },
        "title": {
         "text": "Зависимость оттока от наличия активного ствтуса клиента"
        },
        "width": 500,
        "xaxis": {
         "anchor": "y",
         "domain": [
          0,
          1
         ],
         "title": {
          "text": "Статус активного клиента"
         }
        },
        "yaxis": {
         "anchor": "x",
         "domain": [
          0,
          1
         ],
         "title": {
          "text": "Доля от общего числа клиентов, %"
         }
        }
       }
      }
     },
     "metadata": {},
     "output_type": "display_data"
    }
   ],
   "source": [
    "# Отбираем необходимые данные\n",
    "df_churn = churn_data[['IsActiveMember', 'Exited', 'CustomerId']].copy()\n",
    "\n",
    "# Строим сводную таблицу\n",
    "df = df_churn.pivot_table(\n",
    "    index='IsActiveMember', # Строки\n",
    "    columns='Exited', # Столбцы\n",
    "    values='CustomerId', # Значения\n",
    "    fill_value=0, # Заменяем пустые значения на 0\n",
    "    aggfunc='count' # Проводим подсчет\n",
    ")\n",
    "# Вычисляем доли ушедших и лояльных клиентов\n",
    "df= df.rename(columns = {1: 'Ушедшие', 0: 'Лояльные'})\n",
    "df['Доля ушедших'] = (df['Ушедшие'] * 100 / (df['Ушедшие'] + df['Лояльные']))\n",
    "df['Доля лояльных'] = 100 - df['Доля ушедших']\n",
    "\n",
    "# Строим столбчатую диаграмму, так как имеем распределение по группам\n",
    "fig = px.bar(\n",
    "    data_frame=df,\n",
    "    x=df.index, # Статус активного клиента\n",
    "    y=['Доля ушедших', 'Доля лояльных'],\n",
    "    barmode='group', # Столбцы горизонтально\n",
    "    title='Зависимость оттока от наличия активного ствтуса клиента',\n",
    "    width=500, # Ширина\n",
    "    height=500, # Высота\n",
    "    text_auto=True, # Отображение значений \n",
    "    labels={'variable': 'Статус клиента: '} # Подпись на легенде\n",
    ")\n",
    "\n",
    "fig.update_layout(\n",
    "    xaxis_title='Статус активного клиента',\n",
    "    yaxis_title='Доля от общего числа клиентов, %'\n",
    ")\n",
    "\n",
    "fig.show()"
   ]
  },
  {
   "cell_type": "code",
   "execution_count": null,
   "id": "5ebb5187",
   "metadata": {},
   "outputs": [],
   "source": []
  },
  {
   "cell_type": "markdown",
   "id": "d07c556f",
   "metadata": {},
   "source": [
    "График показывает, что клиенты, имеющие статус активного клиента, покидают банк реже, чем клиенты, не имеющие этого статуса. Следовательно, наличие статуса активного клиента может существенно влиять на лояльность клиентов.\n",
    "В качестве действий банка можно предложить следующее:\n",
    "\n",
    "- Сбор обратной связи от ушедших клиентов с выполнением корректирующих действий в плане оказания качества услуг;\n",
    "\n",
    "- Предоставление неактивным клиентам персональных предложений на основе запрашиваемых ими услуг банка;\n",
    "\n",
    "- Предложение повышенной ставки по вкладам или скидки на обслуживание за приобретение услуги \"Здесь и сейчас\""
   ]
  },
  {
   "cell_type": "markdown",
   "id": "74979c80",
   "metadata": {},
   "source": [
    "**Задание 9.9.** В какой стране доля ушедших клиентов больше? Постройте тепловую картограмму, которая покажет это соотношение на карте мира. Предположите, с чем это может быть связано."
   ]
  },
  {
   "cell_type": "code",
   "execution_count": 34,
   "id": "5762ac98",
   "metadata": {},
   "outputs": [
    {
     "name": "stderr",
     "output_type": "stream",
     "text": [
      "C:\\Users\\geras\\AppData\\Local\\Temp\\ipykernel_10924\\2863688845.py:18: DeprecationWarning:\n",
      "\n",
      "The library used by the *country names* `locationmode` option is changing in an upcoming version. Country names in existing plots may not work in the new version. To ensure consistent behavior, consider setting `locationmode` to *ISO-3*.\n",
      "\n"
     ]
    },
    {
     "data": {
      "application/vnd.plotly.v1+json": {
       "config": {
        "plotlyServerURL": "https://plot.ly"
       },
       "data": [
        {
         "coloraxis": "coloraxis",
         "geo": "geo",
         "hovertemplate": "Geography=%{location}<br>Доля ушедших=%{z}<extra></extra>",
         "locationmode": "country names",
         "locations": [
          "France",
          "Germany",
          "Spain"
         ],
         "name": "",
         "type": "choropleth",
         "z": {
          "bdata": "6bySyZ4nMECNAoPsujhAQPOkVKFjrDBA",
          "dtype": "f8"
         }
        }
       ],
       "layout": {
        "coloraxis": {
         "cmax": 70,
         "cmin": 0,
         "colorbar": {
          "title": {
           "text": "Доля ушедших"
          }
         },
         "colorscale": [
          [
           0,
           "rgb(255,245,240)"
          ],
          [
           0.125,
           "rgb(254,224,210)"
          ],
          [
           0.25,
           "rgb(252,187,161)"
          ],
          [
           0.375,
           "rgb(252,146,114)"
          ],
          [
           0.5,
           "rgb(251,106,74)"
          ],
          [
           0.625,
           "rgb(239,59,44)"
          ],
          [
           0.75,
           "rgb(203,24,29)"
          ],
          [
           0.875,
           "rgb(165,15,21)"
          ],
          [
           1,
           "rgb(103,0,13)"
          ]
         ]
        },
        "geo": {
         "center": {},
         "domain": {
          "x": [
           0,
           1
          ],
          "y": [
           0,
           1
          ]
         }
        },
        "height": 700,
        "legend": {
         "tracegroupgap": 0
        },
        "template": {
         "data": {
          "bar": [
           {
            "error_x": {
             "color": "#2a3f5f"
            },
            "error_y": {
             "color": "#2a3f5f"
            },
            "marker": {
             "line": {
              "color": "#E5ECF6",
              "width": 0.5
             },
             "pattern": {
              "fillmode": "overlay",
              "size": 10,
              "solidity": 0.2
             }
            },
            "type": "bar"
           }
          ],
          "barpolar": [
           {
            "marker": {
             "line": {
              "color": "#E5ECF6",
              "width": 0.5
             },
             "pattern": {
              "fillmode": "overlay",
              "size": 10,
              "solidity": 0.2
             }
            },
            "type": "barpolar"
           }
          ],
          "carpet": [
           {
            "aaxis": {
             "endlinecolor": "#2a3f5f",
             "gridcolor": "white",
             "linecolor": "white",
             "minorgridcolor": "white",
             "startlinecolor": "#2a3f5f"
            },
            "baxis": {
             "endlinecolor": "#2a3f5f",
             "gridcolor": "white",
             "linecolor": "white",
             "minorgridcolor": "white",
             "startlinecolor": "#2a3f5f"
            },
            "type": "carpet"
           }
          ],
          "choropleth": [
           {
            "colorbar": {
             "outlinewidth": 0,
             "ticks": ""
            },
            "type": "choropleth"
           }
          ],
          "contour": [
           {
            "colorbar": {
             "outlinewidth": 0,
             "ticks": ""
            },
            "colorscale": [
             [
              0,
              "#0d0887"
             ],
             [
              0.1111111111111111,
              "#46039f"
             ],
             [
              0.2222222222222222,
              "#7201a8"
             ],
             [
              0.3333333333333333,
              "#9c179e"
             ],
             [
              0.4444444444444444,
              "#bd3786"
             ],
             [
              0.5555555555555556,
              "#d8576b"
             ],
             [
              0.6666666666666666,
              "#ed7953"
             ],
             [
              0.7777777777777778,
              "#fb9f3a"
             ],
             [
              0.8888888888888888,
              "#fdca26"
             ],
             [
              1,
              "#f0f921"
             ]
            ],
            "type": "contour"
           }
          ],
          "contourcarpet": [
           {
            "colorbar": {
             "outlinewidth": 0,
             "ticks": ""
            },
            "type": "contourcarpet"
           }
          ],
          "heatmap": [
           {
            "colorbar": {
             "outlinewidth": 0,
             "ticks": ""
            },
            "colorscale": [
             [
              0,
              "#0d0887"
             ],
             [
              0.1111111111111111,
              "#46039f"
             ],
             [
              0.2222222222222222,
              "#7201a8"
             ],
             [
              0.3333333333333333,
              "#9c179e"
             ],
             [
              0.4444444444444444,
              "#bd3786"
             ],
             [
              0.5555555555555556,
              "#d8576b"
             ],
             [
              0.6666666666666666,
              "#ed7953"
             ],
             [
              0.7777777777777778,
              "#fb9f3a"
             ],
             [
              0.8888888888888888,
              "#fdca26"
             ],
             [
              1,
              "#f0f921"
             ]
            ],
            "type": "heatmap"
           }
          ],
          "histogram": [
           {
            "marker": {
             "pattern": {
              "fillmode": "overlay",
              "size": 10,
              "solidity": 0.2
             }
            },
            "type": "histogram"
           }
          ],
          "histogram2d": [
           {
            "colorbar": {
             "outlinewidth": 0,
             "ticks": ""
            },
            "colorscale": [
             [
              0,
              "#0d0887"
             ],
             [
              0.1111111111111111,
              "#46039f"
             ],
             [
              0.2222222222222222,
              "#7201a8"
             ],
             [
              0.3333333333333333,
              "#9c179e"
             ],
             [
              0.4444444444444444,
              "#bd3786"
             ],
             [
              0.5555555555555556,
              "#d8576b"
             ],
             [
              0.6666666666666666,
              "#ed7953"
             ],
             [
              0.7777777777777778,
              "#fb9f3a"
             ],
             [
              0.8888888888888888,
              "#fdca26"
             ],
             [
              1,
              "#f0f921"
             ]
            ],
            "type": "histogram2d"
           }
          ],
          "histogram2dcontour": [
           {
            "colorbar": {
             "outlinewidth": 0,
             "ticks": ""
            },
            "colorscale": [
             [
              0,
              "#0d0887"
             ],
             [
              0.1111111111111111,
              "#46039f"
             ],
             [
              0.2222222222222222,
              "#7201a8"
             ],
             [
              0.3333333333333333,
              "#9c179e"
             ],
             [
              0.4444444444444444,
              "#bd3786"
             ],
             [
              0.5555555555555556,
              "#d8576b"
             ],
             [
              0.6666666666666666,
              "#ed7953"
             ],
             [
              0.7777777777777778,
              "#fb9f3a"
             ],
             [
              0.8888888888888888,
              "#fdca26"
             ],
             [
              1,
              "#f0f921"
             ]
            ],
            "type": "histogram2dcontour"
           }
          ],
          "mesh3d": [
           {
            "colorbar": {
             "outlinewidth": 0,
             "ticks": ""
            },
            "type": "mesh3d"
           }
          ],
          "parcoords": [
           {
            "line": {
             "colorbar": {
              "outlinewidth": 0,
              "ticks": ""
             }
            },
            "type": "parcoords"
           }
          ],
          "pie": [
           {
            "automargin": true,
            "type": "pie"
           }
          ],
          "scatter": [
           {
            "fillpattern": {
             "fillmode": "overlay",
             "size": 10,
             "solidity": 0.2
            },
            "type": "scatter"
           }
          ],
          "scatter3d": [
           {
            "line": {
             "colorbar": {
              "outlinewidth": 0,
              "ticks": ""
             }
            },
            "marker": {
             "colorbar": {
              "outlinewidth": 0,
              "ticks": ""
             }
            },
            "type": "scatter3d"
           }
          ],
          "scattercarpet": [
           {
            "marker": {
             "colorbar": {
              "outlinewidth": 0,
              "ticks": ""
             }
            },
            "type": "scattercarpet"
           }
          ],
          "scattergeo": [
           {
            "marker": {
             "colorbar": {
              "outlinewidth": 0,
              "ticks": ""
             }
            },
            "type": "scattergeo"
           }
          ],
          "scattergl": [
           {
            "marker": {
             "colorbar": {
              "outlinewidth": 0,
              "ticks": ""
             }
            },
            "type": "scattergl"
           }
          ],
          "scattermap": [
           {
            "marker": {
             "colorbar": {
              "outlinewidth": 0,
              "ticks": ""
             }
            },
            "type": "scattermap"
           }
          ],
          "scattermapbox": [
           {
            "marker": {
             "colorbar": {
              "outlinewidth": 0,
              "ticks": ""
             }
            },
            "type": "scattermapbox"
           }
          ],
          "scatterpolar": [
           {
            "marker": {
             "colorbar": {
              "outlinewidth": 0,
              "ticks": ""
             }
            },
            "type": "scatterpolar"
           }
          ],
          "scatterpolargl": [
           {
            "marker": {
             "colorbar": {
              "outlinewidth": 0,
              "ticks": ""
             }
            },
            "type": "scatterpolargl"
           }
          ],
          "scatterternary": [
           {
            "marker": {
             "colorbar": {
              "outlinewidth": 0,
              "ticks": ""
             }
            },
            "type": "scatterternary"
           }
          ],
          "surface": [
           {
            "colorbar": {
             "outlinewidth": 0,
             "ticks": ""
            },
            "colorscale": [
             [
              0,
              "#0d0887"
             ],
             [
              0.1111111111111111,
              "#46039f"
             ],
             [
              0.2222222222222222,
              "#7201a8"
             ],
             [
              0.3333333333333333,
              "#9c179e"
             ],
             [
              0.4444444444444444,
              "#bd3786"
             ],
             [
              0.5555555555555556,
              "#d8576b"
             ],
             [
              0.6666666666666666,
              "#ed7953"
             ],
             [
              0.7777777777777778,
              "#fb9f3a"
             ],
             [
              0.8888888888888888,
              "#fdca26"
             ],
             [
              1,
              "#f0f921"
             ]
            ],
            "type": "surface"
           }
          ],
          "table": [
           {
            "cells": {
             "fill": {
              "color": "#EBF0F8"
             },
             "line": {
              "color": "white"
             }
            },
            "header": {
             "fill": {
              "color": "#C8D4E3"
             },
             "line": {
              "color": "white"
             }
            },
            "type": "table"
           }
          ]
         },
         "layout": {
          "annotationdefaults": {
           "arrowcolor": "#2a3f5f",
           "arrowhead": 0,
           "arrowwidth": 1
          },
          "autotypenumbers": "strict",
          "coloraxis": {
           "colorbar": {
            "outlinewidth": 0,
            "ticks": ""
           }
          },
          "colorscale": {
           "diverging": [
            [
             0,
             "#8e0152"
            ],
            [
             0.1,
             "#c51b7d"
            ],
            [
             0.2,
             "#de77ae"
            ],
            [
             0.3,
             "#f1b6da"
            ],
            [
             0.4,
             "#fde0ef"
            ],
            [
             0.5,
             "#f7f7f7"
            ],
            [
             0.6,
             "#e6f5d0"
            ],
            [
             0.7,
             "#b8e186"
            ],
            [
             0.8,
             "#7fbc41"
            ],
            [
             0.9,
             "#4d9221"
            ],
            [
             1,
             "#276419"
            ]
           ],
           "sequential": [
            [
             0,
             "#0d0887"
            ],
            [
             0.1111111111111111,
             "#46039f"
            ],
            [
             0.2222222222222222,
             "#7201a8"
            ],
            [
             0.3333333333333333,
             "#9c179e"
            ],
            [
             0.4444444444444444,
             "#bd3786"
            ],
            [
             0.5555555555555556,
             "#d8576b"
            ],
            [
             0.6666666666666666,
             "#ed7953"
            ],
            [
             0.7777777777777778,
             "#fb9f3a"
            ],
            [
             0.8888888888888888,
             "#fdca26"
            ],
            [
             1,
             "#f0f921"
            ]
           ],
           "sequentialminus": [
            [
             0,
             "#0d0887"
            ],
            [
             0.1111111111111111,
             "#46039f"
            ],
            [
             0.2222222222222222,
             "#7201a8"
            ],
            [
             0.3333333333333333,
             "#9c179e"
            ],
            [
             0.4444444444444444,
             "#bd3786"
            ],
            [
             0.5555555555555556,
             "#d8576b"
            ],
            [
             0.6666666666666666,
             "#ed7953"
            ],
            [
             0.7777777777777778,
             "#fb9f3a"
            ],
            [
             0.8888888888888888,
             "#fdca26"
            ],
            [
             1,
             "#f0f921"
            ]
           ]
          },
          "colorway": [
           "#636efa",
           "#EF553B",
           "#00cc96",
           "#ab63fa",
           "#FFA15A",
           "#19d3f3",
           "#FF6692",
           "#B6E880",
           "#FF97FF",
           "#FECB52"
          ],
          "font": {
           "color": "#2a3f5f"
          },
          "geo": {
           "bgcolor": "white",
           "lakecolor": "white",
           "landcolor": "#E5ECF6",
           "showlakes": true,
           "showland": true,
           "subunitcolor": "white"
          },
          "hoverlabel": {
           "align": "left"
          },
          "hovermode": "closest",
          "mapbox": {
           "style": "light"
          },
          "paper_bgcolor": "white",
          "plot_bgcolor": "#E5ECF6",
          "polar": {
           "angularaxis": {
            "gridcolor": "white",
            "linecolor": "white",
            "ticks": ""
           },
           "bgcolor": "#E5ECF6",
           "radialaxis": {
            "gridcolor": "white",
            "linecolor": "white",
            "ticks": ""
           }
          },
          "scene": {
           "xaxis": {
            "backgroundcolor": "#E5ECF6",
            "gridcolor": "white",
            "gridwidth": 2,
            "linecolor": "white",
            "showbackground": true,
            "ticks": "",
            "zerolinecolor": "white"
           },
           "yaxis": {
            "backgroundcolor": "#E5ECF6",
            "gridcolor": "white",
            "gridwidth": 2,
            "linecolor": "white",
            "showbackground": true,
            "ticks": "",
            "zerolinecolor": "white"
           },
           "zaxis": {
            "backgroundcolor": "#E5ECF6",
            "gridcolor": "white",
            "gridwidth": 2,
            "linecolor": "white",
            "showbackground": true,
            "ticks": "",
            "zerolinecolor": "white"
           }
          },
          "shapedefaults": {
           "line": {
            "color": "#2a3f5f"
           }
          },
          "ternary": {
           "aaxis": {
            "gridcolor": "white",
            "linecolor": "white",
            "ticks": ""
           },
           "baxis": {
            "gridcolor": "white",
            "linecolor": "white",
            "ticks": ""
           },
           "bgcolor": "#E5ECF6",
           "caxis": {
            "gridcolor": "white",
            "linecolor": "white",
            "ticks": ""
           }
          },
          "title": {
           "x": 0.05
          },
          "xaxis": {
           "automargin": true,
           "gridcolor": "white",
           "linecolor": "white",
           "ticks": "",
           "title": {
            "standoff": 15
           },
           "zerolinecolor": "white",
           "zerolinewidth": 2
          },
          "yaxis": {
           "automargin": true,
           "gridcolor": "white",
           "linecolor": "white",
           "ticks": "",
           "title": {
            "standoff": 15
           },
           "zerolinecolor": "white",
           "zerolinewidth": 2
          }
         }
        },
        "title": {
         "text": "Доля ушедших клиентов по странам, %"
        },
        "width": 700
       }
      }
     },
     "metadata": {},
     "output_type": "display_data"
    }
   ],
   "source": [
    "# Проводим отбор необходимых данных\n",
    "df_churn = churn_data[['Geography', 'Exited', 'CustomerId']].copy()\n",
    "\n",
    "# Строим сводную таблицу\n",
    "df = df_churn.pivot_table(\n",
    "    index='Geography', # Строки\n",
    "    columns='Exited', # Столбцы\n",
    "    values='CustomerId', # Значения\n",
    "    fill_value=0, # Замена пустых значений на 0\n",
    "    aggfunc='count' # Подсчитываем количество\n",
    ")\n",
    "# Подсчитываем процентные доли\n",
    "df = df.rename(columns = {1: 'Ушедшие', 0: 'Лояльные'})\n",
    "df['Доля ушедших'] = (df['Ушедшие'] * 100 / (df['Ушедшие'] + df['Лояльные']))\n",
    "df['Доля лояльных'] = 100 - df['Доля ушедших']\n",
    "\n",
    "# Строим тепловую географическую карту\n",
    "fig = px.choropleth(\n",
    "    data_frame=df,\n",
    "    locations=df.index, # Столбец с локациями\n",
    "    locationmode = 'country names', # Режим сопоставления локаций с базой Plotly\n",
    "    color='Доля ушедших', # От чего зависит цвет\n",
    "    range_color=[0, 70], # Диапазон цвета\n",
    "    title='Доля ушедших клиентов по странам, %',\n",
    "    width=700, # Ширина\n",
    "    height=700, # Высота\n",
    "    color_continuous_scale='Reds' # Палитра цветов\n",
    ")\n",
    "\n",
    "fig.show()"
   ]
  },
  {
   "cell_type": "markdown",
   "id": "656bff6d",
   "metadata": {},
   "source": [
    "По графику видно, что большее число ушедших клиентов находится в германии. Возможно, это связано с тем, что условия банка и менталитет населения в разных странах могут отличаться"
   ]
  },
  {
   "cell_type": "markdown",
   "id": "78db424c",
   "metadata": {},
   "source": [
    "**Задание 9.10.** Переведите числовой признак CreditScore в категориальный. Для этого воспользуйтесь функцией get_credit_score_cat(), которая приведена ниже. Примените её к столбцу CreditScore и создайте новый признак CreditScoreCat — категории кредитного рейтинга."
   ]
  },
  {
   "cell_type": "markdown",
   "id": "96ce8395",
   "metadata": {},
   "source": [
    "Постройте сводную таблицу, строками которой являются категории кредитного рейтинга (CreditScoreCat), а столбцами — количество лет, в течение которых клиент пользуется услугами банка (Tenure). В ячейках сводной таблицы должно находиться среднее по признаку оттока (Exited) — доля ушедших пользователей.\n",
    "\n",
    "На основе полученной сводной таблицы постройте тепловую карту с аннотацией. Найдите на тепловой карте категории клиентов, которые уходят чаще всего."
   ]
  },
  {
   "cell_type": "code",
   "execution_count": 46,
   "id": "24b3e4be",
   "metadata": {},
   "outputs": [
    {
     "data": {
      "text/plain": [
       "Text(50.722222222222214, 0.5, 'Категория кредитного рейтинга')"
      ]
     },
     "execution_count": 46,
     "metadata": {},
     "output_type": "execute_result"
    },
    {
     "data": {
      "image/png": "[encoded data removed]",
      "text/plain": [
       "<Figure size 640x480 with 2 Axes>"
      ]
     },
     "metadata": {},
     "output_type": "display_data"
    }
   ],
   "source": [
    "df_churn = churn_data.copy()\n",
    "\n",
    "# Переводим признак CreditScore в категориальный с помощью get_credit_score_cat\n",
    "\n",
    "def get_credit_score_cat(credit_score):\n",
    "    if credit_score >= 300 and credit_score < 500:\n",
    "        return \"Very_Poor\"\n",
    "    elif credit_score >= 500 and credit_score < 601:\n",
    "        return \"Poor\"\n",
    "    elif credit_score >= 601 and credit_score < 661:\n",
    "        return \"Fair\"\n",
    "    elif credit_score >= 661 and credit_score < 781:\n",
    "        return \"Good\"\n",
    "    elif credit_score >= 781 and credit_score < 851:\n",
    "        return \"Excellent\"\n",
    "    elif credit_score >= 851:\n",
    "        return \"Top\"\n",
    "    elif credit_score < 300:\n",
    "        return \"Deep\"\n",
    "    \n",
    "df_churn['CreditScoreCat'] = df_churn['CreditScore'].apply(lambda x: get_credit_score_cat(x)).astype('category')\n",
    "\n",
    "# Строим сводную таблицу\n",
    "df = df_churn.pivot_table(\n",
    "    index='CreditScoreCat', # Строки - новый категориальный признак\n",
    "    columns='Tenure', # Столбцы - сколько лет клиент пользуется услугами банка\n",
    "    values='Exited', # Значения - отток\n",
    "    fill_value=0, # Замена пустых значений на 0\n",
    "    aggfunc='mean', # Среднее по признаку оттока\n",
    "    observed=True # Будут отображаться только наблюдаемые значения для категориальных группировок\n",
    ").round(2) # Округляем до второго знака\n",
    "\n",
    "# Строим тепловую карту с аннотацией\n",
    "# Приводим значения к строковому типу\n",
    "#pivot.columns = pivot.columns.astype('string')\n",
    "#fig = plt.figure(figsize=(10, 5))\n",
    "\n",
    "# Строим тепловую карту\n",
    "heatmap = sns.heatmap(\n",
    "    data=df,\n",
    "    cmap='plasma',\n",
    "    annot=True,\n",
    ")\n",
    "\n",
    "heatmap.set_title('Зависимость категории кредитного рейтинга клиента от количества лет пользования услугами банка', fontsize=16)\n",
    "heatmap.set_xlabel('Количество лет')\n",
    "heatmap.set_ylabel('Категория кредитного рейтинга')"
   ]
  },
  {
   "cell_type": "markdown",
   "id": "5c4f8088",
   "metadata": {},
   "source": [
    "Исходя из графика можно сделать вывод, что чаще остальных банк покидают клиенты из категории Very_Poor, пользующиеся услугами банка менее 1 года"
   ]
  },
  {
   "cell_type": "markdown",
   "id": "13fefb47",
   "metadata": {},
   "source": []
  }
 ],
 "metadata": {
  "kernelspec": {
   "display_name": "Python 3",
   "language": "python",
   "name": "python3"
  },
  "language_info": {
   "codemirror_mode": {
    "name": "ipython",
    "version": 3
   },
   "file_extension": ".py",
   "mimetype": "text/x-python",
   "name": "python",
   "nbconvert_exporter": "python",
   "pygments_lexer": "ipython3",
   "version": "3.9.10"
  }
 },
 "nbformat": 4,
 "nbformat_minor": 5
}
