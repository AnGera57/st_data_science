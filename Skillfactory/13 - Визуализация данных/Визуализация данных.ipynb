{
 "cells": [
  {
   "cell_type": "markdown",
   "metadata": {},
   "source": [
    "**2. Обзор типов визуализации**"
   ]
  },
  {
   "cell_type": "markdown",
   "metadata": {},
   "source": [
    "**Система координат** — это способ определения положения точки в пространстве или на плоскости. Самая простая система координат — двумерная прямоугольная, или декартова. Каждой точке в этой системе соответствуют два значения: значение по оси **абсцисс** (x) и значение по оси **ординат** (y)."
   ]
  },
  {
   "cell_type": "markdown",
   "metadata": {},
   "source": [
    "**Основные типы визуализации:**"
   ]
  },
  {
   "cell_type": "markdown",
   "metadata": {},
   "source": [
    "- линейный график;\n",
    "\n",
    "- гистограмма;\n",
    "\n",
    "- диаграмма рассеяния;\n",
    "\n",
    "- коробчатая диаграмма;\n",
    "\n",
    "- круговая диаграмма;\n",
    "\n",
    "- столбчатая диаграмма;\n",
    "\n",
    "- тепловая карта."
   ]
  },
  {
   "cell_type": "markdown",
   "metadata": {},
   "source": [
    "**3. Знакомимся с новыми данными: коронавирус**"
   ]
  },
  {
   "cell_type": "code",
   "execution_count": 1,
   "metadata": {},
   "outputs": [
    {
     "data": {
      "text/html": [
       "<div>\n",
       "<style scoped>\n",
       "    .dataframe tbody tr th:only-of-type {\n",
       "        vertical-align: middle;\n",
       "    }\n",
       "\n",
       "    .dataframe tbody tr th {\n",
       "        vertical-align: top;\n",
       "    }\n",
       "\n",
       "    .dataframe thead th {\n",
       "        text-align: right;\n",
       "    }\n",
       "</style>\n",
       "<table border=\"1\" class=\"dataframe\">\n",
       "  <thead>\n",
       "    <tr style=\"text-align: right;\">\n",
       "      <th></th>\n",
       "      <th>date</th>\n",
       "      <th>province/state</th>\n",
       "      <th>country</th>\n",
       "      <th>confirmed</th>\n",
       "      <th>deaths</th>\n",
       "      <th>recovered</th>\n",
       "    </tr>\n",
       "  </thead>\n",
       "  <tbody>\n",
       "    <tr>\n",
       "      <th>0</th>\n",
       "      <td>01/22/2020</td>\n",
       "      <td>Anhui</td>\n",
       "      <td>China</td>\n",
       "      <td>1.0</td>\n",
       "      <td>0.0</td>\n",
       "      <td>0.0</td>\n",
       "    </tr>\n",
       "    <tr>\n",
       "      <th>1</th>\n",
       "      <td>01/22/2020</td>\n",
       "      <td>Beijing</td>\n",
       "      <td>China</td>\n",
       "      <td>14.0</td>\n",
       "      <td>0.0</td>\n",
       "      <td>0.0</td>\n",
       "    </tr>\n",
       "    <tr>\n",
       "      <th>2</th>\n",
       "      <td>01/22/2020</td>\n",
       "      <td>Chongqing</td>\n",
       "      <td>China</td>\n",
       "      <td>6.0</td>\n",
       "      <td>0.0</td>\n",
       "      <td>0.0</td>\n",
       "    </tr>\n",
       "    <tr>\n",
       "      <th>3</th>\n",
       "      <td>01/22/2020</td>\n",
       "      <td>Fujian</td>\n",
       "      <td>China</td>\n",
       "      <td>1.0</td>\n",
       "      <td>0.0</td>\n",
       "      <td>0.0</td>\n",
       "    </tr>\n",
       "    <tr>\n",
       "      <th>4</th>\n",
       "      <td>01/22/2020</td>\n",
       "      <td>Gansu</td>\n",
       "      <td>China</td>\n",
       "      <td>0.0</td>\n",
       "      <td>0.0</td>\n",
       "      <td>0.0</td>\n",
       "    </tr>\n",
       "  </tbody>\n",
       "</table>\n",
       "</div>"
      ],
      "text/plain": [
       "         date province/state country  confirmed  deaths  recovered\n",
       "0  01/22/2020          Anhui   China        1.0     0.0        0.0\n",
       "1  01/22/2020        Beijing   China       14.0     0.0        0.0\n",
       "2  01/22/2020      Chongqing   China        6.0     0.0        0.0\n",
       "3  01/22/2020         Fujian   China        1.0     0.0        0.0\n",
       "4  01/22/2020          Gansu   China        0.0     0.0        0.0"
      ]
     },
     "metadata": {},
     "output_type": "display_data"
    }
   ],
   "source": [
    "import pandas as pd\n",
    "\n",
    "covid_data = pd.read_csv('data/covid_data/covid_data.csv')\n",
    "display(covid_data.head())"
   ]
  },
  {
   "cell_type": "markdown",
   "metadata": {},
   "source": [
    "Столбцы:"
   ]
  },
  {
   "cell_type": "markdown",
   "metadata": {},
   "source": [
    "- *date* — дата наблюдения;\n",
    "\n",
    "- *province/state* — наименование провинции/штата;\n",
    "\n",
    "- *country* — наименование страны;\n",
    "\n",
    "- *confirmed* — общее число зафиксированных случаев на указанный день;\n",
    "\n",
    "- *deaths* — общее число зафиксированных смертей на указанный день;\n",
    "\n",
    "- *recovered* — общее число выздоровлений на указанный день."
   ]
  },
  {
   "cell_type": "markdown",
   "metadata": {},
   "source": [
    "2 `country_vaccinations` — данные о процессе вакцинирования людей в 221 стране мира. (источник данных)\n"
   ]
  },
  {
   "cell_type": "code",
   "execution_count": 2,
   "metadata": {},
   "outputs": [
    {
     "data": {
      "text/html": [
       "<div>\n",
       "<style scoped>\n",
       "    .dataframe tbody tr th:only-of-type {\n",
       "        vertical-align: middle;\n",
       "    }\n",
       "\n",
       "    .dataframe tbody tr th {\n",
       "        vertical-align: top;\n",
       "    }\n",
       "\n",
       "    .dataframe thead th {\n",
       "        text-align: right;\n",
       "    }\n",
       "</style>\n",
       "<table border=\"1\" class=\"dataframe\">\n",
       "  <thead>\n",
       "    <tr style=\"text-align: right;\">\n",
       "      <th></th>\n",
       "      <th>country</th>\n",
       "      <th>date</th>\n",
       "      <th>total_vaccinations</th>\n",
       "      <th>people_vaccinated</th>\n",
       "      <th>people_vaccinated_per_hundred</th>\n",
       "      <th>people_fully_vaccinated</th>\n",
       "      <th>people_fully_vaccinated_per_hundred</th>\n",
       "      <th>daily_vaccinations</th>\n",
       "      <th>vaccines</th>\n",
       "    </tr>\n",
       "  </thead>\n",
       "  <tbody>\n",
       "    <tr>\n",
       "      <th>0</th>\n",
       "      <td>Afghanistan</td>\n",
       "      <td>2021-02-22</td>\n",
       "      <td>0.0</td>\n",
       "      <td>0.0</td>\n",
       "      <td>0.0</td>\n",
       "      <td>NaN</td>\n",
       "      <td>NaN</td>\n",
       "      <td>NaN</td>\n",
       "      <td>Johnson&amp;Johnson, Oxford/AstraZeneca, Pfizer/Bi...</td>\n",
       "    </tr>\n",
       "    <tr>\n",
       "      <th>1</th>\n",
       "      <td>Afghanistan</td>\n",
       "      <td>2021-02-23</td>\n",
       "      <td>NaN</td>\n",
       "      <td>NaN</td>\n",
       "      <td>NaN</td>\n",
       "      <td>NaN</td>\n",
       "      <td>NaN</td>\n",
       "      <td>1367.0</td>\n",
       "      <td>Johnson&amp;Johnson, Oxford/AstraZeneca, Pfizer/Bi...</td>\n",
       "    </tr>\n",
       "    <tr>\n",
       "      <th>2</th>\n",
       "      <td>Afghanistan</td>\n",
       "      <td>2021-02-24</td>\n",
       "      <td>NaN</td>\n",
       "      <td>NaN</td>\n",
       "      <td>NaN</td>\n",
       "      <td>NaN</td>\n",
       "      <td>NaN</td>\n",
       "      <td>1367.0</td>\n",
       "      <td>Johnson&amp;Johnson, Oxford/AstraZeneca, Pfizer/Bi...</td>\n",
       "    </tr>\n",
       "    <tr>\n",
       "      <th>3</th>\n",
       "      <td>Afghanistan</td>\n",
       "      <td>2021-02-25</td>\n",
       "      <td>NaN</td>\n",
       "      <td>NaN</td>\n",
       "      <td>NaN</td>\n",
       "      <td>NaN</td>\n",
       "      <td>NaN</td>\n",
       "      <td>1367.0</td>\n",
       "      <td>Johnson&amp;Johnson, Oxford/AstraZeneca, Pfizer/Bi...</td>\n",
       "    </tr>\n",
       "    <tr>\n",
       "      <th>4</th>\n",
       "      <td>Afghanistan</td>\n",
       "      <td>2021-02-26</td>\n",
       "      <td>NaN</td>\n",
       "      <td>NaN</td>\n",
       "      <td>NaN</td>\n",
       "      <td>NaN</td>\n",
       "      <td>NaN</td>\n",
       "      <td>1367.0</td>\n",
       "      <td>Johnson&amp;Johnson, Oxford/AstraZeneca, Pfizer/Bi...</td>\n",
       "    </tr>\n",
       "  </tbody>\n",
       "</table>\n",
       "</div>"
      ],
      "text/plain": [
       "       country        date  total_vaccinations  people_vaccinated  \\\n",
       "0  Afghanistan  2021-02-22                 0.0                0.0   \n",
       "1  Afghanistan  2021-02-23                 NaN                NaN   \n",
       "2  Afghanistan  2021-02-24                 NaN                NaN   \n",
       "3  Afghanistan  2021-02-25                 NaN                NaN   \n",
       "4  Afghanistan  2021-02-26                 NaN                NaN   \n",
       "\n",
       "   people_vaccinated_per_hundred  people_fully_vaccinated  \\\n",
       "0                            0.0                      NaN   \n",
       "1                            NaN                      NaN   \n",
       "2                            NaN                      NaN   \n",
       "3                            NaN                      NaN   \n",
       "4                            NaN                      NaN   \n",
       "\n",
       "   people_fully_vaccinated_per_hundred  daily_vaccinations  \\\n",
       "0                                  NaN                 NaN   \n",
       "1                                  NaN              1367.0   \n",
       "2                                  NaN              1367.0   \n",
       "3                                  NaN              1367.0   \n",
       "4                                  NaN              1367.0   \n",
       "\n",
       "                                            vaccines  \n",
       "0  Johnson&Johnson, Oxford/AstraZeneca, Pfizer/Bi...  \n",
       "1  Johnson&Johnson, Oxford/AstraZeneca, Pfizer/Bi...  \n",
       "2  Johnson&Johnson, Oxford/AstraZeneca, Pfizer/Bi...  \n",
       "3  Johnson&Johnson, Oxford/AstraZeneca, Pfizer/Bi...  \n",
       "4  Johnson&Johnson, Oxford/AstraZeneca, Pfizer/Bi...  "
      ]
     },
     "metadata": {},
     "output_type": "display_data"
    }
   ],
   "source": [
    "vaccinations_data = pd.read_csv('data/covid_data/country_vaccinations/country_vaccinations.csv')\n",
    "vaccinations_data = vaccinations_data[\n",
    "    ['country', 'date', 'total_vaccinations', \n",
    "     'people_vaccinated', 'people_vaccinated_per_hundred',\n",
    "     'people_fully_vaccinated', 'people_fully_vaccinated_per_hundred',\n",
    "     'daily_vaccinations', 'vaccines']\n",
    "]\n",
    "\n",
    "display(vaccinations_data.head())"
   ]
  },
  {
   "cell_type": "markdown",
   "metadata": {},
   "source": [
    "Столбцы:"
   ]
  },
  {
   "cell_type": "markdown",
   "metadata": {},
   "source": [
    "- *country* — наименование страны;\n",
    "\n",
    "- *date* — дата наблюдения;\n",
    "\n",
    "- *total_vaccinations* — общее число введённых вакцин в стране на указанный день;\n",
    "\n",
    "- *people_vaccinated* — общее число привитых первым компонентом в стране на указанный день;\n",
    "\n",
    "- *people_vaccinated_per_hundred* — процент привитых первым компонентом в стране на указанный день (рассчитывается как );\n",
    "\n",
    "- *people_fully_vaccinated* — общее число привитых вторым компонентом в стране на указанный день (первый компонент уже был введён им ранее);\n",
    "\n",
    "- *people_fully_vaccinated_per_hundred* — процент привитых вторым компонентом в стране на указанный день (рассчитывается как );\n",
    "\n",
    "- *daily_vaccination* — ежедневная вакцинация (число вакцинированных в указанный день);\n",
    "\n",
    "- *vaccines* — комбинации вакцин, используемые в стране."
   ]
  },
  {
   "cell_type": "markdown",
   "metadata": {},
   "source": [
    "ОСОБЕННОСТИ ДАННЫХ"
   ]
  },
  {
   "cell_type": "markdown",
   "metadata": {},
   "source": [
    "В таблице `covid_data` данные о заболеваемости представлены для каждого региона (штата) страны за каждый день. "
   ]
  },
  {
   "cell_type": "markdown",
   "metadata": {},
   "source": [
    "В таблице `vaccinations_data` параметры вакцинирования отображены для всех стран на каждый день, без учёта регионов."
   ]
  },
  {
   "cell_type": "markdown",
   "metadata": {},
   "source": [
    "В данных много пропусков, а также неверно введённых значений."
   ]
  },
  {
   "cell_type": "markdown",
   "metadata": {},
   "source": [
    "**Примечание.**\n",
    "\n",
    "Обратите внимание, что признаки *confirmed*, *deaths*, *recovered*, *total_vaccination*, *people_vaccinated*, *people_fully_vaccinated* — это суммарные показатели по стране, то есть с каждым днём они должны расти. Такие признаки называют **накопительными**."
   ]
  },
  {
   "cell_type": "markdown",
   "metadata": {},
   "source": [
    "**Для объединения таблиц:**"
   ]
  },
  {
   "cell_type": "markdown",
   "metadata": {},
   "source": [
    "1. В таблице `covid_data` необходимо предварительно рассчитать суммарное ежедневное число заболевших во всех провинциях/штатах в каждой стране.\n",
    "\n",
    "2. В таблицах *не совпадает число стран*, а иногда и их *названия*. \n",
    "\n",
    "При объединении таблиц по столбцу мы определённо теряем данные (в данной задаче потери незначительны). Избежать этого можно ручными преобразованиями данных — искать различия в названиях стран в таблицах и преобразовывать их. Однако это не является темой данного модуля.\n",
    "\n",
    "3. Таблицы имеют *разные периоды наблюдений* (вакцины появились позже, чем сам вирус). Объединив данные с типом *inner*, мы можем **потерять большое количество наблюдений** в таблице `covid_data`."
   ]
  },
  {
   "cell_type": "markdown",
   "metadata": {},
   "source": [
    "ПРЕДОБРАБОТКА ДАННЫХ\n"
   ]
  },
  {
   "cell_type": "markdown",
   "metadata": {},
   "source": [
    "В таблице `covid_data`:"
   ]
  },
  {
   "cell_type": "markdown",
   "metadata": {},
   "source": [
    "1. Группируем таблицу по *дате* и *названию* страны и рассчитываем суммарные показатели по всем регионам. Тем самым переходим от данных по регионам к данным по странам:"
   ]
  },
  {
   "cell_type": "code",
   "execution_count": 3,
   "metadata": {},
   "outputs": [],
   "source": [
    "covid_data = covid_data.groupby(\n",
    "    ['date', 'country'],\n",
    "    as_index=False\n",
    ")[['confirmed', 'deaths', 'recovered']].sum()"
   ]
  },
  {
   "cell_type": "markdown",
   "metadata": {},
   "source": [
    "2. Преобразуем даты в формат `datetime` с помощью функции `pd.to_datetime()`:"
   ]
  },
  {
   "cell_type": "code",
   "execution_count": 4,
   "metadata": {},
   "outputs": [],
   "source": [
    "covid_data['date'] = pd.to_datetime(covid_data['date'])"
   ]
  },
  {
   "cell_type": "markdown",
   "metadata": {},
   "source": [
    "3. Создадим признак больных на данный момент (`active`). Для этого вычтем из общего числа зафиксированных случаев число смертей и число выздоровевших пациентов:"
   ]
  },
  {
   "cell_type": "code",
   "execution_count": 5,
   "metadata": {},
   "outputs": [],
   "source": [
    "covid_data['active'] = covid_data['confirmed'] - covid_data['deaths'] - covid_data['recovered']"
   ]
  },
  {
   "cell_type": "markdown",
   "metadata": {},
   "source": [
    "4. Создадим признак ежедневного **прироста** числа заболевших, умерших и выздоровевших людей. Для этого отсортируем данные по *названиям* стран, а затем по *датам*. После этого произведём группировку по странам и рассчитаем разницу между «вчера и сегодня» с помощью метода `diff()`:"
   ]
  },
  {
   "cell_type": "code",
   "execution_count": 6,
   "metadata": {},
   "outputs": [],
   "source": [
    "# Сортируем таблицу по названиям стран и по датам\n",
    "covid_data = covid_data.sort_values(by=['country', 'date'])\n",
    "# Группируем по странам, рассчитываем разницу\n",
    "# между \"вчера\" и \"сегодня\" с помощью метода diff()\n",
    "covid_data['daily_confirmed'] = covid_data.groupby('country')['confirmed'].diff()\n",
    "covid_data['daily_deaths'] = covid_data.groupby('country')['deaths'].diff()\n",
    "covid_data['daily_recovered'] = covid_data.groupby('country')['recovered'].diff()"
   ]
  },
  {
   "cell_type": "code",
   "execution_count": 7,
   "metadata": {},
   "outputs": [
    {
     "data": {
      "text/html": [
       "<div>\n",
       "<style scoped>\n",
       "    .dataframe tbody tr th:only-of-type {\n",
       "        vertical-align: middle;\n",
       "    }\n",
       "\n",
       "    .dataframe tbody tr th {\n",
       "        vertical-align: top;\n",
       "    }\n",
       "\n",
       "    .dataframe thead th {\n",
       "        text-align: right;\n",
       "    }\n",
       "</style>\n",
       "<table border=\"1\" class=\"dataframe\">\n",
       "  <thead>\n",
       "    <tr style=\"text-align: right;\">\n",
       "      <th></th>\n",
       "      <th>date</th>\n",
       "      <th>country</th>\n",
       "      <th>confirmed</th>\n",
       "      <th>deaths</th>\n",
       "      <th>recovered</th>\n",
       "      <th>active</th>\n",
       "      <th>daily_confirmed</th>\n",
       "      <th>daily_deaths</th>\n",
       "      <th>daily_recovered</th>\n",
       "    </tr>\n",
       "  </thead>\n",
       "  <tbody>\n",
       "    <tr>\n",
       "      <th>11337</th>\n",
       "      <td>2020-02-24</td>\n",
       "      <td>Afghanistan</td>\n",
       "      <td>1.0</td>\n",
       "      <td>0.0</td>\n",
       "      <td>0.0</td>\n",
       "      <td>1.0</td>\n",
       "      <td>NaN</td>\n",
       "      <td>NaN</td>\n",
       "      <td>NaN</td>\n",
       "    </tr>\n",
       "    <tr>\n",
       "      <th>11570</th>\n",
       "      <td>2020-02-25</td>\n",
       "      <td>Afghanistan</td>\n",
       "      <td>1.0</td>\n",
       "      <td>0.0</td>\n",
       "      <td>0.0</td>\n",
       "      <td>1.0</td>\n",
       "      <td>0.0</td>\n",
       "      <td>0.0</td>\n",
       "      <td>0.0</td>\n",
       "    </tr>\n",
       "    <tr>\n",
       "      <th>11807</th>\n",
       "      <td>2020-02-26</td>\n",
       "      <td>Afghanistan</td>\n",
       "      <td>1.0</td>\n",
       "      <td>0.0</td>\n",
       "      <td>0.0</td>\n",
       "      <td>1.0</td>\n",
       "      <td>0.0</td>\n",
       "      <td>0.0</td>\n",
       "      <td>0.0</td>\n",
       "    </tr>\n",
       "    <tr>\n",
       "      <th>12051</th>\n",
       "      <td>2020-02-27</td>\n",
       "      <td>Afghanistan</td>\n",
       "      <td>1.0</td>\n",
       "      <td>0.0</td>\n",
       "      <td>0.0</td>\n",
       "      <td>1.0</td>\n",
       "      <td>0.0</td>\n",
       "      <td>0.0</td>\n",
       "      <td>0.0</td>\n",
       "    </tr>\n",
       "    <tr>\n",
       "      <th>12299</th>\n",
       "      <td>2020-02-28</td>\n",
       "      <td>Afghanistan</td>\n",
       "      <td>1.0</td>\n",
       "      <td>0.0</td>\n",
       "      <td>0.0</td>\n",
       "      <td>1.0</td>\n",
       "      <td>0.0</td>\n",
       "      <td>0.0</td>\n",
       "      <td>0.0</td>\n",
       "    </tr>\n",
       "  </tbody>\n",
       "</table>\n",
       "</div>"
      ],
      "text/plain": [
       "            date      country  confirmed  deaths  recovered  active  \\\n",
       "11337 2020-02-24  Afghanistan        1.0     0.0        0.0     1.0   \n",
       "11570 2020-02-25  Afghanistan        1.0     0.0        0.0     1.0   \n",
       "11807 2020-02-26  Afghanistan        1.0     0.0        0.0     1.0   \n",
       "12051 2020-02-27  Afghanistan        1.0     0.0        0.0     1.0   \n",
       "12299 2020-02-28  Afghanistan        1.0     0.0        0.0     1.0   \n",
       "\n",
       "       daily_confirmed  daily_deaths  daily_recovered  \n",
       "11337              NaN           NaN              NaN  \n",
       "11570              0.0           0.0              0.0  \n",
       "11807              0.0           0.0              0.0  \n",
       "12051              0.0           0.0              0.0  \n",
       "12299              0.0           0.0              0.0  "
      ]
     },
     "metadata": {},
     "output_type": "display_data"
    }
   ],
   "source": [
    "# Итоговый вид таблицы\n",
    "display(covid_data.head())"
   ]
  },
  {
   "cell_type": "markdown",
   "metadata": {},
   "source": [
    "Для таблицы `vaccinations_data` достаточно преобразовать столбцы в формат `datetime`"
   ]
  },
  {
   "cell_type": "code",
   "execution_count": 8,
   "metadata": {},
   "outputs": [],
   "source": [
    "vaccinations_data['date'] = pd.to_datetime(vaccinations_data['date'])"
   ]
  },
  {
   "cell_type": "markdown",
   "metadata": {},
   "source": [
    "**Задание 3.1**\n",
    "\n",
    "За какой период представлены данные в таблице `covid_data`? В качестве ответа введите даты в формате `datetime` (без указания времени).\n"
   ]
  },
  {
   "cell_type": "markdown",
   "metadata": {},
   "source": [
    "**Подсказка (1 из 1):** Для определения периода можно найти *максимум* и *минимум* в столбце `date` таблицы `covid_data`."
   ]
  },
  {
   "cell_type": "code",
   "execution_count": 9,
   "metadata": {},
   "outputs": [
    {
     "name": "stdout",
     "output_type": "stream",
     "text": [
      "2020-01-22 00:00:00\n",
      "2021-05-29 00:00:00\n"
     ]
    }
   ],
   "source": [
    "max_date = covid_data['date'].max()\n",
    "min_date = covid_data['date'].min()\n",
    "print(min_date)\n",
    "print(max_date)"
   ]
  },
  {
   "cell_type": "markdown",
   "metadata": {},
   "source": [
    "**Задание 3.2**\n",
    "\n",
    "За какой период представлены данные в таблице `vaccinations_data`? В качестве ответа введите даты в формате `datetime` без указания времени."
   ]
  },
  {
   "cell_type": "code",
   "execution_count": 10,
   "metadata": {},
   "outputs": [
    {
     "name": "stdout",
     "output_type": "stream",
     "text": [
      "2020-12-02 00:00:00\n",
      "2021-09-06 00:00:00\n"
     ]
    }
   ],
   "source": [
    "print(vaccinations_data['date'].min())\n",
    "print(vaccinations_data['date'].max())"
   ]
  },
  {
   "cell_type": "markdown",
   "metadata": {},
   "source": [
    "**Задание 3.3**\n",
    "\n",
    "С помощью метода `merge()` объедините таблицы `covid_data` и `vaccinations_data` по столбцам `date` и `country`.\n",
    "\n",
    "Тип объединения выставьте так, чтобы в результирующую таблицу попали **только** наблюдения за период, вычисленный в **задании 3.1**. То есть в результирующую таблицу должны попасть все записи из таблицы `covid_data` и из её пересечения с `vaccinations_data`, но не более. Результат объединения занесите в переменную covid_df.\n",
    "Сохраните таблицу covid_df — она понадобится нам в следующем юните.\n",
    "\n",
    "Сколько строк и столбцов в таблице covid_df?"
   ]
  },
  {
   "cell_type": "markdown",
   "metadata": {},
   "source": [
    "**Подсказка (1 из 1):** Для объединения по нескольким столбцам передайте в параметр метода `merge()` список с именами ключей."
   ]
  },
  {
   "cell_type": "code",
   "execution_count": 11,
   "metadata": {},
   "outputs": [
    {
     "name": "stdout",
     "output_type": "stream",
     "text": [
      "Число строк:  86785\n",
      "Число столбцов:  16\n"
     ]
    }
   ],
   "source": [
    "covid_df = covid_data.merge(vaccinations_data, on=['date', 'country'], how='left')\n",
    "print('Число строк: ', covid_df.shape[0])\n",
    "print('Число столбцов: ', covid_df.shape[1])"
   ]
  },
  {
   "cell_type": "code",
   "execution_count": 12,
   "metadata": {},
   "outputs": [
    {
     "data": {
      "text/plain": [
       "0        0.0\n",
       "1        0.0\n",
       "2        0.0\n",
       "3        0.0\n",
       "4        0.0\n",
       "        ... \n",
       "86780    NaN\n",
       "86781    NaN\n",
       "86782    NaN\n",
       "86783    NaN\n",
       "86784    NaN\n",
       "Name: death_rate, Length: 86785, dtype: float64"
      ]
     },
     "metadata": {},
     "output_type": "display_data"
    }
   ],
   "source": [
    "covid_df['death_rate'] = covid_df['deaths'] / covid_df['confirmed'] * 100\n",
    "covid_df['recover_rate'] = covid_df['recovered'] / covid_df['confirmed'] * 100\n",
    "display(covid_df['death_rate'])"
   ]
  },
  {
   "cell_type": "markdown",
   "metadata": {},
   "source": [
    "**Задание 3.4**\n",
    "\n",
    "Какова максимальная летальность в США (United States) за весь период? Ответ округлите до второго знака после запятой."
   ]
  },
  {
   "cell_type": "code",
   "execution_count": 13,
   "metadata": {},
   "outputs": [
    {
     "data": {
      "text/plain": [
       "7.19"
      ]
     },
     "execution_count": 13,
     "metadata": {},
     "output_type": "execute_result"
    }
   ],
   "source": [
    "round(covid_df[covid_df['country'] == 'United States']['death_rate'].max(), 2)"
   ]
  },
  {
   "cell_type": "markdown",
   "metadata": {},
   "source": [
    "**Задание 3.5**\n",
    "\n",
    "Чему равен средний процент выздоровевших в России (Russia)? Ответ округлите до второго знака после запятой."
   ]
  },
  {
   "cell_type": "code",
   "execution_count": 14,
   "metadata": {},
   "outputs": [
    {
     "data": {
      "text/plain": [
       "67.06"
      ]
     },
     "execution_count": 14,
     "metadata": {},
     "output_type": "execute_result"
    }
   ],
   "source": [
    "round(covid_df[covid_df['country'] == 'Russia']['recover_rate'].mean(), 2)"
   ]
  },
  {
   "cell_type": "markdown",
   "metadata": {},
   "source": [
    "**4. Графические возможности библиотеки Pandas**"
   ]
  },
  {
   "cell_type": "markdown",
   "metadata": {},
   "source": [
    "**Примечание.** Для визуализации Pandas использует библиотеку *matplotlib*, о которой мы поговорим в следующем юните. Если попробовать воспользоваться методами визуализации Pandas без предварительной установки *matplotlib*, вы получите ошибку `ImportError`. \n",
    "\n",
    "Для установки библиотеки используется стандартная команда, которую нужно выполнить в терминале:\n",
    "\n",
    "`pip install matplotlib`\n",
    "\n",
    "или в ячейке ноутбука:\n",
    "\n",
    "`! pip install matplotlib`"
   ]
  },
  {
   "cell_type": "markdown",
   "metadata": {},
   "source": [
    "БАЗОВАЯ ВИЗУАЛИЗАЦИЯ В PANDAS"
   ]
  },
  {
   "cell_type": "markdown",
   "metadata": {},
   "source": [
    "Для создания простейших графиков используется метод `plot()`\n",
    "\n",
    "**Основные параметры:**\n",
    "\n",
    "- `x` — название признака, который будет отложен по оси абсцисс;\n",
    "\n",
    "- `y` — название признака, который будет отложен по оси ординат;\n",
    "\n",
    "- `figsize` — размер графика (кортеж из ширины и высоты в дюймах);\n",
    "\n",
    "- `kind` —тип визуализации. Основные типы:\n",
    "\n",
    "    -- `'line'` — линейный график (по умолчанию);\n",
    "\n",
    "    -- `'bar'` — столбчатая диаграмма;\n",
    "\n",
    "    -- `'barh'` — горизонтальная столбчатая диаграмма;\n",
    "\n",
    "    -- `'hist'` — гистограмма;\n",
    "\n",
    "    -- `'box'` — коробчатая диаграмма (boxplot);\n",
    "\n",
    "    -- `'pie'` — круговая диаграмма;\n",
    "\n",
    "    -- `'scatter'` — диаграмма рассеяния.\n",
    "\n",
    "    -- `grid` — отображение сетки (по умолчанию False);\n",
    "\n",
    "- `legend` — отображение легенды (по умолчанию False);\n",
    "`title` — название графика;\n",
    "`color` — цвет."
   ]
  },
  {
   "cell_type": "markdown",
   "metadata": {},
   "source": [
    "Начнем с **исследования заболеваемости**\n",
    "\n",
    "Отобразим, как менялось ежедневное число заболевших (`daily_confirmed`) во всём мире во времени. \n",
    "\n",
    "Далее сгруппируем таблицу по датам и подсчитаем суммарное число зафиксированных случаев по дням."
   ]
  },
  {
   "cell_type": "code",
   "execution_count": 15,
   "metadata": {},
   "outputs": [
    {
     "data": {
      "text/plain": [
       "<Axes: title={'center': 'Ежедневная заболеваемость во времени'}, xlabel='date'>"
      ]
     },
     "execution_count": 15,
     "metadata": {},
     "output_type": "execute_result"
    },
    {
     "data": {
      "image/png": "[encoded data removed]",
      "text/plain": [
       "<Figure size 1200x400 with 1 Axes>"
      ]
     },
     "metadata": {},
     "output_type": "display_data"
    }
   ],
   "source": [
    "# Группируем по датам и считаем суммарное \n",
    "# число случаев по дням\n",
    "\n",
    "grouped_cases = covid_df.groupby('date')['daily_confirmed'].sum()\n",
    "# Строим график\n",
    "grouped_cases.plot(\n",
    "    kind='line',\n",
    "    figsize=(12, 4),\n",
    "    title='Ежедневная заболеваемость во времени',\n",
    "    grid = True,\n",
    "    lw=3\n",
    ")"
   ]
  },
  {
   "cell_type": "markdown",
   "metadata": {},
   "source": [
    "**Примечание**\n",
    "\n",
    "В данном случае мы не использовали параметры `x` и `y`, т.к. переменная `grouped_cases` - это объект *Series*.\n",
    "\n",
    "`plot()` может являться методом объекта типа *DataFrame* или *Series*.\n",
    "\n",
    "**При типе *DataFrame* требуется указать `x` и `y`**, иначе будут построены графики для всех столбцов.\n",
    "\n",
    "При типе *Series* в этом нет необходимости, т.к. это и есть один столбец данных (`у`) с индексами (`х`).\n",
    "\n",
    "При этом по оси абсцисс (х) откладываются индексы (на сгруппированных данных `grouped_cases` индексы - это даты), а по оси ординат (у) - значения показателей."
   ]
  },
  {
   "cell_type": "markdown",
   "metadata": {},
   "source": [
    "*Здесь и далее в модуле точка с запятой в последней строке кода используется во избежание вывода на экран служебной информации в ноутбуке (попробуйте её убрать и посмотрите, что будет).*"
   ]
  },
  {
   "cell_type": "markdown",
   "metadata": {},
   "source": [
    "Теперь построим **гистограмму**, которая покажет распределение ежедневной заболеваемости во всем мире"
   ]
  },
  {
   "cell_type": "code",
   "execution_count": 16,
   "metadata": {},
   "outputs": [
    {
     "data": {
      "image/png": "[encoded data removed]",
      "text/plain": [
       "<Figure size 1000x600 with 1 Axes>"
      ]
     },
     "metadata": {},
     "output_type": "display_data"
    }
   ],
   "source": [
    "# За гистограмму отвечает параметр kind со значением 'hist'\n",
    "# Параметр bins (корзины) - число прямоугольников\n",
    "\n",
    "grouped_cases.plot(\n",
    "    kind='hist',\n",
    "    figsize=(10, 6),\n",
    "    title='Распределение ежедневной заболеваемости',\n",
    "    grid=True,\n",
    "    color='black',\n",
    "    bins=10\n",
    ");"
   ]
  },
  {
   "cell_type": "markdown",
   "metadata": {},
   "source": [
    "По гистограмме можно судить о частоте попадания ежедневной заболеваемости в определённый интервал. На оси абсцисс отложен диапазон ежедневной заболеваемости (в млн человек), разбитый на десять равных интервалов, на оси ординат — число наблюдений, попавших в этот интервал."
   ]
  },
  {
   "cell_type": "markdown",
   "metadata": {},
   "source": [
    "1. Мы видим модальное значение около нуля (от 0 до примерно 150 тыс. заболеваний в день), то есть большинство наблюдений сосредоточено в первом интервале, далее частота постепенно падает. Это связано с тем, что долгое время распространение вируса было довольно слабым.\n",
    "\n",
    "2. В глаза бросается «пенёк», соответствующий резкой вспышке заболеваемости, которую мы видели ранее. Его высота очень мала, ведь такое наблюдение единственное. Даже на гистограмме кажется, что данное наблюдение является аномальным и, скорее всего, представляет собой выброс."
   ]
  },
  {
   "cell_type": "markdown",
   "metadata": {},
   "source": [
    "Построим **столбчатую диаграмму**, которая покажет топ-10 стран по суммарной заболеваемости"
   ]
  },
  {
   "cell_type": "code",
   "execution_count": 17,
   "metadata": {},
   "outputs": [
    {
     "data": {
      "image/png": "[encoded data removed]",
      "text/plain": [
       "<Figure size 1200x400 with 1 Axes>"
      ]
     },
     "metadata": {},
     "output_type": "display_data"
    }
   ],
   "source": [
    "# сгруппируем данные по странам \n",
    "# и вычислим последний показатель с пом. агрегирующего\n",
    "# метода last(), кот вернет последнее значение \n",
    "# в столбце DataFrame\n",
    "\n",
    "grouped_country = covid_df.groupby(['country'])['confirmed'].last()\n",
    "\n",
    "# Выделим топ-10 стран\n",
    "\n",
    "grouped_country = grouped_country.nlargest(10)\n",
    "\n",
    "# Строим столбчатую диаграмму \n",
    "# (парамерт kind со значением 'bar', colormap - цветовая гамма графика)\n",
    "grouped_country.plot(\n",
    "    kind='bar',\n",
    "    grid=True,\n",
    "    figsize=(12, 4),\n",
    "    colormap='plasma'\n",
    ");"
   ]
  },
  {
   "cell_type": "markdown",
   "metadata": {},
   "source": [
    "Посмотрим, как в этих десяти странах соотносится количество заболевших и умерших от вируса. Для этого отобразим сразу два показателя на **столбчатой диаграмме**: "
   ]
  },
  {
   "cell_type": "code",
   "execution_count": 18,
   "metadata": {},
   "outputs": [
    {
     "data": {
      "image/png": "[encoded data removed]",
      "text/plain": [
       "<Figure size 1200x400 with 1 Axes>"
      ]
     },
     "metadata": {},
     "output_type": "display_data"
    }
   ],
   "source": [
    "# Группируем страны по двум показателям и \n",
    "# выбираем последние значения\n",
    "grouped_country = covid_df.groupby(['country'])[['confirmed', 'deaths']].last()\n",
    "grouped_country = grouped_country.nlargest(10, columns=['confirmed'])\n",
    "grouped_country.plot(\n",
    "    kind='bar',\n",
    "    grid=True,\n",
    "    figsize=(12, 4)\n",
    ");\n"
   ]
  },
  {
   "cell_type": "markdown",
   "metadata": {},
   "source": [
    "На этом графике можем увидеть соотношение зафиксированных случаев заражения и смертей"
   ]
  },
  {
   "cell_type": "markdown",
   "metadata": {},
   "source": [
    "Более того, если построить график с сортировкой не по числу заболевших, а по числу умерших, поменяются и места, и страны в рейтинге. Попробуйте построить такой график сами!"
   ]
  },
  {
   "cell_type": "markdown",
   "metadata": {},
   "source": [
    "**Задание 4.4**\n",
    "\n",
    "С помощью какого из перечисленных ниже вариантов кода можно построить столбчатую диаграмму для пяти стран с *наименьшим* общим числом вакцинаций на *последний* день рассматриваемого периода (`total_vaccinations`)?\n",
    "В данном задании мы используем метод `nsmallest()`, который позволяет выбрать n *наименьших* значений в *Series*, а также метод `last()`, с помощью которого можно получить последнее непустое значение в группах.\n"
   ]
  },
  {
   "cell_type": "code",
   "execution_count": 19,
   "metadata": {},
   "outputs": [
    {
     "data": {
      "image/png": "[encoded data removed]",
      "text/plain": [
       "<Figure size 640x480 with 1 Axes>"
      ]
     },
     "metadata": {},
     "output_type": "display_data"
    }
   ],
   "source": [
    "covid_df.groupby(['country'])['total_vaccinations'].last().nsmallest(5).plot(kind='bar');"
   ]
  },
  {
   "cell_type": "markdown",
   "metadata": {},
   "source": []
  }
 ],
 "metadata": {
  "kernelspec": {
   "display_name": "Python 3",
   "language": "python",
   "name": "python3"
  },
  "language_info": {
   "codemirror_mode": {
    "name": "ipython",
    "version": 3
   },
   "file_extension": ".py",
   "mimetype": "text/x-python",
   "name": "python",
   "nbconvert_exporter": "python",
   "pygments_lexer": "ipython3",
   "version": "3.9.10"
  }
 },
 "nbformat": 4,
 "nbformat_minor": 2
}
