{
 "cells": [
  {
   "cell_type": "markdown",
   "id": "89425b1a",
   "metadata": {},
   "source": [
    "`dropna()` - Метод для удаления строк и столбцов, который позволяет удалять пропуски с тонким подходом к настройке. \n",
    "\n",
    "**Основные параметры метода:**\n",
    "\n",
    "- `axis` — ось, по которой производится удаление (по умолчанию 0 — строки).\n",
    "\n",
    "- `how` — как производится удаление строк (any — если хотя бы в одном из столбцов есть пропуск, стоит по умолчанию; all — если во всех столбцах есть пропуски). \n",
    "\n",
    "- `thresh` — порог удаления. Определяет минимальное число непустых значений в строке/столбце, при котором она/он сохраняется. Например, если мы установим thresh в значение 2, то мы удалим строки, где число пропусков больше чем `n-2`, где  `n` — число признаков (если `axis=0`)."
   ]
  },
  {
   "cell_type": "markdown",
   "id": "2d7e5e5b",
   "metadata": {},
   "source": [
    "`hist()` - Метод *Pandas* для вывода на экран распределения признаков с пропусками "
   ]
  },
  {
   "cell_type": "markdown",
   "id": "81dc2565",
   "metadata": {},
   "source": [
    "`fillna()` - Метод для заполнения пустых значений\n",
    "\n",
    "Главный параметр метода — `value` (значение, на которое происходит заполнение данных в столбце). Если метод вызывается от имени всего *DataFrame*, то в качестве `value` можно использовать **словарь**, где **ключи — названия столбцов таблицы, а значения словаря — заполняющие константы**. "
   ]
  },
  {
   "cell_type": "code",
   "execution_count": 1,
   "id": "65ce4843",
   "metadata": {},
   "outputs": [],
   "source": [
    "#Функция поиска выбросов по методу Тьюки\n",
    "#def outliers_iqr(data, feature):\n",
    "    #x = data[feature]\n",
    "    #quartile_1, quartile_3 = x.quantile(0.25), x.quantile(0.75),\n",
    "    #iqr = quartile_3 - quartile_1\n",
    "    #lower_bound = quartile_1 - (iqr * 1.5)\n",
    "    #upper_bound = quartile_3 + (iqr * 1.5)\n",
    "    #outliers = data[(x < lower_bound) | (x > upper_bound)]\n",
    "    #cleaned = data[(x >= lower_bound) & (x <= upper_bound)]\n",
    "    #return outliers, cleaned"
   ]
  },
  {
   "cell_type": "markdown",
   "id": "bb2548e8",
   "metadata": {},
   "source": []
  }
 ],
 "metadata": {
  "kernelspec": {
   "display_name": "Python 3",
   "language": "python",
   "name": "python3"
  },
  "language_info": {
   "codemirror_mode": {
    "name": "ipython",
    "version": 3
   },
   "file_extension": ".py",
   "mimetype": "text/x-python",
   "name": "python",
   "nbconvert_exporter": "python",
   "pygments_lexer": "ipython3",
   "version": "3.9.10"
  }
 },
 "nbformat": 4,
 "nbformat_minor": 5
}
