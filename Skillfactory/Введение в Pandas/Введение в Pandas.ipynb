{
 "cells": [
  {
   "cell_type": "markdown",
   "metadata": {},
   "source": [
    "Установить пакет pandas:\n",
    "\n",
    "`pip install pandas`"
   ]
  },
  {
   "cell_type": "markdown",
   "metadata": {},
   "source": [
    "В общепринятой практике Pandas импортируется и используется под псевдонимом pd:\n",
    "`import pandas as pd`"
   ]
  },
  {
   "cell_type": "markdown",
   "metadata": {},
   "source": [
    "Чтобы удостовериться, что импорт прошёл успешно, можно воспользоваться командой для проверки версии библиотеки:\n",
    "`pd.__version__`"
   ]
  },
  {
   "cell_type": "markdown",
   "metadata": {},
   "source": [
    "Если библиотека импортирована под псевдонимом, то в дальнейшем, обращаясь к методам и классам из этой библиотеки, необходимо использовать заданный псевдоним, например `pd.get_dummies().`"
   ]
  },
  {
   "cell_type": "markdown",
   "metadata": {},
   "source": [
    "**Pandas.Series**\n",
    "\n",
    "**Series** — это упорядоченная изменяемая коллекция объектов, имеющая так называемые ассоциативные метки (индексы)."
   ]
  },
  {
   "cell_type": "markdown",
   "metadata": {},
   "source": [
    "Также для каждой `Series` присваивается тип данных её элементов (например `int64`) и может быть определено имя всего массива. В итоге мы получаем некоторый гибрид списка и словаря."
   ]
  },
  {
   "cell_type": "markdown",
   "metadata": {},
   "source": [
    "Для создания объекта Series используется команда `pd.Series()`."
   ]
  },
  {
   "cell_type": "markdown",
   "metadata": {},
   "source": [
    "Способы создания Series:"
   ]
  },
  {
   "cell_type": "markdown",
   "metadata": {},
   "source": [
    "Способ 1 — из списка с использованием параметров функции `pd.Series()`:"
   ]
  },
  {
   "cell_type": "code",
   "execution_count": 59,
   "metadata": {},
   "outputs": [
    {
     "data": {
      "text/plain": [
       "UK       Англия\n",
       "CA       Канада\n",
       "US          США\n",
       "RU       Россия\n",
       "UA      Украина\n",
       "BY     Беларусь\n",
       "KZ    казахстан\n",
       "Name: countries, dtype: object"
      ]
     },
     "metadata": {},
     "output_type": "display_data"
    }
   ],
   "source": [
    "import pandas as pd\n",
    "countries = pd.Series(\n",
    "    data = ['Англия', 'Канада', 'США', 'Россия', 'Украина', 'Беларусь', 'казахстан'],\n",
    "    index = ['UK', 'CA', 'US', 'RU', 'UA', 'BY', 'KZ'],\n",
    "    name = 'countries'\n",
    ")\n",
    "display(countries)"
   ]
  },
  {
   "cell_type": "markdown",
   "metadata": {},
   "source": []
  },
  {
   "cell_type": "markdown",
   "metadata": {},
   "source": [
    "**Примечание**. Функция `display() `является аналогом функции `print()` в файлах формата .`ipynb` (ноутбуках/блокнотах), но чаще используется для вывода табличных данных. \n",
    "\n",
    "Здесь и в дальнейшем функция `display()` используется для более красивого вывода таблиц в файлах формата .`ipynb`.\n",
    "\n",
    "Обратите внимание, что если вы пишете код в файлах с расширением .`py`, функция `display()` не будет вам доступна.\n",
    "\n",
    "Также стоит отметить, что в файлах формата .`ipynb` результат работы последней строки в ячейке автоматически выводится на экран. "
   ]
  },
  {
   "cell_type": "markdown",
   "metadata": {},
   "source": [
    "В результате выполнения кода выше мы получаем объект `Series`. При его выводе на экран можно увидеть заданные в параметре `index` метки — коды стран, соответствующие им значения (названия стран), которые мы задали в параметре `data`. Также с помощью аргумента `name` мы явно задали имя для `Series`.\n",
    "\n",
    "Внизу, под выводом содержимого, можно увидеть тип данных объектов, хранимых в `Series`. Типом данных `object` в Pandas обозначаются строки и смешанные типы данных (кортежи, списки, текст, смешанный с числами, и т. д.)."
   ]
  },
  {
   "cell_type": "markdown",
   "metadata": {},
   "source": [
    "**Примечание**. Если оставить параметр `index` пустым, то метки будут присвоены автоматически в виде порядковых номеров элементов."
   ]
  },
  {
   "cell_type": "markdown",
   "metadata": {},
   "source": [
    "**Способ 2** - из словаря, в котором ключами являются будущие метки, а значениями - будущие значения *Series*, при этом использование параметра `name` так же возможно:"
   ]
  },
  {
   "cell_type": "code",
   "execution_count": 61,
   "metadata": {},
   "outputs": [
    {
     "data": {
      "text/plain": [
       "UK       Англия\n",
       "CA       Канада\n",
       "US          США\n",
       "RU       Россия\n",
       "UA      Украина\n",
       "BY     Беларусь\n",
       "KZ    Казахстан\n",
       "Name: countries, dtype: object"
      ]
     },
     "metadata": {},
     "output_type": "display_data"
    }
   ],
   "source": [
    "countries = pd.Series({\n",
    "    'UK': 'Англия',\n",
    "    'CA': 'Канада',\n",
    "    'US': 'США',\n",
    "    'RU': 'Россия',\n",
    "    'UA': 'Украина',\n",
    "    'BY': 'Беларусь',\n",
    "    'KZ': 'Казахстан',\n",
    "},\n",
    "                      name = 'countries')\n",
    "\n",
    "display(countries)"
   ]
  },
  {
   "cell_type": "markdown",
   "metadata": {},
   "source": [
    "**ДОСТУП К ДАННЫМ В SERIES**"
   ]
  },
  {
   "cell_type": "markdown",
   "metadata": {},
   "source": [
    "Доступ к элементам осуществляется с использованием `loc` или `iloc`."
   ]
  },
  {
   "cell_type": "markdown",
   "metadata": {},
   "source": [
    "`.loc` вызывается с квадратными скобками, в которые передаются метки. Можно передать как один индекс, так и список, чтобы получить несколько элементов."
   ]
  },
  {
   "cell_type": "code",
   "execution_count": 62,
   "metadata": {},
   "outputs": [
    {
     "name": "stdout",
     "output_type": "stream",
     "text": [
      "США\n"
     ]
    }
   ],
   "source": [
    "print(countries.loc['US'])"
   ]
  },
  {
   "cell_type": "code",
   "execution_count": 63,
   "metadata": {},
   "outputs": [
    {
     "name": "stdout",
     "output_type": "stream",
     "text": [
      "US         США\n",
      "RU      Россия\n",
      "BY    Беларусь\n",
      "Name: countries, dtype: object\n"
     ]
    }
   ],
   "source": [
    "print(countries.loc[['US', 'RU', 'BY']])"
   ]
  },
  {
   "cell_type": "markdown",
   "metadata": {},
   "source": [
    "**Примечание.** В случае обращения по одному индексу возвращается строка. Если обратиться по нескольким элементам, возвращается объект Series."
   ]
  },
  {
   "cell_type": "markdown",
   "metadata": {},
   "source": [
    ".iloc также вызывается с квадратными скобками и принимает на вход порядковые номера элементов Series (нумерация начинается с 0). В него можно так же передавать как один индекс, так и диапазон чисел.\n"
   ]
  },
  {
   "cell_type": "code",
   "execution_count": 64,
   "metadata": {},
   "outputs": [
    {
     "name": "stdout",
     "output_type": "stream",
     "text": [
      "Казахстан\n"
     ]
    }
   ],
   "source": [
    "print(countries.iloc[6])"
   ]
  },
  {
   "cell_type": "markdown",
   "metadata": {},
   "source": [
    "Получим срез с первого по третий элемент"
   ]
  },
  {
   "cell_type": "code",
   "execution_count": 65,
   "metadata": {},
   "outputs": [
    {
     "name": "stdout",
     "output_type": "stream",
     "text": [
      "CA    Канада\n",
      "US       США\n",
      "RU    Россия\n",
      "Name: countries, dtype: object\n"
     ]
    }
   ],
   "source": [
    "print(countries.iloc[1:4])"
   ]
  },
  {
   "cell_type": "markdown",
   "metadata": {},
   "source": [
    "На самом деле loc и iloc можно опустить и обращаться к элементам Series напрямую по индексам, например countries[['UK', 'US', 'UA']] или countries[[0, 2, 4]]. Оба варианта являются равноправными для Series, однако в дальнейшем мы будем использовать эти операции при обращении к более сложной структуре — DataFrame, а в контексте этой структуры эти варианты уже неравноправны."
   ]
  },
  {
   "cell_type": "code",
   "execution_count": null,
   "metadata": {},
   "outputs": [],
   "source": []
  },
  {
   "cell_type": "markdown",
   "metadata": {},
   "source": [
    "**DATAFRAME КАК СТРУКТУРА ДАННЫХ**"
   ]
  },
  {
   "cell_type": "markdown",
   "metadata": {},
   "source": [
    "DataFrame объект для работы с табличными данными.\n",
    "\n",
    "Является двумерной структурой и представляется в виде таблицы. Столбцы - объекты Series, строки - их элементы. Тажке есть метки (индексы), которые сообтветствую каждой строке таблицы."
   ]
  },
  {
   "cell_type": "markdown",
   "metadata": {},
   "source": [
    "**Примечание.** будем употреблять значения \"DataFrame\" и \"таблица\" как синонимы. Так же как и слова \"столбец\" таблицы и \"признак\""
   ]
  },
  {
   "cell_type": "markdown",
   "metadata": {},
   "source": [
    "**СОЗДАНИЕ DATAFRAME**"
   ]
  },
  {
   "cell_type": "markdown",
   "metadata": {},
   "source": [
    "DataFrame сoздается с помощью функции pd.DataFrame()"
   ]
  },
  {
   "cell_type": "markdown",
   "metadata": {},
   "source": [
    "**1 способ**\n",
    "Создние из словаря, где *ключи* - *имена столбцов* будущей таблицы, а *значения* - *списки*, в которых хранится *содержимое этих столбцов*"
   ]
  },
  {
   "cell_type": "code",
   "execution_count": 66,
   "metadata": {},
   "outputs": [
    {
     "data": {
      "text/html": [
       "<div>\n",
       "<style scoped>\n",
       "    .dataframe tbody tr th:only-of-type {\n",
       "        vertical-align: middle;\n",
       "    }\n",
       "\n",
       "    .dataframe tbody tr th {\n",
       "        vertical-align: top;\n",
       "    }\n",
       "\n",
       "    .dataframe thead th {\n",
       "        text-align: right;\n",
       "    }\n",
       "</style>\n",
       "<table border=\"1\" class=\"dataframe\">\n",
       "  <thead>\n",
       "    <tr style=\"text-align: right;\">\n",
       "      <th></th>\n",
       "      <th>country</th>\n",
       "      <th>population</th>\n",
       "      <th>area</th>\n",
       "    </tr>\n",
       "  </thead>\n",
       "  <tbody>\n",
       "    <tr>\n",
       "      <th>0</th>\n",
       "      <td>Англия</td>\n",
       "      <td>56.29</td>\n",
       "      <td>133396</td>\n",
       "    </tr>\n",
       "    <tr>\n",
       "      <th>1</th>\n",
       "      <td>Канада</td>\n",
       "      <td>38.05</td>\n",
       "      <td>9984670</td>\n",
       "    </tr>\n",
       "    <tr>\n",
       "      <th>2</th>\n",
       "      <td>США</td>\n",
       "      <td>322.28</td>\n",
       "      <td>9826630</td>\n",
       "    </tr>\n",
       "    <tr>\n",
       "      <th>3</th>\n",
       "      <td>Россия</td>\n",
       "      <td>146.24</td>\n",
       "      <td>17125191</td>\n",
       "    </tr>\n",
       "    <tr>\n",
       "      <th>4</th>\n",
       "      <td>Украина</td>\n",
       "      <td>45.50</td>\n",
       "      <td>603628</td>\n",
       "    </tr>\n",
       "    <tr>\n",
       "      <th>5</th>\n",
       "      <td>Беларусь</td>\n",
       "      <td>9.50</td>\n",
       "      <td>207600</td>\n",
       "    </tr>\n",
       "    <tr>\n",
       "      <th>6</th>\n",
       "      <td>Казахстан</td>\n",
       "      <td>17.04</td>\n",
       "      <td>2724902</td>\n",
       "    </tr>\n",
       "  </tbody>\n",
       "</table>\n",
       "</div>"
      ],
      "text/plain": [
       "     country  population      area\n",
       "0     Англия       56.29    133396\n",
       "1     Канада       38.05   9984670\n",
       "2        США      322.28   9826630\n",
       "3     Россия      146.24  17125191\n",
       "4    Украина       45.50    603628\n",
       "5   Беларусь        9.50    207600\n",
       "6  Казахстан       17.04   2724902"
      ]
     },
     "metadata": {},
     "output_type": "display_data"
    }
   ],
   "source": [
    "countries_df = pd.DataFrame({\n",
    "    'country': ['Англия', 'Канада', 'США', 'Россия', 'Украина', 'Беларусь', 'Казахстан'],\n",
    "    'population': [56.29, 38.05, 322.28, 146.24, 45.5, 9.5, 17.04],\n",
    "    'area': [133396, 9984670, 9826630, 17125191, 603628, 207600, 2724902]\n",
    "})\n",
    "\n",
    "display(countries_df)"
   ]
  },
  {
   "cell_type": "markdown",
   "metadata": {},
   "source": [
    "Индексы были сгенерированы автоматически. Теперь зададим их вручную:"
   ]
  },
  {
   "cell_type": "code",
   "execution_count": 67,
   "metadata": {},
   "outputs": [
    {
     "data": {
      "text/html": [
       "<div>\n",
       "<style scoped>\n",
       "    .dataframe tbody tr th:only-of-type {\n",
       "        vertical-align: middle;\n",
       "    }\n",
       "\n",
       "    .dataframe tbody tr th {\n",
       "        vertical-align: top;\n",
       "    }\n",
       "\n",
       "    .dataframe thead th {\n",
       "        text-align: right;\n",
       "    }\n",
       "</style>\n",
       "<table border=\"1\" class=\"dataframe\">\n",
       "  <thead>\n",
       "    <tr style=\"text-align: right;\">\n",
       "      <th></th>\n",
       "      <th>country</th>\n",
       "      <th>population</th>\n",
       "      <th>area</th>\n",
       "    </tr>\n",
       "  </thead>\n",
       "  <tbody>\n",
       "    <tr>\n",
       "      <th>UK</th>\n",
       "      <td>Англия</td>\n",
       "      <td>56.29</td>\n",
       "      <td>133396</td>\n",
       "    </tr>\n",
       "    <tr>\n",
       "      <th>CA</th>\n",
       "      <td>Канада</td>\n",
       "      <td>38.05</td>\n",
       "      <td>9984670</td>\n",
       "    </tr>\n",
       "    <tr>\n",
       "      <th>US</th>\n",
       "      <td>США</td>\n",
       "      <td>322.28</td>\n",
       "      <td>9826630</td>\n",
       "    </tr>\n",
       "    <tr>\n",
       "      <th>RU</th>\n",
       "      <td>Россия</td>\n",
       "      <td>146.24</td>\n",
       "      <td>17125191</td>\n",
       "    </tr>\n",
       "    <tr>\n",
       "      <th>UA</th>\n",
       "      <td>Украина</td>\n",
       "      <td>45.50</td>\n",
       "      <td>603628</td>\n",
       "    </tr>\n",
       "    <tr>\n",
       "      <th>BY</th>\n",
       "      <td>Беларусь</td>\n",
       "      <td>9.50</td>\n",
       "      <td>207600</td>\n",
       "    </tr>\n",
       "    <tr>\n",
       "      <th>KZ</th>\n",
       "      <td>Казахстан</td>\n",
       "      <td>17.04</td>\n",
       "      <td>2724902</td>\n",
       "    </tr>\n",
       "  </tbody>\n",
       "</table>\n",
       "</div>"
      ],
      "text/plain": [
       "      country  population      area\n",
       "UK     Англия       56.29    133396\n",
       "CA     Канада       38.05   9984670\n",
       "US        США      322.28   9826630\n",
       "RU     Россия      146.24  17125191\n",
       "UA    Украина       45.50    603628\n",
       "BY   Беларусь        9.50    207600\n",
       "KZ  Казахстан       17.04   2724902"
      ]
     },
     "metadata": {},
     "output_type": "display_data"
    }
   ],
   "source": [
    "countries_df.index = ['UK', 'CA', 'US', 'RU', 'UA', 'BY', 'KZ']\n",
    "\n",
    "display(countries_df)"
   ]
  },
  {
   "cell_type": "markdown",
   "metadata": {},
   "source": [
    "**2 способ**\n",
    "\n",
    "Создание из *вложенного списка*, *внутренние списки* которого будут *строками* новой таблицы"
   ]
  },
  {
   "cell_type": "code",
   "execution_count": 68,
   "metadata": {},
   "outputs": [
    {
     "data": {
      "text/html": [
       "<div>\n",
       "<style scoped>\n",
       "    .dataframe tbody tr th:only-of-type {\n",
       "        vertical-align: middle;\n",
       "    }\n",
       "\n",
       "    .dataframe tbody tr th {\n",
       "        vertical-align: top;\n",
       "    }\n",
       "\n",
       "    .dataframe thead th {\n",
       "        text-align: right;\n",
       "    }\n",
       "</style>\n",
       "<table border=\"1\" class=\"dataframe\">\n",
       "  <thead>\n",
       "    <tr style=\"text-align: right;\">\n",
       "      <th></th>\n",
       "      <th>country</th>\n",
       "      <th>population</th>\n",
       "      <th>area</th>\n",
       "    </tr>\n",
       "  </thead>\n",
       "  <tbody>\n",
       "    <tr>\n",
       "      <th>UK</th>\n",
       "      <td>Англия</td>\n",
       "      <td>56.29</td>\n",
       "      <td>133396</td>\n",
       "    </tr>\n",
       "    <tr>\n",
       "      <th>CA</th>\n",
       "      <td>Канада</td>\n",
       "      <td>38.05</td>\n",
       "      <td>9984670</td>\n",
       "    </tr>\n",
       "    <tr>\n",
       "      <th>US</th>\n",
       "      <td>США</td>\n",
       "      <td>322.28</td>\n",
       "      <td>9826630</td>\n",
       "    </tr>\n",
       "    <tr>\n",
       "      <th>RU</th>\n",
       "      <td>Россия</td>\n",
       "      <td>146.24</td>\n",
       "      <td>17125191</td>\n",
       "    </tr>\n",
       "    <tr>\n",
       "      <th>UA</th>\n",
       "      <td>Украина</td>\n",
       "      <td>45.50</td>\n",
       "      <td>603628</td>\n",
       "    </tr>\n",
       "    <tr>\n",
       "      <th>BY</th>\n",
       "      <td>Беларусь</td>\n",
       "      <td>9.50</td>\n",
       "      <td>207600</td>\n",
       "    </tr>\n",
       "    <tr>\n",
       "      <th>KZ</th>\n",
       "      <td>Казахстан</td>\n",
       "      <td>17.04</td>\n",
       "      <td>2724902</td>\n",
       "    </tr>\n",
       "  </tbody>\n",
       "</table>\n",
       "</div>"
      ],
      "text/plain": [
       "      country  population      area\n",
       "UK     Англия       56.29    133396\n",
       "CA     Канада       38.05   9984670\n",
       "US        США      322.28   9826630\n",
       "RU     Россия      146.24  17125191\n",
       "UA    Украина       45.50    603628\n",
       "BY   Беларусь        9.50    207600\n",
       "KZ  Казахстан       17.04   2724902"
      ]
     },
     "metadata": {},
     "output_type": "display_data"
    }
   ],
   "source": [
    "countries_df1 = pd.DataFrame(\n",
    "    data = [\n",
    "        ['Англия', 56.29, 133396],\n",
    "        ['Канада', 38.05, 9984670],\n",
    "        ['США', 322.28, 9826630],\n",
    "        ['Россия', 146.24, 17125191],\n",
    "        ['Украина', 45.5, 603628],\n",
    "        ['Беларусь', 9.5, 207600],\n",
    "        ['Казахстан', 17.04, 2724902]\n",
    "    ],\n",
    "    columns= ['country', 'population', 'area'],\n",
    "    index = ['UK', 'CA', 'US', 'RU', 'UA', 'BY', 'KZ']\n",
    ")\n",
    "\n",
    "display(countries_df1)"
   ]
  },
  {
   "cell_type": "markdown",
   "metadata": {},
   "source": [
    "В данном варианте создания *DataFrame* мы задаём имена столбцов в списке с помощью параметра `columns`, а также инициализируем параметр `index` для задания меток стран"
   ]
  },
  {
   "cell_type": "markdown",
   "metadata": {},
   "source": [
    "**AXIS B DATAFRAME**"
   ]
  },
  {
   "cell_type": "markdown",
   "metadata": {},
   "source": [
    "**Axis** - ось, координата.\n",
    "Движение по строкам в таблице обозначается *axis* с индексом 0, а движение по столбцам - *axis* с индексом 1.\n",
    "\n",
    "По умолчанию axis=0, то есть методы выполняют операции со строками, если не задавать axis вручную"
   ]
  },
  {
   "cell_type": "markdown",
   "metadata": {},
   "source": [
    "Рассмотрим разницу в результатах работы методов в зависимости от параметра `axis` на примере использования метода DataFrame `mean()` — вычисление среднего по таблице."
   ]
  },
  {
   "cell_type": "markdown",
   "metadata": {},
   "source": [
    "Считаем **среднее по строкам** (`axis=0`) в каждом столбце:"
   ]
  },
  {
   "cell_type": "code",
   "execution_count": 69,
   "metadata": {},
   "outputs": [
    {
     "data": {
      "text/plain": [
       "population    9.070000e+01\n",
       "area          5.800860e+06\n",
       "dtype: float64"
      ]
     },
     "execution_count": 69,
     "metadata": {},
     "output_type": "execute_result"
    }
   ],
   "source": [
    "countries_df.mean(axis=0, numeric_only=True)\n"
   ]
  },
  {
   "cell_type": "markdown",
   "metadata": {},
   "source": [
    "В данном случае среднее было рассчитано по строкам для столбцов `population` и `area`.\n",
    "\n",
    "Параметр `numeric_only` в значении True необходим, чтобы учитывались только *числовые* столбцы, чтобы не получать предупреждений (`warnings`)"
   ]
  },
  {
   "cell_type": "markdown",
   "metadata": {},
   "source": [
    "Считаем **среднее по столбцам** (axis=1) в каждой строке:\n"
   ]
  },
  {
   "cell_type": "code",
   "execution_count": 70,
   "metadata": {},
   "outputs": [
    {
     "data": {
      "text/plain": [
       "UK      66726.145\n",
       "CA    4992354.025\n",
       "US    4913476.140\n",
       "RU    8562668.620\n",
       "UA     301836.750\n",
       "BY     103804.750\n",
       "KZ    1362459.520\n",
       "dtype: float64"
      ]
     },
     "execution_count": 70,
     "metadata": {},
     "output_type": "execute_result"
    }
   ],
   "source": [
    "countries_df.mean(axis=1, numeric_only=True)"
   ]
  },
  {
   "cell_type": "markdown",
   "metadata": {},
   "source": [
    "Для доступа к ячейкам таблицы также используются `.loc` и `.iloc`.\n",
    "\n",
    "При этом, в соответствии с механизмом работы `axis`, при обращении к DataFrame по индексам с помощью `loc` (`iloc`) первым индексом указывается *индекс* (порядковый номер), соответствующий *строкам*, а вторым — *имя* (порядковый номер) *столбца*."
   ]
  },
  {
   "cell_type": "code",
   "execution_count": 71,
   "metadata": {},
   "outputs": [
    {
     "data": {
      "text/plain": [
       "133396"
      ]
     },
     "execution_count": 71,
     "metadata": {},
     "output_type": "execute_result"
    }
   ],
   "source": [
    "# Получим площадь Великобритании\n",
    "countries_df.loc['UK', 'area']"
   ]
  },
  {
   "cell_type": "code",
   "execution_count": 72,
   "metadata": {},
   "outputs": [
    {
     "data": {
      "text/plain": [
       "population      146.24\n",
       "area          17125191\n",
       "Name: RU, dtype: object"
      ]
     },
     "execution_count": 72,
     "metadata": {},
     "output_type": "execute_result"
    }
   ],
   "source": [
    "# Получим начеление и площадь России\n",
    "countries_df.loc['RU', ['population', 'area']]"
   ]
  },
  {
   "cell_type": "code",
   "execution_count": 73,
   "metadata": {},
   "outputs": [
    {
     "data": {
      "text/html": [
       "<div>\n",
       "<style scoped>\n",
       "    .dataframe tbody tr th:only-of-type {\n",
       "        vertical-align: middle;\n",
       "    }\n",
       "\n",
       "    .dataframe tbody tr th {\n",
       "        vertical-align: top;\n",
       "    }\n",
       "\n",
       "    .dataframe thead th {\n",
       "        text-align: right;\n",
       "    }\n",
       "</style>\n",
       "<table border=\"1\" class=\"dataframe\">\n",
       "  <thead>\n",
       "    <tr style=\"text-align: right;\">\n",
       "      <th></th>\n",
       "      <th>population</th>\n",
       "      <th>area</th>\n",
       "    </tr>\n",
       "  </thead>\n",
       "  <tbody>\n",
       "    <tr>\n",
       "      <th>UA</th>\n",
       "      <td>45.50</td>\n",
       "      <td>603628</td>\n",
       "    </tr>\n",
       "    <tr>\n",
       "      <th>BY</th>\n",
       "      <td>9.50</td>\n",
       "      <td>207600</td>\n",
       "    </tr>\n",
       "    <tr>\n",
       "      <th>KZ</th>\n",
       "      <td>17.04</td>\n",
       "      <td>2724902</td>\n",
       "    </tr>\n",
       "  </tbody>\n",
       "</table>\n",
       "</div>"
      ],
      "text/plain": [
       "    population     area\n",
       "UA       45.50   603628\n",
       "BY        9.50   207600\n",
       "KZ       17.04  2724902"
      ]
     },
     "execution_count": 73,
     "metadata": {},
     "output_type": "execute_result"
    }
   ],
   "source": [
    "# Получим информацию о населении и площади Украины, Беларуси и Казахстана\n",
    "countries_df.loc[['UA', 'BY', 'KZ'], ['population', 'area']]"
   ]
  },
  {
   "cell_type": "code",
   "execution_count": 74,
   "metadata": {},
   "outputs": [
    {
     "data": {
      "text/html": [
       "<div>\n",
       "<style scoped>\n",
       "    .dataframe tbody tr th:only-of-type {\n",
       "        vertical-align: middle;\n",
       "    }\n",
       "\n",
       "    .dataframe tbody tr th {\n",
       "        vertical-align: top;\n",
       "    }\n",
       "\n",
       "    .dataframe thead th {\n",
       "        text-align: right;\n",
       "    }\n",
       "</style>\n",
       "<table border=\"1\" class=\"dataframe\">\n",
       "  <thead>\n",
       "    <tr style=\"text-align: right;\">\n",
       "      <th></th>\n",
       "      <th>population</th>\n",
       "      <th>area</th>\n",
       "    </tr>\n",
       "  </thead>\n",
       "  <tbody>\n",
       "    <tr>\n",
       "      <th>UA</th>\n",
       "      <td>45.50</td>\n",
       "      <td>603628</td>\n",
       "    </tr>\n",
       "    <tr>\n",
       "      <th>BY</th>\n",
       "      <td>9.50</td>\n",
       "      <td>207600</td>\n",
       "    </tr>\n",
       "    <tr>\n",
       "      <th>KZ</th>\n",
       "      <td>17.04</td>\n",
       "      <td>2724902</td>\n",
       "    </tr>\n",
       "  </tbody>\n",
       "</table>\n",
       "</div>"
      ],
      "text/plain": [
       "    population     area\n",
       "UA       45.50   603628\n",
       "BY        9.50   207600\n",
       "KZ       17.04  2724902"
      ]
     },
     "execution_count": 74,
     "metadata": {},
     "output_type": "execute_result"
    }
   ],
   "source": [
    "# Или\n",
    "countries_df.iloc[4:8, 1:3]"
   ]
  },
  {
   "cell_type": "markdown",
   "metadata": {},
   "source": [
    "**РАБОТА С РАЗЛИЧНЫМИ ИСТОЧНИКАМИ ДАННЫХ**"
   ]
  },
  {
   "cell_type": "markdown",
   "metadata": {},
   "source": [
    "**Запись в CSV-файл**\n",
    "*(comma-separated values - значения, разделенные запятыми)*\n",
    "\n",
    "Экспорт данных в формат csv осуществляется с помощью метода `DataFrame to_csv()`.\n",
    "\n",
    "Основные параметры этого метода:\n",
    "\n",
    "- path_or_buf — путь до файла, в который будет записан DataFrame (например, data/my_data.csv);\n",
    "\n",
    "- sep — разделитель данных в выходном файле (по умолчанию ',');\n",
    "\n",
    "- decimal — разделитель чисел на целую и дробную части в выходном файле (по умолчанию '.');\n",
    "\n",
    "- columns — список столбцов, которые нужно записать в файл (по умолчанию записываются все столбцы);\n",
    "\n",
    "- index — параметр, определяющий, требуется ли создавать дополнительный столбец с индексами строк в файле (по умолчанию True)."
   ]
  },
  {
   "cell_type": "markdown",
   "metadata": {},
   "source": [
    "Cохраним наш DataFrame с информацией о странах в csv-файл `countries.csv` и положим файл в папку `data`. При этом укажем, что разделителем в нашем файле будет являться символ ';', а также то, что нам не нужен дополнительный столбец с индексами строк:"
   ]
  },
  {
   "cell_type": "code",
   "execution_count": 75,
   "metadata": {},
   "outputs": [],
   "source": [
    "countries_df = pd.DataFrame({\n",
    "    'country': ['Англия', 'Канада', 'США', 'Россия', 'Украина', 'Беларусь', 'Казахстан'],\n",
    "    'population': [56.29, 38.05, 322.28, 146.24, 45.5, 9.5, 17.04],\n",
    "    'area': [133396, 9984670, 9826630, 17125191, 603628, 207600, 2724902]\n",
    "})\n",
    "\n",
    "countries_df.to_csv('data/countries.csv', index=False, sep=';')"
   ]
  },
  {
   "cell_type": "markdown",
   "metadata": {},
   "source": [
    "**ЧТЕНИЕ CSV-ФАЙЛА**\n",
    "\n",
    "Для этого используется функция модуля Pandas raed_csv. Функция возвращает DataFrame и имеет несколько важных параметров:\n",
    "\n",
    "- filepath_or_buffer — путь до файла, который мы читаем;\n",
    "\n",
    "- sep — разделитель данных (по умолчанию ',');\n",
    "\n",
    "- decimal — разделитель чисел на целую и дробную часть в выходном файле (по умолчанию '.');\n",
    "\n",
    "- names — список с названиями столбцов для чтения;\n",
    "\n",
    "- skiprows — количество строк в файле, которые нужно пропустить (например, файл может содержать служебную информацию, которая нам не нужна)."
   ]
  },
  {
   "cell_type": "code",
   "execution_count": 76,
   "metadata": {},
   "outputs": [
    {
     "data": {
      "text/html": [
       "<div>\n",
       "<style scoped>\n",
       "    .dataframe tbody tr th:only-of-type {\n",
       "        vertical-align: middle;\n",
       "    }\n",
       "\n",
       "    .dataframe tbody tr th {\n",
       "        vertical-align: top;\n",
       "    }\n",
       "\n",
       "    .dataframe thead th {\n",
       "        text-align: right;\n",
       "    }\n",
       "</style>\n",
       "<table border=\"1\" class=\"dataframe\">\n",
       "  <thead>\n",
       "    <tr style=\"text-align: right;\">\n",
       "      <th></th>\n",
       "      <th>country</th>\n",
       "      <th>population</th>\n",
       "      <th>area</th>\n",
       "    </tr>\n",
       "  </thead>\n",
       "  <tbody>\n",
       "    <tr>\n",
       "      <th>0</th>\n",
       "      <td>Англия</td>\n",
       "      <td>56.29</td>\n",
       "      <td>133396</td>\n",
       "    </tr>\n",
       "    <tr>\n",
       "      <th>1</th>\n",
       "      <td>Канада</td>\n",
       "      <td>38.05</td>\n",
       "      <td>9984670</td>\n",
       "    </tr>\n",
       "    <tr>\n",
       "      <th>2</th>\n",
       "      <td>США</td>\n",
       "      <td>322.28</td>\n",
       "      <td>9826630</td>\n",
       "    </tr>\n",
       "    <tr>\n",
       "      <th>3</th>\n",
       "      <td>Россия</td>\n",
       "      <td>146.24</td>\n",
       "      <td>17125191</td>\n",
       "    </tr>\n",
       "    <tr>\n",
       "      <th>4</th>\n",
       "      <td>Украина</td>\n",
       "      <td>45.50</td>\n",
       "      <td>603628</td>\n",
       "    </tr>\n",
       "    <tr>\n",
       "      <th>5</th>\n",
       "      <td>Беларусь</td>\n",
       "      <td>9.50</td>\n",
       "      <td>207600</td>\n",
       "    </tr>\n",
       "    <tr>\n",
       "      <th>6</th>\n",
       "      <td>Казахстан</td>\n",
       "      <td>17.04</td>\n",
       "      <td>2724902</td>\n",
       "    </tr>\n",
       "  </tbody>\n",
       "</table>\n",
       "</div>"
      ],
      "text/plain": [
       "     country  population      area\n",
       "0     Англия       56.29    133396\n",
       "1     Канада       38.05   9984670\n",
       "2        США      322.28   9826630\n",
       "3     Россия      146.24  17125191\n",
       "4    Украина       45.50    603628\n",
       "5   Беларусь        9.50    207600\n",
       "6  Казахстан       17.04   2724902"
      ]
     },
     "metadata": {},
     "output_type": "display_data"
    }
   ],
   "source": [
    "# Прочитаем ранее созданный файл в переменную countries_data\n",
    "# и выведем ее на экран\n",
    "countries_data = pd.read_csv('data/countries.csv', sep=';')\n",
    "display(countries_data)"
   ]
  },
  {
   "cell_type": "markdown",
   "metadata": {},
   "source": [
    "**ЧТЕНИЕ CSV-ФАЙЛА ПО ССЫЛКЕ**\n",
    "\n",
    "Чтобы прочитать файл, не обязательно, чтобы он был на компьютере. ДЛя этого достаточно в функции `read_csv()` вместо пути до файла указать ссылку на файл:"
   ]
  },
  {
   "cell_type": "code",
   "execution_count": 77,
   "metadata": {},
   "outputs": [
    {
     "data": {
      "text/html": [
       "<div>\n",
       "<style scoped>\n",
       "    .dataframe tbody tr th:only-of-type {\n",
       "        vertical-align: middle;\n",
       "    }\n",
       "\n",
       "    .dataframe tbody tr th {\n",
       "        vertical-align: top;\n",
       "    }\n",
       "\n",
       "    .dataframe thead th {\n",
       "        text-align: right;\n",
       "    }\n",
       "</style>\n",
       "<table border=\"1\" class=\"dataframe\">\n",
       "  <thead>\n",
       "    <tr style=\"text-align: right;\">\n",
       "      <th></th>\n",
       "      <th>Unnamed: 0</th>\n",
       "      <th>Suburb</th>\n",
       "      <th>Address</th>\n",
       "      <th>Rooms</th>\n",
       "      <th>Type</th>\n",
       "      <th>Price</th>\n",
       "      <th>Method</th>\n",
       "      <th>SellerG</th>\n",
       "      <th>Date</th>\n",
       "      <th>Distance</th>\n",
       "      <th>...</th>\n",
       "      <th>Bathroom</th>\n",
       "      <th>Car</th>\n",
       "      <th>Landsize</th>\n",
       "      <th>BuildingArea</th>\n",
       "      <th>YearBuilt</th>\n",
       "      <th>CouncilArea</th>\n",
       "      <th>Lattitude</th>\n",
       "      <th>Longtitude</th>\n",
       "      <th>Regionname</th>\n",
       "      <th>Propertycount</th>\n",
       "    </tr>\n",
       "  </thead>\n",
       "  <tbody>\n",
       "    <tr>\n",
       "      <th>0</th>\n",
       "      <td>1</td>\n",
       "      <td>Abbotsford</td>\n",
       "      <td>85 Turner St</td>\n",
       "      <td>2</td>\n",
       "      <td>h</td>\n",
       "      <td>1480000.0</td>\n",
       "      <td>S</td>\n",
       "      <td>Biggin</td>\n",
       "      <td>3/12/2016</td>\n",
       "      <td>2.5</td>\n",
       "      <td>...</td>\n",
       "      <td>1.0</td>\n",
       "      <td>1.0</td>\n",
       "      <td>202.0</td>\n",
       "      <td>NaN</td>\n",
       "      <td>NaN</td>\n",
       "      <td>Yarra</td>\n",
       "      <td>-37.79960</td>\n",
       "      <td>144.99840</td>\n",
       "      <td>Northern Metropolitan</td>\n",
       "      <td>4019.0</td>\n",
       "    </tr>\n",
       "    <tr>\n",
       "      <th>1</th>\n",
       "      <td>2</td>\n",
       "      <td>Abbotsford</td>\n",
       "      <td>25 Bloomburg St</td>\n",
       "      <td>2</td>\n",
       "      <td>h</td>\n",
       "      <td>1035000.0</td>\n",
       "      <td>S</td>\n",
       "      <td>Biggin</td>\n",
       "      <td>4/02/2016</td>\n",
       "      <td>2.5</td>\n",
       "      <td>...</td>\n",
       "      <td>1.0</td>\n",
       "      <td>0.0</td>\n",
       "      <td>156.0</td>\n",
       "      <td>79.0</td>\n",
       "      <td>1900.0</td>\n",
       "      <td>Yarra</td>\n",
       "      <td>-37.80790</td>\n",
       "      <td>144.99340</td>\n",
       "      <td>Northern Metropolitan</td>\n",
       "      <td>4019.0</td>\n",
       "    </tr>\n",
       "    <tr>\n",
       "      <th>2</th>\n",
       "      <td>4</td>\n",
       "      <td>Abbotsford</td>\n",
       "      <td>5 Charles St</td>\n",
       "      <td>3</td>\n",
       "      <td>h</td>\n",
       "      <td>1465000.0</td>\n",
       "      <td>SP</td>\n",
       "      <td>Biggin</td>\n",
       "      <td>4/03/2017</td>\n",
       "      <td>2.5</td>\n",
       "      <td>...</td>\n",
       "      <td>2.0</td>\n",
       "      <td>0.0</td>\n",
       "      <td>134.0</td>\n",
       "      <td>150.0</td>\n",
       "      <td>1900.0</td>\n",
       "      <td>Yarra</td>\n",
       "      <td>-37.80930</td>\n",
       "      <td>144.99440</td>\n",
       "      <td>Northern Metropolitan</td>\n",
       "      <td>4019.0</td>\n",
       "    </tr>\n",
       "    <tr>\n",
       "      <th>3</th>\n",
       "      <td>5</td>\n",
       "      <td>Abbotsford</td>\n",
       "      <td>40 Federation La</td>\n",
       "      <td>3</td>\n",
       "      <td>h</td>\n",
       "      <td>850000.0</td>\n",
       "      <td>PI</td>\n",
       "      <td>Biggin</td>\n",
       "      <td>4/03/2017</td>\n",
       "      <td>2.5</td>\n",
       "      <td>...</td>\n",
       "      <td>2.0</td>\n",
       "      <td>1.0</td>\n",
       "      <td>94.0</td>\n",
       "      <td>NaN</td>\n",
       "      <td>NaN</td>\n",
       "      <td>Yarra</td>\n",
       "      <td>-37.79690</td>\n",
       "      <td>144.99690</td>\n",
       "      <td>Northern Metropolitan</td>\n",
       "      <td>4019.0</td>\n",
       "    </tr>\n",
       "    <tr>\n",
       "      <th>4</th>\n",
       "      <td>6</td>\n",
       "      <td>Abbotsford</td>\n",
       "      <td>55a Park St</td>\n",
       "      <td>4</td>\n",
       "      <td>h</td>\n",
       "      <td>1600000.0</td>\n",
       "      <td>VB</td>\n",
       "      <td>Nelson</td>\n",
       "      <td>4/06/2016</td>\n",
       "      <td>2.5</td>\n",
       "      <td>...</td>\n",
       "      <td>1.0</td>\n",
       "      <td>2.0</td>\n",
       "      <td>120.0</td>\n",
       "      <td>142.0</td>\n",
       "      <td>2014.0</td>\n",
       "      <td>Yarra</td>\n",
       "      <td>-37.80720</td>\n",
       "      <td>144.99410</td>\n",
       "      <td>Northern Metropolitan</td>\n",
       "      <td>4019.0</td>\n",
       "    </tr>\n",
       "    <tr>\n",
       "      <th>...</th>\n",
       "      <td>...</td>\n",
       "      <td>...</td>\n",
       "      <td>...</td>\n",
       "      <td>...</td>\n",
       "      <td>...</td>\n",
       "      <td>...</td>\n",
       "      <td>...</td>\n",
       "      <td>...</td>\n",
       "      <td>...</td>\n",
       "      <td>...</td>\n",
       "      <td>...</td>\n",
       "      <td>...</td>\n",
       "      <td>...</td>\n",
       "      <td>...</td>\n",
       "      <td>...</td>\n",
       "      <td>...</td>\n",
       "      <td>...</td>\n",
       "      <td>...</td>\n",
       "      <td>...</td>\n",
       "      <td>...</td>\n",
       "      <td>...</td>\n",
       "    </tr>\n",
       "    <tr>\n",
       "      <th>18391</th>\n",
       "      <td>23540</td>\n",
       "      <td>Williamstown</td>\n",
       "      <td>8/2 Thompson St</td>\n",
       "      <td>2</td>\n",
       "      <td>t</td>\n",
       "      <td>622500.0</td>\n",
       "      <td>SP</td>\n",
       "      <td>Greg</td>\n",
       "      <td>26/08/2017</td>\n",
       "      <td>6.8</td>\n",
       "      <td>...</td>\n",
       "      <td>2.0</td>\n",
       "      <td>1.0</td>\n",
       "      <td>NaN</td>\n",
       "      <td>89.0</td>\n",
       "      <td>2010.0</td>\n",
       "      <td>NaN</td>\n",
       "      <td>-37.86393</td>\n",
       "      <td>144.90484</td>\n",
       "      <td>Western Metropolitan</td>\n",
       "      <td>6380.0</td>\n",
       "    </tr>\n",
       "    <tr>\n",
       "      <th>18392</th>\n",
       "      <td>23541</td>\n",
       "      <td>Williamstown</td>\n",
       "      <td>96 Verdon St</td>\n",
       "      <td>4</td>\n",
       "      <td>h</td>\n",
       "      <td>2500000.0</td>\n",
       "      <td>PI</td>\n",
       "      <td>Sweeney</td>\n",
       "      <td>26/08/2017</td>\n",
       "      <td>6.8</td>\n",
       "      <td>...</td>\n",
       "      <td>1.0</td>\n",
       "      <td>5.0</td>\n",
       "      <td>866.0</td>\n",
       "      <td>157.0</td>\n",
       "      <td>1920.0</td>\n",
       "      <td>NaN</td>\n",
       "      <td>-37.85908</td>\n",
       "      <td>144.89299</td>\n",
       "      <td>Western Metropolitan</td>\n",
       "      <td>6380.0</td>\n",
       "    </tr>\n",
       "    <tr>\n",
       "      <th>18393</th>\n",
       "      <td>23544</td>\n",
       "      <td>Yallambie</td>\n",
       "      <td>17 Amaroo Wy</td>\n",
       "      <td>4</td>\n",
       "      <td>h</td>\n",
       "      <td>1100000.0</td>\n",
       "      <td>S</td>\n",
       "      <td>Buckingham</td>\n",
       "      <td>26/08/2017</td>\n",
       "      <td>12.7</td>\n",
       "      <td>...</td>\n",
       "      <td>3.0</td>\n",
       "      <td>2.0</td>\n",
       "      <td>NaN</td>\n",
       "      <td>NaN</td>\n",
       "      <td>NaN</td>\n",
       "      <td>NaN</td>\n",
       "      <td>-37.72006</td>\n",
       "      <td>145.10547</td>\n",
       "      <td>Northern Metropolitan</td>\n",
       "      <td>1369.0</td>\n",
       "    </tr>\n",
       "    <tr>\n",
       "      <th>18394</th>\n",
       "      <td>23545</td>\n",
       "      <td>Yarraville</td>\n",
       "      <td>6 Agnes St</td>\n",
       "      <td>4</td>\n",
       "      <td>h</td>\n",
       "      <td>1285000.0</td>\n",
       "      <td>SP</td>\n",
       "      <td>Village</td>\n",
       "      <td>26/08/2017</td>\n",
       "      <td>6.3</td>\n",
       "      <td>...</td>\n",
       "      <td>1.0</td>\n",
       "      <td>1.0</td>\n",
       "      <td>362.0</td>\n",
       "      <td>112.0</td>\n",
       "      <td>1920.0</td>\n",
       "      <td>NaN</td>\n",
       "      <td>-37.81188</td>\n",
       "      <td>144.88449</td>\n",
       "      <td>Western Metropolitan</td>\n",
       "      <td>6543.0</td>\n",
       "    </tr>\n",
       "    <tr>\n",
       "      <th>18395</th>\n",
       "      <td>23546</td>\n",
       "      <td>Yarraville</td>\n",
       "      <td>33 Freeman St</td>\n",
       "      <td>4</td>\n",
       "      <td>h</td>\n",
       "      <td>1050000.0</td>\n",
       "      <td>VB</td>\n",
       "      <td>Village</td>\n",
       "      <td>26/08/2017</td>\n",
       "      <td>6.3</td>\n",
       "      <td>...</td>\n",
       "      <td>2.0</td>\n",
       "      <td>2.0</td>\n",
       "      <td>NaN</td>\n",
       "      <td>139.0</td>\n",
       "      <td>1950.0</td>\n",
       "      <td>NaN</td>\n",
       "      <td>-37.81829</td>\n",
       "      <td>144.87404</td>\n",
       "      <td>Western Metropolitan</td>\n",
       "      <td>6543.0</td>\n",
       "    </tr>\n",
       "  </tbody>\n",
       "</table>\n",
       "<p>18396 rows × 22 columns</p>\n",
       "</div>"
      ],
      "text/plain": [
       "       Unnamed: 0        Suburb           Address  Rooms Type      Price  \\\n",
       "0               1    Abbotsford      85 Turner St      2    h  1480000.0   \n",
       "1               2    Abbotsford   25 Bloomburg St      2    h  1035000.0   \n",
       "2               4    Abbotsford      5 Charles St      3    h  1465000.0   \n",
       "3               5    Abbotsford  40 Federation La      3    h   850000.0   \n",
       "4               6    Abbotsford       55a Park St      4    h  1600000.0   \n",
       "...           ...           ...               ...    ...  ...        ...   \n",
       "18391       23540  Williamstown   8/2 Thompson St      2    t   622500.0   \n",
       "18392       23541  Williamstown      96 Verdon St      4    h  2500000.0   \n",
       "18393       23544     Yallambie      17 Amaroo Wy      4    h  1100000.0   \n",
       "18394       23545    Yarraville        6 Agnes St      4    h  1285000.0   \n",
       "18395       23546    Yarraville     33 Freeman St      4    h  1050000.0   \n",
       "\n",
       "      Method     SellerG        Date  Distance  ...  Bathroom  Car  Landsize  \\\n",
       "0          S      Biggin   3/12/2016       2.5  ...       1.0  1.0     202.0   \n",
       "1          S      Biggin   4/02/2016       2.5  ...       1.0  0.0     156.0   \n",
       "2         SP      Biggin   4/03/2017       2.5  ...       2.0  0.0     134.0   \n",
       "3         PI      Biggin   4/03/2017       2.5  ...       2.0  1.0      94.0   \n",
       "4         VB      Nelson   4/06/2016       2.5  ...       1.0  2.0     120.0   \n",
       "...      ...         ...         ...       ...  ...       ...  ...       ...   \n",
       "18391     SP        Greg  26/08/2017       6.8  ...       2.0  1.0       NaN   \n",
       "18392     PI     Sweeney  26/08/2017       6.8  ...       1.0  5.0     866.0   \n",
       "18393      S  Buckingham  26/08/2017      12.7  ...       3.0  2.0       NaN   \n",
       "18394     SP     Village  26/08/2017       6.3  ...       1.0  1.0     362.0   \n",
       "18395     VB     Village  26/08/2017       6.3  ...       2.0  2.0       NaN   \n",
       "\n",
       "       BuildingArea  YearBuilt  CouncilArea  Lattitude Longtitude  \\\n",
       "0               NaN        NaN        Yarra  -37.79960  144.99840   \n",
       "1              79.0     1900.0        Yarra  -37.80790  144.99340   \n",
       "2             150.0     1900.0        Yarra  -37.80930  144.99440   \n",
       "3               NaN        NaN        Yarra  -37.79690  144.99690   \n",
       "4             142.0     2014.0        Yarra  -37.80720  144.99410   \n",
       "...             ...        ...          ...        ...        ...   \n",
       "18391          89.0     2010.0          NaN  -37.86393  144.90484   \n",
       "18392         157.0     1920.0          NaN  -37.85908  144.89299   \n",
       "18393           NaN        NaN          NaN  -37.72006  145.10547   \n",
       "18394         112.0     1920.0          NaN  -37.81188  144.88449   \n",
       "18395         139.0     1950.0          NaN  -37.81829  144.87404   \n",
       "\n",
       "                  Regionname  Propertycount  \n",
       "0      Northern Metropolitan         4019.0  \n",
       "1      Northern Metropolitan         4019.0  \n",
       "2      Northern Metropolitan         4019.0  \n",
       "3      Northern Metropolitan         4019.0  \n",
       "4      Northern Metropolitan         4019.0  \n",
       "...                      ...            ...  \n",
       "18391   Western Metropolitan         6380.0  \n",
       "18392   Western Metropolitan         6380.0  \n",
       "18393  Northern Metropolitan         1369.0  \n",
       "18394   Western Metropolitan         6543.0  \n",
       "18395   Western Metropolitan         6543.0  \n",
       "\n",
       "[18396 rows x 22 columns]"
      ]
     },
     "metadata": {},
     "output_type": "display_data"
    }
   ],
   "source": [
    "data = pd.read_csv('https://raw.githubusercontent.com/esabunor/MLWorkspace/master/melb_data.csv')\n",
    "display(data)"
   ]
  },
  {
   "cell_type": "markdown",
   "metadata": {},
   "source": [
    "**ЗАПИСЬ И ЧТЕНИЕ В ДРУГИХ ФОРМАТАХ**"
   ]
  },
  {
   "cell_type": "markdown",
   "metadata": {},
   "source": [
    "**Методы для записи таблиц в файлы отличных от csv форматов:**\n",
    "\n",
    "- to_exel() — запись DataFrame в формат Excel-таблицы (.xlsx);\n",
    "\n",
    "- to_json() — запись DataFrame в формат JSON (.json);\n",
    "\n",
    "- to_xml() — запись DataFrame в формат XML-документа (.xml);\n",
    "\n",
    "- to_sql() — запись DataFrame в базу данных SQL (для реализации этого метода необходимо установить соединение с базой данных).\n"
   ]
  },
  {
   "cell_type": "markdown",
   "metadata": {},
   "source": [
    "**Методы для чтения таблиц из файлов в отличных от csv форматах:**\n",
    "\n",
    "- read_excel() — чтение из формата Excel-таблицы (.xlsx) в DataFrame;\n",
    "\n",
    "- read_json() — чтение из формата JSON (.json) в DataFrame;\n",
    "\n",
    "- read_xml() — чтение из формата XML-документа (.xml) в DataFrame;\n",
    "\n",
    "- read_sql() — чтение из базы данных SQL в DataFrame (также необходимо установить соединение с базой данных)."
   ]
  },
  {
   "cell_type": "markdown",
   "metadata": {},
   "source": [
    "**Исследование структуры DataFrame**"
   ]
  },
  {
   "cell_type": "markdown",
   "metadata": {},
   "source": [
    "ВЫВОД ПЕРВЫХ И ПОСЛЕДНИХ СТРОК"
   ]
  },
  {
   "cell_type": "markdown",
   "metadata": {},
   "source": [
    "У DataFrame есть методы head() и tail(), которые возвращают n первых и n последних строк таблицы соответственно (по умолчанию n = 5)."
   ]
  },
  {
   "cell_type": "markdown",
   "metadata": {},
   "source": [
    "РАЗМЕРНОСТЬ ТАБЛИЦЫ"
   ]
  },
  {
   "cell_type": "markdown",
   "metadata": {},
   "source": [
    "Далее хотелось бы узнать размер таблицы — количество строк и количество столбцов. Это можно сделать с помощью атрибута `shape`, который возвращает кортеж с количеством строк и столбцов:"
   ]
  },
  {
   "cell_type": "code",
   "execution_count": 78,
   "metadata": {},
   "outputs": [
    {
     "data": {
      "text/plain": [
       "(13580, 23)"
      ]
     },
     "execution_count": 78,
     "metadata": {},
     "output_type": "execute_result"
    }
   ],
   "source": [
    "import pandas as pd\n",
    "\n",
    "# Прочитать документ\n",
    "melb_data = pd.read_csv('data/melb_data.csv', sep=',')\n",
    "\n",
    "melb_data.shape"
   ]
  },
  {
   "cell_type": "markdown",
   "metadata": {},
   "source": [
    "ПОЛУЧЕНИЕ ИНФОРМАЦИИ О СТОЛБЦАХ"
   ]
  },
  {
   "cell_type": "markdown",
   "metadata": {},
   "source": [
    "Для того чтобы получить более детальную информацию о столбцах таблицы, можно использовать метод DataFrame `info()`:"
   ]
  },
  {
   "cell_type": "code",
   "execution_count": 79,
   "metadata": {},
   "outputs": [
    {
     "name": "stdout",
     "output_type": "stream",
     "text": [
      "<class 'pandas.core.frame.DataFrame'>\n",
      "RangeIndex: 13580 entries, 0 to 13579\n",
      "Data columns (total 23 columns):\n",
      " #   Column         Non-Null Count  Dtype  \n",
      "---  ------         --------------  -----  \n",
      " 0   index          13580 non-null  int64  \n",
      " 1   Suburb         13580 non-null  object \n",
      " 2   Address        13580 non-null  object \n",
      " 3   Rooms          13580 non-null  int64  \n",
      " 4   Type           13580 non-null  object \n",
      " 5   Price          13580 non-null  float64\n",
      " 6   Method         13580 non-null  object \n",
      " 7   SellerG        13580 non-null  object \n",
      " 8   Date           13580 non-null  object \n",
      " 9   Distance       13580 non-null  float64\n",
      " 10  Postcode       13580 non-null  int64  \n",
      " 11  Bedroom        13580 non-null  float64\n",
      " 12  Bathroom       13580 non-null  float64\n",
      " 13  Car            13580 non-null  float64\n",
      " 14  Landsize       13580 non-null  float64\n",
      " 15  BuildingArea   13580 non-null  float64\n",
      " 16  YearBuilt      13580 non-null  float64\n",
      " 17  CouncilArea    12211 non-null  object \n",
      " 18  Lattitude      13580 non-null  float64\n",
      " 19  Longtitude     13580 non-null  float64\n",
      " 20  Regionname     13580 non-null  object \n",
      " 21  Propertycount  13580 non-null  float64\n",
      " 22  Coordinates    13580 non-null  object \n",
      "dtypes: float64(11), int64(3), object(9)\n",
      "memory usage: 2.4+ MB\n"
     ]
    }
   ],
   "source": [
    "melb_data.info()"
   ]
  },
  {
   "cell_type": "markdown",
   "metadata": {},
   "source": [
    "Данный метод выводит:\n",
    "\n",
    "- информацию об индексах;\n",
    "- информацию об общем количестве столбцов;\n",
    "- таблицу, в которой содержится информация об именах столбцов (*Column*), количестве непустых значений (*Non-Null Count*) в каждом столбце и типе данных столбца (*Dtype*), количестве столбцов, в которых используется определённый тип данных;\n",
    "- количество оперативной памяти в мегабайтах, которое тратится на хранение данных."
   ]
  },
  {
   "cell_type": "markdown",
   "metadata": {},
   "source": [
    "Из вывода метода `info()` становится понятно, что в нашей таблице есть столбец `CouncilArea` с пропущенными значениями — количество непустых значений в столбце меньше, чем количество строк в таблице (12211 < 13580)."
   ]
  },
  {
   "cell_type": "markdown",
   "metadata": {},
   "source": [
    "**Пустыми, или пропущенными значениями** называются значения в ячейках таблицы, которые не заполнены по какой-либо причине, то есть на их месте стоит пустое место. В Pandas такие значения обозначаются символом *NaN (Not-a-Number)*."
   ]
  },
  {
   "cell_type": "markdown",
   "metadata": {},
   "source": [
    "ИЗМЕНЕНИЕ ТИПА ДАННЫХ В СТОЛБЦЕ"
   ]
  },
  {
   "cell_type": "markdown",
   "metadata": {},
   "source": [
    "→ Если присмотреться внимательнее к выводу метода `info()`, а конкретнее — к типам данных столбцов, становится понятно, что некоторые признаки кодируются не совсем корректными типами данных. \n",
    "\n",
    "Чтобы исправить это, можно воспользоваться методом `astype()`, который позволяет преобразовать тип данных столбца:"
   ]
  },
  {
   "cell_type": "code",
   "execution_count": 80,
   "metadata": {},
   "outputs": [
    {
     "name": "stdout",
     "output_type": "stream",
     "text": [
      "<class 'pandas.core.frame.DataFrame'>\n",
      "RangeIndex: 13580 entries, 0 to 13579\n",
      "Data columns (total 23 columns):\n",
      " #   Column         Non-Null Count  Dtype  \n",
      "---  ------         --------------  -----  \n",
      " 0   index          13580 non-null  int64  \n",
      " 1   Suburb         13580 non-null  object \n",
      " 2   Address        13580 non-null  object \n",
      " 3   Rooms          13580 non-null  int64  \n",
      " 4   Type           13580 non-null  object \n",
      " 5   Price          13580 non-null  float64\n",
      " 6   Method         13580 non-null  object \n",
      " 7   SellerG        13580 non-null  object \n",
      " 8   Date           13580 non-null  object \n",
      " 9   Distance       13580 non-null  float64\n",
      " 10  Postcode       13580 non-null  int64  \n",
      " 11  Bedroom        13580 non-null  int64  \n",
      " 12  Bathroom       13580 non-null  int64  \n",
      " 13  Car            13580 non-null  int64  \n",
      " 14  Landsize       13580 non-null  float64\n",
      " 15  BuildingArea   13580 non-null  float64\n",
      " 16  YearBuilt      13580 non-null  int64  \n",
      " 17  CouncilArea    12211 non-null  object \n",
      " 18  Lattitude      13580 non-null  float64\n",
      " 19  Longtitude     13580 non-null  float64\n",
      " 20  Regionname     13580 non-null  object \n",
      " 21  Propertycount  13580 non-null  int64  \n",
      " 22  Coordinates    13580 non-null  object \n",
      "dtypes: float64(6), int64(8), object(9)\n",
      "memory usage: 2.4+ MB\n"
     ]
    }
   ],
   "source": [
    "melb_data['Car'] = melb_data['Car'].astype('int64')\n",
    "melb_data['Bedroom'] = melb_data['Bedroom'].astype('int64')\n",
    "melb_data['Bathroom'] = melb_data['Bathroom'].astype('int64')\n",
    "melb_data['Propertycount'] = melb_data['Propertycount'].astype('int64')\n",
    "melb_data['YearBuilt'] = melb_data['YearBuilt'].astype('int64')\n",
    "melb_data.info()"
   ]
  },
  {
   "cell_type": "markdown",
   "metadata": {},
   "source": [
    "В данном коде мы при помощи метода `astype()` последовательно переопределяем столбцы на них же самих, только с изменённым типом данных: `int64` — целочисленное число размером 64 бита."
   ]
  },
  {
   "cell_type": "markdown",
   "metadata": {},
   "source": [
    "ПОЛУЧЕНИЕ ОПИСАТЕЛЬНОЙ СТАТИСТИКИ"
   ]
  },
  {
   "cell_type": "markdown",
   "metadata": {},
   "source": [
    "→ Часто при работе с таблицей нужно быстро посмотреть на основные статистические свойства её столбцов. Для этого можно воспользоваться методом DataFrame `describe()`."
   ]
  },
  {
   "cell_type": "markdown",
   "metadata": {},
   "source": [
    "Метод работает с числовыми столбцами и показывает число непустых значений(*count*), среднее (*mean*), стандартное отклонение (*std*), минимальное значение (*min*),  квантили уровней 0.25, 0.5 (*медиана*) и 0.75 (25%, 50%, 75%) и максимальное значение (*max*) для каждого столбца исходной таблицы."
   ]
  },
  {
   "cell_type": "code",
   "execution_count": 81,
   "metadata": {},
   "outputs": [
    {
     "data": {
      "text/html": [
       "<div>\n",
       "<style scoped>\n",
       "    .dataframe tbody tr th:only-of-type {\n",
       "        vertical-align: middle;\n",
       "    }\n",
       "\n",
       "    .dataframe tbody tr th {\n",
       "        vertical-align: top;\n",
       "    }\n",
       "\n",
       "    .dataframe thead th {\n",
       "        text-align: right;\n",
       "    }\n",
       "</style>\n",
       "<table border=\"1\" class=\"dataframe\">\n",
       "  <thead>\n",
       "    <tr style=\"text-align: right;\">\n",
       "      <th></th>\n",
       "      <th>Distance</th>\n",
       "      <th>BuildingArea</th>\n",
       "      <th>Price</th>\n",
       "    </tr>\n",
       "  </thead>\n",
       "  <tbody>\n",
       "    <tr>\n",
       "      <th>count</th>\n",
       "      <td>13580.000000</td>\n",
       "      <td>13580.000000</td>\n",
       "      <td>1.358000e+04</td>\n",
       "    </tr>\n",
       "    <tr>\n",
       "      <th>mean</th>\n",
       "      <td>10.137776</td>\n",
       "      <td>139.633972</td>\n",
       "      <td>1.075684e+06</td>\n",
       "    </tr>\n",
       "    <tr>\n",
       "      <th>std</th>\n",
       "      <td>5.868725</td>\n",
       "      <td>392.217403</td>\n",
       "      <td>6.393107e+05</td>\n",
       "    </tr>\n",
       "    <tr>\n",
       "      <th>min</th>\n",
       "      <td>0.000000</td>\n",
       "      <td>0.000000</td>\n",
       "      <td>8.500000e+04</td>\n",
       "    </tr>\n",
       "    <tr>\n",
       "      <th>25%</th>\n",
       "      <td>6.100000</td>\n",
       "      <td>122.000000</td>\n",
       "      <td>6.500000e+05</td>\n",
       "    </tr>\n",
       "    <tr>\n",
       "      <th>50%</th>\n",
       "      <td>9.200000</td>\n",
       "      <td>126.000000</td>\n",
       "      <td>9.030000e+05</td>\n",
       "    </tr>\n",
       "    <tr>\n",
       "      <th>75%</th>\n",
       "      <td>13.000000</td>\n",
       "      <td>129.940000</td>\n",
       "      <td>1.330000e+06</td>\n",
       "    </tr>\n",
       "    <tr>\n",
       "      <th>max</th>\n",
       "      <td>48.100000</td>\n",
       "      <td>44515.000000</td>\n",
       "      <td>9.000000e+06</td>\n",
       "    </tr>\n",
       "  </tbody>\n",
       "</table>\n",
       "</div>"
      ],
      "text/plain": [
       "           Distance  BuildingArea         Price\n",
       "count  13580.000000  13580.000000  1.358000e+04\n",
       "mean      10.137776    139.633972  1.075684e+06\n",
       "std        5.868725    392.217403  6.393107e+05\n",
       "min        0.000000      0.000000  8.500000e+04\n",
       "25%        6.100000    122.000000  6.500000e+05\n",
       "50%        9.200000    126.000000  9.030000e+05\n",
       "75%       13.000000    129.940000  1.330000e+06\n",
       "max       48.100000  44515.000000  9.000000e+06"
      ]
     },
     "execution_count": 81,
     "metadata": {},
     "output_type": "execute_result"
    }
   ],
   "source": [
    "# Вывести на экранзначение статистических параметров только для \n",
    "# столбцов Distance, BuildingArea и Price:\n",
    "melb_data.describe().loc[:, ['Distance', 'BuildingArea', 'Price']]"
   ]
  },
  {
   "cell_type": "markdown",
   "metadata": {},
   "source": [
    "**Примечание**. Числа с *e*+*n* означают 10 в *n*-ой степени. То есть 9.0*e*+06=9*10**6\n"
   ]
  },
  {
   "cell_type": "markdown",
   "metadata": {},
   "source": [
    "→ На самом деле метод `describe()` можно применять не только к числовым признакам. С помощью параметра `include` можно указать тип данных, для которого нужно вывести описательную информацию."
   ]
  },
  {
   "cell_type": "markdown",
   "metadata": {},
   "source": [
    "Например, для типа данных *object* метод `describe()` возвращает DataFrame, в котором указаны:\n",
    "\n",
    "- количество непустых строк (*count*);\n",
    "- количество уникальных значений (*unique*);\n",
    "- самое частое значение — мода —  (*top*);\n",
    "- частота — объём использования — этого значения (*freq*) для каждого столбца типа *object* исходной таблицы."
   ]
  },
  {
   "cell_type": "code",
   "execution_count": 82,
   "metadata": {},
   "outputs": [
    {
     "data": {
      "text/html": [
       "<div>\n",
       "<style scoped>\n",
       "    .dataframe tbody tr th:only-of-type {\n",
       "        vertical-align: middle;\n",
       "    }\n",
       "\n",
       "    .dataframe tbody tr th {\n",
       "        vertical-align: top;\n",
       "    }\n",
       "\n",
       "    .dataframe thead th {\n",
       "        text-align: right;\n",
       "    }\n",
       "</style>\n",
       "<table border=\"1\" class=\"dataframe\">\n",
       "  <thead>\n",
       "    <tr style=\"text-align: right;\">\n",
       "      <th></th>\n",
       "      <th>Suburb</th>\n",
       "      <th>Address</th>\n",
       "      <th>Type</th>\n",
       "      <th>Method</th>\n",
       "      <th>SellerG</th>\n",
       "      <th>Date</th>\n",
       "      <th>CouncilArea</th>\n",
       "      <th>Regionname</th>\n",
       "      <th>Coordinates</th>\n",
       "    </tr>\n",
       "  </thead>\n",
       "  <tbody>\n",
       "    <tr>\n",
       "      <th>count</th>\n",
       "      <td>13580</td>\n",
       "      <td>13580</td>\n",
       "      <td>13580</td>\n",
       "      <td>13580</td>\n",
       "      <td>13580</td>\n",
       "      <td>13580</td>\n",
       "      <td>12211</td>\n",
       "      <td>13580</td>\n",
       "      <td>13580</td>\n",
       "    </tr>\n",
       "    <tr>\n",
       "      <th>unique</th>\n",
       "      <td>314</td>\n",
       "      <td>13378</td>\n",
       "      <td>3</td>\n",
       "      <td>5</td>\n",
       "      <td>268</td>\n",
       "      <td>58</td>\n",
       "      <td>33</td>\n",
       "      <td>8</td>\n",
       "      <td>13097</td>\n",
       "    </tr>\n",
       "    <tr>\n",
       "      <th>top</th>\n",
       "      <td>Reservoir</td>\n",
       "      <td>36 Aberfeldie St</td>\n",
       "      <td>h</td>\n",
       "      <td>S</td>\n",
       "      <td>Nelson</td>\n",
       "      <td>27/05/2017</td>\n",
       "      <td>Moreland</td>\n",
       "      <td>Southern Metropolitan</td>\n",
       "      <td>-37.8361, 144.9966</td>\n",
       "    </tr>\n",
       "    <tr>\n",
       "      <th>freq</th>\n",
       "      <td>359</td>\n",
       "      <td>3</td>\n",
       "      <td>9449</td>\n",
       "      <td>9022</td>\n",
       "      <td>1565</td>\n",
       "      <td>473</td>\n",
       "      <td>1163</td>\n",
       "      <td>4695</td>\n",
       "      <td>12</td>\n",
       "    </tr>\n",
       "  </tbody>\n",
       "</table>\n",
       "</div>"
      ],
      "text/plain": [
       "           Suburb           Address   Type Method SellerG        Date  \\\n",
       "count       13580             13580  13580  13580   13580       13580   \n",
       "unique        314             13378      3      5     268          58   \n",
       "top     Reservoir  36 Aberfeldie St      h      S  Nelson  27/05/2017   \n",
       "freq          359                 3   9449   9022    1565         473   \n",
       "\n",
       "       CouncilArea             Regionname         Coordinates  \n",
       "count        12211                  13580               13580  \n",
       "unique          33                      8               13097  \n",
       "top       Moreland  Southern Metropolitan  -37.8361, 144.9966  \n",
       "freq          1163                   4695                  12  "
      ]
     },
     "execution_count": 82,
     "metadata": {},
     "output_type": "execute_result"
    }
   ],
   "source": [
    "melb_data.describe(include=['object'])"
   ]
  },
  {
   "cell_type": "markdown",
   "metadata": {},
   "source": [
    "*Столбец Suburb (пригород)*\n",
    "\n",
    "*Наибольшее количество проданных объектов (359) находилось в пригороде `Reservoir`.*\n",
    "\n",
    "\n",
    "*Столбец `Type` (тип здания)*\n",
    "\n",
    "*Самый популярный тип дома — `h` (дом, вилла, коттедж).*\n",
    "\n",
    "\n",
    "*Столбец `SellerG` (риелтор)*\n",
    "\n",
    "*В наших данных нам известно о 268 различных риэлторских компаниях, однако самой главной «акулой» в этом бизнесе является компания `Nelson` — они продали 1 565 различных домов.*\n",
    "\n",
    "\n",
    "*Столбец `Date` (дата продажи)*\n",
    "\n",
    "*В нашей таблице содержится информация за 58 дней, при этом наибольшее `число продаж` (473) пришлось на `27 мая 2017 `года.*"
   ]
  },
  {
   "cell_type": "markdown",
   "metadata": {},
   "source": [
    "ПОЛУЧЕНИЕ ЧАСТОТЫ УНИКАЛЬНЫХ ЗНАЧЕНИЙ В СТОЛБЦЕ"
   ]
  },
  {
   "cell_type": "markdown",
   "metadata": {},
   "source": [
    "Для того чтобы определить, сколько раз в столбце повторяется каждый из вариантов значений (т.е. найти частоту для каждого уникального знания), используется метод value_counts()."
   ]
  },
  {
   "cell_type": "code",
   "execution_count": 83,
   "metadata": {},
   "outputs": [
    {
     "data": {
      "text/plain": [
       "Regionname\n",
       "Southern Metropolitan         4695\n",
       "Northern Metropolitan         3890\n",
       "Western Metropolitan          2948\n",
       "Eastern Metropolitan          1471\n",
       "South-Eastern Metropolitan     450\n",
       "Eastern Victoria                53\n",
       "Northern Victoria               41\n",
       "Western Victoria                32\n",
       "Name: count, dtype: int64"
      ]
     },
     "execution_count": 83,
     "metadata": {},
     "output_type": "execute_result"
    }
   ],
   "source": [
    "melb_data['Regionname'].value_counts()"
   ]
  },
  {
   "cell_type": "markdown",
   "metadata": {},
   "source": [
    "Для того, чтобы представить значения в виде доли (относительной частоты), используется параметр normalize=True\n"
   ]
  },
  {
   "cell_type": "code",
   "execution_count": 84,
   "metadata": {},
   "outputs": [
    {
     "data": {
      "text/plain": [
       "Regionname\n",
       "Southern Metropolitan         0.345729\n",
       "Northern Metropolitan         0.286451\n",
       "Western Metropolitan          0.217084\n",
       "Eastern Metropolitan          0.108321\n",
       "South-Eastern Metropolitan    0.033137\n",
       "Eastern Victoria              0.003903\n",
       "Northern Victoria             0.003019\n",
       "Western Victoria              0.002356\n",
       "Name: proportion, dtype: float64"
      ]
     },
     "execution_count": 84,
     "metadata": {},
     "output_type": "execute_result"
    }
   ],
   "source": [
    "melb_data['Regionname'].value_counts(normalize=True)"
   ]
  },
  {
   "cell_type": "code",
   "execution_count": 85,
   "metadata": {},
   "outputs": [
    {
     "name": "stdout",
     "output_type": "stream",
     "text": [
      "<class 'pandas.core.series.Series'>\n",
      "RangeIndex: 13580 entries, 0 to 13579\n",
      "Series name: Coordinates\n",
      "Non-Null Count  Dtype \n",
      "--------------  ----- \n",
      "13580 non-null  object\n",
      "dtypes: object(1)\n",
      "memory usage: 106.2+ KB\n"
     ]
    }
   ],
   "source": [
    "melb_data['Coordinates'].info()"
   ]
  },
  {
   "cell_type": "code",
   "execution_count": 86,
   "metadata": {},
   "outputs": [
    {
     "name": "stdout",
     "output_type": "stream",
     "text": [
      "<class 'pandas.core.series.Series'>\n",
      "RangeIndex: 13580 entries, 0 to 13579\n",
      "Series name: CouncilArea\n",
      "Non-Null Count  Dtype \n",
      "--------------  ----- \n",
      "12211 non-null  object\n",
      "dtypes: object(1)\n",
      "memory usage: 106.2+ KB\n"
     ]
    }
   ],
   "source": [
    "melb_data['CouncilArea'].info()"
   ]
  },
  {
   "cell_type": "code",
   "execution_count": 87,
   "metadata": {},
   "outputs": [
    {
     "data": {
      "text/plain": [
       "count    1.358000e+04\n",
       "mean     1.075684e+06\n",
       "std      6.393107e+05\n",
       "min      8.500000e+04\n",
       "25%      6.500000e+05\n",
       "50%      9.030000e+05\n",
       "75%      1.330000e+06\n",
       "max      9.000000e+06\n",
       "Name: Price, dtype: float64"
      ]
     },
     "execution_count": 87,
     "metadata": {},
     "output_type": "execute_result"
    }
   ],
   "source": [
    "melb_data.describe().loc[:, 'Price']"
   ]
  },
  {
   "cell_type": "code",
   "execution_count": 88,
   "metadata": {},
   "outputs": [
    {
     "data": {
      "text/html": [
       "<div>\n",
       "<style scoped>\n",
       "    .dataframe tbody tr th:only-of-type {\n",
       "        vertical-align: middle;\n",
       "    }\n",
       "\n",
       "    .dataframe tbody tr th {\n",
       "        vertical-align: top;\n",
       "    }\n",
       "\n",
       "    .dataframe thead th {\n",
       "        text-align: right;\n",
       "    }\n",
       "</style>\n",
       "<table border=\"1\" class=\"dataframe\">\n",
       "  <thead>\n",
       "    <tr style=\"text-align: right;\">\n",
       "      <th></th>\n",
       "      <th>index</th>\n",
       "      <th>Rooms</th>\n",
       "      <th>Price</th>\n",
       "      <th>Distance</th>\n",
       "      <th>Postcode</th>\n",
       "      <th>Bedroom</th>\n",
       "      <th>Bathroom</th>\n",
       "      <th>Car</th>\n",
       "      <th>Landsize</th>\n",
       "      <th>BuildingArea</th>\n",
       "      <th>YearBuilt</th>\n",
       "      <th>Lattitude</th>\n",
       "      <th>Longtitude</th>\n",
       "      <th>Propertycount</th>\n",
       "    </tr>\n",
       "  </thead>\n",
       "  <tbody>\n",
       "    <tr>\n",
       "      <th>count</th>\n",
       "      <td>13580.000000</td>\n",
       "      <td>13580.000000</td>\n",
       "      <td>1.358000e+04</td>\n",
       "      <td>13580.000000</td>\n",
       "      <td>13580.000000</td>\n",
       "      <td>13580.000000</td>\n",
       "      <td>13580.000000</td>\n",
       "      <td>13580.000000</td>\n",
       "      <td>13580.000000</td>\n",
       "      <td>13580.000000</td>\n",
       "      <td>13580.000000</td>\n",
       "      <td>13580.000000</td>\n",
       "      <td>13580.000000</td>\n",
       "      <td>13580.000000</td>\n",
       "    </tr>\n",
       "    <tr>\n",
       "      <th>mean</th>\n",
       "      <td>6789.500000</td>\n",
       "      <td>2.937997</td>\n",
       "      <td>1.075684e+06</td>\n",
       "      <td>10.137776</td>\n",
       "      <td>3105.301915</td>\n",
       "      <td>2.914728</td>\n",
       "      <td>1.534242</td>\n",
       "      <td>1.611856</td>\n",
       "      <td>558.416127</td>\n",
       "      <td>139.633972</td>\n",
       "      <td>1966.788218</td>\n",
       "      <td>-37.809203</td>\n",
       "      <td>144.995216</td>\n",
       "      <td>7454.417378</td>\n",
       "    </tr>\n",
       "    <tr>\n",
       "      <th>std</th>\n",
       "      <td>3920.352663</td>\n",
       "      <td>0.955748</td>\n",
       "      <td>6.393107e+05</td>\n",
       "      <td>5.868725</td>\n",
       "      <td>90.676964</td>\n",
       "      <td>0.965921</td>\n",
       "      <td>0.691712</td>\n",
       "      <td>0.960793</td>\n",
       "      <td>3990.669241</td>\n",
       "      <td>392.217403</td>\n",
       "      <td>29.088642</td>\n",
       "      <td>0.079260</td>\n",
       "      <td>0.103916</td>\n",
       "      <td>4378.581772</td>\n",
       "    </tr>\n",
       "    <tr>\n",
       "      <th>min</th>\n",
       "      <td>0.000000</td>\n",
       "      <td>1.000000</td>\n",
       "      <td>8.500000e+04</td>\n",
       "      <td>0.000000</td>\n",
       "      <td>3000.000000</td>\n",
       "      <td>0.000000</td>\n",
       "      <td>0.000000</td>\n",
       "      <td>0.000000</td>\n",
       "      <td>0.000000</td>\n",
       "      <td>0.000000</td>\n",
       "      <td>1196.000000</td>\n",
       "      <td>-38.182550</td>\n",
       "      <td>144.431810</td>\n",
       "      <td>249.000000</td>\n",
       "    </tr>\n",
       "    <tr>\n",
       "      <th>25%</th>\n",
       "      <td>3394.750000</td>\n",
       "      <td>2.000000</td>\n",
       "      <td>6.500000e+05</td>\n",
       "      <td>6.100000</td>\n",
       "      <td>3044.000000</td>\n",
       "      <td>2.000000</td>\n",
       "      <td>1.000000</td>\n",
       "      <td>1.000000</td>\n",
       "      <td>177.000000</td>\n",
       "      <td>122.000000</td>\n",
       "      <td>1960.000000</td>\n",
       "      <td>-37.856822</td>\n",
       "      <td>144.929600</td>\n",
       "      <td>4380.000000</td>\n",
       "    </tr>\n",
       "    <tr>\n",
       "      <th>50%</th>\n",
       "      <td>6789.500000</td>\n",
       "      <td>3.000000</td>\n",
       "      <td>9.030000e+05</td>\n",
       "      <td>9.200000</td>\n",
       "      <td>3084.000000</td>\n",
       "      <td>3.000000</td>\n",
       "      <td>1.000000</td>\n",
       "      <td>2.000000</td>\n",
       "      <td>440.000000</td>\n",
       "      <td>126.000000</td>\n",
       "      <td>1970.000000</td>\n",
       "      <td>-37.802355</td>\n",
       "      <td>145.000100</td>\n",
       "      <td>6555.000000</td>\n",
       "    </tr>\n",
       "    <tr>\n",
       "      <th>75%</th>\n",
       "      <td>10184.250000</td>\n",
       "      <td>3.000000</td>\n",
       "      <td>1.330000e+06</td>\n",
       "      <td>13.000000</td>\n",
       "      <td>3148.000000</td>\n",
       "      <td>3.000000</td>\n",
       "      <td>2.000000</td>\n",
       "      <td>2.000000</td>\n",
       "      <td>651.000000</td>\n",
       "      <td>129.940000</td>\n",
       "      <td>1975.000000</td>\n",
       "      <td>-37.756400</td>\n",
       "      <td>145.058305</td>\n",
       "      <td>10331.000000</td>\n",
       "    </tr>\n",
       "    <tr>\n",
       "      <th>max</th>\n",
       "      <td>13579.000000</td>\n",
       "      <td>10.000000</td>\n",
       "      <td>9.000000e+06</td>\n",
       "      <td>48.100000</td>\n",
       "      <td>3977.000000</td>\n",
       "      <td>20.000000</td>\n",
       "      <td>8.000000</td>\n",
       "      <td>10.000000</td>\n",
       "      <td>433014.000000</td>\n",
       "      <td>44515.000000</td>\n",
       "      <td>2018.000000</td>\n",
       "      <td>-37.408530</td>\n",
       "      <td>145.526350</td>\n",
       "      <td>21650.000000</td>\n",
       "    </tr>\n",
       "  </tbody>\n",
       "</table>\n",
       "</div>"
      ],
      "text/plain": [
       "              index         Rooms         Price      Distance      Postcode  \\\n",
       "count  13580.000000  13580.000000  1.358000e+04  13580.000000  13580.000000   \n",
       "mean    6789.500000      2.937997  1.075684e+06     10.137776   3105.301915   \n",
       "std     3920.352663      0.955748  6.393107e+05      5.868725     90.676964   \n",
       "min        0.000000      1.000000  8.500000e+04      0.000000   3000.000000   \n",
       "25%     3394.750000      2.000000  6.500000e+05      6.100000   3044.000000   \n",
       "50%     6789.500000      3.000000  9.030000e+05      9.200000   3084.000000   \n",
       "75%    10184.250000      3.000000  1.330000e+06     13.000000   3148.000000   \n",
       "max    13579.000000     10.000000  9.000000e+06     48.100000   3977.000000   \n",
       "\n",
       "            Bedroom      Bathroom           Car       Landsize  BuildingArea  \\\n",
       "count  13580.000000  13580.000000  13580.000000   13580.000000  13580.000000   \n",
       "mean       2.914728      1.534242      1.611856     558.416127    139.633972   \n",
       "std        0.965921      0.691712      0.960793    3990.669241    392.217403   \n",
       "min        0.000000      0.000000      0.000000       0.000000      0.000000   \n",
       "25%        2.000000      1.000000      1.000000     177.000000    122.000000   \n",
       "50%        3.000000      1.000000      2.000000     440.000000    126.000000   \n",
       "75%        3.000000      2.000000      2.000000     651.000000    129.940000   \n",
       "max       20.000000      8.000000     10.000000  433014.000000  44515.000000   \n",
       "\n",
       "          YearBuilt     Lattitude    Longtitude  Propertycount  \n",
       "count  13580.000000  13580.000000  13580.000000   13580.000000  \n",
       "mean    1966.788218    -37.809203    144.995216    7454.417378  \n",
       "std       29.088642      0.079260      0.103916    4378.581772  \n",
       "min     1196.000000    -38.182550    144.431810     249.000000  \n",
       "25%     1960.000000    -37.856822    144.929600    4380.000000  \n",
       "50%     1970.000000    -37.802355    145.000100    6555.000000  \n",
       "75%     1975.000000    -37.756400    145.058305   10331.000000  \n",
       "max     2018.000000    -37.408530    145.526350   21650.000000  "
      ]
     },
     "execution_count": 88,
     "metadata": {},
     "output_type": "execute_result"
    }
   ],
   "source": [
    "melb_data.describe()"
   ]
  },
  {
   "cell_type": "code",
   "execution_count": 89,
   "metadata": {},
   "outputs": [
    {
     "data": {
      "text/html": [
       "<div>\n",
       "<style scoped>\n",
       "    .dataframe tbody tr th:only-of-type {\n",
       "        vertical-align: middle;\n",
       "    }\n",
       "\n",
       "    .dataframe tbody tr th {\n",
       "        vertical-align: top;\n",
       "    }\n",
       "\n",
       "    .dataframe thead th {\n",
       "        text-align: right;\n",
       "    }\n",
       "</style>\n",
       "<table border=\"1\" class=\"dataframe\">\n",
       "  <thead>\n",
       "    <tr style=\"text-align: right;\">\n",
       "      <th></th>\n",
       "      <th>Suburb</th>\n",
       "      <th>Address</th>\n",
       "      <th>Type</th>\n",
       "      <th>Method</th>\n",
       "      <th>SellerG</th>\n",
       "      <th>Date</th>\n",
       "      <th>CouncilArea</th>\n",
       "      <th>Regionname</th>\n",
       "      <th>Coordinates</th>\n",
       "    </tr>\n",
       "  </thead>\n",
       "  <tbody>\n",
       "    <tr>\n",
       "      <th>count</th>\n",
       "      <td>13580</td>\n",
       "      <td>13580</td>\n",
       "      <td>13580</td>\n",
       "      <td>13580</td>\n",
       "      <td>13580</td>\n",
       "      <td>13580</td>\n",
       "      <td>12211</td>\n",
       "      <td>13580</td>\n",
       "      <td>13580</td>\n",
       "    </tr>\n",
       "    <tr>\n",
       "      <th>unique</th>\n",
       "      <td>314</td>\n",
       "      <td>13378</td>\n",
       "      <td>3</td>\n",
       "      <td>5</td>\n",
       "      <td>268</td>\n",
       "      <td>58</td>\n",
       "      <td>33</td>\n",
       "      <td>8</td>\n",
       "      <td>13097</td>\n",
       "    </tr>\n",
       "    <tr>\n",
       "      <th>top</th>\n",
       "      <td>Reservoir</td>\n",
       "      <td>36 Aberfeldie St</td>\n",
       "      <td>h</td>\n",
       "      <td>S</td>\n",
       "      <td>Nelson</td>\n",
       "      <td>27/05/2017</td>\n",
       "      <td>Moreland</td>\n",
       "      <td>Southern Metropolitan</td>\n",
       "      <td>-37.8361, 144.9966</td>\n",
       "    </tr>\n",
       "    <tr>\n",
       "      <th>freq</th>\n",
       "      <td>359</td>\n",
       "      <td>3</td>\n",
       "      <td>9449</td>\n",
       "      <td>9022</td>\n",
       "      <td>1565</td>\n",
       "      <td>473</td>\n",
       "      <td>1163</td>\n",
       "      <td>4695</td>\n",
       "      <td>12</td>\n",
       "    </tr>\n",
       "  </tbody>\n",
       "</table>\n",
       "</div>"
      ],
      "text/plain": [
       "           Suburb           Address   Type Method SellerG        Date  \\\n",
       "count       13580             13580  13580  13580   13580       13580   \n",
       "unique        314             13378      3      5     268          58   \n",
       "top     Reservoir  36 Aberfeldie St      h      S  Nelson  27/05/2017   \n",
       "freq          359                 3   9449   9022    1565         473   \n",
       "\n",
       "       CouncilArea             Regionname         Coordinates  \n",
       "count        12211                  13580               13580  \n",
       "unique          33                      8               13097  \n",
       "top       Moreland  Southern Metropolitan  -37.8361, 144.9966  \n",
       "freq          1163                   4695                  12  "
      ]
     },
     "execution_count": 89,
     "metadata": {},
     "output_type": "execute_result"
    }
   ],
   "source": [
    "melb_data.describe(include=['object'])"
   ]
  },
  {
   "cell_type": "code",
   "execution_count": null,
   "metadata": {},
   "outputs": [],
   "source": []
  },
  {
   "cell_type": "code",
   "execution_count": 90,
   "metadata": {},
   "outputs": [
    {
     "data": {
      "text/plain": [
       "Type\n",
       "h    0.695803\n",
       "u    0.222165\n",
       "t    0.082032\n",
       "Name: proportion, dtype: float64"
      ]
     },
     "execution_count": 90,
     "metadata": {},
     "output_type": "execute_result"
    }
   ],
   "source": [
    "melb_data['Type'].value_counts(normalize=True)"
   ]
  },
  {
   "cell_type": "code",
   "execution_count": null,
   "metadata": {},
   "outputs": [],
   "source": []
  },
  {
   "cell_type": "markdown",
   "metadata": {},
   "source": [
    "АГРЕГИРУЮЩИЕ МЕТОДЫ"
   ]
  },
  {
   "cell_type": "markdown",
   "metadata": {},
   "source": [
    "Агрегирующим в Pandas называется метод, который для каждого столбца возвращает только одно значение — показатель (например, вычисление медианы, максимума, среднего и так далее)."
   ]
  },
  {
   "cell_type": "markdown",
   "metadata": {},
   "source": [
    "Ниже приведены основные статистические параметры:\n",
    "\n",
    "`.count()` - Количество непустых значений\n",
    "\n",
    "`.mean()` - Среднее значение\n",
    "\n",
    "`.min()` - Минимальное значение\n",
    "\n",
    "`.max()` - Максимальное значение\n",
    "\n",
    "`.var()` - Дисперсия\n",
    "\n",
    "`.std()` - Стандартное отклонение\n",
    "\n",
    "`.sum()` - Сумма\n",
    "\n",
    "`. quantile(x)` - Квантиль уровня х\n",
    "\n",
    "`.nunique()` - Число уникальных значений\n"
   ]
  },
  {
   "cell_type": "markdown",
   "metadata": {},
   "source": [
    "В результате применения этих методов к датафрейму будет получен объект типа Series (индексы - наименования столбцов, значения - статистический показатель)\n",
    "\n",
    "В случае применения метода к отдельному столбцу, результат - число"
   ]
  },
  {
   "cell_type": "markdown",
   "metadata": {},
   "source": [
    "В каждый метод можно передать некоторые параметры, среди которых:\n",
    "\n",
    "- `axis`  — определяет, подсчитывать параметр по строкам или по столбцам;\n",
    "\n",
    "- `numeric_only` — определяет, вычислять параметры только по числовым столбцам/строкам или нет (`True`/`False`)."
   ]
  },
  {
   "cell_type": "code",
   "execution_count": 91,
   "metadata": {},
   "outputs": [
    {
     "name": "stdout",
     "output_type": "stream",
     "text": [
      "1075684.079455081\n"
     ]
    }
   ],
   "source": [
    "# Вычислить среднюю цену на объекты недвижимости\n",
    "print(melb_data['Price'].mean())"
   ]
  },
  {
   "cell_type": "code",
   "execution_count": 92,
   "metadata": {},
   "outputs": [
    {
     "name": "stdout",
     "output_type": "stream",
     "text": [
      "10\n"
     ]
    }
   ],
   "source": [
    "# Найти максимальное количество парковочных мест:\n",
    "print(melb_data['Car'].max())"
   ]
  },
  {
   "cell_type": "code",
   "execution_count": 93,
   "metadata": {},
   "outputs": [
    {
     "name": "stdout",
     "output_type": "stream",
     "text": [
      "21650\n"
     ]
    }
   ],
   "source": [
    "# Найти максимальное количество домов на продажу в районе Propertycount\n",
    "print(melb_data['Propertycount'].max())"
   ]
  },
  {
   "cell_type": "code",
   "execution_count": 94,
   "metadata": {},
   "outputs": [
    {
     "name": "stdout",
     "output_type": "stream",
     "text": [
      "Total income of real estate agencies: 1752934775.88\n"
     ]
    }
   ],
   "source": [
    "# Найти общую прибыльность риелторского\n",
    "# бизнеса в Мельбурне\n",
    "# Процентная ставка для всех компаний = 12%\n",
    "rate = 0.12\n",
    "income = melb_data['Price'].sum() * rate\n",
    "print('Total income of real estate agencies:', round(income, 2))"
   ]
  },
  {
   "cell_type": "code",
   "execution_count": 95,
   "metadata": {},
   "outputs": [
    {
     "name": "stdout",
     "output_type": "stream",
     "text": [
      "0.21205713983546193\n"
     ]
    }
   ],
   "source": [
    "# НА сколько медианная площадь территории\n",
    "# отличается от ее среднего значения\n",
    "# вычислить модуль разницы между медианой и средним и разделим результат на среднее,\n",
    "# чтобы получить отклонение в долях\n",
    "landsize_median = melb_data['Landsize'].median()\n",
    "landsize_mean = melb_data['Landsize'].mean()\n",
    "print(abs(landsize_median - landsize_mean)/landsize_mean)"
   ]
  },
  {
   "cell_type": "markdown",
   "metadata": {},
   "source": [
    "**МОДАЛЬНОЕ ЗНАЧЕНИЕ**"
   ]
  },
  {
   "cell_type": "markdown",
   "metadata": {},
   "source": [
    "Мода вычисляется с помощью метода `mode()`"
   ]
  },
  {
   "cell_type": "markdown",
   "metadata": {},
   "source": [
    "Модальных значений может быть несколько, то есть несколько значений могут встречаться одинаковое количество раз. Поэтому метод `mode()`, в отличие от агрегирующих методов, возвращает не одно число, а серию."
   ]
  },
  {
   "cell_type": "markdown",
   "metadata": {},
   "source": [
    "Вычислим, какое число комнат чаще всего представлено на рынке недвижимости"
   ]
  },
  {
   "cell_type": "code",
   "execution_count": 96,
   "metadata": {},
   "outputs": [
    {
     "name": "stdout",
     "output_type": "stream",
     "text": [
      "0    3\n",
      "Name: Rooms, dtype: int64\n"
     ]
    }
   ],
   "source": [
    "print(melb_data['Rooms'].mode())"
   ]
  },
  {
   "cell_type": "code",
   "execution_count": 97,
   "metadata": {},
   "outputs": [
    {
     "data": {
      "text/plain": [
       "0    3\n",
       "Name: Bedroom, dtype: int64"
      ]
     },
     "execution_count": 97,
     "metadata": {},
     "output_type": "execute_result"
    }
   ],
   "source": [
    "# Сколько спален чаще всего встречается в домах в Мельбурне?\n",
    "melb_data['Bedroom'].mode()"
   ]
  },
  {
   "cell_type": "markdown",
   "metadata": {},
   "source": [
    "Найти наиболее распространенное название района"
   ]
  },
  {
   "cell_type": "code",
   "execution_count": 98,
   "metadata": {},
   "outputs": [
    {
     "data": {
      "text/plain": [
       "0    Southern Metropolitan\n",
       "Name: Regionname, dtype: object"
      ]
     },
     "execution_count": 98,
     "metadata": {},
     "output_type": "execute_result"
    }
   ],
   "source": [
    "melb_data['Regionname'].mode()"
   ]
  },
  {
   "cell_type": "code",
   "execution_count": 99,
   "metadata": {},
   "outputs": [
    {
     "data": {
      "text/html": [
       "<div>\n",
       "<style scoped>\n",
       "    .dataframe tbody tr th:only-of-type {\n",
       "        vertical-align: middle;\n",
       "    }\n",
       "\n",
       "    .dataframe tbody tr th {\n",
       "        vertical-align: top;\n",
       "    }\n",
       "\n",
       "    .dataframe thead th {\n",
       "        text-align: right;\n",
       "    }\n",
       "</style>\n",
       "<table border=\"1\" class=\"dataframe\">\n",
       "  <thead>\n",
       "    <tr style=\"text-align: right;\">\n",
       "      <th></th>\n",
       "      <th>index</th>\n",
       "      <th>Rooms</th>\n",
       "      <th>Price</th>\n",
       "      <th>Distance</th>\n",
       "      <th>Postcode</th>\n",
       "      <th>Bedroom</th>\n",
       "      <th>Bathroom</th>\n",
       "      <th>Car</th>\n",
       "      <th>Landsize</th>\n",
       "      <th>BuildingArea</th>\n",
       "      <th>YearBuilt</th>\n",
       "      <th>Lattitude</th>\n",
       "      <th>Longtitude</th>\n",
       "      <th>Propertycount</th>\n",
       "    </tr>\n",
       "  </thead>\n",
       "  <tbody>\n",
       "    <tr>\n",
       "      <th>count</th>\n",
       "      <td>13580.000000</td>\n",
       "      <td>13580.000000</td>\n",
       "      <td>1.358000e+04</td>\n",
       "      <td>13580.000000</td>\n",
       "      <td>13580.000000</td>\n",
       "      <td>13580.000000</td>\n",
       "      <td>13580.000000</td>\n",
       "      <td>13580.000000</td>\n",
       "      <td>13580.000000</td>\n",
       "      <td>13580.000000</td>\n",
       "      <td>13580.000000</td>\n",
       "      <td>13580.000000</td>\n",
       "      <td>13580.000000</td>\n",
       "      <td>13580.000000</td>\n",
       "    </tr>\n",
       "    <tr>\n",
       "      <th>mean</th>\n",
       "      <td>6789.500000</td>\n",
       "      <td>2.937997</td>\n",
       "      <td>1.075684e+06</td>\n",
       "      <td>10.137776</td>\n",
       "      <td>3105.301915</td>\n",
       "      <td>2.914728</td>\n",
       "      <td>1.534242</td>\n",
       "      <td>1.611856</td>\n",
       "      <td>558.416127</td>\n",
       "      <td>139.633972</td>\n",
       "      <td>1966.788218</td>\n",
       "      <td>-37.809203</td>\n",
       "      <td>144.995216</td>\n",
       "      <td>7454.417378</td>\n",
       "    </tr>\n",
       "    <tr>\n",
       "      <th>std</th>\n",
       "      <td>3920.352663</td>\n",
       "      <td>0.955748</td>\n",
       "      <td>6.393107e+05</td>\n",
       "      <td>5.868725</td>\n",
       "      <td>90.676964</td>\n",
       "      <td>0.965921</td>\n",
       "      <td>0.691712</td>\n",
       "      <td>0.960793</td>\n",
       "      <td>3990.669241</td>\n",
       "      <td>392.217403</td>\n",
       "      <td>29.088642</td>\n",
       "      <td>0.079260</td>\n",
       "      <td>0.103916</td>\n",
       "      <td>4378.581772</td>\n",
       "    </tr>\n",
       "    <tr>\n",
       "      <th>min</th>\n",
       "      <td>0.000000</td>\n",
       "      <td>1.000000</td>\n",
       "      <td>8.500000e+04</td>\n",
       "      <td>0.000000</td>\n",
       "      <td>3000.000000</td>\n",
       "      <td>0.000000</td>\n",
       "      <td>0.000000</td>\n",
       "      <td>0.000000</td>\n",
       "      <td>0.000000</td>\n",
       "      <td>0.000000</td>\n",
       "      <td>1196.000000</td>\n",
       "      <td>-38.182550</td>\n",
       "      <td>144.431810</td>\n",
       "      <td>249.000000</td>\n",
       "    </tr>\n",
       "    <tr>\n",
       "      <th>25%</th>\n",
       "      <td>3394.750000</td>\n",
       "      <td>2.000000</td>\n",
       "      <td>6.500000e+05</td>\n",
       "      <td>6.100000</td>\n",
       "      <td>3044.000000</td>\n",
       "      <td>2.000000</td>\n",
       "      <td>1.000000</td>\n",
       "      <td>1.000000</td>\n",
       "      <td>177.000000</td>\n",
       "      <td>122.000000</td>\n",
       "      <td>1960.000000</td>\n",
       "      <td>-37.856822</td>\n",
       "      <td>144.929600</td>\n",
       "      <td>4380.000000</td>\n",
       "    </tr>\n",
       "    <tr>\n",
       "      <th>50%</th>\n",
       "      <td>6789.500000</td>\n",
       "      <td>3.000000</td>\n",
       "      <td>9.030000e+05</td>\n",
       "      <td>9.200000</td>\n",
       "      <td>3084.000000</td>\n",
       "      <td>3.000000</td>\n",
       "      <td>1.000000</td>\n",
       "      <td>2.000000</td>\n",
       "      <td>440.000000</td>\n",
       "      <td>126.000000</td>\n",
       "      <td>1970.000000</td>\n",
       "      <td>-37.802355</td>\n",
       "      <td>145.000100</td>\n",
       "      <td>6555.000000</td>\n",
       "    </tr>\n",
       "    <tr>\n",
       "      <th>75%</th>\n",
       "      <td>10184.250000</td>\n",
       "      <td>3.000000</td>\n",
       "      <td>1.330000e+06</td>\n",
       "      <td>13.000000</td>\n",
       "      <td>3148.000000</td>\n",
       "      <td>3.000000</td>\n",
       "      <td>2.000000</td>\n",
       "      <td>2.000000</td>\n",
       "      <td>651.000000</td>\n",
       "      <td>129.940000</td>\n",
       "      <td>1975.000000</td>\n",
       "      <td>-37.756400</td>\n",
       "      <td>145.058305</td>\n",
       "      <td>10331.000000</td>\n",
       "    </tr>\n",
       "    <tr>\n",
       "      <th>max</th>\n",
       "      <td>13579.000000</td>\n",
       "      <td>10.000000</td>\n",
       "      <td>9.000000e+06</td>\n",
       "      <td>48.100000</td>\n",
       "      <td>3977.000000</td>\n",
       "      <td>20.000000</td>\n",
       "      <td>8.000000</td>\n",
       "      <td>10.000000</td>\n",
       "      <td>433014.000000</td>\n",
       "      <td>44515.000000</td>\n",
       "      <td>2018.000000</td>\n",
       "      <td>-37.408530</td>\n",
       "      <td>145.526350</td>\n",
       "      <td>21650.000000</td>\n",
       "    </tr>\n",
       "  </tbody>\n",
       "</table>\n",
       "</div>"
      ],
      "text/plain": [
       "              index         Rooms         Price      Distance      Postcode  \\\n",
       "count  13580.000000  13580.000000  1.358000e+04  13580.000000  13580.000000   \n",
       "mean    6789.500000      2.937997  1.075684e+06     10.137776   3105.301915   \n",
       "std     3920.352663      0.955748  6.393107e+05      5.868725     90.676964   \n",
       "min        0.000000      1.000000  8.500000e+04      0.000000   3000.000000   \n",
       "25%     3394.750000      2.000000  6.500000e+05      6.100000   3044.000000   \n",
       "50%     6789.500000      3.000000  9.030000e+05      9.200000   3084.000000   \n",
       "75%    10184.250000      3.000000  1.330000e+06     13.000000   3148.000000   \n",
       "max    13579.000000     10.000000  9.000000e+06     48.100000   3977.000000   \n",
       "\n",
       "            Bedroom      Bathroom           Car       Landsize  BuildingArea  \\\n",
       "count  13580.000000  13580.000000  13580.000000   13580.000000  13580.000000   \n",
       "mean       2.914728      1.534242      1.611856     558.416127    139.633972   \n",
       "std        0.965921      0.691712      0.960793    3990.669241    392.217403   \n",
       "min        0.000000      0.000000      0.000000       0.000000      0.000000   \n",
       "25%        2.000000      1.000000      1.000000     177.000000    122.000000   \n",
       "50%        3.000000      1.000000      2.000000     440.000000    126.000000   \n",
       "75%        3.000000      2.000000      2.000000     651.000000    129.940000   \n",
       "max       20.000000      8.000000     10.000000  433014.000000  44515.000000   \n",
       "\n",
       "          YearBuilt     Lattitude    Longtitude  Propertycount  \n",
       "count  13580.000000  13580.000000  13580.000000   13580.000000  \n",
       "mean    1966.788218    -37.809203    144.995216    7454.417378  \n",
       "std       29.088642      0.079260      0.103916    4378.581772  \n",
       "min     1196.000000    -38.182550    144.431810     249.000000  \n",
       "25%     1960.000000    -37.856822    144.929600    4380.000000  \n",
       "50%     1970.000000    -37.802355    145.000100    6555.000000  \n",
       "75%     1975.000000    -37.756400    145.058305   10331.000000  \n",
       "max     2018.000000    -37.408530    145.526350   21650.000000  "
      ]
     },
     "execution_count": 99,
     "metadata": {},
     "output_type": "execute_result"
    }
   ],
   "source": [
    "# Вывести на экранзначение статистических параметров только для \n",
    "melb_data.describe().loc[:]"
   ]
  },
  {
   "cell_type": "markdown",
   "metadata": {},
   "source": [
    "440\n",
    "558.416127"
   ]
  },
  {
   "cell_type": "code",
   "execution_count": 100,
   "metadata": {},
   "outputs": [
    {
     "name": "stdout",
     "output_type": "stream",
     "text": [
      "0.21205713983546193\n"
     ]
    }
   ],
   "source": [
    "# НА сколько медианная площадь территории\n",
    "# отличается от ее среднего значения\n",
    "# вычислить модуль разницы между медианой и средним и разделим результат на среднее,\n",
    "# чтобы получить отклонение в долях\n",
    "landsize_median = melb_data['Landsize'].median()\n",
    "landsize_mean = melb_data['Landsize'].mean()\n",
    "print(abs(landsize_median - landsize_mean)/landsize_mean)"
   ]
  },
  {
   "cell_type": "code",
   "execution_count": null,
   "metadata": {},
   "outputs": [],
   "source": []
  },
  {
   "cell_type": "markdown",
   "metadata": {},
   "source": [
    "**ФИЛЬТРАЦИЯ ДАННЫХ В DATAFRAME**"
   ]
  },
  {
   "cell_type": "markdown",
   "metadata": {},
   "source": [
    "Под **фильтрацией** в DataFrame подразумевается получение новой таблицы путём вырезания строк, не удовлетворяющих поставленному условию. "
   ]
  },
  {
   "cell_type": "markdown",
   "metadata": {},
   "source": [
    "Классический вариант фильтрации - фильтрация с помощью *масок*"
   ]
  },
  {
   "cell_type": "markdown",
   "metadata": {},
   "source": [
    "**Маской** называется Series, которая состоит из булевых значений, при этом значения True соответствуют тем индексам, для которых заданное условие выполняется, в противном случае ставится значение False"
   ]
  },
  {
   "cell_type": "markdown",
   "metadata": {},
   "source": [
    "Создадим маску и положим ее в переменную с именем mask"
   ]
  },
  {
   "cell_type": "code",
   "execution_count": 101,
   "metadata": {},
   "outputs": [
    {
     "data": {
      "text/plain": [
       "0        False\n",
       "1        False\n",
       "2        False\n",
       "3        False\n",
       "4        False\n",
       "         ...  \n",
       "13575    False\n",
       "13576    False\n",
       "13577    False\n",
       "13578     True\n",
       "13579    False\n",
       "Name: Price, Length: 13580, dtype: bool"
      ]
     },
     "metadata": {},
     "output_type": "display_data"
    }
   ],
   "source": [
    "mask = melb_data['Price'] > 2000000\n",
    "display(mask)"
   ]
  },
  {
   "cell_type": "markdown",
   "metadata": {},
   "source": [
    "Для фильтрации  нужно подставить переменную `mask` в индексацию `DataFrame`.\n",
    "\n",
    "Маска показывает, какие строки нужно оставлять, а какие - убирать (выведем первые 5 строк отфильтрованной таблицы)"
   ]
  },
  {
   "cell_type": "code",
   "execution_count": 102,
   "metadata": {},
   "outputs": [
    {
     "data": {
      "text/html": [
       "<div>\n",
       "<style scoped>\n",
       "    .dataframe tbody tr th:only-of-type {\n",
       "        vertical-align: middle;\n",
       "    }\n",
       "\n",
       "    .dataframe tbody tr th {\n",
       "        vertical-align: top;\n",
       "    }\n",
       "\n",
       "    .dataframe thead th {\n",
       "        text-align: right;\n",
       "    }\n",
       "</style>\n",
       "<table border=\"1\" class=\"dataframe\">\n",
       "  <thead>\n",
       "    <tr style=\"text-align: right;\">\n",
       "      <th></th>\n",
       "      <th>index</th>\n",
       "      <th>Suburb</th>\n",
       "      <th>Address</th>\n",
       "      <th>Rooms</th>\n",
       "      <th>Type</th>\n",
       "      <th>Price</th>\n",
       "      <th>Method</th>\n",
       "      <th>SellerG</th>\n",
       "      <th>Date</th>\n",
       "      <th>Distance</th>\n",
       "      <th>...</th>\n",
       "      <th>Car</th>\n",
       "      <th>Landsize</th>\n",
       "      <th>BuildingArea</th>\n",
       "      <th>YearBuilt</th>\n",
       "      <th>CouncilArea</th>\n",
       "      <th>Lattitude</th>\n",
       "      <th>Longtitude</th>\n",
       "      <th>Regionname</th>\n",
       "      <th>Propertycount</th>\n",
       "      <th>Coordinates</th>\n",
       "    </tr>\n",
       "  </thead>\n",
       "  <tbody>\n",
       "    <tr>\n",
       "      <th>80</th>\n",
       "      <td>80</td>\n",
       "      <td>Albert Park</td>\n",
       "      <td>112 Beaconsfield Pde</td>\n",
       "      <td>3</td>\n",
       "      <td>h</td>\n",
       "      <td>2850000.0</td>\n",
       "      <td>PI</td>\n",
       "      <td>Buxton</td>\n",
       "      <td>4/03/2017</td>\n",
       "      <td>3.3</td>\n",
       "      <td>...</td>\n",
       "      <td>0</td>\n",
       "      <td>211.0</td>\n",
       "      <td>198.0</td>\n",
       "      <td>1890</td>\n",
       "      <td>Port Phillip</td>\n",
       "      <td>-37.8481</td>\n",
       "      <td>144.9499</td>\n",
       "      <td>Southern Metropolitan</td>\n",
       "      <td>3280</td>\n",
       "      <td>-37.8481, 144.9499</td>\n",
       "    </tr>\n",
       "    <tr>\n",
       "      <th>85</th>\n",
       "      <td>85</td>\n",
       "      <td>Albert Park</td>\n",
       "      <td>104 Richardson St</td>\n",
       "      <td>4</td>\n",
       "      <td>h</td>\n",
       "      <td>2300000.0</td>\n",
       "      <td>S</td>\n",
       "      <td>Marshall</td>\n",
       "      <td>7/05/2016</td>\n",
       "      <td>3.3</td>\n",
       "      <td>...</td>\n",
       "      <td>1</td>\n",
       "      <td>153.0</td>\n",
       "      <td>180.0</td>\n",
       "      <td>1880</td>\n",
       "      <td>Port Phillip</td>\n",
       "      <td>-37.8447</td>\n",
       "      <td>144.9523</td>\n",
       "      <td>Southern Metropolitan</td>\n",
       "      <td>3280</td>\n",
       "      <td>-37.8447, 144.9523</td>\n",
       "    </tr>\n",
       "    <tr>\n",
       "      <th>88</th>\n",
       "      <td>88</td>\n",
       "      <td>Albert Park</td>\n",
       "      <td>29 Faussett St</td>\n",
       "      <td>2</td>\n",
       "      <td>h</td>\n",
       "      <td>2120000.0</td>\n",
       "      <td>S</td>\n",
       "      <td>Greg</td>\n",
       "      <td>10/09/2016</td>\n",
       "      <td>3.3</td>\n",
       "      <td>...</td>\n",
       "      <td>1</td>\n",
       "      <td>199.0</td>\n",
       "      <td>107.0</td>\n",
       "      <td>1900</td>\n",
       "      <td>Port Phillip</td>\n",
       "      <td>-37.8422</td>\n",
       "      <td>144.9554</td>\n",
       "      <td>Southern Metropolitan</td>\n",
       "      <td>3280</td>\n",
       "      <td>-37.8422, 144.9554</td>\n",
       "    </tr>\n",
       "    <tr>\n",
       "      <th>92</th>\n",
       "      <td>92</td>\n",
       "      <td>Albert Park</td>\n",
       "      <td>2 Dundas Pl</td>\n",
       "      <td>3</td>\n",
       "      <td>h</td>\n",
       "      <td>2615000.0</td>\n",
       "      <td>S</td>\n",
       "      <td>Cayzer</td>\n",
       "      <td>10/12/2016</td>\n",
       "      <td>3.3</td>\n",
       "      <td>...</td>\n",
       "      <td>1</td>\n",
       "      <td>177.0</td>\n",
       "      <td>181.0</td>\n",
       "      <td>1880</td>\n",
       "      <td>Port Phillip</td>\n",
       "      <td>-37.8415</td>\n",
       "      <td>144.9585</td>\n",
       "      <td>Southern Metropolitan</td>\n",
       "      <td>3280</td>\n",
       "      <td>-37.8415, 144.9585</td>\n",
       "    </tr>\n",
       "    <tr>\n",
       "      <th>93</th>\n",
       "      <td>93</td>\n",
       "      <td>Albert Park</td>\n",
       "      <td>23 Finlay St</td>\n",
       "      <td>5</td>\n",
       "      <td>h</td>\n",
       "      <td>2100000.0</td>\n",
       "      <td>S</td>\n",
       "      <td>Greg</td>\n",
       "      <td>10/12/2016</td>\n",
       "      <td>3.3</td>\n",
       "      <td>...</td>\n",
       "      <td>1</td>\n",
       "      <td>237.0</td>\n",
       "      <td>126.0</td>\n",
       "      <td>1970</td>\n",
       "      <td>Port Phillip</td>\n",
       "      <td>-37.8436</td>\n",
       "      <td>144.9557</td>\n",
       "      <td>Southern Metropolitan</td>\n",
       "      <td>3280</td>\n",
       "      <td>-37.8436, 144.9557</td>\n",
       "    </tr>\n",
       "  </tbody>\n",
       "</table>\n",
       "<p>5 rows × 23 columns</p>\n",
       "</div>"
      ],
      "text/plain": [
       "    index       Suburb               Address  Rooms Type      Price Method  \\\n",
       "80     80  Albert Park  112 Beaconsfield Pde      3    h  2850000.0     PI   \n",
       "85     85  Albert Park     104 Richardson St      4    h  2300000.0      S   \n",
       "88     88  Albert Park        29 Faussett St      2    h  2120000.0      S   \n",
       "92     92  Albert Park           2 Dundas Pl      3    h  2615000.0      S   \n",
       "93     93  Albert Park          23 Finlay St      5    h  2100000.0      S   \n",
       "\n",
       "     SellerG        Date  Distance  ...  Car  Landsize  BuildingArea  \\\n",
       "80    Buxton   4/03/2017       3.3  ...    0     211.0         198.0   \n",
       "85  Marshall   7/05/2016       3.3  ...    1     153.0         180.0   \n",
       "88      Greg  10/09/2016       3.3  ...    1     199.0         107.0   \n",
       "92    Cayzer  10/12/2016       3.3  ...    1     177.0         181.0   \n",
       "93      Greg  10/12/2016       3.3  ...    1     237.0         126.0   \n",
       "\n",
       "    YearBuilt   CouncilArea  Lattitude  Longtitude             Regionname  \\\n",
       "80       1890  Port Phillip   -37.8481    144.9499  Southern Metropolitan   \n",
       "85       1880  Port Phillip   -37.8447    144.9523  Southern Metropolitan   \n",
       "88       1900  Port Phillip   -37.8422    144.9554  Southern Metropolitan   \n",
       "92       1880  Port Phillip   -37.8415    144.9585  Southern Metropolitan   \n",
       "93       1970  Port Phillip   -37.8436    144.9557  Southern Metropolitan   \n",
       "\n",
       "    Propertycount         Coordinates  \n",
       "80           3280  -37.8481, 144.9499  \n",
       "85           3280  -37.8447, 144.9523  \n",
       "88           3280  -37.8422, 144.9554  \n",
       "92           3280  -37.8415, 144.9585  \n",
       "93           3280  -37.8436, 144.9557  \n",
       "\n",
       "[5 rows x 23 columns]"
      ]
     },
     "metadata": {},
     "output_type": "display_data"
    }
   ],
   "source": [
    "display(melb_data[mask].head())"
   ]
  },
  {
   "cell_type": "markdown",
   "metadata": {},
   "source": [
    "**Примечание**. В результате выполнения фильтрации возвращается новый *DataFrame*, полученный из исходного, при этом исходная таблица `melb_data` остаётся без изменений.\n",
    "\n",
    "Не обязательно заносить маску в отдельную переменную — можно сразу вставлять условие в операцию индексации DataFrame, например:\n",
    "\n",
    "`melb_data[melb_data['Price'] > 2000000]`"
   ]
  },
  {
   "cell_type": "markdown",
   "metadata": {},
   "source": [
    "Найти количество зданий с тремя комнатами"
   ]
  },
  {
   "cell_type": "code",
   "execution_count": 103,
   "metadata": {},
   "outputs": [
    {
     "data": {
      "text/plain": [
       "5881"
      ]
     },
     "execution_count": 103,
     "metadata": {},
     "output_type": "execute_result"
    }
   ],
   "source": [
    "# Обратимся к результирующей таблице \n",
    "# по столбцу Rooms и найдем число сторк \n",
    "# с помощью атрибута `shape`\n",
    "melb_data[melb_data['Rooms'] == 3].shape[0]"
   ]
  },
  {
   "cell_type": "markdown",
   "metadata": {},
   "source": [
    "*Условия можно комбинировать, используя операторы `&` (логическое И) и `|` (логическое ИЛИ). Условия при этом заключаются в скобки.*"
   ]
  },
  {
   "cell_type": "markdown",
   "metadata": {},
   "source": [
    "Найти число трехкомнатных домов с ценой менее 300 тысяч"
   ]
  },
  {
   "cell_type": "code",
   "execution_count": 104,
   "metadata": {},
   "outputs": [
    {
     "data": {
      "text/plain": [
       "3"
      ]
     },
     "execution_count": 104,
     "metadata": {},
     "output_type": "execute_result"
    }
   ],
   "source": [
    "melb_data[(melb_data['Rooms'] == 3) & (melb_data['Price'] < 300000)].shape[0]"
   ]
  },
  {
   "cell_type": "markdown",
   "metadata": {},
   "source": [
    "Найти дома с ценой менее 300 тысяч, у которых либо число комнат равно 3, лтбо площадь домов более 100 кв метров"
   ]
  },
  {
   "cell_type": "code",
   "execution_count": 105,
   "metadata": {},
   "outputs": [
    {
     "data": {
      "text/plain": [
       "68"
      ]
     },
     "execution_count": 105,
     "metadata": {},
     "output_type": "execute_result"
    }
   ],
   "source": [
    "melb_data[((melb_data['Rooms'] == 3) | (melb_data['BuildingArea'] > 100)) & (melb_data['Price'] < 300000)].shape[0]"
   ]
  },
  {
   "cell_type": "markdown",
   "metadata": {},
   "source": [
    "**Примечание.** Использование привычных операторов `and` и `or` будет неверным и приведёт к ошибке, так как они выполняют логические операции между двумя булевыми числами."
   ]
  },
  {
   "cell_type": "markdown",
   "metadata": {},
   "source": [
    "Фильтрацию часто сочетают со статистическими методами"
   ]
  },
  {
   "cell_type": "markdown",
   "metadata": {},
   "source": [
    "Найти максимальное количество комнат в таунхаусах. Т.к.в результате фильтрации получается *DataFrame*, то обратимся к нему по столбцу *Rooms* и найдем максимальное значение"
   ]
  },
  {
   "cell_type": "code",
   "execution_count": 106,
   "metadata": {},
   "outputs": [
    {
     "data": {
      "text/plain": [
       "5"
      ]
     },
     "execution_count": 106,
     "metadata": {},
     "output_type": "execute_result"
    }
   ],
   "source": [
    "melb_data[melb_data['Type'] == 't']['Rooms'].max()"
   ]
  },
  {
   "cell_type": "code",
   "execution_count": 107,
   "metadata": {},
   "outputs": [
    {
     "data": {
      "text/plain": [
       "34"
      ]
     },
     "execution_count": 107,
     "metadata": {},
     "output_type": "execute_result"
    }
   ],
   "source": [
    "# В скольких объектах отсутствуют ванные комнаты?\n",
    "melb_data[melb_data['Bathroom'] == 0].shape[0]"
   ]
  },
  {
   "cell_type": "markdown",
   "metadata": {},
   "source": [
    "Найти медианную площадь здания у объектов, чья цена выше средней"
   ]
  },
  {
   "cell_type": "code",
   "execution_count": 108,
   "metadata": {},
   "outputs": [
    {
     "data": {
      "text/plain": [
       "126.0"
      ]
     },
     "execution_count": 108,
     "metadata": {},
     "output_type": "execute_result"
    }
   ],
   "source": [
    "# Создадим переменную со средней ценой\n",
    "mean_price = melb_data['Price'].mean()\n",
    "melb_data[melb_data['Price'] > mean_price]['BuildingArea'].median()\n"
   ]
  },
  {
   "cell_type": "code",
   "execution_count": 109,
   "metadata": {},
   "outputs": [
    {
     "data": {
      "text/plain": [
       "5"
      ]
     },
     "execution_count": 109,
     "metadata": {},
     "output_type": "execute_result"
    }
   ],
   "source": [
    "# Объекты недвижимости, проданные компанией\n",
    "# Nelson И стоимость которых более 3 млн\n",
    "melb_data[(melb_data['SellerG'] == 'Nelson') & (melb_data['Price'] > 3000000)].shape[0]"
   ]
  },
  {
   "cell_type": "code",
   "execution_count": 110,
   "metadata": {},
   "outputs": [
    {
     "data": {
      "text/plain": [
       "412500.0"
      ]
     },
     "execution_count": 110,
     "metadata": {},
     "output_type": "execute_result"
    }
   ],
   "source": [
    "# Минимальная стоимость участка без здания\n",
    "melb_data[melb_data['BuildingArea'] == 0]['Price'].min()"
   ]
  },
  {
   "cell_type": "code",
   "execution_count": 111,
   "metadata": {},
   "outputs": [],
   "source": [
    "# Средняя цена недвижимости с ценой < 1000000\n",
    "# в которых ЛИБО количество комнат > 5,\n",
    "# ЛИБО здание моложе 2015 года"
   ]
  },
  {
   "cell_type": "code",
   "execution_count": 114,
   "metadata": {},
   "outputs": [
    {
     "data": {
      "text/plain": [
       "673888.0"
      ]
     },
     "metadata": {},
     "output_type": "display_data"
    }
   ],
   "source": [
    "# Средняя цена недвижимости с ценой < 1000000\n",
    "# в которых ЛИБО количество комнат > 5,\n",
    "# ЛИБО здание моложе 2015 года\n",
    "mask = ((melb_data['Rooms'] > 5) | (melb_data['YearBuilt'] < 2015)) & (melb_data['Price'] < 1000000)\n",
    "\n",
    "display(round(melb_data[mask]['Price'].mean(), 0))\n",
    " # Правильный ответ 769239. ЗДАНИЕ МОЛОЖЕ 2015 ГОДА, А НЕ НА СТОРОНЕ 2015"
   ]
  },
  {
   "cell_type": "code",
   "execution_count": 119,
   "metadata": {},
   "outputs": [
    {
     "data": {
      "text/plain": [
       "'Western Victoria'"
      ]
     },
     "execution_count": 119,
     "metadata": {},
     "output_type": "execute_result"
    }
   ],
   "source": [
    "# В каком районе Мельбурна чаще всего \n",
    "# продаются виллы и коттеджи (тип здания - \n",
    "# h) с ценой меньше трех миллионов\n",
    "melb_data[(melb_data['Type'] == 'h') & (melb_data['Price'] < 3000000)]['Regionname'].max()\n",
    "\n",
    "# Правильный ответ Northern Metropolitan"
   ]
  },
  {
   "cell_type": "markdown",
   "metadata": {},
   "source": []
  },
  {
   "cell_type": "code",
   "execution_count": null,
   "metadata": {},
   "outputs": [],
   "source": []
  }
 ],
 "metadata": {
  "kernelspec": {
   "display_name": "Python 3",
   "language": "python",
   "name": "python3"
  },
  "language_info": {
   "codemirror_mode": {
    "name": "ipython",
    "version": 3
   },
   "file_extension": ".py",
   "mimetype": "text/x-python",
   "name": "python",
   "nbconvert_exporter": "python",
   "pygments_lexer": "ipython3",
   "version": "3.9.10"
  }
 },
 "nbformat": 4,
 "nbformat_minor": 2
}
