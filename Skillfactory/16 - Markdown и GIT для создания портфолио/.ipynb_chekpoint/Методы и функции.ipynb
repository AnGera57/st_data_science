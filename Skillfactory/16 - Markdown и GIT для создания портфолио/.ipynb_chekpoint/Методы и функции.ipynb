{
 "cells": [
  {
   "cell_type": "markdown",
   "id": "8f19060d",
   "metadata": {},
   "source": [
    "Общий синтаксис основных команд Git\n",
    "\n",
    "`git <команда> <аргументы команды>`"
   ]
  },
  {
   "cell_type": "markdown",
   "id": "1bacaaed",
   "metadata": {},
   "source": [
    "`git config`- команда для настройки параметров Git на компьютере.\n",
    "\n",
    ">Ключ `--global` - глобальные изменения\n",
    "\n",
    "    `git config --global user.name \"Your Name\"\n",
    "    git config --global user.email \"your_email@whatever.com\"`\n",
    "\n",
    "`git config --list` - вызовет список всех настроек"
   ]
  },
  {
   "cell_type": "markdown",
   "id": "58ce97a0",
   "metadata": {},
   "source": [
    "`git init` - Команда, создающая пустой репозиторий на компьютере\n",
    "!инициализируется в том репозитории, в котором вызывается!\n",
    "\n",
    "```python\n",
    "git init\n",
    "Initialized empty Git repository in A:/Курс DS-3.0/GIT-1. Markdown и Git для создания портфолио/DataCleaningProject/.git/\n",
    "```"
   ]
  },
  {
   "cell_type": "markdown",
   "id": "a02a641f",
   "metadata": {},
   "source": [
    "`git clone` - инициализирует репозиторий из уже существующего с\n",
    "помощью копирования\n",
    "\n",
    "```python\n",
    "# git clone [ссылка на репозиторий]\n",
    "\n",
    "git clone https://github.com/SkillfactoryDS/example\n",
    "```"
   ]
  },
  {
   "cell_type": "markdown",
   "id": "b3c57887",
   "metadata": {},
   "source": [
    "`git add` - Добавляет папку с файлами/файл в\n",
    " [индекс]('Индекс - это промежуточная область, в которую добавляются\n",
    " изменения перед коммитом. Сами файлы при этом остаются в рабочей\n",
    "директории') (\"индексирует\") .\n",
    "В аргументах - какой файл или папку надо добавить\n",
    "\n",
    "`git add README.md` — добавляет файл README.md в индекс.\n",
    "`git add data/` — добавляет папку data и всё её содержимое в индекс.\n",
    "`git add .` - добавляет все файлы в текущем каталоге в индекс\n",
    " (кроме игнорируемых)"
   ]
  },
  {
   "cell_type": "markdown",
   "id": "5843534d",
   "metadata": {},
   "source": [
    "`git reset` - Удаляем файлы/папки из списка отслеживаемых\n",
    "\n",
    "`git reset README.md` — удаляет файл README.md из индекса.\n",
    "`git reset data/` — удаляет папку data из индекса.\n",
    "`git reset .` - убирает из индекса все файлы из текущей директории"
   ]
  },
  {
   "cell_type": "markdown",
   "id": "6e1c219a",
   "metadata": {},
   "source": [
    "`git commit` - операция сохранения набора изменений с момента предыдущего\n",
    "коммита\n",
    "\n",
    "`git commit -m \"fixed bag in function clean_data\"` - написать сообщение\n",
    "вместе с командой\n",
    "`git commit -a -m \"fixed bag in function clean_data\"` - `-a` переносит все\n",
    "отслеживаемые файлы в область подготовленных файлов и включает их в коммит.\n",
    "`--amend` заменяет последний коммит новым изменённым коммитом, что бывает\n",
    "полезно, если вы неправильно набрали сообщение последнего коммита или\n",
    "забыли включить в него какие-то файлы."
   ]
  },
  {
   "cell_type": "markdown",
   "id": "d8c9e15e",
   "metadata": {},
   "source": [
    "`HEAD` — это указатель (то есть ссылка на один из коммитов), главное\n",
    "назначение которого — определять, в каком состоянии находится рабочая\n",
    "директория\n",
    "\n",
    "`git cat-file -p HEAD` - посмтореть, на какой из коммитов указывает HEAD\n",
    " (команда `cat-file` с ключом `-p`)"
   ]
  },
  {
   "cell_type": "markdown",
   "id": "bfc231ef",
   "metadata": {},
   "source": [
    "`git status` - отследить состояние файлов в репозитории и узнать,\n",
    "какие изменения необходимо зарегистрировать Git (при необходимости —\n",
    "                                                 отменить)\n",
    "\n",
    "`git status` - полная информация\n",
    "`git status -s` - сжатая информация\n",
    "\n",
    "**Префиксы:**\n",
    "\n",
    "- *А* - отслеживаемый файл\n",
    "- *??* - неотслеживаемый файл\n",
    "- *АМ* - отслеживаемый и модифицированный файл"
   ]
  },
  {
   "cell_type": "markdown",
   "id": "3c3c8b84",
   "metadata": {},
   "source": [
    "`git log` - список последних коммитов и их хеши.\n",
    "\n",
    "`q` - выйти из режима логирования"
   ]
  },
  {
   "cell_type": "markdown",
   "id": "581c5d3b",
   "metadata": {},
   "source": [
    "`git show` - Вывести на экран информацию по определённому коммиту:\n",
    "кто сделал этот коммит, когда это произошло, сообщение коммита, а\n",
    "также сами изменения\n",
    "\n",
    "`git show [хеш коммита]`\n",
    "\n",
    "`git show a2815b`\n",
    "\n",
    "`q` - Свернуть окно просмотра"
   ]
  },
  {
   "cell_type": "markdown",
   "id": "6eba8c2c",
   "metadata": {},
   "source": [
    "`git checkout [хеш коммита]` - перемещение между коммитами\n",
    " ( передвижение указателя HEAD.)\n",
    "\n",
    "`git checkout 90ab`\n",
    "\n",
    "Для перемещения по коммитам можно использовать относительный путь с\n",
    "помощью операторов:\n",
    "\n",
    "- `~` - назад по истории коммитов\n",
    "- `^` - вперед по истории коммитов\n",
    "\n",
    "`git checkout HEAD~2`\n",
    "\n",
    "В результате все файлы в директории перейдут в то состояние, которое\n",
    "было зафиксировано в указанном коммите"
   ]
  },
  {
   "cell_type": "markdown",
   "id": "1dc7d5f1",
   "metadata": {},
   "source": [
    "`git revert` - создаёт **новый коммит**, который\n",
    "**отменяет изменения**, внесённые в переданном коммите\n",
    " (последовательности коммитов)\n",
    "\n",
    "- `git revert 62aa` создаст новый коммит, который отменяет изменения,\n",
    " сделанные в коммите `62aa`. (Закрыть редактор комбинацией клавиш ':'\n",
    "  и 'q')\n",
    "- `git revert 62aa --no-edit` - можно воспользоваться ключом\n",
    "`--no-edit` и оставить сообщение нового коммита по умолчанию\n",
    " (рекомендуется).\n",
    "\n",
    "Аналогично команде `checkout` можно воспользоваться относительным\n",
    "путём. Например:\n",
    "\n",
    "```python\n",
    "git revert HEAD --no-edit #отмена изменений в текущем коммите\n",
    "git revert HEAD~1 --no-edit #отмена изменений в предыдущем коммите\n",
    "```"
   ]
  },
  {
   "cell_type": "markdown",
   "id": "0b7f47d8",
   "metadata": {},
   "source": [
    "`.gitignore` - Расширение для файлов, для которых не должно вестись\n",
    "отслеживание версий\n",
    "\n",
    "Это текстовый файл с перечнем шаблонов файловых имен, которые не\n",
    "должны отслеживаться\n",
    "\n",
    "**Синтаксис**\n",
    "\n",
    "- одна строка — один шаблон;\n",
    "\n",
    "- пустые строки игнорируются;\n",
    "\n",
    "- чтобы написать комментарий, в начале строки укажите знак #,\n",
    "закомментированные строки не рассматриваются.\n",
    "\n",
    "**Примеры**\n",
    "- `debug.log`\tЭто самый простой случай. В результате применения\n",
    "такого шаблона будут игнорироваться все файлы с указанным названием\n",
    "во всех каталогах репозитория.\n",
    "\n",
    "(debug.log, logs/debug.log, model/debug.log)\n",
    "\n",
    "- `/debug.log`\tСимвол / в начале строки указывает, что правило\n",
    "применяется только к файлам и каталогам, которые располагаются в том\n",
    "же каталоге, что и сам файл *.gitignore*.\n",
    "\n",
    "(debug.log, **!но не**, logs/debug.log, model/debug.log)\n",
    "\n",
    "- `*.log`\tЗвёздочка (*) заменяет любое количество символов\n",
    " (в том числе и ноль).\n",
    "В данном примере игнорируются все файлы с расширением *.log*\n",
    " независимо от того, где они находятся.\n",
    "\n",
    "(debug.log, foo.log, logs/debug.log, **!но не**, foo.logger)\n",
    "\n",
    "- `**/logs/`\tДве звёздочки (**) используются для указания любого\n",
    " количества подкаталогов.\n",
    "В данном примере игнорироваться будут все каталоги *logs* и их\n",
    " содержимое\n",
    "\n",
    "(logs/debug.log, logs/monday/foo.txt, builds/logs/debug.log)\n",
    "\n",
    "- `debug?.log`\n",
    "\n",
    "Знак вопроса соответствует строго одному символу.\n",
    "\n",
    "(debug0.log, debugg.log, **!но не** debug10.log)\n",
    "\n",
    "- `*.log`\n",
    "!important.log\n",
    "\n",
    "Восклицательный знак в начале шаблона отменяет действие шаблона\n",
    " (инвертирует правило).\n",
    "Если файл соответствует некоему шаблону, но при этом также\n",
    " соответствует отменяющему шаблону, указанному после, такой файл\n",
    " не будет игнорироваться.\n",
    "\n",
    "(debug.log, foo.log, **!но не** important.log, logs/important.log)"
   ]
  },
  {
   "cell_type": "markdown",
   "id": "72107d6a",
   "metadata": {},
   "source": [
    "`git rm` с параметром `--cached` - команда, чтобы удалить файл из\n",
    "репозитория, но оставить его в рабочем каталоге как игнорируемый.\n",
    "\n",
    "Удалить файл *debug.log* из коммита:\n",
    "\n",
    "`git rm --cached debug.log`"
   ]
  },
  {
   "cell_type": "markdown",
   "id": "e9fe9f8c",
   "metadata": {},
   "source": [
    "`git remote add` - команда для добавления связанных **удаленных**\n",
    "репозиториев\n",
    "\n",
    "Общий *синтаксис*:\n",
    "\n",
    "`git remote add [имя удаленного репозитория] [ссылка]`"
   ]
  },
  {
   "cell_type": "markdown",
   "id": "a2d66c0c",
   "metadata": {},
   "source": [
    "`git remote remove` - Команда для отключения удаленного\n",
    "репозитория\n",
    "\n",
    "**Синтаксис**\n",
    "\n",
    "`git remote remove [имя удаленного репозитория]`"
   ]
  },
  {
   "cell_type": "markdown",
   "id": "ce07c99d",
   "metadata": {},
   "source": [
    "`git push`- Команда, которая проводит отправку локальных\n",
    "изменений из текущей ветки в удаленный репозиторий\n",
    "\n",
    "**Синтаксис:**\n",
    "\n",
    "`git push [имя удаленного репозитория][имя ветки]"
   ]
  },
  {
   "cell_type": "markdown",
   "id": "cc6f509e",
   "metadata": {},
   "source": [
    "`git fetch`- Команда для получения изменений с удаленного\n",
    "репозитория. При этом приходит список изменений, но они не\n",
    "вносятся в код, используемый в локальном репозитории\n",
    "\n",
    "**Синтаксис:**\n",
    "\n",
    "`git fetch [имя удаленного репозитория]`"
   ]
  },
  {
   "cell_type": "markdown",
   "id": "55041921",
   "metadata": {},
   "source": [
    "`git merge` - Операция для слияния полученных с помощью команды\n",
    "`fetch` изменений и текущей ветки локального репозитория.\n",
    "\n",
    "Пример получения и слияния изменений из удалённого репозитория:\n",
    "\n",
    "```python\n",
    "git fetch origin\n",
    "git merge origin/master\n",
    "```\n",
    "\n",
    "После выполнения этих команд все изменения, которые зафиксированы\n",
    " в удалённом репозитории, вступят в силу в локальном."
   ]
  },
  {
   "cell_type": "markdown",
   "id": "0f86e597",
   "metadata": {},
   "source": [
    "- `git pull` - Операция для получения изменений и объединения их\n",
    "с локальным репозиторием. По умолчани. она эквивалентна\n",
    "последовательному выполнению команд `git fetch` и `git merge`\n",
    "(в случае уверенности в изменениях в удалённом репозитории)\n",
    "\n",
    "Общий **синтаксис** команды:\n",
    "\n",
    "`git pull [имя удаленного репозитория] [имя ветки]`\n",
    "\n",
    ">**Интересный факт.** Представьте, что вы и другой разработчик\n",
    "одновременно клонируете репозиторий. Затем ваш коллега выполняет\n",
    "команду `push`. Если вы попытаетесь выполнить такую же команду\n",
    "после него, ваш `push` точно будет *отклонён*.\n",
    "Для внесения ваших изменений вам требуется получить изменения с\n",
    "удалённого репозитория и слить их с вашим программным кодом с\n",
    "помощью команды `pull`."
   ]
  },
  {
   "cell_type": "markdown",
   "id": "01dafeb4",
   "metadata": {},
   "source": [
    "---"
   ]
  },
  {
   "cell_type": "markdown",
   "id": "ca690065",
   "metadata": {},
   "source": [
    "Ветвление"
   ]
  },
  {
   "cell_type": "markdown",
   "id": "1cdda59c",
   "metadata": {},
   "source": [
    "`git branch`\n",
    "Команда для создания/удаления ветви. Её полный **синтаксис**:\n",
    "\n",
    "`git branch [наименование ветки]` - создание ветви\n",
    "`git branch -D [наименование ветки]` - удаление ветки"
   ]
  },
  {
   "cell_type": "markdown",
   "id": "234b441e",
   "metadata": {},
   "source": [
    "`git checkout`\n",
    "Команда, перемещающая указатель на определённую ветку (указатель на ветку — это указатель на последний коммит в ней.)\n",
    "\n",
    "Можно создать ветку и тут же переместиться на нее, используя ключ `-b` в команде `checkout`:\n",
    "\n",
    "`git checkout -b [название ветки]`"
   ]
  },
  {
   "cell_type": "markdown",
   "id": "5da136cd",
   "metadata": {},
   "source": [
    "`branch` - Команда для просмотра списка всех локальных веток\n",
    "\n",
    "```python\n",
    "git branch\n",
    "* master\n",
    "* develop\n",
    "```\n",
    "\n",
    "Однако можно добавить **ключи**:\n",
    "\n",
    "  - `-r` (от англ. remote). Выводит список **только удалённых** веток (тех, которые находятся в удалённом репозитории). **Пример**:\n",
    "\n",
    "```python\n",
    "git branch -r\n",
    "* origin/master\n",
    "```\n",
    "\n",
    "  - `-a`. Выводит все ветки — как локальные, так и удаленные. **Пример**:\n",
    "\n",
    "```python\n",
    "git branch -a\n",
    "* master \n",
    "* develop\n",
    "* remotes/origin/master\n",
    "```"
   ]
  },
  {
   "cell_type": "markdown",
   "id": "ea9e3e0d",
   "metadata": {},
   "source": [
    "Для просмотра **состояния** файлов, информации по **истории коммитов и изменений, которые в них были произведены** в текущей ветке, используются те же самые команды `status`, `log` и `show`, которые мы изучали ранее"
   ]
  },
  {
   "attachments": {
    "image.png": {
     "image/png": "[encoded data removed]"
    }
   },
   "cell_type": "markdown",
   "id": "54dd755f",
   "metadata": {},
   "source": [
    "`git merge`\n",
    "Данная команда вносит коммиты из другой ветки в текущую. Её **синтаксис**:\n",
    "\n",
    "`git merge [имя сливаемой ветки]`\n",
    "\n",
    "\n",
    "Стратегии слияния:\n",
    "\n",
    "- **Неявное слияние** - `fast-forvard` (коммиты не создаются):\n",
    "```python\n",
    "git checkout master\n",
    "git merge develop\n",
    "```\n",
    "\n",
    "**В результате**\n",
    ">1. Проверяется, что в ветке *master* отсутствуют коммиты, сделанные после ответвления *develop*.\n",
    ">2. Проверяется, что не возникает **конфликтов** слияния.\n",
    ">3. Переносится указатель *master* на коммит `9fab`.\n",
    "Теперь ветка *develop* как бы стала веткой *master*.\n",
    "\n",
    "- **Явное слиение** - `no-ff` (`no-fast-forvard`) (Объединяет изменения двух веток, создаются два родительских коммита)\n",
    "\n",
    "```python\n",
    "git checkout master\n",
    "git merge –-no-ff develop\n",
    "```\n",
    "\n",
    "**В результате**\n",
    ">1. Проверяется, нет ли **конфликтов** слияния. Если возникает конфликт, выполнение команды `git merge` **останавливается**, чтобы получить инструкции от пользователя.\n",
    ">2. Все изменения из коммитов `81na` и `9fab` добавляются в индекс ветки *master*.\n",
    ">3. Выполняется коммит.\n",
    "![image.png](attachment:image.png)"
   ]
  },
  {
   "cell_type": "markdown",
   "id": "89a9e7ee",
   "metadata": {},
   "source": []
  }
 ],
 "metadata": {
  "kernelspec": {
   "display_name": "Python 3",
   "language": "python",
   "name": "python3"
  },
  "language_info": {
   "codemirror_mode": {
    "name": "ipython",
    "version": 3
   },
   "file_extension": ".py",
   "mimetype": "text/x-python",
   "name": "python",
   "nbconvert_exporter": "python",
   "pygments_lexer": "ipython3",
   "version": "3.12.3"
  }
 },
 "nbformat": 4,
 "nbformat_minor": 5
}
