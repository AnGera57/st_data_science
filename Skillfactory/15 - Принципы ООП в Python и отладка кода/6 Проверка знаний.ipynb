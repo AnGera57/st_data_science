{
 "cells": [
  {
   "cell_type": "markdown",
   "id": "39390d47",
   "metadata": {},
   "source": [
    "**Задание 6.1**"
   ]
  },
  {
   "cell_type": "markdown",
   "id": "9eaaafc9",
   "metadata": {},
   "source": [
    "У вас есть класс *DataBase*, где метод __init__ принимает один аргумент. Какой код создаст объект этого класса и положит его в переменную *db*?"
   ]
  },
  {
   "cell_type": "markdown",
   "id": "98cb4e1f",
   "metadata": {},
   "source": [
    "`db = DataBase()`"
   ]
  },
  {
   "cell_type": "markdown",
   "id": "72077dc5",
   "metadata": {},
   "source": [
    "**Задание 6.2**"
   ]
  },
  {
   "cell_type": "markdown",
   "id": "b51fe4b8",
   "metadata": {},
   "source": [
    "Определите класс `Dog`, у которого есть методы `bark` и `give_paw`. При этом, пусть методы принимают список из любого количества аргументов.\n",
    "\n",
    "`bark` возвращает строку `\"Bark!\"`\n",
    "`give_paw` возвращает строку `\"Paw\"`"
   ]
  },
  {
   "cell_type": "code",
   "execution_count": 1,
   "id": "60292dc5",
   "metadata": {},
   "outputs": [],
   "source": [
    "class Dog():\n",
    "    def bark(*args):\n",
    "        return 'Bark!'\n",
    "\n",
    "    def give_paw(*args):\n",
    "        return 'Paw'"
   ]
  },
  {
   "cell_type": "markdown",
   "id": "6c05dd00",
   "metadata": {},
   "source": [
    "**Задание 6.4** \n",
    "\n",
    "В папке `animals` в файле `dog.py` лежит класс `Dog`. Напишите команду, которая импортирует этот класс."
   ]
  },
  {
   "cell_type": "code",
   "execution_count": 2,
   "id": "c290f9bb",
   "metadata": {},
   "outputs": [],
   "source": [
    "#from animals.dog import Dog"
   ]
  },
  {
   "cell_type": "code",
   "execution_count": null,
   "id": "cd373d8e",
   "metadata": {},
   "outputs": [],
   "source": []
  }
 ],
 "metadata": {
  "kernelspec": {
   "display_name": "Python 3",
   "language": "python",
   "name": "python3"
  },
  "language_info": {
   "codemirror_mode": {
    "name": "ipython",
    "version": 3
   },
   "file_extension": ".py",
   "mimetype": "text/x-python",
   "name": "python",
   "nbconvert_exporter": "python",
   "pygments_lexer": "ipython3",
   "version": "3.12.1"
  }
 },
 "nbformat": 4,
 "nbformat_minor": 5
}
