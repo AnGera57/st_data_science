{
 "cells": [
  {
   "cell_type": "code",
   "execution_count": 1,
   "id": "7bde136a",
   "metadata": {},
   "outputs": [],
   "source": [
    "# Создать пустой класс\n",
    "class SalesReport():  \n",
    "    pass "
   ]
  },
  {
   "cell_type": "code",
   "execution_count": 2,
   "id": "b465d2b4",
   "metadata": {},
   "outputs": [],
   "source": [
    "# Создать пустую функцию\n",
    "def build_report():  \n",
    "    pass  "
   ]
  },
  {
   "cell_type": "code",
   "execution_count": 3,
   "id": "4750040a",
   "metadata": {},
   "outputs": [
    {
     "name": "stdout",
     "output_type": "stream",
     "text": [
      "False\n"
     ]
    }
   ],
   "source": [
    "\n",
    "class SalesReport():\n",
    "    pass\n",
    "\n",
    "# Создаем объект по классу\n",
    "report = SalesReport()\n",
    "\n",
    "# Мы можем создавать множество объектов по одному классу\n",
    "report_2 = SalesReport()\n",
    "\n",
    "# Это будут разные объекты\n",
    "print(report == report_2)"
   ]
  },
  {
   "cell_type": "code",
   "execution_count": 4,
   "id": "5876d1ac",
   "metadata": {},
   "outputs": [],
   "source": [
    "# Добавить атрибут объекту\n",
    "report_2 = SalesReport()\n",
    "report_2.amount = 20"
   ]
  },
  {
   "cell_type": "code",
   "execution_count": 5,
   "id": "6a3dc7ec",
   "metadata": {},
   "outputs": [
    {
     "name": "stdout",
     "output_type": "stream",
     "text": [
      "Total amount:  20\n"
     ]
    }
   ],
   "source": [
    "# Создадим вспомогательную функцию, она будет печатать \n",
    "# общую сумму из отчета\n",
    "def print_report(report):\n",
    "    print('Total amount: ', report.amount)\n",
    "\n",
    "print_report(report_2)"
   ]
  },
  {
   "cell_type": "markdown",
   "id": "b6727250",
   "metadata": {},
   "source": [
    "`hasattr()` - Функция, позволяющая проверить, имеет ли объект определенный атрибут\n",
    "\n",
    "True - если существует\n",
    "False - если не существует"
   ]
  },
  {
   "cell_type": "markdown",
   "id": "eaf0a94b",
   "metadata": {},
   "source": [
    "__init__ — это технический метод, поэтому его имя начинается и заканчивается двумя подчёркиваниями. \n",
    "\n",
    "Он получает **первым аргументом сам объект**, в нём могут выполняться любые операции. \n",
    "\n",
    "**Оставшиеся аргументы он получает из вызова при создании**: если мы напишем `report = SalesReport(\"Info\", 20)`, то вторым и третьим аргументом в __init__ передадутся \"Info\" и 20."
   ]
  },
  {
   "cell_type": "markdown",
   "id": "7a1c7f4a",
   "metadata": {},
   "source": [
    "Базовый синтаксис классов и синтаксис создания объектов\n",
    "\n",
    "- **атрибут** объекта — это просто его переменная;\n",
    "\n",
    "- **метод** объекта — это его функция;\n",
    "метод объекта автоматически получает первым аргументом сам объект под именем **self**;\n",
    "\n",
    "- **класс** описывает объект через его атрибуты и методы;\n",
    "\n",
    "- мы можем создавать множество **экземпляров** одного класса, и значения их атрибутов независимы друг от друга;\n",
    "\n",
    "- если определить **метод** **__init__**, то он будет выполняться при создании объекта;\n",
    "\n",
    "- всё это позволяет компактно увязывать данные и логику внутри объекта."
   ]
  },
  {
   "cell_type": "code",
   "execution_count": 1,
   "id": "452a4940",
   "metadata": {},
   "outputs": [
    {
     "name": "stdout",
     "output_type": "stream",
     "text": [
      "Рекс лает: Гав-гав!\n",
      "Шарик лает: Гав-гав!\n"
     ]
    }
   ],
   "source": [
    "class Собака:\n",
    "    # Метод-конструктор, который инициализирует объект\n",
    "    def __init__(self, имя, возраст):\n",
    "        self.имя = имя\n",
    "        self.возраст = возраст\n",
    "\n",
    "    # Метод, определяющий поведение объекта\n",
    "    def лаять(self):\n",
    "        print(f\"{self.имя} лает: Гав-гав!\")\n",
    "\n",
    "# Создаём два разных объекта (экземпляра) класса Собака\n",
    "собака1 = Собака(\"Рекс\", 5)\n",
    "собака2 = Собака(\"Шарик\", 3)\n",
    "\n",
    "# Вызываем метод 'лаять()' для каждого объекта\n",
    "собака1.лаять()  # Вывод: Рекс лает: Гав-гав!\n",
    "собака2.лаять()  # Вывод: Шарик лает: Гав-гав!\n"
   ]
  },
  {
   "cell_type": "markdown",
   "id": "1247d1fb",
   "metadata": {},
   "source": [
    "`os.getcwd()` - Функция модуля `os`, которая показывает, какой пусть используется в данный момент"
   ]
  },
  {
   "cell_type": "markdown",
   "id": "e66115f9",
   "metadata": {},
   "source": [
    "`os.chdir()` - Функция модуля `os` позволяет нам изменить директорию, которую мы в данный момент используем."
   ]
  },
  {
   "cell_type": "markdown",
   "id": "6d128b89",
   "metadata": {},
   "source": [
    "С помощью функции `os.listdir()` можно получить весь список файлов, находящихся в директории. Если не указать никаких аргументов, то будет взята текущая директория."
   ]
  },
  {
   "cell_type": "code",
   "execution_count": 2,
   "id": "38f21cc8",
   "metadata": {},
   "outputs": [
    {
     "name": "stdout",
     "output_type": "stream",
     "text": [
      "['Функции и методы.ipynb']\n",
      "Файл отсутствует в директории\n"
     ]
    }
   ],
   "source": [
    "# Список файлов и директорий в папке\n",
    "import os\n",
    "\n",
    "print(os.listdir())\n",
    "\n",
    "if 'tmp.py' not in os.listdir():\n",
    "    print('Файл отсутствует в директории')"
   ]
  },
  {
   "cell_type": "markdown",
   "id": "da7f5bec",
   "metadata": {},
   "source": [
    "`os.path.join()` - Функция, позволяющая склеивать пути с учетом особенностей ОС\n"
   ]
  },
  {
   "cell_type": "code",
   "execution_count": 3,
   "id": "fd936311",
   "metadata": {},
   "outputs": [
    {
     "ename": "NameError",
     "evalue": "name 'start_path' is not defined",
     "output_type": "error",
     "traceback": [
      "\u001b[31m---------------------------------------------------------------------------\u001b[39m",
      "\u001b[31mNameError\u001b[39m                                 Traceback (most recent call last)",
      "\u001b[36mCell\u001b[39m\u001b[36m \u001b[39m\u001b[32mIn[3]\u001b[39m\u001b[32m, line 2\u001b[39m\n\u001b[32m      1\u001b[39m \u001b[38;5;66;03m# соединяет пути с учётом особенностей операционной системы\u001b[39;00m\n\u001b[32m----> \u001b[39m\u001b[32m2\u001b[39m \u001b[38;5;28mprint\u001b[39m(\u001b[43mstart_path\u001b[49m)\n\u001b[32m      3\u001b[39m \u001b[38;5;28mprint\u001b[39m(os.path.join(start_path, \u001b[33m'\u001b[39m\u001b[33mtest\u001b[39m\u001b[33m'\u001b[39m))\n",
      "\u001b[31mNameError\u001b[39m: name 'start_path' is not defined"
     ]
    }
   ],
   "source": [
    "# соединяет пути с учётом особенностей операционной системы\n",
    "print(start_path)\n",
    "print(os.path.join(start_path, 'test'))"
   ]
  },
  {
   "cell_type": "markdown",
   "id": "7257c8d1",
   "metadata": {},
   "source": [
    "`open()` - Функция, открывающая файл для работы\n",
    "\n",
    "`f = open('path\\to\\file', 'filemode', encoding='utf8')`\n",
    "\n",
    "**аргументы**:\n",
    "\n",
    "1. `path/to/file` — путь к файлу может быть относительным или абсолютным. Можно указывать в *Unix*-стиле (`path/to/file`) или в *Windows*-стиле (`path\\to\\file`).\n",
    "\n",
    "2. `filemode` — режим, в котором файл нужно открывать.\n",
    "\n",
    "Записывается в виде строки, может принимать следующие значения:\n",
    "\n",
    "- `r` — открыть на **чтение** (по умолчанию);\n",
    "- `w` — **перезаписать и открыть на запись** (если файла нет, то он создастся);\n",
    "- `x` — **создать** и открыть на запись (если уже есть — исключение);\n",
    "- `a` — **открыть на дозапись** (указатель будет поставлен в конец);\n",
    "- `t` — открыть в **текстовом** виде (по умолчанию);\n",
    "- `b` — открыть в **бинарном** виде.\n",
    "\n",
    "3. `encoding` — указание, в какой **кодировке** файл записан (*utf8*, *cp1251* и т. д.) По умолчанию стоит *utf-8*. При этом **можно записывать кодировку как через дефис, так и без**: *utf-8* или *utf8*.\n",
    "\n",
    "**Открытие файла на запись является блокирующей операцией**"
   ]
  },
  {
   "cell_type": "markdown",
   "id": "5c43dd50",
   "metadata": {},
   "source": [
    "Запишем файл в строку\n",
    "\n",
    "`f.write('This is a test string\\n')`"
   ]
  },
  {
   "cell_type": "markdown",
   "id": "6840e089",
   "metadata": {},
   "source": [
    "`.close()` - Закрыть файл, иначе он будет заблокирован"
   ]
  },
  {
   "cell_type": "markdown",
   "id": "80fd041b",
   "metadata": {},
   "source": [
    "`f.read(n)` — операция, читающая с текущего места *n* символов, если файл открыт в `t` режиме, или *n* байт, если файл открыт в `b` режиме, и возвращающая прочитанную информацию."
   ]
  },
  {
   "cell_type": "markdown",
   "id": "eecc6170",
   "metadata": {},
   "source": [
    "**Методы для построчной работы с файлами**:\n",
    "\n",
    "- `writelines` — записывает список строк в файл;\n",
    "- `readline` — считывает из файла одну строку и возвращает её;\n",
    "- `readlines` — считывает из файла все строки в список и возвращает их.\n",
    "\n",
    "Метод `f.writelines(sequence)` не будет сам за вас дописывать символ конца строки (`'\\n'`), поэтому при необходимости его нужно прописать вручную.\n",
    "\n",
    "print(`f.readlines()`) # считывает все строки в список и возвращает список\n",
    "\n",
    "Метод `f.readline()` возвращает строку (символы от текущей позиции до символа переноса строки \\n, который остаётся в конце строки и опускается только в последней строке файла, если файл не заканчивается новой строкой):\n",
    "\n",
    "`print(f.readline())` # This is a test string\n",
    "\n",
    "`print(f.read(4))` # This\n",
    "\n",
    "`print(f.readline())` # is a new string"
   ]
  },
  {
   "cell_type": "code",
   "execution_count": 4,
   "id": "bf5f155d",
   "metadata": {},
   "outputs": [],
   "source": [
    "# Файл как итератор\n",
    "\n",
    "#f = open('text.txt') # Можно перечислять строки в файле\n",
    "#for line in f:\n",
    "#   print(line, end='')\n",
    "\n",
    "#f.close()"
   ]
  },
  {
   "cell_type": "markdown",
   "id": "292abb5f",
   "metadata": {},
   "source": []
  }
 ],
 "metadata": {
  "kernelspec": {
   "display_name": "Python 3",
   "language": "python",
   "name": "python3"
  },
  "language_info": {
   "codemirror_mode": {
    "name": "ipython",
    "version": 3
   },
   "file_extension": ".py",
   "mimetype": "text/x-python",
   "name": "python",
   "nbconvert_exporter": "python",
   "pygments_lexer": "ipython3",
   "version": "3.12.1"
  }
 },
 "nbformat": 4,
 "nbformat_minor": 5
}
