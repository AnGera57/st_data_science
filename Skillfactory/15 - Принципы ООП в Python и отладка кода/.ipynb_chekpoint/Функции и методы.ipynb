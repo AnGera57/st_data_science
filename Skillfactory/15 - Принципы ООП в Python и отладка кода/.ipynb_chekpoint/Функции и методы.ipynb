{
 "cells": [
  {
   "cell_type": "code",
   "execution_count": 1,
   "id": "7bde136a",
   "metadata": {},
   "outputs": [],
   "source": [
    "# Создать пустой класс\n",
    "class SalesReport():  \n",
    "    pass "
   ]
  },
  {
   "cell_type": "code",
   "execution_count": 2,
   "id": "b465d2b4",
   "metadata": {},
   "outputs": [],
   "source": [
    "# Создать пустую функцию\n",
    "def build_report():  \n",
    "    pass  "
   ]
  },
  {
   "cell_type": "code",
   "execution_count": 3,
   "id": "4750040a",
   "metadata": {},
   "outputs": [
    {
     "name": "stdout",
     "output_type": "stream",
     "text": [
      "False\n"
     ]
    }
   ],
   "source": [
    "\n",
    "class SalesReport():\n",
    "    pass\n",
    "\n",
    "# Создаем объект по классу\n",
    "report = SalesReport()\n",
    "\n",
    "# Мы можем создавать множество объектов по одному классу\n",
    "report_2 = SalesReport()\n",
    "\n",
    "# Это будут разные объекты\n",
    "print(report == report_2)"
   ]
  },
  {
   "cell_type": "code",
   "execution_count": 4,
   "id": "5876d1ac",
   "metadata": {},
   "outputs": [],
   "source": [
    "# Добавить атрибут объекту\n",
    "report_2 = SalesReport()\n",
    "report_2.amount = 20"
   ]
  },
  {
   "cell_type": "code",
   "execution_count": 5,
   "id": "6a3dc7ec",
   "metadata": {},
   "outputs": [
    {
     "name": "stdout",
     "output_type": "stream",
     "text": [
      "Total amount:  20\n"
     ]
    }
   ],
   "source": [
    "# Создадим вспомогательную функцию, она будет печатать \n",
    "# общую сумму из отчета\n",
    "def print_report(report):\n",
    "    print('Total amount: ', report.amount)\n",
    "\n",
    "print_report(report_2)"
   ]
  },
  {
   "cell_type": "markdown",
   "id": "b6727250",
   "metadata": {},
   "source": [
    "`hasattr()` - Функция, позволяющая проверить, имеет ли объект определенный атрибут\n",
    "\n",
    "True - если существует\n",
    "False - если не существует"
   ]
  },
  {
   "cell_type": "markdown",
   "id": "eaf0a94b",
   "metadata": {},
   "source": [
    "__init__ — это технический метод, поэтому его имя начинается и заканчивается двумя подчёркиваниями. \n",
    "\n",
    "Он получает **первым аргументом сам объект**, в нём могут выполняться любые операции. \n",
    "\n",
    "**Оставшиеся аргументы он получает из вызова при создании**: если мы напишем `report = SalesReport(\"Info\", 20)`, то вторым и третьим аргументом в __init__ передадутся \"Info\" и 20."
   ]
  },
  {
   "cell_type": "markdown",
   "id": "7a1c7f4a",
   "metadata": {},
   "source": [
    "Базовый синтаксис классов и синтаксис создания объектов\n",
    "\n",
    "- **атрибут** объекта — это просто его переменная;\n",
    "\n",
    "- **метод** объекта — это его функция;\n",
    "метод объекта автоматически получает первым аргументом сам объект под именем **self**;\n",
    "\n",
    "- **класс** описывает объект через его атрибуты и методы;\n",
    "\n",
    "- мы можем создавать множество **экземпляров** одного класса, и значения их атрибутов независимы друг от друга;\n",
    "\n",
    "- если определить **метод** **__init__**, то он будет выполняться при создании объекта;\n",
    "\n",
    "- всё это позволяет компактно увязывать данные и логику внутри объекта."
   ]
  },
  {
   "cell_type": "code",
   "execution_count": 1,
   "id": "452a4940",
   "metadata": {},
   "outputs": [
    {
     "name": "stdout",
     "output_type": "stream",
     "text": [
      "Рекс лает: Гав-гав!\n",
      "Шарик лает: Гав-гав!\n"
     ]
    }
   ],
   "source": [
    "class Собака:\n",
    "    # Метод-конструктор, который инициализирует объект\n",
    "    def __init__(self, имя, возраст):\n",
    "        self.имя = имя\n",
    "        self.возраст = возраст\n",
    "\n",
    "    # Метод, определяющий поведение объекта\n",
    "    def лаять(self):\n",
    "        print(f\"{self.имя} лает: Гав-гав!\")\n",
    "\n",
    "# Создаём два разных объекта (экземпляра) класса Собака\n",
    "собака1 = Собака(\"Рекс\", 5)\n",
    "собака2 = Собака(\"Шарик\", 3)\n",
    "\n",
    "# Вызываем метод 'лаять()' для каждого объекта\n",
    "собака1.лаять()  # Вывод: Рекс лает: Гав-гав!\n",
    "собака2.лаять()  # Вывод: Шарик лает: Гав-гав!\n"
   ]
  },
  {
   "cell_type": "markdown",
   "id": "1247d1fb",
   "metadata": {},
   "source": []
  }
 ],
 "metadata": {
  "kernelspec": {
   "display_name": "Python 3",
   "language": "python",
   "name": "python3"
  },
  "language_info": {
   "codemirror_mode": {
    "name": "ipython",
    "version": 3
   },
   "file_extension": ".py",
   "mimetype": "text/x-python",
   "name": "python",
   "nbconvert_exporter": "python",
   "pygments_lexer": "ipython3",
   "version": "3.12.1"
  }
 },
 "nbformat": 4,
 "nbformat_minor": 5
}
